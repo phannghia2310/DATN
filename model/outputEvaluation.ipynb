{
 "cells": [
  {
   "cell_type": "code",
   "execution_count": 2,
   "id": "f4f5450a",
   "metadata": {
    "slideshow": {
     "slide_type": "-"
    }
   },
   "outputs": [],
   "source": [
    "import pandas as pd\n",
    "import unicodedata\n",
    "import os\n",
    "import numpy as np\n",
    "import json\n",
    "\n",
    "import matplotlib.pyplot as plt\n",
    "from matplotlib.ticker import FuncFormatter, ScalarFormatter\n",
    "import seaborn as sns"
   ]
  },
  {
   "cell_type": "markdown",
   "id": "e148c42d",
   "metadata": {},
   "source": [
    "# Đánh giá về tìm kiếm ngôi nhà"
   ]
  },
  {
   "cell_type": "markdown",
   "id": "e63917d0",
   "metadata": {},
   "source": [
    "### Case E\n",
    "**Complex**  \n",
    "X1: Khách hàng 30 tuổi, có gia đình, có 2 con, nhóm 2.  \n",
    "Có sẵn 3 tỷ VND, mỗi tháng chi trả được 30 triệu.  \n",
    "Cần tìm nhà Q10"
   ]
  },
  {
   "cell_type": "code",
   "execution_count": 3,
   "id": "ee268e3a",
   "metadata": {},
   "outputs": [
    {
     "name": "stdout",
     "output_type": "stream",
     "text": [
      "1259\n",
      "1259\n",
      "Số lượng >= 70%:  51\n",
      "88.85\n",
      "71.54\n",
      "Index(['Unnamed: 0', 'executedRuleGroup', 'houseInfo', 'maxScore',\n",
      "       'houseScore', 'housePerformance', 'buyerInfo', 'id', 'group', 'age',\n",
      "       'is_married', 'no_child', 'month_income', 'monthly_amt', 'avai_amt',\n",
      "       'desired_location', 'desired_interiorStatus', 'meta_url', 'meta_code',\n",
      "       'address_street', 'address_ward', 'address_district', 'address_city',\n",
      "       'price', 'area', 'area_site', 'area_basebuilt', 'area_netused',\n",
      "       'area_yard', 'area_length', 'area_width', 'area_front', 'house_noFloor',\n",
      "       'house_type', 'house_noBasement', 'house_direction', 'in_room_noBed',\n",
      "       'in_room_noBath', 'in_room_noKitchen', 'in_room_noRelax',\n",
      "       'in_room_others', 'in_interiorStatus', 'prj_name', 'prj_investor',\n",
      "       'prj_status', 'prj_tower', 'legal_status', 'other_overview',\n",
      "       'other_good_outstandingCharacteristics', 'other_good_locationDesc',\n",
      "       'other_good_community', 'other_good_education', 'overall_info'],\n",
      "      dtype='object')\n",
      "['Sổ hồng']\n"
     ]
    }
   ],
   "source": [
    "output= pd.read_excel('testOutput\\\\cust_x1.xlsx')\n",
    "print(len(output))\n",
    "evaluationDf= output[output['housePerformance'] >= 70].sort_values(by='housePerformance', ascending=False)\n",
    "print(len(output))\n",
    "print('Số lượng >= 70%: ', len(evaluationDf))\n",
    "print(evaluationDf.iloc[0]['housePerformance'])\n",
    "print(evaluationDf.iloc[-1]['housePerformance'])\n",
    "print(evaluationDf.keys())\n",
    "print(evaluationDf[\"legal_status\"].unique())"
   ]
  },
  {
   "cell_type": "code",
   "execution_count": 4,
   "id": "5d2f9b6a",
   "metadata": {},
   "outputs": [
    {
     "name": "stdout",
     "output_type": "stream",
     "text": [
      "Record no  1 . House performance:  88.85\n",
      "Quan huyen:  Thủ Đức  . So phong ngu:  2  . Gia ban:  2350000000.0  . Tinh trang phap ly:  Sổ hồng\n",
      "Record no  2 . House performance:  85.0\n",
      "Quan huyen:  Bình Thạnh  . So phong ngu:  1  . Gia ban:  2200000000.0  . Tinh trang phap ly:  Sổ hồng\n",
      "Record no  3 . House performance:  85.0\n",
      "Quan huyen:  Bình Thạnh  . So phong ngu:  2  . Gia ban:  2200000000.0  . Tinh trang phap ly:  Sổ hồng\n",
      "Record no  4 . House performance:  81.15\n",
      "Quan huyen:  Thủ Đức  . So phong ngu:  2  . Gia ban:  2730000000.0  . Tinh trang phap ly:  Sổ hồng\n",
      "Record no  5 . House performance:  81.15\n",
      "Quan huyen:  Thủ Đức  . So phong ngu:  2  . Gia ban:  2700000000.0  . Tinh trang phap ly:  Sổ hồng\n",
      "Record no  6 . House performance:  77.31\n",
      "Quan huyen:  Bình Thạnh  . So phong ngu:  2  . Gia ban:  2600000000.0  . Tinh trang phap ly:  Sổ hồng\n",
      "Record no  7 . House performance:  77.31\n",
      "Quan huyen:  Bình Chánh  . So phong ngu:  2  . Gia ban:  2000000000.0  . Tinh trang phap ly:  Sổ hồng\n",
      "Record no  8 . House performance:  77.31\n",
      "Quan huyen:  Quận 9  . So phong ngu:  1  . Gia ban:  1990000000.0  . Tinh trang phap ly:  Sổ hồng\n",
      "Record no  9 . House performance:  77.31\n",
      "Quan huyen:  Quận 9  . So phong ngu:  1  . Gia ban:  1860000000.0  . Tinh trang phap ly:  Sổ hồng\n",
      "Record no  10 . House performance:  77.31\n",
      "Quan huyen:  Quận 2  . So phong ngu:  2  . Gia ban:  2690000000.0  . Tinh trang phap ly:  Sổ hồng\n",
      "Record no  11 . House performance:  77.31\n",
      "Quan huyen:  Thủ Đức  . So phong ngu:  2  . Gia ban:  3900000000.0  . Tinh trang phap ly:  Sổ hồng\n",
      "Record no  12 . House performance:  77.31\n",
      "Quan huyen:  Quận 2  . So phong ngu:  2  . Gia ban:  2700000000.0  . Tinh trang phap ly:  Sổ hồng\n",
      "Record no  13 . House performance:  77.31\n",
      "Quan huyen:  Bình Thạnh  . So phong ngu:  2  . Gia ban:  2700000000.0  . Tinh trang phap ly:  Sổ hồng\n",
      "Record no  14 . House performance:  77.31\n",
      "Quan huyen:  Gò Vấp  . So phong ngu:  2  . Gia ban:  2800000000.0  . Tinh trang phap ly:  Sổ hồng\n",
      "Record no  15 . House performance:  77.31\n",
      "Quan huyen:  Quận 4  . So phong ngu:  2  . Gia ban:  2000000000.0  . Tinh trang phap ly:  Sổ hồng\n",
      "Record no  16 . House performance:  77.31\n",
      "Quan huyen:  Quận 4  . So phong ngu:  2  . Gia ban:  1800000000.0  . Tinh trang phap ly:  Sổ hồng\n",
      "Record no  17 . House performance:  77.31\n",
      "Quan huyen:  Bình Thạnh  . So phong ngu:  2  . Gia ban:  2700000000.0  . Tinh trang phap ly:  Sổ hồng\n",
      "Record no  18 . House performance:  73.46\n",
      "Quan huyen:  Quận 2  . So phong ngu:  1  . Gia ban:  3200000000.0  . Tinh trang phap ly:  Sổ hồng\n",
      "Record no  19 . House performance:  73.46\n",
      "Quan huyen:  Bình Thạnh  . So phong ngu:  1  . Gia ban:  3800000000.0  . Tinh trang phap ly:  Sổ hồng\n",
      "Record no  20 . House performance:  73.46\n",
      "Quan huyen:  Quận 2  . So phong ngu:  1  . Gia ban:  3900000000.0  . Tinh trang phap ly:  Sổ hồng\n",
      "Record no  21 . House performance:  73.46\n",
      "Quan huyen:  Quận 2  . So phong ngu:  1  . Gia ban:  3760000000.0  . Tinh trang phap ly:  Sổ hồng\n",
      "Record no  22 . House performance:  73.46\n",
      "Quan huyen:  Quận 2  . So phong ngu:  2  . Gia ban:  2900000000.0  . Tinh trang phap ly:  Sổ hồng\n",
      "Record no  23 . House performance:  73.46\n",
      "Quan huyen:  Quận 2  . So phong ngu:  1  . Gia ban:  3600000000.0  . Tinh trang phap ly:  Sổ hồng\n",
      "Record no  24 . House performance:  73.46\n",
      "Quan huyen:  Quận 2  . So phong ngu:  1  . Gia ban:  3800000000.0  . Tinh trang phap ly:  Sổ hồng\n",
      "Record no  25 . House performance:  73.46\n",
      "Quan huyen:  Bình Thạnh  . So phong ngu:  2  . Gia ban:  3850000000.0  . Tinh trang phap ly:  Sổ hồng\n",
      "Record no  26 . House performance:  73.46\n",
      "Quan huyen:  Quận 2  . So phong ngu:  1  . Gia ban:  3700000000.0  . Tinh trang phap ly:  Sổ hồng\n",
      "Record no  27 . House performance:  73.46\n",
      "Quan huyen:  Quận 2  . So phong ngu:  1  . Gia ban:  3600000000.0  . Tinh trang phap ly:  Sổ hồng\n",
      "Record no  28 . House performance:  73.46\n",
      "Quan huyen:  Quận 2  . So phong ngu:  1  . Gia ban:  3500000000.0  . Tinh trang phap ly:  Sổ hồng\n",
      "Record no  29 . House performance:  73.46\n",
      "Quan huyen:  Quận 2  . So phong ngu:  1  . Gia ban:  3700000000.0  . Tinh trang phap ly:  Sổ hồng\n",
      "Record no  30 . House performance:  73.46\n",
      "Quan huyen:  Quận 2  . So phong ngu:  1  . Gia ban:  3500000000.0  . Tinh trang phap ly:  Sổ hồng\n",
      "Record no  31 . House performance:  73.46\n",
      "Quan huyen:  Quận 2  . So phong ngu:  2  . Gia ban:  3300000000.0  . Tinh trang phap ly:  Sổ hồng\n",
      "Record no  32 . House performance:  73.46\n",
      "Quan huyen:  Quận 2  . So phong ngu:  1  . Gia ban:  3300000000.0  . Tinh trang phap ly:  Sổ hồng\n",
      "Record no  33 . House performance:  73.46\n",
      "Quan huyen:  Quận 2  . So phong ngu:  2  . Gia ban:  3100000000.0  . Tinh trang phap ly:  Sổ hồng\n",
      "Record no  34 . House performance:  73.46\n",
      "Quan huyen:  Bình Thạnh  . So phong ngu:  2  . Gia ban:  4000000000.0  . Tinh trang phap ly:  Sổ hồng\n",
      "Record no  35 . House performance:  73.46\n",
      "Quan huyen:  Bình Thạnh  . So phong ngu:  2  . Gia ban:  3900000000.0  . Tinh trang phap ly:  Sổ hồng\n",
      "Record no  36 . House performance:  73.46\n",
      "Quan huyen:  Gò Vấp  . So phong ngu:  2  . Gia ban:  3800000000.0  . Tinh trang phap ly:  Sổ hồng\n",
      "Record no  37 . House performance:  73.46\n",
      "Quan huyen:  Bình Thạnh  . So phong ngu:  2  . Gia ban:  3750000000.0  . Tinh trang phap ly:  Sổ hồng\n",
      "Record no  38 . House performance:  73.46\n",
      "Quan huyen:  Quận 2  . So phong ngu:  2  . Gia ban:  3900000000.0  . Tinh trang phap ly:  Sổ hồng\n",
      "Record no  39 . House performance:  73.46\n",
      "Quan huyen:  Bình Thạnh  . So phong ngu:  2  . Gia ban:  3600000000.0  . Tinh trang phap ly:  Sổ hồng\n",
      "Record no  40 . House performance:  73.46\n",
      "Quan huyen:  Quận 2  . So phong ngu:  2  . Gia ban:  3700000000.0  . Tinh trang phap ly:  Sổ hồng\n",
      "Record no  41 . House performance:  73.46\n",
      "Quan huyen:  Bình Thạnh  . So phong ngu:  1  . Gia ban:  3580000000.0  . Tinh trang phap ly:  Sổ hồng\n",
      "Record no  42 . House performance:  73.46\n",
      "Quan huyen:  Quận 2  . So phong ngu:  1  . Gia ban:  3850000000.0  . Tinh trang phap ly:  Sổ hồng\n",
      "Record no  43 . House performance:  73.46\n",
      "Quan huyen:  Quận 2  . So phong ngu:  1  . Gia ban:  3850000000.0  . Tinh trang phap ly:  Sổ hồng\n",
      "Record no  44 . House performance:  73.46\n",
      "Quan huyen:  Bình Thạnh  . So phong ngu:  1  . Gia ban:  3500000000.0  . Tinh trang phap ly:  Sổ hồng\n",
      "Record no  45 . House performance:  73.46\n",
      "Quan huyen:  Bình Thạnh  . So phong ngu:  1  . Gia ban:  3200000000.0  . Tinh trang phap ly:  Sổ hồng\n",
      "Record no  46 . House performance:  73.46\n",
      "Quan huyen:  Quận 2  . So phong ngu:  2  . Gia ban:  3600000000.0  . Tinh trang phap ly:  Sổ hồng\n",
      "Record no  47 . House performance:  73.46\n",
      "Quan huyen:  Quận 2  . So phong ngu:  2  . Gia ban:  3650000000.0  . Tinh trang phap ly:  Sổ hồng\n",
      "Record no  48 . House performance:  73.46\n",
      "Quan huyen:  Quận 2  . So phong ngu:  2  . Gia ban:  3100000000.0  . Tinh trang phap ly:  Sổ hồng\n",
      "Record no  49 . House performance:  72.31\n",
      "Quan huyen:  Quận 2  . So phong ngu:  3  . Gia ban:  3570000000.0  . Tinh trang phap ly:  Sổ hồng\n",
      "Record no  50 . House performance:  71.54\n",
      "Quan huyen:  Quận 3  . So phong ngu:  2  . Gia ban:  2750000000.0  . Tinh trang phap ly:  Sổ hồng\n",
      "Record no  51 . House performance:  71.54\n",
      "Quan huyen:  Quận 3  . So phong ngu:  1  . Gia ban:  2520000000.0  . Tinh trang phap ly:  Sổ hồng\n"
     ]
    }
   ],
   "source": [
    "for i in range(len(evaluationDf)):\n",
    "    print('Record no ', i+1,'. House performance: ', evaluationDf.iloc[i]['housePerformance'])\n",
    "    print('Quan huyen: ', evaluationDf.iloc[i][ 'address_district'],\n",
    "         ' . So phong ngu: ', evaluationDf.iloc[i][ 'in_room_noBed'],\n",
    "         ' . Gia ban: ', evaluationDf.iloc[i][ 'price'],\n",
    "         ' . Tinh trang phap ly: ', evaluationDf.iloc[i][ 'legal_status'],\n",
    "         )"
   ]
  },
  {
   "cell_type": "code",
   "execution_count": 5,
   "id": "e89219c3",
   "metadata": {},
   "outputs": [
    {
     "name": "stdout",
     "output_type": "stream",
     "text": [
      "address_district\n",
      "Quận 2        24\n",
      "Bình Thạnh    14\n",
      "Thủ Đức        4\n",
      "Quận 9         2\n",
      "Gò Vấp         2\n",
      "Quận 4         2\n",
      "Quận 3         2\n",
      "Bình Chánh     1\n",
      "Name: count, dtype: int64\n",
      "   housePerformance  unique_address_count  \\\n",
      "6             88.85                     1   \n",
      "5             85.00                     1   \n",
      "4             81.15                     1   \n",
      "3             77.31                     7   \n",
      "2             73.46                     3   \n",
      "1             72.31                     1   \n",
      "0             71.54                     1   \n",
      "\n",
      "                                 unique_address_list  \n",
      "6                                          [Thủ Đức]  \n",
      "5                                       [Bình Thạnh]  \n",
      "4                                          [Thủ Đức]  \n",
      "3  [Bình Thạnh, Bình Chánh, Quận 9, Quận 2, Thủ Đ...  \n",
      "2                       [Quận 2, Bình Thạnh, Gò Vấp]  \n",
      "1                                           [Quận 2]  \n",
      "0                                           [Quận 3]  \n"
     ]
    },
    {
     "data": {
      "image/png": "[encoded data removed]",
      "text/plain": [
       "<Figure size 800x500 with 1 Axes>"
      ]
     },
     "metadata": {},
     "output_type": "display_data"
    }
   ],
   "source": [
    "# result = evaluationDf.groupby('housePerformance')['address_district'].agg(list).reset_index()\n",
    "# print(result)\n",
    "result = evaluationDf.groupby('housePerformance')['address_district'].agg(['nunique', 'unique']).reset_index().sort_values(by='housePerformance', ascending=False)\n",
    "result.columns = ['housePerformance', 'unique_address_count', 'unique_address_list']\n",
    "# print(evaluationDf.groupby('address_district').agg(['count']))\n",
    "print(evaluationDf['address_district'].value_counts())\n",
    "print(result)\n",
    "# print(result.iloc[2]['unique_address_list'])\n",
    "\n",
    "# Create a box plot\n",
    "plt.figure(figsize=(8, 5))\n",
    "sns.stripplot(x='address_district', y='housePerformance', data=evaluationDf, jitter=True, color='blue', marker='o')\n",
    "plt.xticks(rotation=45, ha='right')  # Adjust the rotation angle and alignment as needed\n",
    "plt.tight_layout()\n",
    "plt.xlabel('Quận huyện')\n",
    "plt.ylabel('Điểm')\n",
    "plt.savefig('testOutput/chart/testcase_x1_quanhuyen.png')\n",
    "plt.show()\n"
   ]
  },
  {
   "cell_type": "code",
   "execution_count": 6,
   "id": "f06584f3",
   "metadata": {},
   "outputs": [
    {
     "name": "stdout",
     "output_type": "stream",
     "text": [
      "   housePerformance  unique_bedroom_count unique_bedroom_list\n",
      "6             88.85                     1                 [2]\n",
      "5             85.00                     2              [1, 2]\n",
      "4             81.15                     1                 [2]\n",
      "3             77.31                     2              [2, 1]\n",
      "2             73.46                     2              [1, 2]\n",
      "1             72.31                     1                 [3]\n",
      "0             71.54                     2              [2, 1]\n",
      "in_room_noBed\n",
      "2    29\n",
      "1    21\n",
      "3     1\n",
      "Name: count, dtype: int64\n"
     ]
    },
    {
     "data": {
      "image/png": "[encoded data removed]",
      "text/plain": [
       "<Figure size 640x480 with 1 Axes>"
      ]
     },
     "metadata": {},
     "output_type": "display_data"
    }
   ],
   "source": [
    "result = evaluationDf.groupby('housePerformance')['in_room_noBed'].agg(['nunique', 'unique']).reset_index().sort_values(by='housePerformance', ascending=False)\n",
    "result.columns = ['housePerformance', 'unique_bedroom_count', 'unique_bedroom_list']\n",
    "print(result)\n",
    "\n",
    "print(evaluationDf['in_room_noBed'].value_counts())\n",
    "\n",
    "### Chart\n",
    "plt.figsize=(2, 1)\n",
    "\n",
    "stripplot= sns.stripplot(x='in_room_noBed', y='housePerformance', data=evaluationDf, jitter=True, color='blue', marker='o')\n",
    "# Set labels and title\n",
    "plt.xlabel('Số phòng ngủ')\n",
    "plt.ylabel('Điểm')\n",
    "plt.ylim(70, 100)\n",
    "stripplot.axes.set_xlim(-0.5, len(evaluationDf['address_district'].unique()) - 2.5)\n",
    "plt.savefig('testOutput/chart/testcase_x1_phongngu.png')\n",
    "\n",
    "# Show the plot\n",
    "plt.show()"
   ]
  },
  {
   "cell_type": "code",
   "execution_count": 7,
   "id": "296b9ab6",
   "metadata": {},
   "outputs": [
    {
     "name": "stdout",
     "output_type": "stream",
     "text": [
      "Min  1800000000.0\n",
      "Max  4000000000.0\n",
      "   housePerformance  unique_price_count  \\\n",
      "6             88.85                   1   \n",
      "5             85.00                   1   \n",
      "4             81.15                   2   \n",
      "3             77.31                   9   \n",
      "2             73.46                  15   \n",
      "1             72.31                   1   \n",
      "0             71.54                   2   \n",
      "\n",
      "                                   unique_price_list  \n",
      "6                                     [2350000000.0]  \n",
      "5                                     [2200000000.0]  \n",
      "4                       [2730000000.0, 2700000000.0]  \n",
      "3  [2600000000.0, 2000000000.0, 1990000000.0, 186...  \n",
      "2  [3200000000.0, 3800000000.0, 3900000000.0, 376...  \n",
      "1                                     [3570000000.0]  \n",
      "0                       [2750000000.0, 2520000000.0]  \n"
     ]
    },
    {
     "data": {
      "image/png": "[encoded data removed]",
      "text/plain": [
       "<Figure size 640x480 with 1 Axes>"
      ]
     },
     "metadata": {},
     "output_type": "display_data"
    }
   ],
   "source": [
    "result = evaluationDf.groupby('housePerformance')['price'].agg(['nunique', 'unique']).reset_index().sort_values(by='housePerformance', ascending=False)\n",
    "result.columns = ['housePerformance', 'unique_price_count', 'unique_price_list']\n",
    "print('Min ', evaluationDf['price'].min())\n",
    "print('Max ', evaluationDf['price'].max())\n",
    "\n",
    "print(result)\n",
    "\n",
    "# Create a scatter plot\n",
    "plt.scatter(evaluationDf['price'], evaluationDf['housePerformance'], marker='o', color='blue')\n",
    "\n",
    "# Set labels and title\n",
    "plt.xlabel('Giá (tỷ VNĐ)')\n",
    "plt.ylabel('Điểm')\n",
    "# plt.title('Scatter Plot of House Performance vs. Price')\n",
    "\n",
    "plt.xlim(1.5*10**9, 4*10**9)\n",
    "plt.ylim(70, 100)\n",
    "\n",
    "plt.savefig('testOutput/chart/testcase_x1_gia.png')\n",
    "\n",
    "# Show the plot\n",
    "plt.show()"
   ]
  },
  {
   "cell_type": "code",
   "execution_count": 8,
   "id": "452ffc70",
   "metadata": {},
   "outputs": [
    {
     "name": "stdout",
     "output_type": "stream",
     "text": [
      "['Thủ Đức' 'Bình Thạnh' 'Bình Chánh' 'Quận 9' 'Quận 2' 'Gò Vấp' 'Quận 4'\n",
      " 'Quận 3']\n",
      "[88.85 85.   81.15 77.31 73.46 72.31 71.54]\n"
     ]
    }
   ],
   "source": [
    "print(evaluationDf['address_district'].unique())\n",
    "print(evaluationDf['housePerformance'].unique())"
   ]
  },
  {
   "cell_type": "markdown",
   "id": "c4cc1a27",
   "metadata": {},
   "source": [
    "### Case D\n",
    "**Luật về giấy tờ**  \n",
    "A1: Khách hàng nhóm 4"
   ]
  },
  {
   "cell_type": "code",
   "execution_count": 31,
   "id": "689a60cb",
   "metadata": {},
   "outputs": [
    {
     "name": "stdout",
     "output_type": "stream",
     "text": [
      "Index(['Unnamed: 0', 'executedRuleGroup', 'houseInfo', 'maxScore',\n",
      "       'houseScore', 'housePerformance', 'buyerInfo', 'id', 'group', 'age',\n",
      "       'is_married', 'no_child', 'month_income', 'monthly_amt', 'avai_amt',\n",
      "       'desired_location', 'desired_interiorStatus', 'meta_url', 'meta_code',\n",
      "       'address_street', 'address_ward', 'address_district', 'address_city',\n",
      "       'price', 'area', 'area_site', 'area_basebuilt', 'area_netused',\n",
      "       'area_yard', 'area_length', 'area_width', 'area_front', 'house_noFloor',\n",
      "       'house_type', 'house_noBasement', 'house_direction', 'in_room_noBed',\n",
      "       'in_room_noBath', 'in_room_noKitchen', 'in_room_noRelax',\n",
      "       'in_room_others', 'in_interiorStatus', 'prj_name', 'prj_investor',\n",
      "       'prj_status', 'prj_tower', 'legal_status', 'other_overview',\n",
      "       'other_good_outstandingCharacteristics', 'other_good_locationDesc',\n",
      "       'other_good_community', 'other_good_education', 'overall_info'],\n",
      "      dtype='object')\n"
     ]
    }
   ],
   "source": [
    "output= pd.read_excel('testOutput\\\\cust_d1.xlsx')\n",
    "evaluationDf= output\n",
    "print(evaluationDf.keys())"
   ]
  },
  {
   "cell_type": "code",
   "execution_count": 32,
   "id": "551ea3c6",
   "metadata": {},
   "outputs": [
    {
     "name": "stdout",
     "output_type": "stream",
     "text": [
      "   housePerformance legal_status  count\n",
      "2               100      Sổ hồng    622\n",
      "3               100        Sổ đỏ     49\n",
      "0                20     Giấy tay      1\n",
      "1                20   HĐ mua bán    566\n"
     ]
    }
   ],
   "source": [
    "evaluationDf=evaluationDf.groupby(['housePerformance', 'legal_status']).size().reset_index(name='count').sort_values(by=['housePerformance'], ascending=[False])\n",
    "print(evaluationDf)"
   ]
  },
  {
   "cell_type": "markdown",
   "id": "3aaa444a",
   "metadata": {},
   "source": [
    "### Case A\n",
    "**Luật về số phòng ngủ**  \n",
    "A1: Khách hàng 30 tuổi, chưa có gia đình và không có con"
   ]
  },
  {
   "cell_type": "code",
   "execution_count": 33,
   "id": "4b32945e",
   "metadata": {},
   "outputs": [
    {
     "name": "stdout",
     "output_type": "stream",
     "text": [
      "17\n",
      "    housePerformance  in_room_noBed  count\n",
      "16             91.82              2    321\n",
      "15             91.82              1     67\n",
      "14             89.09              4     44\n",
      "13             89.09              3    207\n",
      "9              72.73              9      1\n",
      "12             72.73             25      1\n",
      "11             72.73             12      1\n",
      "10             72.73             10      2\n",
      "8              72.73              8      3\n",
      "7              72.73              7      1\n",
      "6              72.73              6      9\n",
      "5              72.73              5     14\n",
      "1259\n"
     ]
    }
   ],
   "source": [
    "output_a1= pd.read_excel('testOutput\\\\cust_a1.xlsx')\n",
    "evaluationDf_a1= output_a1\n",
    "evaluationDf_a1=evaluationDf_a1.groupby(['housePerformance', 'in_room_noBed']).size().reset_index(name='count').sort_values(by=['housePerformance'], ascending=[False])\n",
    "print(len(evaluationDf_a1))\n",
    "print(evaluationDf_a1.head(12))\n",
    "print(len(output_a1))"
   ]
  },
  {
   "cell_type": "markdown",
   "id": "03a9450b",
   "metadata": {},
   "source": [
    "A2: Khách hàng nhóm 2, 30 tuổi, có 2 con"
   ]
  },
  {
   "cell_type": "code",
   "execution_count": 34,
   "id": "81e8818f",
   "metadata": {},
   "outputs": [
    {
     "name": "stdout",
     "output_type": "stream",
     "text": [
      "17\n"
     ]
    },
    {
     "data": {
      "text/html": [
       "<div>\n",
       "<style scoped>\n",
       "    .dataframe tbody tr th:only-of-type {\n",
       "        vertical-align: middle;\n",
       "    }\n",
       "\n",
       "    .dataframe tbody tr th {\n",
       "        vertical-align: top;\n",
       "    }\n",
       "\n",
       "    .dataframe thead th {\n",
       "        text-align: right;\n",
       "    }\n",
       "</style>\n",
       "<table border=\"1\" class=\"dataframe\">\n",
       "  <thead>\n",
       "    <tr style=\"text-align: right;\">\n",
       "      <th></th>\n",
       "      <th>housePerformance</th>\n",
       "      <th>in_room_noBed</th>\n",
       "      <th>count</th>\n",
       "    </tr>\n",
       "  </thead>\n",
       "  <tbody>\n",
       "    <tr>\n",
       "      <th>16</th>\n",
       "      <td>100.00</td>\n",
       "      <td>5</td>\n",
       "      <td>14</td>\n",
       "    </tr>\n",
       "    <tr>\n",
       "      <th>15</th>\n",
       "      <td>100.00</td>\n",
       "      <td>4</td>\n",
       "      <td>44</td>\n",
       "    </tr>\n",
       "    <tr>\n",
       "      <th>14</th>\n",
       "      <td>100.00</td>\n",
       "      <td>3</td>\n",
       "      <td>207</td>\n",
       "    </tr>\n",
       "    <tr>\n",
       "      <th>13</th>\n",
       "      <td>86.36</td>\n",
       "      <td>2</td>\n",
       "      <td>321</td>\n",
       "    </tr>\n",
       "    <tr>\n",
       "      <th>9</th>\n",
       "      <td>72.73</td>\n",
       "      <td>9</td>\n",
       "      <td>1</td>\n",
       "    </tr>\n",
       "    <tr>\n",
       "      <th>12</th>\n",
       "      <td>72.73</td>\n",
       "      <td>25</td>\n",
       "      <td>1</td>\n",
       "    </tr>\n",
       "    <tr>\n",
       "      <th>11</th>\n",
       "      <td>72.73</td>\n",
       "      <td>12</td>\n",
       "      <td>1</td>\n",
       "    </tr>\n",
       "    <tr>\n",
       "      <th>10</th>\n",
       "      <td>72.73</td>\n",
       "      <td>10</td>\n",
       "      <td>2</td>\n",
       "    </tr>\n",
       "    <tr>\n",
       "      <th>8</th>\n",
       "      <td>72.73</td>\n",
       "      <td>8</td>\n",
       "      <td>3</td>\n",
       "    </tr>\n",
       "    <tr>\n",
       "      <th>7</th>\n",
       "      <td>72.73</td>\n",
       "      <td>7</td>\n",
       "      <td>1</td>\n",
       "    </tr>\n",
       "    <tr>\n",
       "      <th>6</th>\n",
       "      <td>72.73</td>\n",
       "      <td>6</td>\n",
       "      <td>9</td>\n",
       "    </tr>\n",
       "    <tr>\n",
       "      <th>5</th>\n",
       "      <td>72.73</td>\n",
       "      <td>1</td>\n",
       "      <td>67</td>\n",
       "    </tr>\n",
       "  </tbody>\n",
       "</table>\n",
       "</div>"
      ],
      "text/plain": [
       "    housePerformance  in_room_noBed  count\n",
       "16            100.00              5     14\n",
       "15            100.00              4     44\n",
       "14            100.00              3    207\n",
       "13             86.36              2    321\n",
       "9              72.73              9      1\n",
       "12             72.73             25      1\n",
       "11             72.73             12      1\n",
       "10             72.73             10      2\n",
       "8              72.73              8      3\n",
       "7              72.73              7      1\n",
       "6              72.73              6      9\n",
       "5              72.73              1     67"
      ]
     },
     "execution_count": 34,
     "metadata": {},
     "output_type": "execute_result"
    }
   ],
   "source": [
    "output_a2= pd.read_excel('testOutput\\\\cust_a2.xlsx')\n",
    "evaluationDf_a2= output_a2\n",
    "evaluationDf_a2=evaluationDf_a2.groupby(['housePerformance', 'in_room_noBed']).size().reset_index(name='count').sort_values(by=['housePerformance'], ascending=[False])\n",
    "print(len(evaluationDf_a2))\n",
    "evaluationDf_a2.head(12)"
   ]
  },
  {
   "cell_type": "markdown",
   "id": "9c0ccddb",
   "metadata": {},
   "source": [
    "A3: Khách hàng nhóm 4"
   ]
  },
  {
   "cell_type": "code",
   "execution_count": 35,
   "id": "42f2d5a3",
   "metadata": {},
   "outputs": [
    {
     "name": "stdout",
     "output_type": "stream",
     "text": [
      "17\n"
     ]
    },
    {
     "data": {
      "text/html": [
       "<div>\n",
       "<style scoped>\n",
       "    .dataframe tbody tr th:only-of-type {\n",
       "        vertical-align: middle;\n",
       "    }\n",
       "\n",
       "    .dataframe tbody tr th {\n",
       "        vertical-align: top;\n",
       "    }\n",
       "\n",
       "    .dataframe thead th {\n",
       "        text-align: right;\n",
       "    }\n",
       "</style>\n",
       "<table border=\"1\" class=\"dataframe\">\n",
       "  <thead>\n",
       "    <tr style=\"text-align: right;\">\n",
       "      <th></th>\n",
       "      <th>housePerformance</th>\n",
       "      <th>in_room_noBed</th>\n",
       "      <th>count</th>\n",
       "    </tr>\n",
       "  </thead>\n",
       "  <tbody>\n",
       "    <tr>\n",
       "      <th>16</th>\n",
       "      <td>100.00</td>\n",
       "      <td>4</td>\n",
       "      <td>44</td>\n",
       "    </tr>\n",
       "    <tr>\n",
       "      <th>15</th>\n",
       "      <td>100.00</td>\n",
       "      <td>3</td>\n",
       "      <td>207</td>\n",
       "    </tr>\n",
       "    <tr>\n",
       "      <th>14</th>\n",
       "      <td>100.00</td>\n",
       "      <td>2</td>\n",
       "      <td>321</td>\n",
       "    </tr>\n",
       "    <tr>\n",
       "      <th>13</th>\n",
       "      <td>91.82</td>\n",
       "      <td>1</td>\n",
       "      <td>67</td>\n",
       "    </tr>\n",
       "    <tr>\n",
       "      <th>9</th>\n",
       "      <td>72.73</td>\n",
       "      <td>9</td>\n",
       "      <td>1</td>\n",
       "    </tr>\n",
       "    <tr>\n",
       "      <th>12</th>\n",
       "      <td>72.73</td>\n",
       "      <td>25</td>\n",
       "      <td>1</td>\n",
       "    </tr>\n",
       "    <tr>\n",
       "      <th>11</th>\n",
       "      <td>72.73</td>\n",
       "      <td>12</td>\n",
       "      <td>1</td>\n",
       "    </tr>\n",
       "    <tr>\n",
       "      <th>10</th>\n",
       "      <td>72.73</td>\n",
       "      <td>10</td>\n",
       "      <td>2</td>\n",
       "    </tr>\n",
       "    <tr>\n",
       "      <th>8</th>\n",
       "      <td>72.73</td>\n",
       "      <td>8</td>\n",
       "      <td>3</td>\n",
       "    </tr>\n",
       "    <tr>\n",
       "      <th>7</th>\n",
       "      <td>72.73</td>\n",
       "      <td>7</td>\n",
       "      <td>1</td>\n",
       "    </tr>\n",
       "    <tr>\n",
       "      <th>6</th>\n",
       "      <td>72.73</td>\n",
       "      <td>6</td>\n",
       "      <td>9</td>\n",
       "    </tr>\n",
       "    <tr>\n",
       "      <th>5</th>\n",
       "      <td>72.73</td>\n",
       "      <td>5</td>\n",
       "      <td>14</td>\n",
       "    </tr>\n",
       "  </tbody>\n",
       "</table>\n",
       "</div>"
      ],
      "text/plain": [
       "    housePerformance  in_room_noBed  count\n",
       "16            100.00              4     44\n",
       "15            100.00              3    207\n",
       "14            100.00              2    321\n",
       "13             91.82              1     67\n",
       "9              72.73              9      1\n",
       "12             72.73             25      1\n",
       "11             72.73             12      1\n",
       "10             72.73             10      2\n",
       "8              72.73              8      3\n",
       "7              72.73              7      1\n",
       "6              72.73              6      9\n",
       "5              72.73              5     14"
      ]
     },
     "execution_count": 35,
     "metadata": {},
     "output_type": "execute_result"
    }
   ],
   "source": [
    "output_a3= pd.read_excel('testOutput\\\\cust_a3.xlsx')\n",
    "evaluationDf_a3= output_a3\n",
    "evaluationDf_a3=evaluationDf_a3.groupby(['housePerformance', 'in_room_noBed']).size().reset_index(name='count').sort_values(by=['housePerformance'], ascending=[False])\n",
    "print(len(evaluationDf_a3))\n",
    "evaluationDf_a3.head(12)"
   ]
  },
  {
   "cell_type": "markdown",
   "id": "7dcfeca9",
   "metadata": {},
   "source": [
    "### Case B\n",
    "**Luật về Tài chính**  \n",
    "B1: Khách hàng cần tìm BĐS có với tài sản có sẵn là 1.5 tỷ và có thể chi trả hằng tháng 40.0 triệu"
   ]
  },
  {
   "cell_type": "code",
   "execution_count": 36,
   "id": "c07e71e8",
   "metadata": {},
   "outputs": [],
   "source": [
    "output_b1= pd.read_excel('testOutput\\\\cust_b1.xlsx')\n",
    "evaluationDf_b1= output_b1\n",
    "# evaluationDf_b1.columns\n",
    "evaluationDf_b1= evaluationDf_b1.groupby(['housePerformance', 'price']).size().reset_index(name='count').sort_values(by=['housePerformance'], ascending=[False])\n",
    "evaluationDf_b1.head(50)\n",
    "evaluationDf_b1['price_mln']= evaluationDf_b1['price']/ 1000000"
   ]
  },
  {
   "cell_type": "code",
   "execution_count": 40,
   "id": "4371ff0a",
   "metadata": {},
   "outputs": [
    {
     "name": "stdout",
     "output_type": "stream",
     "text": [
      "   housePerformance  \\\n",
      "9            100.00   \n",
      "8             88.89   \n",
      "7             77.78   \n",
      "6             73.33   \n",
      "5             72.22   \n",
      "4             62.22   \n",
      "3             51.11   \n",
      "2             45.56   \n",
      "1             44.44   \n",
      "0             17.78   \n",
      "\n",
      "                                                                                                                                                                                                                                                                                                                                                                                                                                                                                                                                                                                                                                                                                                                                                                                                                                                                                                                                                                                                                                                                                                                                                                                                                                                                                                                                                                                                                                                                                                                                           price  \n",
      "9                                                                                                                                                                                                                                                                                                                                                                                                                                                                                                                                                                                                                                                                                                                                                                                                                                                                                                                                                                                                                                                                                                                                                                                                                                                                                                                                                                                                                                                                                       [2000000000.0, 1990000000.0, 1860000000.0, 1800000000.0]  \n",
      "8                                                                                                                                                                                                                                                                                                                                                                                                                                                                                                                                                                                                                                                                                                                                                                                                                                                                                                                                                                                                                                                                                                                                                                                                                                                                                                                                                                                                                 [2470000000.0, 2450000000.0, 2400000000.0, 2350000000.0, 2250000000.0, 2200000000.0, 2130000000.0, 2100000000.0, 2050000000.0]  \n",
      "7                                                                                                                                                                                                                                                                                                                                                                                                                                                                                                                                                                                                                                                                                                                                                                                                                                                                                                                                                                                                                                                                                                                                                                                                                                                                                                               [2950000000.0, 2930000000.0, 2900000000.0, 2820000000.0, 2800000000.0, 2750000000.0, 2730000000.0, 2700000000.0, 2690000000.0, 2680000000.0, 2670000000.0, 2650000000.0, 2600000000.0, 2550000000.0, 2520000000.0, 2500000000.0]  \n",
      "6                                                                                                                                                                                                                                                                                                                                                                                                                                                                                                                                                                                                                                                                                                                                                                                                                                                                                                                                                                                                                                                                                                                                                                                                                                                                                                                                                                                                                 [2000000000.0, 1980000000.0, 1970000000.0, 1950000000.0, 1930000000.0, 1900000000.0, 1850000000.0, 1830000000.0, 1800000000.0]  \n",
      "5                                                                                                                                                                                                                                                                                                                                                                                                                                                                                                                                                                                                                                                                                                                                                                                                                                                                                                                                                                                                                                                                                                                                                                                               [4000000000.0, 3950000000.0, 3900000000.0, 3850000000.0, 3800000000.0, 3760000000.0, 3750000000.0, 3700000000.0, 3650000000.0, 3600000000.0, 3580000000.0, 3570000000.0, 3550000000.0, 3500000000.0, 3450000000.0, 3300000000.0, 3200000000.0, 3150000000.0, 3120000000.0, 3100000000.0, 3080000000.0, 3000000000.0, 2990000000.0, 2980000000.0]  \n",
      "4                                                                                                                                                                                                                                                                                                                                                                                                                                                                                                                                                                                                                                                                                                                                                                                                                                                                                                                                                                                                                                                                                                                                                                                                                                                                                                                                                         [2450000000.0, 2400000000.0, 2350000000.0, 2310000000.0, 2300000000.0, 2280000000.0, 2260000000.0, 2250000000.0, 2200000000.0, 2150000000.0, 2140000000.0, 2100000000.0, 2080000000.0]  \n",
      "3                                                                                                                                                                                                                                                                                                                                                                                                                                                                                                                                                                                                                                                                                                                                                                                                                                                                                                                                                                                                                                                                                                                                                                                                                                                                                   [2950000000.0, 2900000000.0, 2850000000.0, 2840000000.0, 2800000000.0, 2790000000.0, 2750000000.0, 2730000000.0, 2720000000.0, 2700000000.0, 2690000000.0, 2650000000.0, 2610000000.0, 2600000000.0, 2550000000.0, 2540000000.0, 2500000000.0, 2490000000.0]  \n",
      "2                                                                                                                                                                                                                                                                                                                                                                                                                                                                                                                                                                                                                                                                                                                                                                                                                                                                                                                                                                                                                                     [4000000000.0, 3940000000.0, 3900000000.0, 3850000000.0, 3800000000.0, 3750000000.0, 3740000000.0, 3700000000.0, 3680000000.0, 3660000000.0, 3650000000.0, 3620000000.0, 3600000000.0, 3550000000.0, 3500000000.0, 3480000000.0, 3450000000.0, 3400000000.0, 3390000000.0, 3350000000.0, 3330000000.0, 3300000000.0, 3290000000.0, 3250000000.0, 3230000000.0, 3200000000.0, 3150000000.0, 3140000000.0, 3130000000.0, 3100000000.0, 3070000000.0, 3050000000.0, 3000000000.0, 2990000000.0, 2980000000.0]  \n",
      "1       [155000000000.0, 128000000000.0, 82500000000.0, 65000000000.0, 61000000000.0, 48000000000.0, 43000000000.0, 37000000000.0, 35000000000.0, 33000000000.0, 31000000000.0, 30000000000.0, 29000000000.0, 28000000000.0, 27000000000.0, 26000000000.0, 25000000000.0, 24500000000.0, 23000000000.0, 22500000000.0, 22000000000.0, 21200000000.0, 21100000000.0, 21000000000.0, 20500000000.0, 20000000000.0, 19600000000.0, 19400000000.0, 19000000000.0, 18500000000.0, 18000000000.0, 17700000000.0, 16800000000.0, 16700000000.0, 16500000000.0, 16160000000.0, 16000000000.0, 15500000000.0, 15000000000.0, 14500000000.0, 14000000000.0, 13900000000.0, 13800000000.0, 13500000000.0, 13100000000.0, 13000000000.0, 12900000000.0, 12800000000.0, 12500000000.0, 12200000000.0, 12000000000.0, 11900000000.0, 11800000000.0, 11600000000.0, 11500000000.0, 11300000000.0, 11200000000.0, 11100000000.0, 11000000000.0, 10900000000.0, 10800000000.0, 10700000000.0, 10600000000.0, 10500000000.0, 10350000000.0, 10300000000.0, 10200000000.0, 10000000000.0, 9800000000.0, 9750000000.0, 9700000000.0, 9600000000.0, 9500000000.0, 9400000000.0, 9300000000.0, 9250000000.0, 9200000000.0, 9100000000.0, 9000000000.0, 8900000000.0, 8800000000.0, 8700000000.0, 8600000000.0, 8500000000.0, 8400000000.0, 8350000000.0, 8199999999.999999, 8100000000.0, 8000000000.0, 7900000000.0, 7800000000.0, 7720000000.0, 7700000000.0, 7600000000.0, 7500000000.0, 7400000000.0, 7300000000.0, 7250000000.0, 7200000000.0, 7100000000.0, ...]  \n",
      "0  [80000000000.0, 60000000000.0, 58000000000.0, 56000000000.0, 53000000000.0, 52000000000.0, 50000000000.0, 42500000000.0, 39000000000.0, 38000000000.0, 37620000000.0, 37010000000.0, 36500000000.0, 36000000000.0, 35000000000.0, 32500000000.0, 31000000000.0, 30000000000.0, 29000000000.0, 28000000000.0, 27000000000.0, 24000000000.0, 23000000000.0, 22700000000.0, 22000000000.0, 21000000000.0, 20990000000.0, 20600000000.0, 20000000000.0, 19900000000.0, 19800000000.0, 19700000000.0, 19000000000.0, 18900000000.0, 18700000000.0, 18500000000.0, 18100000000.0, 18000000000.0, 17500000000.0, 17000000000.0, 16900000000.0, 16850000000.0, 16500000000.0, 16200000000.0, 16000000000.0, 15500000000.0, 15450000000.0, 15000000000.0, 14500000000.0, 14400000000.0, 14300000000.0, 14200000000.0, 14000000000.0, 13600000000.0, 13530000000.0, 13500000000.0, 13400000000.0, 13000000000.0, 12880000000.0, 12600000000.0, 12500000000.0, 12300000000.0, 12000000000.0, 11600000000.0, 11000000000.0, 10800000000.0, 10500000000.0, 10300000000.0, 10100000000.0, 10000000000.0, 9900000000.0, 9700000000.0, 9600000000.0, 9500000000.0, 9300000000.0, 9200000000.0, 9000000000.0, 8900000000.0, 8800000000.0, 8600000000.0, 8580000000.0, 8500000000.0, 8400000000.0, 8289999999.999999, 8199999999.999999, 8100000000.0, 8080000000.0, 8070000000.0, 8000000000.0, 7800000000.0, 7750000000.0, 7700000000.0, 7650000000.0, 7600000000.0, 7550000000.0, 7500000000.0, 7300000000.0, 7200000000.0, 7100000000.0, 7000000000.0, ...]  \n"
     ]
    }
   ],
   "source": [
    "pd.set_option('display.max_colwidth', None)\n",
    "result = evaluationDf_b1.groupby('housePerformance')['price'].agg(list).reset_index()\n",
    "result['price'] = result['price'].apply(sorted, reverse=True)\n",
    "result=result.sort_values(by='housePerformance', ascending=False)\n",
    "# result.reset_option('display.max_colwidth')\n",
    "print(result)"
   ]
  },
  {
   "cell_type": "code",
   "execution_count": 41,
   "id": "92884455",
   "metadata": {},
   "outputs": [
    {
     "name": "stdout",
     "output_type": "stream",
     "text": [
      "[80000000000.0, 60000000000.0, 58000000000.0, 56000000000.0, 53000000000.0, 52000000000.0, 50000000000.0, 42500000000.0, 39000000000.0, 38000000000.0, 37620000000.0, 37010000000.0, 36500000000.0, 36000000000.0, 35000000000.0, 32500000000.0, 31000000000.0, 30000000000.0, 29000000000.0, 28000000000.0, 27000000000.0, 24000000000.0, 23000000000.0, 22700000000.0, 22000000000.0, 21000000000.0, 20990000000.0, 20600000000.0, 20000000000.0, 19900000000.0, 19800000000.0, 19700000000.0, 19000000000.0, 18900000000.0, 18700000000.0, 18500000000.0, 18100000000.0, 18000000000.0, 17500000000.0, 17000000000.0, 16900000000.0, 16850000000.0, 16500000000.0, 16200000000.0, 16000000000.0, 15500000000.0, 15450000000.0, 15000000000.0, 14500000000.0, 14400000000.0, 14300000000.0, 14200000000.0, 14000000000.0, 13600000000.0, 13530000000.0, 13500000000.0, 13400000000.0, 13000000000.0, 12880000000.0, 12600000000.0, 12500000000.0, 12300000000.0, 12000000000.0, 11600000000.0, 11000000000.0, 10800000000.0, 10500000000.0, 10300000000.0, 10100000000.0, 10000000000.0, 9900000000.0, 9700000000.0, 9600000000.0, 9500000000.0, 9300000000.0, 9200000000.0, 9000000000.0, 8900000000.0, 8800000000.0, 8600000000.0, 8580000000.0, 8500000000.0, 8400000000.0, 8289999999.999999, 8199999999.999999, 8100000000.0, 8080000000.0, 8070000000.0, 8000000000.0, 7800000000.0, 7750000000.0, 7700000000.0, 7650000000.0, 7600000000.0, 7550000000.0, 7500000000.0, 7300000000.0, 7200000000.0, 7100000000.0, 7000000000.0, 6900000000.0, 6800000000.0, 6600000000.0, 6550000000.0, 6500000000.0, 6490000000.0, 6400000000.0, 6370000000.0, 6300000000.0, 6200000000.0, 6100000000.0, 6000000000.0, 5850000000.0, 5800000000.0, 5700000000.0, 5670000000.0, 5600000000.0, 5500000000.0, 5460000000.0, 5400000000.0, 5300000000.0, 5250000000.0, 5200000000.0, 5180000000.0, 5150000000.0, 5100000000.0, 5030000000.0, 5000000000.0, 4950000000.0, 4900000000.0, 4800000000.0, 4750000000.0, 4700000000.0, 4680000000.0, 4650000000.0, 4630000000.0, 4600000000.0, 4580000000.0, 4560000000.0, 4550000000.0, 4520000000.0, 4500000000.0, 4450000000.0, 4430000000.0, 4420000000.0, 4400000000.0, 4350000000.0, 4300000000.0, 4250000000.0, 4210000000.0, 4200000000.0, 4150000000.0, 4100000000.0, 4020000000.0, 1750000000.0, 1700000000.0, 1650000000.0, 1600000000.0, 1550000000.0, 1500000000.0, 1450000000.0, 1400000000.0, 1300000000.0, 1270000000.0, 1150000000.0]\n"
     ]
    }
   ],
   "source": [
    "print(result.loc[0]['price'])"
   ]
  },
  {
   "cell_type": "code",
   "execution_count": 42,
   "id": "1fc795a2",
   "metadata": {},
   "outputs": [
    {
     "data": {
      "image/png": "[encoded data removed]",
      "text/plain": [
       "<Figure size 800x400 with 1 Axes>"
      ]
     },
     "metadata": {},
     "output_type": "display_data"
    }
   ],
   "source": [
    "# # Scatter plot\n",
    "plt.figure(figsize=(8, 4))\n",
    "plt.scatter(evaluationDf_b1['price_mln'], evaluationDf_b1['housePerformance'], marker='o', color='blue', )\n",
    "plt.xlabel('Giá (triệu đồng)')\n",
    "plt.ylabel('Điểm số (%)')\n",
    "\n",
    "plt.xlim(1200, 4200)\n",
    "plt.savefig('testOutput/chart/testcase_b1.png')\n",
    "plt.show()"
   ]
  },
  {
   "cell_type": "markdown",
   "id": "4ad5824f",
   "metadata": {},
   "source": [
    "B2: Khách hàng cần tìm BĐS có với tài sản có sẵn là 4 tỷ và có thể chi trả hằng tháng 50.0 triệu"
   ]
  },
  {
   "cell_type": "code",
   "execution_count": 43,
   "id": "fff03146",
   "metadata": {},
   "outputs": [
    {
     "name": "stdout",
     "output_type": "stream",
     "text": [
      "1259\n",
      "458\n",
      "     housePerformance         price  count  price_mln\n",
      "457            100.00  4.000000e+09      2     4000.0\n",
      "456            100.00  3.950000e+09      2     3950.0\n",
      "455            100.00  3.900000e+09      5     3900.0\n",
      "454            100.00  3.850000e+09      3     3850.0\n",
      "453            100.00  3.800000e+09      5     3800.0\n",
      "452            100.00  3.760000e+09      1     3760.0\n",
      "451            100.00  3.750000e+09      1     3750.0\n",
      "450            100.00  3.700000e+09      5     3700.0\n",
      "449            100.00  3.650000e+09      1     3650.0\n",
      "448            100.00  3.600000e+09      6     3600.0\n",
      "442             88.89  4.350000e+09      4     4350.0\n",
      "437             88.89  4.100000e+09      2     4100.0\n",
      "438             88.89  4.160000e+09      1     4160.0\n",
      "439             88.89  4.200000e+09      5     4200.0\n",
      "440             88.89  4.250000e+09      2     4250.0\n",
      "1150.0\n",
      "155000.0\n"
     ]
    }
   ],
   "source": [
    "output_b2= pd.read_excel('testOutput\\\\cust_b2.xlsx')\n",
    "evaluationDf_b2= output_b2\n",
    "print(len(output_b2))\n",
    "# evaluationDf_b1.columns\n",
    "evaluationDf_b2= evaluationDf_b2.groupby(['housePerformance', 'price']).size().reset_index(name='count').sort_values(by=['housePerformance'], ascending=[False])\n",
    "evaluationDf_b2.head(50)\n",
    "evaluationDf_b2['price_mln']= evaluationDf_b2['price']/ 1000000\n",
    "print(len(evaluationDf_b2))\n",
    "print(evaluationDf_b2.head(15))\n",
    "print(evaluationDf_b2['price_mln'].min())\n",
    "print(evaluationDf_b2['price_mln'].max())"
   ]
  },
  {
   "cell_type": "code",
   "execution_count": 44,
   "id": "02d9db46",
   "metadata": {},
   "outputs": [
    {
     "name": "stdout",
     "output_type": "stream",
     "text": [
      "   housePerformance  \\\n",
      "9            100.00   \n",
      "8             88.89   \n",
      "7             77.78   \n",
      "6             73.33   \n",
      "5             72.22   \n",
      "4             62.22   \n",
      "3             51.11   \n",
      "2             45.56   \n",
      "1             44.44   \n",
      "0             17.78   \n",
      "\n",
      "                                                                                                                                                                                                                                                                                                                                                                                                                                                                                                                                                                                                                                                                                                                                                                                                                                                                                                                                                                                                                                                                                                                                                                                                                                                                                                                                                                                                                                                                                                                                           price  \n",
      "9                                                                                                                                                                                                                                                                                                                                                                                                                                                                                                                                                                                                                                                                                                                                                                                                                                                                                                                                                                                                                                                                                                                                                                                                                                                                                                                                                                                                   [4000000000.0, 3950000000.0, 3900000000.0, 3850000000.0, 3800000000.0, 3760000000.0, 3750000000.0, 3700000000.0, 3650000000.0, 3600000000.0]  \n",
      "8                                                                                                                                                                                                                                                                                                                                                                                                                                                                                                                                                                                                                                                                                                                                                                                                                                                                                                                                                                                                                                                                                                                                                                                                                                                                                                                                                                                     [4600000000.0, 4550000000.0, 4500000000.0, 4450000000.0, 4400000000.0, 4350000000.0, 4300000000.0, 4250000000.0, 4200000000.0, 4160000000.0, 4100000000.0]  \n",
      "7                                                                                                                                                                                                                                                                                                                                                                                                                                                                                                                                                                                                                                                                                                                                                                                                                                                                                                                                                                                                                                                                                                                                                                                                                                                                                                                                                         [5200000000.0, 5150000000.0, 5100000000.0, 5000000000.0, 4980000000.0, 4950000000.0, 4900000000.0, 4850000000.0, 4800000000.0, 4750000000.0, 4700000000.0, 4680000000.0, 4650000000.0]  \n",
      "6                                                                                                                                                                                                                                                                                                                                                                                                                                                                                                                                                                                                                                                                                                                                                                                                                                                                                                                                                                                                                                                                                                                                                                                                                                                                                                                                                         [4000000000.0, 3940000000.0, 3900000000.0, 3850000000.0, 3800000000.0, 3750000000.0, 3740000000.0, 3700000000.0, 3680000000.0, 3660000000.0, 3650000000.0, 3620000000.0, 3600000000.0]  \n",
      "5                                                                                                                                                                                                                                                                                                                                                                                                                                                                                                                                                                                                                                                                                                                                                                                                                                                                                                                                                                                                                                                                 [7000000000.0, 6950000000.0, 6920000000.0, 6900000000.0, 6850000000.0, 6800000000.0, 6750000000.0, 6700000000.0, 6600000000.0, 6500000000.0, 6400000000.0, 6330000000.0, 6300000000.0, 6200000000.0, 6150000000.0, 6120000000.0, 6100000000.0, 6090000000.0, 6050000000.0, 6000000000.0, 5900000000.0, 5800000000.0, 5700000000.0, 5690000000.0, 5650000000.0, 5600000000.0, 5500000000.0, 5410000000.0, 5400000000.0, 5350000000.0, 5300000000.0, 5260000000.0, 5250000000.0]  \n",
      "4                                                                                                                                                                                                                                                                                                                                                                                                                                                                                                                                                                                                                                                                                                                                                                                                                                                                                                                                                                                                                                                                                                                                                                                                                                                                                   [4600000000.0, 4580000000.0, 4560000000.0, 4550000000.0, 4520000000.0, 4500000000.0, 4450000000.0, 4430000000.0, 4420000000.0, 4400000000.0, 4350000000.0, 4300000000.0, 4250000000.0, 4210000000.0, 4200000000.0, 4150000000.0, 4100000000.0, 4020000000.0]  \n",
      "3                                                                                                                                                                                                                                                                                                                                                                                                                                                                                                                                                                                                                                                                                                                                                                                                                                                                                                                                                                                                                                                                                                                                                                                                                                                                                                                                           [5200000000.0, 5180000000.0, 5150000000.0, 5100000000.0, 5030000000.0, 5000000000.0, 4950000000.0, 4900000000.0, 4800000000.0, 4750000000.0, 4700000000.0, 4680000000.0, 4650000000.0, 4630000000.0]  \n",
      "2                                                                                                                                                                                                                                                                                                                                                                                                                                                                                                                                                                                                                                                                                                                                                                                                                                                                                                                                                                                                                                                                                                                                                                                                             [7000000000.0, 6900000000.0, 6800000000.0, 6600000000.0, 6550000000.0, 6500000000.0, 6490000000.0, 6400000000.0, 6370000000.0, 6300000000.0, 6200000000.0, 6100000000.0, 6000000000.0, 5850000000.0, 5800000000.0, 5700000000.0, 5670000000.0, 5600000000.0, 5500000000.0, 5460000000.0, 5400000000.0, 5300000000.0, 5250000000.0]  \n",
      "1       [155000000000.0, 128000000000.0, 82500000000.0, 65000000000.0, 61000000000.0, 48000000000.0, 43000000000.0, 37000000000.0, 35000000000.0, 33000000000.0, 31000000000.0, 30000000000.0, 29000000000.0, 28000000000.0, 27000000000.0, 26000000000.0, 25000000000.0, 24500000000.0, 23000000000.0, 22500000000.0, 22000000000.0, 21200000000.0, 21100000000.0, 21000000000.0, 20500000000.0, 20000000000.0, 19600000000.0, 19400000000.0, 19000000000.0, 18500000000.0, 18000000000.0, 17700000000.0, 16800000000.0, 16700000000.0, 16500000000.0, 16160000000.0, 16000000000.0, 15500000000.0, 15000000000.0, 14500000000.0, 14000000000.0, 13900000000.0, 13800000000.0, 13500000000.0, 13100000000.0, 13000000000.0, 12900000000.0, 12800000000.0, 12500000000.0, 12200000000.0, 12000000000.0, 11900000000.0, 11800000000.0, 11600000000.0, 11500000000.0, 11300000000.0, 11200000000.0, 11100000000.0, 11000000000.0, 10900000000.0, 10800000000.0, 10700000000.0, 10600000000.0, 10500000000.0, 10350000000.0, 10300000000.0, 10200000000.0, 10000000000.0, 9800000000.0, 9750000000.0, 9700000000.0, 9600000000.0, 9500000000.0, 9400000000.0, 9300000000.0, 9250000000.0, 9200000000.0, 9100000000.0, 9000000000.0, 8900000000.0, 8800000000.0, 8700000000.0, 8600000000.0, 8500000000.0, 8400000000.0, 8350000000.0, 8199999999.999999, 8100000000.0, 8000000000.0, 7900000000.0, 7800000000.0, 7720000000.0, 7700000000.0, 7600000000.0, 7500000000.0, 7400000000.0, 7300000000.0, 7250000000.0, 7200000000.0, 7100000000.0, ...]  \n",
      "0  [80000000000.0, 60000000000.0, 58000000000.0, 56000000000.0, 53000000000.0, 52000000000.0, 50000000000.0, 42500000000.0, 39000000000.0, 38000000000.0, 37620000000.0, 37010000000.0, 36500000000.0, 36000000000.0, 35000000000.0, 32500000000.0, 31000000000.0, 30000000000.0, 29000000000.0, 28000000000.0, 27000000000.0, 24000000000.0, 23000000000.0, 22700000000.0, 22000000000.0, 21000000000.0, 20990000000.0, 20600000000.0, 20000000000.0, 19900000000.0, 19800000000.0, 19700000000.0, 19000000000.0, 18900000000.0, 18700000000.0, 18500000000.0, 18100000000.0, 18000000000.0, 17500000000.0, 17000000000.0, 16900000000.0, 16850000000.0, 16500000000.0, 16200000000.0, 16000000000.0, 15500000000.0, 15450000000.0, 15000000000.0, 14500000000.0, 14400000000.0, 14300000000.0, 14200000000.0, 14000000000.0, 13600000000.0, 13530000000.0, 13500000000.0, 13400000000.0, 13000000000.0, 12880000000.0, 12600000000.0, 12500000000.0, 12300000000.0, 12000000000.0, 11600000000.0, 11000000000.0, 10800000000.0, 10500000000.0, 10300000000.0, 10100000000.0, 10000000000.0, 9900000000.0, 9700000000.0, 9600000000.0, 9500000000.0, 9300000000.0, 9200000000.0, 9000000000.0, 8900000000.0, 8800000000.0, 8600000000.0, 8580000000.0, 8500000000.0, 8400000000.0, 8289999999.999999, 8199999999.999999, 8100000000.0, 8080000000.0, 8070000000.0, 8000000000.0, 7800000000.0, 7750000000.0, 7700000000.0, 7650000000.0, 7600000000.0, 7550000000.0, 7500000000.0, 7300000000.0, 7200000000.0, 7100000000.0, 3550000000.0, ...]  \n"
     ]
    }
   ],
   "source": [
    "pd.set_option('display.max_colwidth', None)\n",
    "result = evaluationDf_b2.groupby('housePerformance')['price'].agg(list).reset_index()\n",
    "result['price'] = result['price'].apply(sorted, reverse=True)\n",
    "result=result.sort_values(by='housePerformance', ascending=False)\n",
    "# result.reset_option('display.max_colwidth')\n",
    "print(result)"
   ]
  },
  {
   "cell_type": "code",
   "execution_count": 45,
   "id": "305dbeea",
   "metadata": {},
   "outputs": [
    {
     "data": {
      "image/png": "[encoded data removed]",
      "text/plain": [
       "<Figure size 640x480 with 1 Axes>"
      ]
     },
     "metadata": {},
     "output_type": "display_data"
    }
   ],
   "source": [
    "# # Scatter plot\n",
    "plt.scatter(evaluationDf_b2['price_mln'], evaluationDf_b2['housePerformance'], marker='o', color='blue')\n",
    "# plt.bar(evaluationDf_b1['price_mln'], evaluationDf_b1['housePerformance'],  color='blue')\n",
    "plt.xlabel('Giá (triệu đồng)')\n",
    "plt.ylabel('Điểm số (%)')\n",
    "\n",
    "\n",
    "plt.xlim(3000, 7500)\n",
    "plt.savefig('testOutput/chart/testcase_b2.png')\n",
    "plt.show()"
   ]
  },
  {
   "cell_type": "markdown",
   "id": "b05bd16f",
   "metadata": {},
   "source": [
    "### Case C\n",
    "**Luật về vị trí của bất động sản**  \n",
    "C1: Khách hàng cần tìm BĐS có vị trí là quận 7"
   ]
  },
  {
   "cell_type": "code",
   "execution_count": 46,
   "id": "81eb1dc7",
   "metadata": {},
   "outputs": [],
   "source": [
    "# output_c1= pd.read_excel('testOutput\\\\cust_c1.xlsx')\n",
    "# evaluationDf_c1= output_c1\n",
    "# evaluationDf_c1.groupby(['desired_location', 'address_district', 'housePerformance']).size().reset_index(name='count').sort_values(by=['housePerformance'], ascending=[False])"
   ]
  },
  {
   "cell_type": "markdown",
   "id": "84d1bd83",
   "metadata": {},
   "source": [
    "*Case C2*  \n",
    "Khách hàng cần tìm BĐS có vị trí là quận 3"
   ]
  },
  {
   "cell_type": "code",
   "execution_count": 47,
   "id": "6b229e73",
   "metadata": {},
   "outputs": [],
   "source": [
    "# outputDf_c2= pd.read_excel('testOutput\\\\cust_c2.xlsx')\n",
    "# evaluationDf_c2= outputDf_c2\n",
    "# outputDf_c2.groupby(['desired_location', 'address_district', 'housePerformance']).size().reset_index(name='count').sort_values(by=['housePerformance'], ascending=[False])"
   ]
  },
  {
   "cell_type": "markdown",
   "id": "2746a54a",
   "metadata": {},
   "source": [
    "*Case C3*  \n",
    "Khách hàng cần tìm BĐS có vị trí là Tân Bình"
   ]
  },
  {
   "cell_type": "code",
   "execution_count": 48,
   "id": "816a1914",
   "metadata": {},
   "outputs": [],
   "source": [
    "# outputDf_c3= pd.read_excel('testOutput\\\\cust_c3.xlsx')\n",
    "# evaluationDf_c3= outputDf_c3\n",
    "# outputDf_c3.groupby(['desired_location', 'address_district', 'housePerformance']).size().reset_index(name='count').sort_values(by=['housePerformance'], ascending=[False])"
   ]
  },
  {
   "cell_type": "markdown",
   "id": "09028847",
   "metadata": {},
   "source": [
    "# Legal estimation"
   ]
  },
  {
   "cell_type": "markdown",
   "id": "eb77e9a1",
   "metadata": {},
   "source": [
    "*Case D1*  \n",
    "Đánh giá về tình trạng giấy tờ pháp lý"
   ]
  },
  {
   "cell_type": "code",
   "execution_count": 49,
   "id": "b9ae451a",
   "metadata": {},
   "outputs": [
    {
     "data": {
      "text/html": [
       "<div>\n",
       "<style scoped>\n",
       "    .dataframe tbody tr th:only-of-type {\n",
       "        vertical-align: middle;\n",
       "    }\n",
       "\n",
       "    .dataframe tbody tr th {\n",
       "        vertical-align: top;\n",
       "    }\n",
       "\n",
       "    .dataframe thead th {\n",
       "        text-align: right;\n",
       "    }\n",
       "</style>\n",
       "<table border=\"1\" class=\"dataframe\">\n",
       "  <thead>\n",
       "    <tr style=\"text-align: right;\">\n",
       "      <th></th>\n",
       "      <th>legal_status</th>\n",
       "      <th>housePerformance</th>\n",
       "      <th>count</th>\n",
       "    </tr>\n",
       "  </thead>\n",
       "  <tbody>\n",
       "    <tr>\n",
       "      <th>2</th>\n",
       "      <td>Sổ hồng</td>\n",
       "      <td>100</td>\n",
       "      <td>622</td>\n",
       "    </tr>\n",
       "    <tr>\n",
       "      <th>3</th>\n",
       "      <td>Sổ đỏ</td>\n",
       "      <td>100</td>\n",
       "      <td>49</td>\n",
       "    </tr>\n",
       "    <tr>\n",
       "      <th>0</th>\n",
       "      <td>Giấy tay</td>\n",
       "      <td>20</td>\n",
       "      <td>1</td>\n",
       "    </tr>\n",
       "    <tr>\n",
       "      <th>1</th>\n",
       "      <td>HĐ mua bán</td>\n",
       "      <td>20</td>\n",
       "      <td>566</td>\n",
       "    </tr>\n",
       "  </tbody>\n",
       "</table>\n",
       "</div>"
      ],
      "text/plain": [
       "  legal_status  housePerformance  count\n",
       "2      Sổ hồng               100    622\n",
       "3        Sổ đỏ               100     49\n",
       "0     Giấy tay                20      1\n",
       "1   HĐ mua bán                20    566"
      ]
     },
     "execution_count": 49,
     "metadata": {},
     "output_type": "execute_result"
    }
   ],
   "source": [
    "outputDf_d1= pd.read_excel('testOutput\\\\cust_d1.xlsx')\n",
    "evaluationDf_d1= outputDf_d1\n",
    "# outputDf_d1.columns\n",
    "outputDf_d1.groupby(['legal_status', 'housePerformance']).size().reset_index(name='count').sort_values(by=['housePerformance'], ascending=[False])"
   ]
  }
 ],
 "metadata": {
  "kernelspec": {
   "display_name": "Python 3 (ipykernel)",
   "language": "python",
   "name": "python3"
  },
  "language_info": {
   "codemirror_mode": {
    "name": "ipython",
    "version": 3
   },
   "file_extension": ".py",
   "mimetype": "text/x-python",
   "name": "python",
   "nbconvert_exporter": "python",
   "pygments_lexer": "ipython3",
   "version": "3.11.5"
  }
 },
 "nbformat": 4,
 "nbformat_minor": 5
}
