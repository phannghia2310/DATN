{
 "cells": [
  {
   "cell_type": "code",
   "execution_count": 1,
   "id": "2e4c25e9",
   "metadata": {
    "execution": {
     "iopub.execute_input": "2024-06-28T08:37:45.421902Z",
     "iopub.status.busy": "2024-06-28T08:37:45.419890Z",
     "iopub.status.idle": "2024-06-28T08:37:47.259766Z",
     "shell.execute_reply": "2024-06-28T08:37:47.259766Z"
    },
    "papermill": {
     "duration": 1.878199,
     "end_time": "2024-06-28T08:37:47.274081",
     "exception": false,
     "start_time": "2024-06-28T08:37:45.395882",
     "status": "completed"
    },
    "tags": []
   },
   "outputs": [],
   "source": [
    "import pandas as pd\n",
    "import unicodedata\n",
    "import os\n",
    "import numpy as np\n",
    "import math"
   ]
  },
  {
   "cell_type": "code",
   "execution_count": 2,
   "id": "b7e86f9e",
   "metadata": {
    "execution": {
     "iopub.execute_input": "2024-06-28T08:37:47.318765Z",
     "iopub.status.busy": "2024-06-28T08:37:47.318765Z",
     "iopub.status.idle": "2024-06-28T08:37:47.329717Z",
     "shell.execute_reply": "2024-06-28T08:37:47.329717Z"
    },
    "papermill": {
     "duration": 0.044661,
     "end_time": "2024-06-28T08:37:47.334743",
     "exception": false,
     "start_time": "2024-06-28T08:37:47.290082",
     "status": "completed"
    },
    "tags": []
   },
   "outputs": [],
   "source": [
    "curDir= os.path.abspath(os.getcwd())\n",
    "\n",
    "if 'd:\\\\DATN\\\\model' not in curDir:\n",
    "    curDir = 'd:\\\\DATN\\\\model'\n",
    "\n",
    "# print(curDir)"
   ]
  },
  {
   "cell_type": "markdown",
   "id": "f1cee78d",
   "metadata": {
    "papermill": {
     "duration": 0.016282,
     "end_time": "2024-06-28T08:37:47.372915",
     "exception": false,
     "start_time": "2024-06-28T08:37:47.356633",
     "status": "completed"
    },
    "tags": []
   },
   "source": [
    "Function loadData để tải các dữ liệu cần thiết từ file data.xls bao gồm các sheet: \n",
    "1. ruleGroups: tập hợp các nhóm luật, bao gồm điểm nhóm, mã nhóm, điều kiện\n",
    "1. rules: các luật cụ thể của từng nhóm luật, bao gồm trọng số điểm, mã luật, điều kiện \n",
    "1. buyers: danh sách KH, và test case yêu cầu tương ứng\n",
    "1. distance: khoảng cách giữa các quận "
   ]
  },
  {
   "cell_type": "code",
   "execution_count": 3,
   "id": "b7f66def",
   "metadata": {
    "execution": {
     "iopub.execute_input": "2024-06-28T08:37:47.414789Z",
     "iopub.status.busy": "2024-06-28T08:37:47.414789Z",
     "iopub.status.idle": "2024-06-28T08:37:49.255438Z",
     "shell.execute_reply": "2024-06-28T08:37:49.252414Z"
    },
    "papermill": {
     "duration": 1.873559,
     "end_time": "2024-06-28T08:37:49.263446",
     "exception": false,
     "start_time": "2024-06-28T08:37:47.389887",
     "status": "completed"
    },
    "tags": []
   },
   "outputs": [],
   "source": [
    "### Load data\n",
    "### Sử dụng để load dữ liệu bất động sản, dữ liệu các bộ rule, và dữ liệu KH\n",
    "def loadData(isDebug=0):\n",
    "    ruleFile= curDir + '\\\\data.xlsx'\n",
    "    ### Load rules\n",
    "    global rulesDf\n",
    "    rulesDf= pd.read_excel(ruleFile, sheet_name = 'rules').apply(lambda x: x.str.strip() if x.dtype == \"object\" else x)\n",
    "    if isDebug==1:\n",
    "        print(\"Read rule list, total is: \",len(rulesDf))\n",
    "    ### Load rule group\n",
    "    global ruleGroupsDf\n",
    "    ruleGroupsDf= pd.read_excel(ruleFile, sheet_name = 'ruleGroups').apply(lambda x: x.str.strip() if x.dtype == \"object\" else x)\n",
    "    if isDebug==1:\n",
    "        print(\"\\nRead Rule groups, total is: \",len(ruleGroupsDf))\n",
    "        print(ruleGroupsDf.head(1))\n",
    "    ### Load buyer\n",
    "    global buyersDf\n",
    "    buyersDf= pd.read_excel(ruleFile, sheet_name = 'buyers').apply(lambda x: x.str.strip() if x.dtype == \"object\" else x)\n",
    "    if isDebug==1:\n",
    "        print(\"\\nBuyer: \", len(buyersDf))\n",
    "        print(buyersDf.head(1))\n",
    "    ### load houses\n",
    "    global housesDf\n",
    "    housesDf= pd.read_excel(curDir +'\\\\houseAll.xls', sheet_name = 'house').apply(lambda x: x.str.strip() if x.dtype == \"object\" else x) # full data\n",
    "    if isDebug==1:\n",
    "        print(\"\\nHouse: \",len(housesDf))\n",
    "        print(housesDf.head(1))\n",
    "    ### Load distance between district\n",
    "    global distancesDf\n",
    "    distancesDf= pd.read_excel(ruleFile, sheet_name = 'distance').apply(lambda x: x.str.strip() if x.dtype == \"object\" else x)\n",
    "    if isDebug==1:\n",
    "        print('-----------------------\\n')\n",
    "    ### change DataFrame to Dictionary\n",
    "    global rules\n",
    "    rules= rulesDf.to_dict('records')\n",
    "    if isDebug==1:\n",
    "        print(\"Rule no 0: \", rules[0])\n",
    "    global ruleGroups\n",
    "    ruleGroups= ruleGroupsDf.to_dict('records')\n",
    "    if isDebug==1:\n",
    "        print(\"Rule group no 0: \", ruleGroups[0])\n",
    "    global houses\n",
    "    houses= housesDf.to_dict('records')\n",
    "    if isDebug==1:\n",
    "        print(\"House no 0: \", houses[0])\n",
    "    global buyers\n",
    "    buyers= buyersDf.to_dict('records')\n",
    "    if isDebug==1:\n",
    "        print(\"Buyer no 0: \", buyers[0])\n",
    "\n",
    "loadData(isDebug=0)    "
   ]
  },
  {
   "cell_type": "markdown",
   "id": "3b161f1c",
   "metadata": {
    "papermill": {
     "duration": 0.022986,
     "end_time": "2024-06-28T08:37:49.306437",
     "exception": false,
     "start_time": "2024-06-28T08:37:49.283451",
     "status": "completed"
    },
    "tags": []
   },
   "source": [
    "# 0. Common Functions"
   ]
  },
  {
   "cell_type": "code",
   "execution_count": 4,
   "id": "5138826e",
   "metadata": {
    "execution": {
     "iopub.execute_input": "2024-06-28T08:37:49.353463Z",
     "iopub.status.busy": "2024-06-28T08:37:49.352461Z",
     "iopub.status.idle": "2024-06-28T08:37:49.370766Z",
     "shell.execute_reply": "2024-06-28T08:37:49.366708Z"
    },
    "papermill": {
     "duration": 0.0493,
     "end_time": "2024-06-28T08:37:49.376733",
     "exception": false,
     "start_time": "2024-06-28T08:37:49.327433",
     "status": "completed"
    },
    "tags": []
   },
   "outputs": [],
   "source": [
    "def isValidInput(x):\n",
    "    if x is None or pd.isna(x) or str(x).strip()=='': #np.isnan(x) \n",
    "        return False\n",
    "    else:\n",
    "        return True\n",
    "\n",
    "def isNotNoneInput(x):\n",
    "    if x is None or np.isnan(x) or str(x).strip()=='':\n",
    "        return False\n",
    "    else:\n",
    "        return True\n",
    "    \n",
    "def isGoodLegalStatus(x):\n",
    "    if x is None or pd.isna(x) or str(x).strip()=='': #np.isnan(x) \n",
    "        return False\n",
    "    if x in ['Sổ hồng', 'Sổ đỏ']:\n",
    "        return True    \n",
    "    return False\n",
    "\n",
    "def getValue(x, d=0):\n",
    "    if math.isnan(x):\n",
    "        return d\n",
    "    return x\n",
    "# def isNumber(x):\n",
    "#     if isValidInput(x) and"
   ]
  },
  {
   "cell_type": "markdown",
   "id": "e599b7a3",
   "metadata": {
    "papermill": {
     "duration": 0.017974,
     "end_time": "2024-06-28T08:37:49.414727",
     "exception": false,
     "start_time": "2024-06-28T08:37:49.396753",
     "status": "completed"
    },
    "tags": []
   },
   "source": [
    "# 2. Hàm để tính toán điểm"
   ]
  },
  {
   "cell_type": "code",
   "execution_count": 5,
   "id": "a7e9d37d",
   "metadata": {
    "execution": {
     "iopub.execute_input": "2024-06-28T08:37:49.454755Z",
     "iopub.status.busy": "2024-06-28T08:37:49.453761Z",
     "iopub.status.idle": "2024-06-28T08:37:49.466489Z",
     "shell.execute_reply": "2024-06-28T08:37:49.465442Z"
    },
    "papermill": {
     "duration": 0.038733,
     "end_time": "2024-06-28T08:37:49.471480",
     "exception": false,
     "start_time": "2024-06-28T08:37:49.432747",
     "status": "completed"
    },
    "tags": []
   },
   "outputs": [],
   "source": [
    "# Hàm tính toán khoảng cách dựa trên 2 quận\n",
    "def fn_calculateDistance(srcPlace, tgtPlace):\n",
    "    res = distancesDf[ (distancesDf.district_name == srcPlace) & (distancesDf.district_name_2 == tgtPlace) ]\n",
    "#     print(res)\n",
    "    if len(res) == 0:\n",
    "        return  10000000\n",
    "    return round(res.iloc[0][\"fn_calculate_distance\"], 2)\n",
    "\n",
    "# fn_calculateDistance('bình thạnh', 'quận 2')\n",
    "# fn_calculateDistance('Bình Thạnh', 'Quận 2')"
   ]
  },
  {
   "cell_type": "markdown",
   "id": "a480a5e9",
   "metadata": {
    "papermill": {
     "duration": 0.01699,
     "end_time": "2024-06-28T08:37:49.506465",
     "exception": false,
     "start_time": "2024-06-28T08:37:49.489475",
     "status": "completed"
    },
    "tags": []
   },
   "source": [
    "1. Hàm calculateSingleRuleScore: dựa trên thông tin KH, thông tin BĐS, và 1 luật dẫn cụ thể để xác định ngôi nhà có thoả điều kiện của luật dẫn cho khách hàng hay không \n",
    "1. Hàm calculateScoreOfHouse: đối với mỗi khách hàng và BĐS\n",
    "- Duyệt từng nhóm luật và xác định nhóm luật có được thực thi không \n",
    "- Ứng với từng luật tính toán mức độ phù hợp của BĐS với KH\n",
    "- Tổng hợp kết quả mức độ phù hợp của BĐS"
   ]
  },
  {
   "cell_type": "code",
   "execution_count": 6,
   "id": "916f4c19",
   "metadata": {
    "execution": {
     "iopub.execute_input": "2024-06-28T08:37:49.546491Z",
     "iopub.status.busy": "2024-06-28T08:37:49.545493Z",
     "iopub.status.idle": "2024-06-28T08:37:50.699143Z",
     "shell.execute_reply": "2024-06-28T08:37:50.697124Z"
    },
    "papermill": {
     "duration": 1.185686,
     "end_time": "2024-06-28T08:37:50.710152",
     "exception": false,
     "start_time": "2024-06-28T08:37:49.524466",
     "status": "completed"
    },
    "tags": []
   },
   "outputs": [
    {
     "name": "stdout",
     "output_type": "stream",
     "text": [
      "Customer info:  {'id': 'x2', 'group': 1.0, 'age': 30.0, 'is_married': 0.0, 'no_child': 0.0, 'month_income': 70000000.0, 'monthly_amt': 50000000.0, 'avai_amt': 10000000000.0, 'desired_location': 'Quận 3', 'desired_interiorStatus': nan} \n",
      "-------------------\n",
      "\tCode of group A  | Group condition: isValidInput( buyerInfo.get(\"group\") )  and isValidInput( buyerInfo.get(\"is_married\") )  and isValidInput( buyerInfo.get(\"no_child\") )  and isValidInput(houseInfo.get(\"in_room_noBed\") )\n",
      "{'rule_group': 'A', 'rule_code': 'A1', 'score': 0.7, 'rule_expression': '(getValue(buyerInfo.get(\"group\",  0))  == 1 or (buyerInfo.get(\"is_married\")  == False and buyerInfo.get(\"no_child\") == 0 )) and houseInfo.get(\"in_room_noBed\")  in (1, 2)', 'rule_desc': 'Nếu không có gia đình VÀ không có con (KH nhóm 1) VÀ số phòng ngủ của căn nhà là (1,2)', 'rule_expression_backup': '(getValue(buyerInfo.get(\"group\",  0))  == 1 or (buyerInfo.get(\"is_married\")  == False and buyerInfo.get(\"no_child\") == 0 )) and houseInfo.get(\"no_bedroom\")  in (1, 2)'}\n",
      "score: 0\n",
      "{'rule_group': 'A', 'rule_code': 'A2', 'score': 0.6, 'rule_expression': '(getValue(buyerInfo.get(\"group\",  0))  == 1 or (buyerInfo.get(\"is_married\")  == False and buyerInfo.get(\"no_child\") == 0 )) and houseInfo.get(\"in_room_noBed\")  in (2,3,4)', 'rule_desc': 'Nếu không có gia đình VÀ không có con (KH nhóm 1) VÀ số phòng ngủ của căn nhà là 3', 'rule_expression_backup': '(getValue(buyerInfo.get(\"group\",  0))  == 1 or (buyerInfo.get(\"is_married\")  == False and buyerInfo.get(\"no_child\") == 0 )) and houseInfo.get(\"no_bedroom\")  >= 3'}\n",
      "score: 0\n",
      "{'rule_group': 'A', 'rule_code': 'A3', 'score': 0.8, 'rule_expression': '( getValue(buyerInfo.get(\"group\",  0))  == 2 or buyerInfo.get(\"is_married\")  == True ) and buyerInfo.get(\"no_child\") in ( 0, 1) and houseInfo.get(\"in_room_noBed\")  in (2, 3,4)', 'rule_desc': 'Nếu có gia đình VÀ số con là (0, 1) (KH nhóm 2) VÀ số phòng ngủ của căn nhà là (2,3)', 'rule_expression_backup': '( getValue(buyerInfo.get(\"group\",  0))  == 2 or buyerInfo.get(\"is_married\")  == True ) and buyerInfo.get(\"no_child\") in ( 0, 1) and houseInfo.get(\"no_bedroom\")  in (2, 3)'}\n",
      "score: 0\n",
      "{'rule_group': 'A', 'rule_code': 'A4', 'score': 0.6, 'rule_expression': '( getValue(buyerInfo.get(\"group\",  0))  == 2 or buyerInfo.get(\"is_married\")  == True ) and buyerInfo.get(\"no_child\") in ( 0, 1) and houseInfo.get(\"in_room_noBed\")  == 1', 'rule_desc': 'Nếu có gia đình VÀ số con là (0, 1) (KH nhóm 2) VÀ số phòng ngủ của căn nhà là 1', 'rule_expression_backup': '( getValue(buyerInfo.get(\"group\",  0))  == 2 or buyerInfo.get(\"is_married\")  == True ) and buyerInfo.get(\"no_child\") in ( 0, 1) and houseInfo.get(\"no_bedroom\")  == 1'}\n",
      "score: 0\n",
      "{'rule_group': 'A', 'rule_code': 'A5', 'score': 0.5, 'rule_expression': '( getValue(buyerInfo.get(\"group\",  0))  == 2 or buyerInfo.get(\"is_married\")  == True ) and buyerInfo.get(\"no_child\") == 2\\xa0and houseInfo.get(\"in_room_noBed\")  == 2', 'rule_desc': 'Nếu có gia đình VÀ số con là 2 (KH nhóm 2) VÀ số phòng ngủ của căn nhà là 2', 'rule_expression_backup': '( getValue(buyerInfo.get(\"group\",  0))  == 2 or buyerInfo.get(\"is_married\")  == True ) and buyerInfo.get(\"no_child\") == 2\\xa0and houseInfo.get(\"no_bedroom\")  == 2'}\n",
      "score: 0\n",
      "{'rule_group': 'A', 'rule_code': 'A6', 'score': 1.0, 'rule_expression': '( getValue(buyerInfo.get(\"group\",  0))  == 2 or buyerInfo.get(\"is_married\")  == True )  and buyerInfo.get(\"no_child\") == 2 and houseInfo.get(\"in_room_noBed\")  in ( 3,4,5)', 'rule_desc': 'Nếu có gia đình VÀ số con là 2 (KH nhóm 2) VÀ số phòng ngủ của căn nhà là 3', 'rule_expression_backup': '( getValue(buyerInfo.get(\"group\",  0))  == 2 or buyerInfo.get(\"is_married\")  == True )  and buyerInfo.get(\"no_child\") == 2 and houseInfo.get(\"no_bedroom\")  >= 3'}\n",
      "score: 0\n",
      "{'rule_group': 'A', 'rule_code': 'A7', 'score': 0.6, 'rule_expression': 'getValue(buyerInfo.get(\"group\",  0))  == 4 and houseInfo.get(\"in_room_noBed\")  == 1', 'rule_desc': 'Nếu KH nhóm 4 VÀ số phòng ngủ là 1', 'rule_expression_backup': 'getValue(buyerInfo.get(\"group\",  0))  == 4 and houseInfo.get(\"no_bedroom\")  == 1'}\n",
      "score: 0\n",
      "{'rule_group': 'A', 'rule_code': 'A8', 'score': 1.0, 'rule_expression': 'getValue(buyerInfo.get(\"group\",  0))  == 4 and houseInfo.get(\"in_room_noBed\")  in (2, 3,4)', 'rule_desc': 'Nếu KH nhóm 4 VÀ số phòng ngủ từ 2', 'rule_expression_backup': 'getValue(buyerInfo.get(\"group\",  0))  == 4 and houseInfo.get(\"no_bedroom\")  >= 2'}\n",
      "score: 0\n",
      "\tCode of group B  | Group condition: buyerInfo.get(\"avai_amt\") is not None and buyerInfo.get(\"monthly_amt\") is not None\n",
      "{'rule_group': 'B', 'rule_code': 'B1', 'score': 1.0, 'rule_expression': 'houseInfo.get(\"price\") >= 0.9 * buyerInfo.get(\"avai_amt\") and houseInfo.get(\"price\") <= buyerInfo.get(\"avai_amt\")', 'rule_desc': 'Nếu giá của ngôi nhà bằng khoảng 0.9-1 số tiền người mua hiện có', 'rule_expression_backup': 'houseInfo.get(\"price\") >= 0.8 * buyerInfo.get(\"avai_amt\")'}\n",
      "score: 0\n",
      "{'rule_group': 'B', 'rule_code': 'B2', 'score': 0.8, 'rule_expression': '( buyerInfo.get(\"avai_amt\")  >= 0.75 * houseInfo.get(\"price\") and houseInfo.get(\"price\") > buyerInfo.get(\"avai_amt\") ) and ( (buyerInfo.get(\"avai_amt\") + 12* buyerInfo.get(\"monthly_amt\")) >= houseInfo.get(\"price\"))', 'rule_desc': 'Nếu người mua có sẵn 0.75 giá trị ngôi nhà, và người mua có khả năng trả góp trong 12 tháng', 'rule_expression_backup': nan}\n",
      "score: 0\n",
      "{'rule_group': 'B', 'rule_code': 'B3', 'score': 0.6, 'rule_expression': '( buyerInfo.get(\"avai_amt\")  >= 0.5 * houseInfo.get(\"price\") and houseInfo.get(\"price\") > buyerInfo.get(\"avai_amt\") ) and ( (buyerInfo.get(\"avai_amt\") + 24* buyerInfo.get(\"monthly_amt\")) >= houseInfo.get(\"price\"))', 'rule_desc': 'Nếu người mua có sẵn 0.5 giá trị ngôi nhà, và người mua có khả năng trả góp trong 24 tháng', 'rule_expression_backup': 'houseInfo.get(\"price\") >= 0.5 * buyerInfo.get(\"avai_amt\") and ( (0.5 * buyerInfo.get(\"avai_amt\") + 24* buyerInfo.get(\"monthly_amt\")) >= houseInfo.get(\"price\"))'}\n",
      "score: 0\n",
      "{'rule_group': 'B', 'rule_code': 'B4', 'score': 0.5, 'rule_expression': '( buyerInfo.get(\"avai_amt\")  >= 0.5 * houseInfo.get(\"price\") and houseInfo.get(\"price\") > buyerInfo.get(\"avai_amt\") ) and ( (buyerInfo.get(\"avai_amt\") + 60* buyerInfo.get(\"monthly_amt\")) >= houseInfo.get(\"price\"))', 'rule_desc': 'Nếu người mua có sẵn 0.5 giá trị ngôi nhà, và người mua có khả năng trả góp trong 60 tháng (5 năm)', 'rule_expression_backup': nan}\n",
      "score: 0\n",
      "{'rule_group': 'B', 'rule_code': 'B5', 'score': 1.0, 'rule_expression': 'getValue(buyerInfo.get(\"group\",  0))  == 4 and ( houseInfo.get(\"price\") >= 0.8 * buyerInfo.get(\"avai_amt\") and houseInfo.get(\"price\") <= buyerInfo.get(\"avai_amt\")*1.2 )', 'rule_desc': 'Nếu người mua thuộc nhóm 4, ngôi nhà trong khoảng 0.8-1.2 số tiền sẵn có', 'rule_expression_backup': nan}\n",
      "score: 0\n",
      "{'rule_group': 'B', 'rule_code': 'B6', 'score': 0.0, 'rule_expression': 'getValue(buyerInfo.get(\"group\",  0))  == 4 and ( houseInfo.get(\"price\") < 0.8 * buyerInfo.get(\"avai_amt\") and houseInfo.get(\"price\") > buyerInfo.get(\"avai_amt\")*1.2 )', 'rule_desc': 'Nếu người mua thuộc nhóm 4, ngôi nhà nhỏ hơn 0.8 hoặc lớn hơn 1.2 số tiền sẵn có', 'rule_expression_backup': nan}\n",
      "score: 0\n",
      "\tCode of group C  | Group condition: isValidInput( buyerInfo.get(\"desired_location\") ) and isValidInput( houseInfo.get(\"address_district\") )\n",
      "{'rule_group': 'C', 'rule_code': 'C1', 'score': 1.0, 'rule_expression': 'fn_calculateDistance(houseInfo.get(\"address_district\"), buyerInfo.get(\"desired_location\")) <= 2', 'rule_desc': 'Nếu trong phạm vi 2km', 'rule_expression_backup': nan}\n",
      "score: 0\n",
      "{'rule_group': 'C', 'rule_code': 'C2', 'score': 0.8, 'rule_expression': 'fn_calculateDistance(houseInfo.get(\"address_district\"), buyerInfo.get(\"desired_location\")) <= 4', 'rule_desc': nan, 'rule_expression_backup': nan}\n",
      "score: 0.8\n",
      "{'rule_group': 'C', 'rule_code': 'C3', 'score': 0.5, 'rule_expression': 'fn_calculateDistance(houseInfo.get(\"address_district\"), buyerInfo.get(\"desired_location\")) <= 6', 'rule_desc': nan, 'rule_expression_backup': nan}\n",
      "score: 0.5\n",
      "\tCode of group D  | Group condition: 1==1\n",
      "{'rule_group': 'D', 'rule_code': 'D1', 'score': 1.0, 'rule_expression': 'isGoodLegalStatus(houseInfo.get(\"legal_status\"))', 'rule_desc': 'Có giấy tờ', 'rule_expression_backup': 'houseInfo.get(\"legal_status\") in [\\'Sổ hồng\\', \\'Sổ đỏ\\']'}\n",
      "score: 1.0\n",
      "{'rule_group': 'D', 'rule_code': 'D2', 'score': 0.2, 'rule_expression': 'isGoodLegalStatus(houseInfo.get(\"legal_status\")) is not True and getValue(buyerInfo.get(\"group\",  0)) in (1, 3,4)', 'rule_desc': 'K giấy tờ và người mua có nhóm thuộc (1,3,4)', 'rule_expression_backup': nan}\n",
      "score: 0\n",
      "{'rule_group': 'D', 'rule_code': 'D3', 'score': 0.4, 'rule_expression': 'isGoodLegalStatus(houseInfo.get(\"legal_status\")) is not True and getValue(buyerInfo.get(\"group\",  0)) not in (1, 3,4)', 'rule_desc': 'Các trường hợp k giấy tờ còn lại', 'rule_expression_backup': nan}\n",
      "score: 0\n",
      "REPORT:\n",
      "Total calculated Score:  12.0\n",
      "Max Score from Groups:  26.0\n",
      "{'meta_url': 'https://rever.vn/mua/biet-thu-duong-3-thang-2-5-tang-dien-tich-114m2-huong-dong-bac-phap-ly-so-hong', 'meta_code': 'V10146005', 'address_street': '3 Tháng 2', 'address_ward': 'Phường 12', 'address_district': 'Quận 10', 'address_city': 'Hồ Chí Minh', 'price': 37000000000.0, 'area': 114.0, 'area_site': 114.0, 'area_basebuilt': 500.0, 'area_netused': 479.0, 'area_yard': nan, 'area_length': 6.0, 'area_width': 20.0, 'area_front': nan, 'house_noFloor': 5, 'house_type': 'Biệt thự', 'house_noBasement': 0, 'house_direction': 'Đông Bắc', 'in_room_noBed': 6, 'in_room_noBath': 6, 'in_room_noKitchen': nan, 'in_room_noRelax': nan, 'in_room_others': nan, 'in_interiorStatus': 'Đầy đủ nội thất', 'prj_name': nan, 'prj_investor': nan, 'prj_status': nan, 'prj_tower': nan, 'legal_status': 'Sổ hồng', 'other_overview': nan, 'other_good_outstandingCharacteristics': nan, 'other_good_locationDesc': nan, 'other_good_community': nan, 'other_good_education': nan, 'overall_info': 'BIỆT THỰ ĐƯỜNG 3 THÁNG 2, QUẬN 10\\nDiện tích: 114m² (6m x 20m)\\nDiện tích sử dụng: 479m²\\nKết cấu: 5 tầng (trệt + lầu), 6 phòng ngủ 6 phòng tắm\\nHướng biệt thự: Đông Bắc\\nHẻm trước nhà: 12m, xe hơi di chuyển dễ dàng. \\nTình trạng nội thất: Đầy đủ nội thất\\nPháp lý: Sổ hồng\\n\\nBiệt thự có vị trí cách Trường Mầm non Úc Châu khoảng 9.1km, cách Trường Mầm non Sakura Montessori Quận 2 - TP HCM khoảng 7.5km. Di chuyển tới VShape Fitness & Yoga Center Quận 2 khoảng 9.4km, F5 Gym And Fitness Center khoảng 8.3km. Tọa lạc tại vị trí thuận tiện di chuyển với đầy đủ các tiện ích về y tế, giáo dục và giải trí.'}\n",
      "{'executedRuleGroup': [{'groupCode': 'A', 'groupCondition': 'isValidInput( buyerInfo.get(\"group\") )  and isValidInput( buyerInfo.get(\"is_married\") )  and isValidInput( buyerInfo.get(\"no_child\") )  and isValidInput(houseInfo.get(\"in_room_noBed\") )', 'groupScore': 3.0, 'calRuleScore': 0.0}, {'groupCode': 'B', 'groupCondition': 'buyerInfo.get(\"avai_amt\") is not None and buyerInfo.get(\"monthly_amt\") is not None', 'groupScore': 10.0, 'calRuleScore': 0.0}, {'groupCode': 'C', 'groupCondition': 'isValidInput( buyerInfo.get(\"desired_location\") ) and isValidInput( houseInfo.get(\"address_district\") )', 'groupScore': 5.0, 'rule_group': 'C', 'rule_code': 'C2', 'score': 0.8, 'rule_expression': 'fn_calculateDistance(houseInfo.get(\"address_district\"), buyerInfo.get(\"desired_location\")) <= 4', 'rule_desc': nan, 'rule_expression_backup': nan, 'calRuleScore': 4.0}, {'groupCode': 'D', 'groupCondition': '1==1', 'groupScore': 8.0, 'rule_group': 'D', 'rule_code': 'D1', 'score': 1.0, 'rule_expression': 'isGoodLegalStatus(houseInfo.get(\"legal_status\"))', 'rule_desc': 'Có giấy tờ', 'rule_expression_backup': 'houseInfo.get(\"legal_status\") in [\\'Sổ hồng\\', \\'Sổ đỏ\\']', 'calRuleScore': 8.0}], 'houseInfo': {'meta_url': 'https://rever.vn/mua/biet-thu-duong-3-thang-2-5-tang-dien-tich-114m2-huong-dong-bac-phap-ly-so-hong', 'meta_code': 'V10146005', 'address_street': '3 Tháng 2', 'address_ward': 'Phường 12', 'address_district': 'Quận 10', 'address_city': 'Hồ Chí Minh', 'price': 37000000000.0, 'area': 114.0, 'area_site': 114.0, 'area_basebuilt': 500.0, 'area_netused': 479.0, 'area_yard': nan, 'area_length': 6.0, 'area_width': 20.0, 'area_front': nan, 'house_noFloor': 5, 'house_type': 'Biệt thự', 'house_noBasement': 0, 'house_direction': 'Đông Bắc', 'in_room_noBed': 6, 'in_room_noBath': 6, 'in_room_noKitchen': nan, 'in_room_noRelax': nan, 'in_room_others': nan, 'in_interiorStatus': 'Đầy đủ nội thất', 'prj_name': nan, 'prj_investor': nan, 'prj_status': nan, 'prj_tower': nan, 'legal_status': 'Sổ hồng', 'other_overview': nan, 'other_good_outstandingCharacteristics': nan, 'other_good_locationDesc': nan, 'other_good_community': nan, 'other_good_education': nan, 'overall_info': 'BIỆT THỰ ĐƯỜNG 3 THÁNG 2, QUẬN 10\\nDiện tích: 114m² (6m x 20m)\\nDiện tích sử dụng: 479m²\\nKết cấu: 5 tầng (trệt + lầu), 6 phòng ngủ 6 phòng tắm\\nHướng biệt thự: Đông Bắc\\nHẻm trước nhà: 12m, xe hơi di chuyển dễ dàng. \\nTình trạng nội thất: Đầy đủ nội thất\\nPháp lý: Sổ hồng\\n\\nBiệt thự có vị trí cách Trường Mầm non Úc Châu khoảng 9.1km, cách Trường Mầm non Sakura Montessori Quận 2 - TP HCM khoảng 7.5km. Di chuyển tới VShape Fitness & Yoga Center Quận 2 khoảng 9.4km, F5 Gym And Fitness Center khoảng 8.3km. Tọa lạc tại vị trí thuận tiện di chuyển với đầy đủ các tiện ích về y tế, giáo dục và giải trí.'}, 'maxScore': 26.0, 'houseScore': 12.0, 'housePerformance': 46.15, 'buyerInfo': {'id': 'x2', 'group': 1.0, 'age': 30.0, 'is_married': 0.0, 'no_child': 0.0, 'month_income': 70000000.0, 'monthly_amt': 50000000.0, 'avai_amt': 10000000000.0, 'desired_location': 'Quận 3', 'desired_interiorStatus': nan}, 'id': 'x2', 'group': 1.0, 'age': 30.0, 'is_married': 0.0, 'no_child': 0.0, 'month_income': 70000000.0, 'monthly_amt': 50000000.0, 'avai_amt': 10000000000.0, 'desired_location': 'Quận 3', 'desired_interiorStatus': nan, 'meta_url': 'https://rever.vn/mua/biet-thu-duong-3-thang-2-5-tang-dien-tich-114m2-huong-dong-bac-phap-ly-so-hong', 'meta_code': 'V10146005', 'address_street': '3 Tháng 2', 'address_ward': 'Phường 12', 'address_district': 'Quận 10', 'address_city': 'Hồ Chí Minh', 'price': 37000000000.0, 'area': 114.0, 'area_site': 114.0, 'area_basebuilt': 500.0, 'area_netused': 479.0, 'area_yard': nan, 'area_length': 6.0, 'area_width': 20.0, 'area_front': nan, 'house_noFloor': 5, 'house_type': 'Biệt thự', 'house_noBasement': 0, 'house_direction': 'Đông Bắc', 'in_room_noBed': 6, 'in_room_noBath': 6, 'in_room_noKitchen': nan, 'in_room_noRelax': nan, 'in_room_others': nan, 'in_interiorStatus': 'Đầy đủ nội thất', 'prj_name': nan, 'prj_investor': nan, 'prj_status': nan, 'prj_tower': nan, 'legal_status': 'Sổ hồng', 'other_overview': nan, 'other_good_outstandingCharacteristics': nan, 'other_good_locationDesc': nan, 'other_good_community': nan, 'other_good_education': nan, 'overall_info': 'BIỆT THỰ ĐƯỜNG 3 THÁNG 2, QUẬN 10\\nDiện tích: 114m² (6m x 20m)\\nDiện tích sử dụng: 479m²\\nKết cấu: 5 tầng (trệt + lầu), 6 phòng ngủ 6 phòng tắm\\nHướng biệt thự: Đông Bắc\\nHẻm trước nhà: 12m, xe hơi di chuyển dễ dàng. \\nTình trạng nội thất: Đầy đủ nội thất\\nPháp lý: Sổ hồng\\n\\nBiệt thự có vị trí cách Trường Mầm non Úc Châu khoảng 9.1km, cách Trường Mầm non Sakura Montessori Quận 2 - TP HCM khoảng 7.5km. Di chuyển tới VShape Fitness & Yoga Center Quận 2 khoảng 9.4km, F5 Gym And Fitness Center khoảng 8.3km. Tọa lạc tại vị trí thuận tiện di chuyển với đầy đủ các tiện ích về y tế, giáo dục và giải trí.'}\n",
      "-------------\n",
      "\n",
      "\tCode of group A  | Group condition: isValidInput( buyerInfo.get(\"group\") )  and isValidInput( buyerInfo.get(\"is_married\") )  and isValidInput( buyerInfo.get(\"no_child\") )  and isValidInput(houseInfo.get(\"in_room_noBed\") )\n",
      "{'rule_group': 'A', 'rule_code': 'A1', 'score': 0.7, 'rule_expression': '(getValue(buyerInfo.get(\"group\",  0))  == 1 or (buyerInfo.get(\"is_married\")  == False and buyerInfo.get(\"no_child\") == 0 )) and houseInfo.get(\"in_room_noBed\")  in (1, 2)', 'rule_desc': 'Nếu không có gia đình VÀ không có con (KH nhóm 1) VÀ số phòng ngủ của căn nhà là (1,2)', 'rule_expression_backup': '(getValue(buyerInfo.get(\"group\",  0))  == 1 or (buyerInfo.get(\"is_married\")  == False and buyerInfo.get(\"no_child\") == 0 )) and houseInfo.get(\"no_bedroom\")  in (1, 2)'}\n",
      "score: 0\n",
      "{'rule_group': 'A', 'rule_code': 'A2', 'score': 0.6, 'rule_expression': '(getValue(buyerInfo.get(\"group\",  0))  == 1 or (buyerInfo.get(\"is_married\")  == False and buyerInfo.get(\"no_child\") == 0 )) and houseInfo.get(\"in_room_noBed\")  in (2,3,4)', 'rule_desc': 'Nếu không có gia đình VÀ không có con (KH nhóm 1) VÀ số phòng ngủ của căn nhà là 3', 'rule_expression_backup': '(getValue(buyerInfo.get(\"group\",  0))  == 1 or (buyerInfo.get(\"is_married\")  == False and buyerInfo.get(\"no_child\") == 0 )) and houseInfo.get(\"no_bedroom\")  >= 3'}\n",
      "score: 0\n",
      "{'rule_group': 'A', 'rule_code': 'A3', 'score': 0.8, 'rule_expression': '( getValue(buyerInfo.get(\"group\",  0))  == 2 or buyerInfo.get(\"is_married\")  == True ) and buyerInfo.get(\"no_child\") in ( 0, 1) and houseInfo.get(\"in_room_noBed\")  in (2, 3,4)', 'rule_desc': 'Nếu có gia đình VÀ số con là (0, 1) (KH nhóm 2) VÀ số phòng ngủ của căn nhà là (2,3)', 'rule_expression_backup': '( getValue(buyerInfo.get(\"group\",  0))  == 2 or buyerInfo.get(\"is_married\")  == True ) and buyerInfo.get(\"no_child\") in ( 0, 1) and houseInfo.get(\"no_bedroom\")  in (2, 3)'}\n",
      "score: 0\n",
      "{'rule_group': 'A', 'rule_code': 'A4', 'score': 0.6, 'rule_expression': '( getValue(buyerInfo.get(\"group\",  0))  == 2 or buyerInfo.get(\"is_married\")  == True ) and buyerInfo.get(\"no_child\") in ( 0, 1) and houseInfo.get(\"in_room_noBed\")  == 1', 'rule_desc': 'Nếu có gia đình VÀ số con là (0, 1) (KH nhóm 2) VÀ số phòng ngủ của căn nhà là 1', 'rule_expression_backup': '( getValue(buyerInfo.get(\"group\",  0))  == 2 or buyerInfo.get(\"is_married\")  == True ) and buyerInfo.get(\"no_child\") in ( 0, 1) and houseInfo.get(\"no_bedroom\")  == 1'}\n",
      "score: 0\n",
      "{'rule_group': 'A', 'rule_code': 'A5', 'score': 0.5, 'rule_expression': '( getValue(buyerInfo.get(\"group\",  0))  == 2 or buyerInfo.get(\"is_married\")  == True ) and buyerInfo.get(\"no_child\") == 2\\xa0and houseInfo.get(\"in_room_noBed\")  == 2', 'rule_desc': 'Nếu có gia đình VÀ số con là 2 (KH nhóm 2) VÀ số phòng ngủ của căn nhà là 2', 'rule_expression_backup': '( getValue(buyerInfo.get(\"group\",  0))  == 2 or buyerInfo.get(\"is_married\")  == True ) and buyerInfo.get(\"no_child\") == 2\\xa0and houseInfo.get(\"no_bedroom\")  == 2'}\n",
      "score: 0\n",
      "{'rule_group': 'A', 'rule_code': 'A6', 'score': 1.0, 'rule_expression': '( getValue(buyerInfo.get(\"group\",  0))  == 2 or buyerInfo.get(\"is_married\")  == True )  and buyerInfo.get(\"no_child\") == 2 and houseInfo.get(\"in_room_noBed\")  in ( 3,4,5)', 'rule_desc': 'Nếu có gia đình VÀ số con là 2 (KH nhóm 2) VÀ số phòng ngủ của căn nhà là 3', 'rule_expression_backup': '( getValue(buyerInfo.get(\"group\",  0))  == 2 or buyerInfo.get(\"is_married\")  == True )  and buyerInfo.get(\"no_child\") == 2 and houseInfo.get(\"no_bedroom\")  >= 3'}\n",
      "score: 0\n",
      "{'rule_group': 'A', 'rule_code': 'A7', 'score': 0.6, 'rule_expression': 'getValue(buyerInfo.get(\"group\",  0))  == 4 and houseInfo.get(\"in_room_noBed\")  == 1', 'rule_desc': 'Nếu KH nhóm 4 VÀ số phòng ngủ là 1', 'rule_expression_backup': 'getValue(buyerInfo.get(\"group\",  0))  == 4 and houseInfo.get(\"no_bedroom\")  == 1'}\n",
      "score: 0\n",
      "{'rule_group': 'A', 'rule_code': 'A8', 'score': 1.0, 'rule_expression': 'getValue(buyerInfo.get(\"group\",  0))  == 4 and houseInfo.get(\"in_room_noBed\")  in (2, 3,4)', 'rule_desc': 'Nếu KH nhóm 4 VÀ số phòng ngủ từ 2', 'rule_expression_backup': 'getValue(buyerInfo.get(\"group\",  0))  == 4 and houseInfo.get(\"no_bedroom\")  >= 2'}\n",
      "score: 0\n",
      "\tCode of group B  | Group condition: buyerInfo.get(\"avai_amt\") is not None and buyerInfo.get(\"monthly_amt\") is not None\n",
      "{'rule_group': 'B', 'rule_code': 'B1', 'score': 1.0, 'rule_expression': 'houseInfo.get(\"price\") >= 0.9 * buyerInfo.get(\"avai_amt\") and houseInfo.get(\"price\") <= buyerInfo.get(\"avai_amt\")', 'rule_desc': 'Nếu giá của ngôi nhà bằng khoảng 0.9-1 số tiền người mua hiện có', 'rule_expression_backup': 'houseInfo.get(\"price\") >= 0.8 * buyerInfo.get(\"avai_amt\")'}\n",
      "score: 0\n",
      "{'rule_group': 'B', 'rule_code': 'B2', 'score': 0.8, 'rule_expression': '( buyerInfo.get(\"avai_amt\")  >= 0.75 * houseInfo.get(\"price\") and houseInfo.get(\"price\") > buyerInfo.get(\"avai_amt\") ) and ( (buyerInfo.get(\"avai_amt\") + 12* buyerInfo.get(\"monthly_amt\")) >= houseInfo.get(\"price\"))', 'rule_desc': 'Nếu người mua có sẵn 0.75 giá trị ngôi nhà, và người mua có khả năng trả góp trong 12 tháng', 'rule_expression_backup': nan}\n",
      "score: 0\n",
      "{'rule_group': 'B', 'rule_code': 'B3', 'score': 0.6, 'rule_expression': '( buyerInfo.get(\"avai_amt\")  >= 0.5 * houseInfo.get(\"price\") and houseInfo.get(\"price\") > buyerInfo.get(\"avai_amt\") ) and ( (buyerInfo.get(\"avai_amt\") + 24* buyerInfo.get(\"monthly_amt\")) >= houseInfo.get(\"price\"))', 'rule_desc': 'Nếu người mua có sẵn 0.5 giá trị ngôi nhà, và người mua có khả năng trả góp trong 24 tháng', 'rule_expression_backup': 'houseInfo.get(\"price\") >= 0.5 * buyerInfo.get(\"avai_amt\") and ( (0.5 * buyerInfo.get(\"avai_amt\") + 24* buyerInfo.get(\"monthly_amt\")) >= houseInfo.get(\"price\"))'}\n",
      "score: 0\n",
      "{'rule_group': 'B', 'rule_code': 'B4', 'score': 0.5, 'rule_expression': '( buyerInfo.get(\"avai_amt\")  >= 0.5 * houseInfo.get(\"price\") and houseInfo.get(\"price\") > buyerInfo.get(\"avai_amt\") ) and ( (buyerInfo.get(\"avai_amt\") + 60* buyerInfo.get(\"monthly_amt\")) >= houseInfo.get(\"price\"))', 'rule_desc': 'Nếu người mua có sẵn 0.5 giá trị ngôi nhà, và người mua có khả năng trả góp trong 60 tháng (5 năm)', 'rule_expression_backup': nan}\n",
      "score: 0\n",
      "{'rule_group': 'B', 'rule_code': 'B5', 'score': 1.0, 'rule_expression': 'getValue(buyerInfo.get(\"group\",  0))  == 4 and ( houseInfo.get(\"price\") >= 0.8 * buyerInfo.get(\"avai_amt\") and houseInfo.get(\"price\") <= buyerInfo.get(\"avai_amt\")*1.2 )', 'rule_desc': 'Nếu người mua thuộc nhóm 4, ngôi nhà trong khoảng 0.8-1.2 số tiền sẵn có', 'rule_expression_backup': nan}\n",
      "score: 0\n",
      "{'rule_group': 'B', 'rule_code': 'B6', 'score': 0.0, 'rule_expression': 'getValue(buyerInfo.get(\"group\",  0))  == 4 and ( houseInfo.get(\"price\") < 0.8 * buyerInfo.get(\"avai_amt\") and houseInfo.get(\"price\") > buyerInfo.get(\"avai_amt\")*1.2 )', 'rule_desc': 'Nếu người mua thuộc nhóm 4, ngôi nhà nhỏ hơn 0.8 hoặc lớn hơn 1.2 số tiền sẵn có', 'rule_expression_backup': nan}\n",
      "score: 0\n",
      "\tCode of group C  | Group condition: isValidInput( buyerInfo.get(\"desired_location\") ) and isValidInput( houseInfo.get(\"address_district\") )\n",
      "{'rule_group': 'C', 'rule_code': 'C1', 'score': 1.0, 'rule_expression': 'fn_calculateDistance(houseInfo.get(\"address_district\"), buyerInfo.get(\"desired_location\")) <= 2', 'rule_desc': 'Nếu trong phạm vi 2km', 'rule_expression_backup': nan}\n",
      "score: 0\n",
      "{'rule_group': 'C', 'rule_code': 'C2', 'score': 0.8, 'rule_expression': 'fn_calculateDistance(houseInfo.get(\"address_district\"), buyerInfo.get(\"desired_location\")) <= 4', 'rule_desc': nan, 'rule_expression_backup': nan}\n",
      "score: 0\n",
      "{'rule_group': 'C', 'rule_code': 'C3', 'score': 0.5, 'rule_expression': 'fn_calculateDistance(houseInfo.get(\"address_district\"), buyerInfo.get(\"desired_location\")) <= 6', 'rule_desc': nan, 'rule_expression_backup': nan}\n",
      "score: 0.5\n",
      "\tCode of group D  | Group condition: 1==1\n",
      "{'rule_group': 'D', 'rule_code': 'D1', 'score': 1.0, 'rule_expression': 'isGoodLegalStatus(houseInfo.get(\"legal_status\"))', 'rule_desc': 'Có giấy tờ', 'rule_expression_backup': 'houseInfo.get(\"legal_status\") in [\\'Sổ hồng\\', \\'Sổ đỏ\\']'}\n",
      "score: 1.0\n",
      "{'rule_group': 'D', 'rule_code': 'D2', 'score': 0.2, 'rule_expression': 'isGoodLegalStatus(houseInfo.get(\"legal_status\")) is not True and getValue(buyerInfo.get(\"group\",  0)) in (1, 3,4)', 'rule_desc': 'K giấy tờ và người mua có nhóm thuộc (1,3,4)', 'rule_expression_backup': nan}\n",
      "score: 0\n",
      "{'rule_group': 'D', 'rule_code': 'D3', 'score': 0.4, 'rule_expression': 'isGoodLegalStatus(houseInfo.get(\"legal_status\")) is not True and getValue(buyerInfo.get(\"group\",  0)) not in (1, 3,4)', 'rule_desc': 'Các trường hợp k giấy tờ còn lại', 'rule_expression_backup': nan}\n",
      "score: 0\n",
      "REPORT:\n",
      "Total calculated Score:  10.5\n",
      "Max Score from Groups:  26.0\n",
      "{'meta_url': 'https://rever.vn/mua/biet-thu-duong-so-57-dien-tich-300m2-huong-dong-phap-ly-so-hong', 'meta_code': 'V02145920', 'address_street': 'Số 57', 'address_ward': 'An Phú', 'address_district': 'Quận 2', 'address_city': 'Hồ Chí Minh', 'price': 65000000000.0, 'area': 300.0, 'area_site': 300.0, 'area_basebuilt': 150.0, 'area_netused': 500.0, 'area_yard': nan, 'area_length': 20.0, 'area_width': 15.0, 'area_front': nan, 'house_noFloor': 3, 'house_type': 'Biệt thự', 'house_noBasement': 0, 'house_direction': 'Đông', 'in_room_noBed': 5, 'in_room_noBath': 6, 'in_room_noKitchen': nan, 'in_room_noRelax': nan, 'in_room_others': nan, 'in_interiorStatus': 'Đầy đủ nội thất', 'prj_name': nan, 'prj_investor': nan, 'prj_status': nan, 'prj_tower': nan, 'legal_status': 'Sổ hồng', 'other_overview': nan, 'other_good_outstandingCharacteristics': nan, 'other_good_locationDesc': nan, 'other_good_community': nan, 'other_good_education': nan, 'overall_info': 'BÁN BIỆT THỰ ĐƯỜNG SỐ 57, QUẬN 2\\nDiện tích: 300m² (20m x 15m)\\nDiện tích sử dụng: 500m²\\nKết cấu: 3 tầng (trệt + lầu), 5 phòng ngủ 6 phòng tắm\\nHướng biệt thự: Đông\\nHẻm trước nhà: 8m\\nTình trạng nội thất: Đầy đủ nội thất\\nPháp lý: Sổ hồng\\n\\nBiệt thự có vị trí cách Trường Mầm non Cỏ Ba Lá - Clover Montessori Quận 2 khoảng 3.3km, cách Trường Mầm non Úc Châu khoảng 1.5km. Di chuyển tới VShape Fitness & Yoga Center Quận 2 khoảng 1.7km, F5 Gym And Fitness Center khoảng 0.6km. Tọa lạc tại vị trí thuận tiện di chuyển với đầy đủ các tiện ích về y tế, giáo dục và giải trí.'}\n",
      "{'executedRuleGroup': [{'groupCode': 'A', 'groupCondition': 'isValidInput( buyerInfo.get(\"group\") )  and isValidInput( buyerInfo.get(\"is_married\") )  and isValidInput( buyerInfo.get(\"no_child\") )  and isValidInput(houseInfo.get(\"in_room_noBed\") )', 'groupScore': 3.0, 'calRuleScore': 0.0}, {'groupCode': 'B', 'groupCondition': 'buyerInfo.get(\"avai_amt\") is not None and buyerInfo.get(\"monthly_amt\") is not None', 'groupScore': 10.0, 'calRuleScore': 0.0}, {'groupCode': 'C', 'groupCondition': 'isValidInput( buyerInfo.get(\"desired_location\") ) and isValidInput( houseInfo.get(\"address_district\") )', 'groupScore': 5.0, 'rule_group': 'C', 'rule_code': 'C3', 'score': 0.5, 'rule_expression': 'fn_calculateDistance(houseInfo.get(\"address_district\"), buyerInfo.get(\"desired_location\")) <= 6', 'rule_desc': nan, 'rule_expression_backup': nan, 'calRuleScore': 2.5}, {'groupCode': 'D', 'groupCondition': '1==1', 'groupScore': 8.0, 'rule_group': 'D', 'rule_code': 'D1', 'score': 1.0, 'rule_expression': 'isGoodLegalStatus(houseInfo.get(\"legal_status\"))', 'rule_desc': 'Có giấy tờ', 'rule_expression_backup': 'houseInfo.get(\"legal_status\") in [\\'Sổ hồng\\', \\'Sổ đỏ\\']', 'calRuleScore': 8.0}], 'houseInfo': {'meta_url': 'https://rever.vn/mua/biet-thu-duong-so-57-dien-tich-300m2-huong-dong-phap-ly-so-hong', 'meta_code': 'V02145920', 'address_street': 'Số 57', 'address_ward': 'An Phú', 'address_district': 'Quận 2', 'address_city': 'Hồ Chí Minh', 'price': 65000000000.0, 'area': 300.0, 'area_site': 300.0, 'area_basebuilt': 150.0, 'area_netused': 500.0, 'area_yard': nan, 'area_length': 20.0, 'area_width': 15.0, 'area_front': nan, 'house_noFloor': 3, 'house_type': 'Biệt thự', 'house_noBasement': 0, 'house_direction': 'Đông', 'in_room_noBed': 5, 'in_room_noBath': 6, 'in_room_noKitchen': nan, 'in_room_noRelax': nan, 'in_room_others': nan, 'in_interiorStatus': 'Đầy đủ nội thất', 'prj_name': nan, 'prj_investor': nan, 'prj_status': nan, 'prj_tower': nan, 'legal_status': 'Sổ hồng', 'other_overview': nan, 'other_good_outstandingCharacteristics': nan, 'other_good_locationDesc': nan, 'other_good_community': nan, 'other_good_education': nan, 'overall_info': 'BÁN BIỆT THỰ ĐƯỜNG SỐ 57, QUẬN 2\\nDiện tích: 300m² (20m x 15m)\\nDiện tích sử dụng: 500m²\\nKết cấu: 3 tầng (trệt + lầu), 5 phòng ngủ 6 phòng tắm\\nHướng biệt thự: Đông\\nHẻm trước nhà: 8m\\nTình trạng nội thất: Đầy đủ nội thất\\nPháp lý: Sổ hồng\\n\\nBiệt thự có vị trí cách Trường Mầm non Cỏ Ba Lá - Clover Montessori Quận 2 khoảng 3.3km, cách Trường Mầm non Úc Châu khoảng 1.5km. Di chuyển tới VShape Fitness & Yoga Center Quận 2 khoảng 1.7km, F5 Gym And Fitness Center khoảng 0.6km. Tọa lạc tại vị trí thuận tiện di chuyển với đầy đủ các tiện ích về y tế, giáo dục và giải trí.'}, 'maxScore': 26.0, 'houseScore': 10.5, 'housePerformance': 40.38, 'buyerInfo': {'id': 'x2', 'group': 1.0, 'age': 30.0, 'is_married': 0.0, 'no_child': 0.0, 'month_income': 70000000.0, 'monthly_amt': 50000000.0, 'avai_amt': 10000000000.0, 'desired_location': 'Quận 3', 'desired_interiorStatus': nan}, 'id': 'x2', 'group': 1.0, 'age': 30.0, 'is_married': 0.0, 'no_child': 0.0, 'month_income': 70000000.0, 'monthly_amt': 50000000.0, 'avai_amt': 10000000000.0, 'desired_location': 'Quận 3', 'desired_interiorStatus': nan, 'meta_url': 'https://rever.vn/mua/biet-thu-duong-so-57-dien-tich-300m2-huong-dong-phap-ly-so-hong', 'meta_code': 'V02145920', 'address_street': 'Số 57', 'address_ward': 'An Phú', 'address_district': 'Quận 2', 'address_city': 'Hồ Chí Minh', 'price': 65000000000.0, 'area': 300.0, 'area_site': 300.0, 'area_basebuilt': 150.0, 'area_netused': 500.0, 'area_yard': nan, 'area_length': 20.0, 'area_width': 15.0, 'area_front': nan, 'house_noFloor': 3, 'house_type': 'Biệt thự', 'house_noBasement': 0, 'house_direction': 'Đông', 'in_room_noBed': 5, 'in_room_noBath': 6, 'in_room_noKitchen': nan, 'in_room_noRelax': nan, 'in_room_others': nan, 'in_interiorStatus': 'Đầy đủ nội thất', 'prj_name': nan, 'prj_investor': nan, 'prj_status': nan, 'prj_tower': nan, 'legal_status': 'Sổ hồng', 'other_overview': nan, 'other_good_outstandingCharacteristics': nan, 'other_good_locationDesc': nan, 'other_good_community': nan, 'other_good_education': nan, 'overall_info': 'BÁN BIỆT THỰ ĐƯỜNG SỐ 57, QUẬN 2\\nDiện tích: 300m² (20m x 15m)\\nDiện tích sử dụng: 500m²\\nKết cấu: 3 tầng (trệt + lầu), 5 phòng ngủ 6 phòng tắm\\nHướng biệt thự: Đông\\nHẻm trước nhà: 8m\\nTình trạng nội thất: Đầy đủ nội thất\\nPháp lý: Sổ hồng\\n\\nBiệt thự có vị trí cách Trường Mầm non Cỏ Ba Lá - Clover Montessori Quận 2 khoảng 3.3km, cách Trường Mầm non Úc Châu khoảng 1.5km. Di chuyển tới VShape Fitness & Yoga Center Quận 2 khoảng 1.7km, F5 Gym And Fitness Center khoảng 0.6km. Tọa lạc tại vị trí thuận tiện di chuyển với đầy đủ các tiện ích về y tế, giáo dục và giải trí.'}\n",
      "-------------\n",
      "\n",
      "\tCode of group A  | Group condition: isValidInput( buyerInfo.get(\"group\") )  and isValidInput( buyerInfo.get(\"is_married\") )  and isValidInput( buyerInfo.get(\"no_child\") )  and isValidInput(houseInfo.get(\"in_room_noBed\") )\n",
      "{'rule_group': 'A', 'rule_code': 'A1', 'score': 0.7, 'rule_expression': '(getValue(buyerInfo.get(\"group\",  0))  == 1 or (buyerInfo.get(\"is_married\")  == False and buyerInfo.get(\"no_child\") == 0 )) and houseInfo.get(\"in_room_noBed\")  in (1, 2)', 'rule_desc': 'Nếu không có gia đình VÀ không có con (KH nhóm 1) VÀ số phòng ngủ của căn nhà là (1,2)', 'rule_expression_backup': '(getValue(buyerInfo.get(\"group\",  0))  == 1 or (buyerInfo.get(\"is_married\")  == False and buyerInfo.get(\"no_child\") == 0 )) and houseInfo.get(\"no_bedroom\")  in (1, 2)'}\n",
      "score: 0\n",
      "{'rule_group': 'A', 'rule_code': 'A2', 'score': 0.6, 'rule_expression': '(getValue(buyerInfo.get(\"group\",  0))  == 1 or (buyerInfo.get(\"is_married\")  == False and buyerInfo.get(\"no_child\") == 0 )) and houseInfo.get(\"in_room_noBed\")  in (2,3,4)', 'rule_desc': 'Nếu không có gia đình VÀ không có con (KH nhóm 1) VÀ số phòng ngủ của căn nhà là 3', 'rule_expression_backup': '(getValue(buyerInfo.get(\"group\",  0))  == 1 or (buyerInfo.get(\"is_married\")  == False and buyerInfo.get(\"no_child\") == 0 )) and houseInfo.get(\"no_bedroom\")  >= 3'}\n",
      "score: 0.6\n",
      "{'rule_group': 'A', 'rule_code': 'A3', 'score': 0.8, 'rule_expression': '( getValue(buyerInfo.get(\"group\",  0))  == 2 or buyerInfo.get(\"is_married\")  == True ) and buyerInfo.get(\"no_child\") in ( 0, 1) and houseInfo.get(\"in_room_noBed\")  in (2, 3,4)', 'rule_desc': 'Nếu có gia đình VÀ số con là (0, 1) (KH nhóm 2) VÀ số phòng ngủ của căn nhà là (2,3)', 'rule_expression_backup': '( getValue(buyerInfo.get(\"group\",  0))  == 2 or buyerInfo.get(\"is_married\")  == True ) and buyerInfo.get(\"no_child\") in ( 0, 1) and houseInfo.get(\"no_bedroom\")  in (2, 3)'}\n",
      "score: 0\n",
      "{'rule_group': 'A', 'rule_code': 'A4', 'score': 0.6, 'rule_expression': '( getValue(buyerInfo.get(\"group\",  0))  == 2 or buyerInfo.get(\"is_married\")  == True ) and buyerInfo.get(\"no_child\") in ( 0, 1) and houseInfo.get(\"in_room_noBed\")  == 1', 'rule_desc': 'Nếu có gia đình VÀ số con là (0, 1) (KH nhóm 2) VÀ số phòng ngủ của căn nhà là 1', 'rule_expression_backup': '( getValue(buyerInfo.get(\"group\",  0))  == 2 or buyerInfo.get(\"is_married\")  == True ) and buyerInfo.get(\"no_child\") in ( 0, 1) and houseInfo.get(\"no_bedroom\")  == 1'}\n",
      "score: 0\n",
      "{'rule_group': 'A', 'rule_code': 'A5', 'score': 0.5, 'rule_expression': '( getValue(buyerInfo.get(\"group\",  0))  == 2 or buyerInfo.get(\"is_married\")  == True ) and buyerInfo.get(\"no_child\") == 2\\xa0and houseInfo.get(\"in_room_noBed\")  == 2', 'rule_desc': 'Nếu có gia đình VÀ số con là 2 (KH nhóm 2) VÀ số phòng ngủ của căn nhà là 2', 'rule_expression_backup': '( getValue(buyerInfo.get(\"group\",  0))  == 2 or buyerInfo.get(\"is_married\")  == True ) and buyerInfo.get(\"no_child\") == 2\\xa0and houseInfo.get(\"no_bedroom\")  == 2'}\n",
      "score: 0\n",
      "{'rule_group': 'A', 'rule_code': 'A6', 'score': 1.0, 'rule_expression': '( getValue(buyerInfo.get(\"group\",  0))  == 2 or buyerInfo.get(\"is_married\")  == True )  and buyerInfo.get(\"no_child\") == 2 and houseInfo.get(\"in_room_noBed\")  in ( 3,4,5)', 'rule_desc': 'Nếu có gia đình VÀ số con là 2 (KH nhóm 2) VÀ số phòng ngủ của căn nhà là 3', 'rule_expression_backup': '( getValue(buyerInfo.get(\"group\",  0))  == 2 or buyerInfo.get(\"is_married\")  == True )  and buyerInfo.get(\"no_child\") == 2 and houseInfo.get(\"no_bedroom\")  >= 3'}\n",
      "score: 0\n",
      "{'rule_group': 'A', 'rule_code': 'A7', 'score': 0.6, 'rule_expression': 'getValue(buyerInfo.get(\"group\",  0))  == 4 and houseInfo.get(\"in_room_noBed\")  == 1', 'rule_desc': 'Nếu KH nhóm 4 VÀ số phòng ngủ là 1', 'rule_expression_backup': 'getValue(buyerInfo.get(\"group\",  0))  == 4 and houseInfo.get(\"no_bedroom\")  == 1'}\n",
      "score: 0\n",
      "{'rule_group': 'A', 'rule_code': 'A8', 'score': 1.0, 'rule_expression': 'getValue(buyerInfo.get(\"group\",  0))  == 4 and houseInfo.get(\"in_room_noBed\")  in (2, 3,4)', 'rule_desc': 'Nếu KH nhóm 4 VÀ số phòng ngủ từ 2', 'rule_expression_backup': 'getValue(buyerInfo.get(\"group\",  0))  == 4 and houseInfo.get(\"no_bedroom\")  >= 2'}\n",
      "score: 0\n",
      "\tCode of group B  | Group condition: buyerInfo.get(\"avai_amt\") is not None and buyerInfo.get(\"monthly_amt\") is not None\n",
      "{'rule_group': 'B', 'rule_code': 'B1', 'score': 1.0, 'rule_expression': 'houseInfo.get(\"price\") >= 0.9 * buyerInfo.get(\"avai_amt\") and houseInfo.get(\"price\") <= buyerInfo.get(\"avai_amt\")', 'rule_desc': 'Nếu giá của ngôi nhà bằng khoảng 0.9-1 số tiền người mua hiện có', 'rule_expression_backup': 'houseInfo.get(\"price\") >= 0.8 * buyerInfo.get(\"avai_amt\")'}\n",
      "score: 0\n",
      "{'rule_group': 'B', 'rule_code': 'B2', 'score': 0.8, 'rule_expression': '( buyerInfo.get(\"avai_amt\")  >= 0.75 * houseInfo.get(\"price\") and houseInfo.get(\"price\") > buyerInfo.get(\"avai_amt\") ) and ( (buyerInfo.get(\"avai_amt\") + 12* buyerInfo.get(\"monthly_amt\")) >= houseInfo.get(\"price\"))', 'rule_desc': 'Nếu người mua có sẵn 0.75 giá trị ngôi nhà, và người mua có khả năng trả góp trong 12 tháng', 'rule_expression_backup': nan}\n",
      "score: 0\n",
      "{'rule_group': 'B', 'rule_code': 'B3', 'score': 0.6, 'rule_expression': '( buyerInfo.get(\"avai_amt\")  >= 0.5 * houseInfo.get(\"price\") and houseInfo.get(\"price\") > buyerInfo.get(\"avai_amt\") ) and ( (buyerInfo.get(\"avai_amt\") + 24* buyerInfo.get(\"monthly_amt\")) >= houseInfo.get(\"price\"))', 'rule_desc': 'Nếu người mua có sẵn 0.5 giá trị ngôi nhà, và người mua có khả năng trả góp trong 24 tháng', 'rule_expression_backup': 'houseInfo.get(\"price\") >= 0.5 * buyerInfo.get(\"avai_amt\") and ( (0.5 * buyerInfo.get(\"avai_amt\") + 24* buyerInfo.get(\"monthly_amt\")) >= houseInfo.get(\"price\"))'}\n",
      "score: 0\n",
      "{'rule_group': 'B', 'rule_code': 'B4', 'score': 0.5, 'rule_expression': '( buyerInfo.get(\"avai_amt\")  >= 0.5 * houseInfo.get(\"price\") and houseInfo.get(\"price\") > buyerInfo.get(\"avai_amt\") ) and ( (buyerInfo.get(\"avai_amt\") + 60* buyerInfo.get(\"monthly_amt\")) >= houseInfo.get(\"price\"))', 'rule_desc': 'Nếu người mua có sẵn 0.5 giá trị ngôi nhà, và người mua có khả năng trả góp trong 60 tháng (5 năm)', 'rule_expression_backup': nan}\n",
      "score: 0\n",
      "{'rule_group': 'B', 'rule_code': 'B5', 'score': 1.0, 'rule_expression': 'getValue(buyerInfo.get(\"group\",  0))  == 4 and ( houseInfo.get(\"price\") >= 0.8 * buyerInfo.get(\"avai_amt\") and houseInfo.get(\"price\") <= buyerInfo.get(\"avai_amt\")*1.2 )', 'rule_desc': 'Nếu người mua thuộc nhóm 4, ngôi nhà trong khoảng 0.8-1.2 số tiền sẵn có', 'rule_expression_backup': nan}\n",
      "score: 0\n",
      "{'rule_group': 'B', 'rule_code': 'B6', 'score': 0.0, 'rule_expression': 'getValue(buyerInfo.get(\"group\",  0))  == 4 and ( houseInfo.get(\"price\") < 0.8 * buyerInfo.get(\"avai_amt\") and houseInfo.get(\"price\") > buyerInfo.get(\"avai_amt\")*1.2 )', 'rule_desc': 'Nếu người mua thuộc nhóm 4, ngôi nhà nhỏ hơn 0.8 hoặc lớn hơn 1.2 số tiền sẵn có', 'rule_expression_backup': nan}\n",
      "score: 0\n",
      "\tCode of group C  | Group condition: isValidInput( buyerInfo.get(\"desired_location\") ) and isValidInput( houseInfo.get(\"address_district\") )\n",
      "{'rule_group': 'C', 'rule_code': 'C1', 'score': 1.0, 'rule_expression': 'fn_calculateDistance(houseInfo.get(\"address_district\"), buyerInfo.get(\"desired_location\")) <= 2', 'rule_desc': 'Nếu trong phạm vi 2km', 'rule_expression_backup': nan}\n",
      "score: 0\n",
      "{'rule_group': 'C', 'rule_code': 'C2', 'score': 0.8, 'rule_expression': 'fn_calculateDistance(houseInfo.get(\"address_district\"), buyerInfo.get(\"desired_location\")) <= 4', 'rule_desc': nan, 'rule_expression_backup': nan}\n",
      "score: 0\n",
      "{'rule_group': 'C', 'rule_code': 'C3', 'score': 0.5, 'rule_expression': 'fn_calculateDistance(houseInfo.get(\"address_district\"), buyerInfo.get(\"desired_location\")) <= 6', 'rule_desc': nan, 'rule_expression_backup': nan}\n",
      "score: 0.5\n",
      "\tCode of group D  | Group condition: 1==1\n",
      "{'rule_group': 'D', 'rule_code': 'D1', 'score': 1.0, 'rule_expression': 'isGoodLegalStatus(houseInfo.get(\"legal_status\"))', 'rule_desc': 'Có giấy tờ', 'rule_expression_backup': 'houseInfo.get(\"legal_status\") in [\\'Sổ hồng\\', \\'Sổ đỏ\\']'}\n",
      "score: 1.0\n",
      "{'rule_group': 'D', 'rule_code': 'D2', 'score': 0.2, 'rule_expression': 'isGoodLegalStatus(houseInfo.get(\"legal_status\")) is not True and getValue(buyerInfo.get(\"group\",  0)) in (1, 3,4)', 'rule_desc': 'K giấy tờ và người mua có nhóm thuộc (1,3,4)', 'rule_expression_backup': nan}\n",
      "score: 0\n",
      "{'rule_group': 'D', 'rule_code': 'D3', 'score': 0.4, 'rule_expression': 'isGoodLegalStatus(houseInfo.get(\"legal_status\")) is not True and getValue(buyerInfo.get(\"group\",  0)) not in (1, 3,4)', 'rule_desc': 'Các trường hợp k giấy tờ còn lại', 'rule_expression_backup': nan}\n",
      "score: 0\n",
      "REPORT:\n",
      "Total calculated Score:  12.3\n",
      "Max Score from Groups:  26.0\n",
      "{'meta_url': 'https://rever.vn/mua/biet-thu-thao-dien-1-mat-tien-duong-nguyen-van-huong-3-tang-dien-tich-497m2', 'meta_code': 'V02120458', 'address_street': 'Nguyễn Văn Hưởng', 'address_ward': 'Thảo Điền', 'address_district': 'Quận 2', 'address_city': 'Hồ Chí Minh', 'price': 155000000000.0, 'area': 497.0, 'area_site': 497.0, 'area_basebuilt': 900.0, 'area_netused': 900.0, 'area_yard': nan, 'area_length': 28.0, 'area_width': 16.0, 'area_front': nan, 'house_noFloor': 3, 'house_type': 'Biệt thự', 'house_noBasement': 0, 'house_direction': 'Đông', 'in_room_noBed': 3, 'in_room_noBath': 6, 'in_room_noKitchen': nan, 'in_room_noRelax': nan, 'in_room_others': nan, 'in_interiorStatus': 'Đầy đủ nội thất', 'prj_name': nan, 'prj_investor': nan, 'prj_status': nan, 'prj_tower': nan, 'legal_status': 'Sổ đỏ', 'other_overview': nan, 'other_good_outstandingCharacteristics': nan, 'other_good_locationDesc': 'Biệt thự có vị trí cách Trường Mầm non Cỏ Ba Lá - Clover Montessori Quận 2 khoảng 6.1km, cách Trường Mầm non Úc Châu khoảng 4.9km. Di chuyển tới VShape Fitness & Yoga Center Quận 2 khoảng 5.1km, F5 Gym And Fitness Center khoảng 4.4km. Tọa lạc tại vị trí thuận tiện di chuyển với đầy đủ các tiện ích về y tế, giáo dục và giải trí.', 'other_good_community': 'Công đồng dân cư lâu năm yên tĩnh, văn minh trên con hẻm rộng rãi đường Nguyễn Văn Hưởng', 'other_good_education': 'Cách trường quốc tế Australian International School (300m), trường quốc tế The American School TAS (750m), trường quốc tế British International School (650m)', 'overall_info': 'BÁN BIỆT THỰ ĐƯỜNG NGUYỄN VĂN HƯỞNG, QUẬN 2\\nDiện tích: 497m² (28m x 16m), nở hậu 23m2 mặt tiền đường Nguyễn Văn Hưởng. \\nDiện tích sử dụng: 900m²\\nKết cấu: 3 tầng (1 trệt và 2 lầu), gồm 1 phòng khách, 1 phòng bếp, 3 phòng ngủ, 6 phòng tắm, 1 phòng giải trí, 1 phòng giai nhân, hồ cá cảnh phía sau.\\nBiệt thự với nét đẹp cổ điển như một lâu đài, được trang trí tính tế, sang trọng phong cách Las Vegas. \\nHướng biệt thự: Đông\\nTình trạng nội thất: Đầy đủ nội thất\\nPháp lý: Sổ đỏ\\n\\nBiệt thự có vị trí cách Trường Mầm non Cỏ Ba Lá - Clover Montessori Quận 2 khoảng 6.1km, cách Trường Mầm non Úc Châu khoảng 4.9km. Di chuyển tới VShape Fitness & Yoga Center Quận 2 khoảng 5.1km, F5 Gym And Fitness Center khoảng 4.4km. Tọa lạc tại vị trí thuận tiện di chuyển với đầy đủ các tiện ích về y tế, giáo dục và giải trí.'}\n",
      "{'executedRuleGroup': [{'groupCode': 'A', 'groupCondition': 'isValidInput( buyerInfo.get(\"group\") )  and isValidInput( buyerInfo.get(\"is_married\") )  and isValidInput( buyerInfo.get(\"no_child\") )  and isValidInput(houseInfo.get(\"in_room_noBed\") )', 'groupScore': 3.0, 'rule_group': 'A', 'rule_code': 'A2', 'score': 0.6, 'rule_expression': '(getValue(buyerInfo.get(\"group\",  0))  == 1 or (buyerInfo.get(\"is_married\")  == False and buyerInfo.get(\"no_child\") == 0 )) and houseInfo.get(\"in_room_noBed\")  in (2,3,4)', 'rule_desc': 'Nếu không có gia đình VÀ không có con (KH nhóm 1) VÀ số phòng ngủ của căn nhà là 3', 'rule_expression_backup': '(getValue(buyerInfo.get(\"group\",  0))  == 1 or (buyerInfo.get(\"is_married\")  == False and buyerInfo.get(\"no_child\") == 0 )) and houseInfo.get(\"no_bedroom\")  >= 3', 'calRuleScore': 1.7999999999999998}, {'groupCode': 'B', 'groupCondition': 'buyerInfo.get(\"avai_amt\") is not None and buyerInfo.get(\"monthly_amt\") is not None', 'groupScore': 10.0, 'calRuleScore': 0.0}, {'groupCode': 'C', 'groupCondition': 'isValidInput( buyerInfo.get(\"desired_location\") ) and isValidInput( houseInfo.get(\"address_district\") )', 'groupScore': 5.0, 'rule_group': 'C', 'rule_code': 'C3', 'score': 0.5, 'rule_expression': 'fn_calculateDistance(houseInfo.get(\"address_district\"), buyerInfo.get(\"desired_location\")) <= 6', 'rule_desc': nan, 'rule_expression_backup': nan, 'calRuleScore': 2.5}, {'groupCode': 'D', 'groupCondition': '1==1', 'groupScore': 8.0, 'rule_group': 'D', 'rule_code': 'D1', 'score': 1.0, 'rule_expression': 'isGoodLegalStatus(houseInfo.get(\"legal_status\"))', 'rule_desc': 'Có giấy tờ', 'rule_expression_backup': 'houseInfo.get(\"legal_status\") in [\\'Sổ hồng\\', \\'Sổ đỏ\\']', 'calRuleScore': 8.0}], 'houseInfo': {'meta_url': 'https://rever.vn/mua/biet-thu-thao-dien-1-mat-tien-duong-nguyen-van-huong-3-tang-dien-tich-497m2', 'meta_code': 'V02120458', 'address_street': 'Nguyễn Văn Hưởng', 'address_ward': 'Thảo Điền', 'address_district': 'Quận 2', 'address_city': 'Hồ Chí Minh', 'price': 155000000000.0, 'area': 497.0, 'area_site': 497.0, 'area_basebuilt': 900.0, 'area_netused': 900.0, 'area_yard': nan, 'area_length': 28.0, 'area_width': 16.0, 'area_front': nan, 'house_noFloor': 3, 'house_type': 'Biệt thự', 'house_noBasement': 0, 'house_direction': 'Đông', 'in_room_noBed': 3, 'in_room_noBath': 6, 'in_room_noKitchen': nan, 'in_room_noRelax': nan, 'in_room_others': nan, 'in_interiorStatus': 'Đầy đủ nội thất', 'prj_name': nan, 'prj_investor': nan, 'prj_status': nan, 'prj_tower': nan, 'legal_status': 'Sổ đỏ', 'other_overview': nan, 'other_good_outstandingCharacteristics': nan, 'other_good_locationDesc': 'Biệt thự có vị trí cách Trường Mầm non Cỏ Ba Lá - Clover Montessori Quận 2 khoảng 6.1km, cách Trường Mầm non Úc Châu khoảng 4.9km. Di chuyển tới VShape Fitness & Yoga Center Quận 2 khoảng 5.1km, F5 Gym And Fitness Center khoảng 4.4km. Tọa lạc tại vị trí thuận tiện di chuyển với đầy đủ các tiện ích về y tế, giáo dục và giải trí.', 'other_good_community': 'Công đồng dân cư lâu năm yên tĩnh, văn minh trên con hẻm rộng rãi đường Nguyễn Văn Hưởng', 'other_good_education': 'Cách trường quốc tế Australian International School (300m), trường quốc tế The American School TAS (750m), trường quốc tế British International School (650m)', 'overall_info': 'BÁN BIỆT THỰ ĐƯỜNG NGUYỄN VĂN HƯỞNG, QUẬN 2\\nDiện tích: 497m² (28m x 16m), nở hậu 23m2 mặt tiền đường Nguyễn Văn Hưởng. \\nDiện tích sử dụng: 900m²\\nKết cấu: 3 tầng (1 trệt và 2 lầu), gồm 1 phòng khách, 1 phòng bếp, 3 phòng ngủ, 6 phòng tắm, 1 phòng giải trí, 1 phòng giai nhân, hồ cá cảnh phía sau.\\nBiệt thự với nét đẹp cổ điển như một lâu đài, được trang trí tính tế, sang trọng phong cách Las Vegas. \\nHướng biệt thự: Đông\\nTình trạng nội thất: Đầy đủ nội thất\\nPháp lý: Sổ đỏ\\n\\nBiệt thự có vị trí cách Trường Mầm non Cỏ Ba Lá - Clover Montessori Quận 2 khoảng 6.1km, cách Trường Mầm non Úc Châu khoảng 4.9km. Di chuyển tới VShape Fitness & Yoga Center Quận 2 khoảng 5.1km, F5 Gym And Fitness Center khoảng 4.4km. Tọa lạc tại vị trí thuận tiện di chuyển với đầy đủ các tiện ích về y tế, giáo dục và giải trí.'}, 'maxScore': 26.0, 'houseScore': 12.3, 'housePerformance': 47.31, 'buyerInfo': {'id': 'x2', 'group': 1.0, 'age': 30.0, 'is_married': 0.0, 'no_child': 0.0, 'month_income': 70000000.0, 'monthly_amt': 50000000.0, 'avai_amt': 10000000000.0, 'desired_location': 'Quận 3', 'desired_interiorStatus': nan}, 'id': 'x2', 'group': 1.0, 'age': 30.0, 'is_married': 0.0, 'no_child': 0.0, 'month_income': 70000000.0, 'monthly_amt': 50000000.0, 'avai_amt': 10000000000.0, 'desired_location': 'Quận 3', 'desired_interiorStatus': nan, 'meta_url': 'https://rever.vn/mua/biet-thu-thao-dien-1-mat-tien-duong-nguyen-van-huong-3-tang-dien-tich-497m2', 'meta_code': 'V02120458', 'address_street': 'Nguyễn Văn Hưởng', 'address_ward': 'Thảo Điền', 'address_district': 'Quận 2', 'address_city': 'Hồ Chí Minh', 'price': 155000000000.0, 'area': 497.0, 'area_site': 497.0, 'area_basebuilt': 900.0, 'area_netused': 900.0, 'area_yard': nan, 'area_length': 28.0, 'area_width': 16.0, 'area_front': nan, 'house_noFloor': 3, 'house_type': 'Biệt thự', 'house_noBasement': 0, 'house_direction': 'Đông', 'in_room_noBed': 3, 'in_room_noBath': 6, 'in_room_noKitchen': nan, 'in_room_noRelax': nan, 'in_room_others': nan, 'in_interiorStatus': 'Đầy đủ nội thất', 'prj_name': nan, 'prj_investor': nan, 'prj_status': nan, 'prj_tower': nan, 'legal_status': 'Sổ đỏ', 'other_overview': nan, 'other_good_outstandingCharacteristics': nan, 'other_good_locationDesc': 'Biệt thự có vị trí cách Trường Mầm non Cỏ Ba Lá - Clover Montessori Quận 2 khoảng 6.1km, cách Trường Mầm non Úc Châu khoảng 4.9km. Di chuyển tới VShape Fitness & Yoga Center Quận 2 khoảng 5.1km, F5 Gym And Fitness Center khoảng 4.4km. Tọa lạc tại vị trí thuận tiện di chuyển với đầy đủ các tiện ích về y tế, giáo dục và giải trí.', 'other_good_community': 'Công đồng dân cư lâu năm yên tĩnh, văn minh trên con hẻm rộng rãi đường Nguyễn Văn Hưởng', 'other_good_education': 'Cách trường quốc tế Australian International School (300m), trường quốc tế The American School TAS (750m), trường quốc tế British International School (650m)', 'overall_info': 'BÁN BIỆT THỰ ĐƯỜNG NGUYỄN VĂN HƯỞNG, QUẬN 2\\nDiện tích: 497m² (28m x 16m), nở hậu 23m2 mặt tiền đường Nguyễn Văn Hưởng. \\nDiện tích sử dụng: 900m²\\nKết cấu: 3 tầng (1 trệt và 2 lầu), gồm 1 phòng khách, 1 phòng bếp, 3 phòng ngủ, 6 phòng tắm, 1 phòng giải trí, 1 phòng giai nhân, hồ cá cảnh phía sau.\\nBiệt thự với nét đẹp cổ điển như một lâu đài, được trang trí tính tế, sang trọng phong cách Las Vegas. \\nHướng biệt thự: Đông\\nTình trạng nội thất: Đầy đủ nội thất\\nPháp lý: Sổ đỏ\\n\\nBiệt thự có vị trí cách Trường Mầm non Cỏ Ba Lá - Clover Montessori Quận 2 khoảng 6.1km, cách Trường Mầm non Úc Châu khoảng 4.9km. Di chuyển tới VShape Fitness & Yoga Center Quận 2 khoảng 5.1km, F5 Gym And Fitness Center khoảng 4.4km. Tọa lạc tại vị trí thuận tiện di chuyển với đầy đủ các tiện ích về y tế, giáo dục và giải trí.'}\n",
      "-------------\n",
      "\n",
      "\tCode of group A  | Group condition: isValidInput( buyerInfo.get(\"group\") )  and isValidInput( buyerInfo.get(\"is_married\") )  and isValidInput( buyerInfo.get(\"no_child\") )  and isValidInput(houseInfo.get(\"in_room_noBed\") )\n",
      "{'rule_group': 'A', 'rule_code': 'A1', 'score': 0.7, 'rule_expression': '(getValue(buyerInfo.get(\"group\",  0))  == 1 or (buyerInfo.get(\"is_married\")  == False and buyerInfo.get(\"no_child\") == 0 )) and houseInfo.get(\"in_room_noBed\")  in (1, 2)', 'rule_desc': 'Nếu không có gia đình VÀ không có con (KH nhóm 1) VÀ số phòng ngủ của căn nhà là (1,2)', 'rule_expression_backup': '(getValue(buyerInfo.get(\"group\",  0))  == 1 or (buyerInfo.get(\"is_married\")  == False and buyerInfo.get(\"no_child\") == 0 )) and houseInfo.get(\"no_bedroom\")  in (1, 2)'}\n",
      "score: 0\n",
      "{'rule_group': 'A', 'rule_code': 'A2', 'score': 0.6, 'rule_expression': '(getValue(buyerInfo.get(\"group\",  0))  == 1 or (buyerInfo.get(\"is_married\")  == False and buyerInfo.get(\"no_child\") == 0 )) and houseInfo.get(\"in_room_noBed\")  in (2,3,4)', 'rule_desc': 'Nếu không có gia đình VÀ không có con (KH nhóm 1) VÀ số phòng ngủ của căn nhà là 3', 'rule_expression_backup': '(getValue(buyerInfo.get(\"group\",  0))  == 1 or (buyerInfo.get(\"is_married\")  == False and buyerInfo.get(\"no_child\") == 0 )) and houseInfo.get(\"no_bedroom\")  >= 3'}\n",
      "score: 0.6\n",
      "{'rule_group': 'A', 'rule_code': 'A3', 'score': 0.8, 'rule_expression': '( getValue(buyerInfo.get(\"group\",  0))  == 2 or buyerInfo.get(\"is_married\")  == True ) and buyerInfo.get(\"no_child\") in ( 0, 1) and houseInfo.get(\"in_room_noBed\")  in (2, 3,4)', 'rule_desc': 'Nếu có gia đình VÀ số con là (0, 1) (KH nhóm 2) VÀ số phòng ngủ của căn nhà là (2,3)', 'rule_expression_backup': '( getValue(buyerInfo.get(\"group\",  0))  == 2 or buyerInfo.get(\"is_married\")  == True ) and buyerInfo.get(\"no_child\") in ( 0, 1) and houseInfo.get(\"no_bedroom\")  in (2, 3)'}\n",
      "score: 0\n",
      "{'rule_group': 'A', 'rule_code': 'A4', 'score': 0.6, 'rule_expression': '( getValue(buyerInfo.get(\"group\",  0))  == 2 or buyerInfo.get(\"is_married\")  == True ) and buyerInfo.get(\"no_child\") in ( 0, 1) and houseInfo.get(\"in_room_noBed\")  == 1', 'rule_desc': 'Nếu có gia đình VÀ số con là (0, 1) (KH nhóm 2) VÀ số phòng ngủ của căn nhà là 1', 'rule_expression_backup': '( getValue(buyerInfo.get(\"group\",  0))  == 2 or buyerInfo.get(\"is_married\")  == True ) and buyerInfo.get(\"no_child\") in ( 0, 1) and houseInfo.get(\"no_bedroom\")  == 1'}\n",
      "score: 0\n",
      "{'rule_group': 'A', 'rule_code': 'A5', 'score': 0.5, 'rule_expression': '( getValue(buyerInfo.get(\"group\",  0))  == 2 or buyerInfo.get(\"is_married\")  == True ) and buyerInfo.get(\"no_child\") == 2\\xa0and houseInfo.get(\"in_room_noBed\")  == 2', 'rule_desc': 'Nếu có gia đình VÀ số con là 2 (KH nhóm 2) VÀ số phòng ngủ của căn nhà là 2', 'rule_expression_backup': '( getValue(buyerInfo.get(\"group\",  0))  == 2 or buyerInfo.get(\"is_married\")  == True ) and buyerInfo.get(\"no_child\") == 2\\xa0and houseInfo.get(\"no_bedroom\")  == 2'}\n",
      "score: 0\n",
      "{'rule_group': 'A', 'rule_code': 'A6', 'score': 1.0, 'rule_expression': '( getValue(buyerInfo.get(\"group\",  0))  == 2 or buyerInfo.get(\"is_married\")  == True )  and buyerInfo.get(\"no_child\") == 2 and houseInfo.get(\"in_room_noBed\")  in ( 3,4,5)', 'rule_desc': 'Nếu có gia đình VÀ số con là 2 (KH nhóm 2) VÀ số phòng ngủ của căn nhà là 3', 'rule_expression_backup': '( getValue(buyerInfo.get(\"group\",  0))  == 2 or buyerInfo.get(\"is_married\")  == True )  and buyerInfo.get(\"no_child\") == 2 and houseInfo.get(\"no_bedroom\")  >= 3'}\n",
      "score: 0\n",
      "{'rule_group': 'A', 'rule_code': 'A7', 'score': 0.6, 'rule_expression': 'getValue(buyerInfo.get(\"group\",  0))  == 4 and houseInfo.get(\"in_room_noBed\")  == 1', 'rule_desc': 'Nếu KH nhóm 4 VÀ số phòng ngủ là 1', 'rule_expression_backup': 'getValue(buyerInfo.get(\"group\",  0))  == 4 and houseInfo.get(\"no_bedroom\")  == 1'}\n",
      "score: 0\n",
      "{'rule_group': 'A', 'rule_code': 'A8', 'score': 1.0, 'rule_expression': 'getValue(buyerInfo.get(\"group\",  0))  == 4 and houseInfo.get(\"in_room_noBed\")  in (2, 3,4)', 'rule_desc': 'Nếu KH nhóm 4 VÀ số phòng ngủ từ 2', 'rule_expression_backup': 'getValue(buyerInfo.get(\"group\",  0))  == 4 and houseInfo.get(\"no_bedroom\")  >= 2'}\n",
      "score: 0\n",
      "\tCode of group B  | Group condition: buyerInfo.get(\"avai_amt\") is not None and buyerInfo.get(\"monthly_amt\") is not None\n",
      "{'rule_group': 'B', 'rule_code': 'B1', 'score': 1.0, 'rule_expression': 'houseInfo.get(\"price\") >= 0.9 * buyerInfo.get(\"avai_amt\") and houseInfo.get(\"price\") <= buyerInfo.get(\"avai_amt\")', 'rule_desc': 'Nếu giá của ngôi nhà bằng khoảng 0.9-1 số tiền người mua hiện có', 'rule_expression_backup': 'houseInfo.get(\"price\") >= 0.8 * buyerInfo.get(\"avai_amt\")'}\n",
      "score: 0\n",
      "{'rule_group': 'B', 'rule_code': 'B2', 'score': 0.8, 'rule_expression': '( buyerInfo.get(\"avai_amt\")  >= 0.75 * houseInfo.get(\"price\") and houseInfo.get(\"price\") > buyerInfo.get(\"avai_amt\") ) and ( (buyerInfo.get(\"avai_amt\") + 12* buyerInfo.get(\"monthly_amt\")) >= houseInfo.get(\"price\"))', 'rule_desc': 'Nếu người mua có sẵn 0.75 giá trị ngôi nhà, và người mua có khả năng trả góp trong 12 tháng', 'rule_expression_backup': nan}\n",
      "score: 0\n",
      "{'rule_group': 'B', 'rule_code': 'B3', 'score': 0.6, 'rule_expression': '( buyerInfo.get(\"avai_amt\")  >= 0.5 * houseInfo.get(\"price\") and houseInfo.get(\"price\") > buyerInfo.get(\"avai_amt\") ) and ( (buyerInfo.get(\"avai_amt\") + 24* buyerInfo.get(\"monthly_amt\")) >= houseInfo.get(\"price\"))', 'rule_desc': 'Nếu người mua có sẵn 0.5 giá trị ngôi nhà, và người mua có khả năng trả góp trong 24 tháng', 'rule_expression_backup': 'houseInfo.get(\"price\") >= 0.5 * buyerInfo.get(\"avai_amt\") and ( (0.5 * buyerInfo.get(\"avai_amt\") + 24* buyerInfo.get(\"monthly_amt\")) >= houseInfo.get(\"price\"))'}\n",
      "score: 0\n",
      "{'rule_group': 'B', 'rule_code': 'B4', 'score': 0.5, 'rule_expression': '( buyerInfo.get(\"avai_amt\")  >= 0.5 * houseInfo.get(\"price\") and houseInfo.get(\"price\") > buyerInfo.get(\"avai_amt\") ) and ( (buyerInfo.get(\"avai_amt\") + 60* buyerInfo.get(\"monthly_amt\")) >= houseInfo.get(\"price\"))', 'rule_desc': 'Nếu người mua có sẵn 0.5 giá trị ngôi nhà, và người mua có khả năng trả góp trong 60 tháng (5 năm)', 'rule_expression_backup': nan}\n",
      "score: 0\n",
      "{'rule_group': 'B', 'rule_code': 'B5', 'score': 1.0, 'rule_expression': 'getValue(buyerInfo.get(\"group\",  0))  == 4 and ( houseInfo.get(\"price\") >= 0.8 * buyerInfo.get(\"avai_amt\") and houseInfo.get(\"price\") <= buyerInfo.get(\"avai_amt\")*1.2 )', 'rule_desc': 'Nếu người mua thuộc nhóm 4, ngôi nhà trong khoảng 0.8-1.2 số tiền sẵn có', 'rule_expression_backup': nan}\n",
      "score: 0\n",
      "{'rule_group': 'B', 'rule_code': 'B6', 'score': 0.0, 'rule_expression': 'getValue(buyerInfo.get(\"group\",  0))  == 4 and ( houseInfo.get(\"price\") < 0.8 * buyerInfo.get(\"avai_amt\") and houseInfo.get(\"price\") > buyerInfo.get(\"avai_amt\")*1.2 )', 'rule_desc': 'Nếu người mua thuộc nhóm 4, ngôi nhà nhỏ hơn 0.8 hoặc lớn hơn 1.2 số tiền sẵn có', 'rule_expression_backup': nan}\n",
      "score: 0\n",
      "\tCode of group C  | Group condition: isValidInput( buyerInfo.get(\"desired_location\") ) and isValidInput( houseInfo.get(\"address_district\") )\n",
      "{'rule_group': 'C', 'rule_code': 'C1', 'score': 1.0, 'rule_expression': 'fn_calculateDistance(houseInfo.get(\"address_district\"), buyerInfo.get(\"desired_location\")) <= 2', 'rule_desc': 'Nếu trong phạm vi 2km', 'rule_expression_backup': nan}\n",
      "score: 0\n",
      "{'rule_group': 'C', 'rule_code': 'C2', 'score': 0.8, 'rule_expression': 'fn_calculateDistance(houseInfo.get(\"address_district\"), buyerInfo.get(\"desired_location\")) <= 4', 'rule_desc': nan, 'rule_expression_backup': nan}\n",
      "score: 0\n",
      "{'rule_group': 'C', 'rule_code': 'C3', 'score': 0.5, 'rule_expression': 'fn_calculateDistance(houseInfo.get(\"address_district\"), buyerInfo.get(\"desired_location\")) <= 6', 'rule_desc': nan, 'rule_expression_backup': nan}\n",
      "score: 0\n",
      "\tCode of group D  | Group condition: 1==1\n",
      "{'rule_group': 'D', 'rule_code': 'D1', 'score': 1.0, 'rule_expression': 'isGoodLegalStatus(houseInfo.get(\"legal_status\"))', 'rule_desc': 'Có giấy tờ', 'rule_expression_backup': 'houseInfo.get(\"legal_status\") in [\\'Sổ hồng\\', \\'Sổ đỏ\\']'}\n",
      "score: 0\n",
      "{'rule_group': 'D', 'rule_code': 'D2', 'score': 0.2, 'rule_expression': 'isGoodLegalStatus(houseInfo.get(\"legal_status\")) is not True and getValue(buyerInfo.get(\"group\",  0)) in (1, 3,4)', 'rule_desc': 'K giấy tờ và người mua có nhóm thuộc (1,3,4)', 'rule_expression_backup': nan}\n",
      "score: 0.2\n",
      "{'rule_group': 'D', 'rule_code': 'D3', 'score': 0.4, 'rule_expression': 'isGoodLegalStatus(houseInfo.get(\"legal_status\")) is not True and getValue(buyerInfo.get(\"group\",  0)) not in (1, 3,4)', 'rule_desc': 'Các trường hợp k giấy tờ còn lại', 'rule_expression_backup': nan}\n",
      "score: 0\n",
      "REPORT:\n",
      "Total calculated Score:  3.4\n",
      "Max Score from Groups:  26.0\n",
      "{'meta_url': 'https://rever.vn/mua/biet-thu-duong-nguyen-xien-3-tang-dien-tich-250m2-huong-tay-bac-phap-ly-hop-dong-mua-ban', 'meta_code': 'V09117471', 'address_street': 'Nguyễn Xiển', 'address_ward': 'Long Bình', 'address_district': 'Quận 9', 'address_city': 'Hồ Chí Minh', 'price': 37620000000.0, 'area': 250.0, 'area_site': 250.0, 'area_basebuilt': 334.0, 'area_netused': 750.0, 'area_yard': nan, 'area_length': 25.0, 'area_width': 10.0, 'area_front': nan, 'house_noFloor': 3, 'house_type': 'Biệt thự', 'house_noBasement': 0, 'house_direction': 'Tây Bắc', 'in_room_noBed': 4, 'in_room_noBath': 5, 'in_room_noKitchen': nan, 'in_room_noRelax': nan, 'in_room_others': nan, 'in_interiorStatus': nan, 'prj_name': nan, 'prj_investor': nan, 'prj_status': nan, 'prj_tower': nan, 'legal_status': 'HĐ mua bán', 'other_overview': nan, 'other_good_outstandingCharacteristics': 'Biệt Thự được bàn giao hoàn thiện bên ngoài và thô bên trong, thích hợp cho quý gia chủ tương lai thiết kế không gian sống phù hợp phong thủy và nhu cầu an cư của cả gia đình. \\nPháp lý: Hợp đồng mua bán', 'other_good_locationDesc': 'Biệt thự có vị trí cách Trường Đại học Công nghệ Thông tin ĐHQG TP.HCM khoảng 4.1km, cách Trường Tiểu học Trương Văn Thành khoảng 7.2km. Di chuyển tới Sân Bóng Đá Cỏ Nhân Tạo Nhà Thiếu Nhi Thủ Đức khoảng 8.5km, Nhà Thi đấu trường Đại học Nông Lâm TP.HCM khoảng 5.4km. Tọa lạc tại vị trí thuận tiện di chuyển với đầy đủ các tiện ích về y tế, giáo dục và giải trí.', 'other_good_community': nan, 'other_good_education': nan, 'overall_info': 'BÁN BIỆT THỰ ĐƯỜNG NGUYỄN XIỂN, QUẬN 9\\nDiện tích: 250m² (25m x 10m)\\nDiện tích sử dụng: 750m²\\nKết cấu: Kết cấu: 3 tầng lầu và 1 tum, có vị trí chờ toilet ( 4 phòng ngủ 5 phòng tắm)\\nHướng biệt thự: Tây Bắc\\nBiệt Thự được bàn giao hoàn thiện bên ngoài và thô bên trong, thích hợp cho quý gia chủ tương lai thiết kế không gian sống phù hợp phong thủy và nhu cầu an cư của cả gia đình. \\nPháp lý: Hợp đồng mua bán\\n\\nBiệt thự có vị trí cách Trường Đại học Công nghệ Thông tin ĐHQG TP.HCM khoảng 4.1km, cách Trường Tiểu học Trương Văn Thành khoảng 7.2km. Di chuyển tới Sân Bóng Đá Cỏ Nhân Tạo Nhà Thiếu Nhi Thủ Đức khoảng 8.5km, Nhà Thi đấu trường Đại học Nông Lâm TP.HCM khoảng 5.4km. Tọa lạc tại vị trí thuận tiện di chuyển với đầy đủ các tiện ích về y tế, giáo dục và giải trí.'}\n",
      "{'executedRuleGroup': [{'groupCode': 'A', 'groupCondition': 'isValidInput( buyerInfo.get(\"group\") )  and isValidInput( buyerInfo.get(\"is_married\") )  and isValidInput( buyerInfo.get(\"no_child\") )  and isValidInput(houseInfo.get(\"in_room_noBed\") )', 'groupScore': 3.0, 'rule_group': 'A', 'rule_code': 'A2', 'score': 0.6, 'rule_expression': '(getValue(buyerInfo.get(\"group\",  0))  == 1 or (buyerInfo.get(\"is_married\")  == False and buyerInfo.get(\"no_child\") == 0 )) and houseInfo.get(\"in_room_noBed\")  in (2,3,4)', 'rule_desc': 'Nếu không có gia đình VÀ không có con (KH nhóm 1) VÀ số phòng ngủ của căn nhà là 3', 'rule_expression_backup': '(getValue(buyerInfo.get(\"group\",  0))  == 1 or (buyerInfo.get(\"is_married\")  == False and buyerInfo.get(\"no_child\") == 0 )) and houseInfo.get(\"no_bedroom\")  >= 3', 'calRuleScore': 1.7999999999999998}, {'groupCode': 'B', 'groupCondition': 'buyerInfo.get(\"avai_amt\") is not None and buyerInfo.get(\"monthly_amt\") is not None', 'groupScore': 10.0, 'calRuleScore': 0.0}, {'groupCode': 'C', 'groupCondition': 'isValidInput( buyerInfo.get(\"desired_location\") ) and isValidInput( houseInfo.get(\"address_district\") )', 'groupScore': 5.0, 'calRuleScore': 0.0}, {'groupCode': 'D', 'groupCondition': '1==1', 'groupScore': 8.0, 'rule_group': 'D', 'rule_code': 'D2', 'score': 0.2, 'rule_expression': 'isGoodLegalStatus(houseInfo.get(\"legal_status\")) is not True and getValue(buyerInfo.get(\"group\",  0)) in (1, 3,4)', 'rule_desc': 'K giấy tờ và người mua có nhóm thuộc (1,3,4)', 'rule_expression_backup': nan, 'calRuleScore': 1.6}], 'houseInfo': {'meta_url': 'https://rever.vn/mua/biet-thu-duong-nguyen-xien-3-tang-dien-tich-250m2-huong-tay-bac-phap-ly-hop-dong-mua-ban', 'meta_code': 'V09117471', 'address_street': 'Nguyễn Xiển', 'address_ward': 'Long Bình', 'address_district': 'Quận 9', 'address_city': 'Hồ Chí Minh', 'price': 37620000000.0, 'area': 250.0, 'area_site': 250.0, 'area_basebuilt': 334.0, 'area_netused': 750.0, 'area_yard': nan, 'area_length': 25.0, 'area_width': 10.0, 'area_front': nan, 'house_noFloor': 3, 'house_type': 'Biệt thự', 'house_noBasement': 0, 'house_direction': 'Tây Bắc', 'in_room_noBed': 4, 'in_room_noBath': 5, 'in_room_noKitchen': nan, 'in_room_noRelax': nan, 'in_room_others': nan, 'in_interiorStatus': nan, 'prj_name': nan, 'prj_investor': nan, 'prj_status': nan, 'prj_tower': nan, 'legal_status': 'HĐ mua bán', 'other_overview': nan, 'other_good_outstandingCharacteristics': 'Biệt Thự được bàn giao hoàn thiện bên ngoài và thô bên trong, thích hợp cho quý gia chủ tương lai thiết kế không gian sống phù hợp phong thủy và nhu cầu an cư của cả gia đình. \\nPháp lý: Hợp đồng mua bán', 'other_good_locationDesc': 'Biệt thự có vị trí cách Trường Đại học Công nghệ Thông tin ĐHQG TP.HCM khoảng 4.1km, cách Trường Tiểu học Trương Văn Thành khoảng 7.2km. Di chuyển tới Sân Bóng Đá Cỏ Nhân Tạo Nhà Thiếu Nhi Thủ Đức khoảng 8.5km, Nhà Thi đấu trường Đại học Nông Lâm TP.HCM khoảng 5.4km. Tọa lạc tại vị trí thuận tiện di chuyển với đầy đủ các tiện ích về y tế, giáo dục và giải trí.', 'other_good_community': nan, 'other_good_education': nan, 'overall_info': 'BÁN BIỆT THỰ ĐƯỜNG NGUYỄN XIỂN, QUẬN 9\\nDiện tích: 250m² (25m x 10m)\\nDiện tích sử dụng: 750m²\\nKết cấu: Kết cấu: 3 tầng lầu và 1 tum, có vị trí chờ toilet ( 4 phòng ngủ 5 phòng tắm)\\nHướng biệt thự: Tây Bắc\\nBiệt Thự được bàn giao hoàn thiện bên ngoài và thô bên trong, thích hợp cho quý gia chủ tương lai thiết kế không gian sống phù hợp phong thủy và nhu cầu an cư của cả gia đình. \\nPháp lý: Hợp đồng mua bán\\n\\nBiệt thự có vị trí cách Trường Đại học Công nghệ Thông tin ĐHQG TP.HCM khoảng 4.1km, cách Trường Tiểu học Trương Văn Thành khoảng 7.2km. Di chuyển tới Sân Bóng Đá Cỏ Nhân Tạo Nhà Thiếu Nhi Thủ Đức khoảng 8.5km, Nhà Thi đấu trường Đại học Nông Lâm TP.HCM khoảng 5.4km. Tọa lạc tại vị trí thuận tiện di chuyển với đầy đủ các tiện ích về y tế, giáo dục và giải trí.'}, 'maxScore': 26.0, 'houseScore': 3.4, 'housePerformance': 13.08, 'buyerInfo': {'id': 'x2', 'group': 1.0, 'age': 30.0, 'is_married': 0.0, 'no_child': 0.0, 'month_income': 70000000.0, 'monthly_amt': 50000000.0, 'avai_amt': 10000000000.0, 'desired_location': 'Quận 3', 'desired_interiorStatus': nan}, 'id': 'x2', 'group': 1.0, 'age': 30.0, 'is_married': 0.0, 'no_child': 0.0, 'month_income': 70000000.0, 'monthly_amt': 50000000.0, 'avai_amt': 10000000000.0, 'desired_location': 'Quận 3', 'desired_interiorStatus': nan, 'meta_url': 'https://rever.vn/mua/biet-thu-duong-nguyen-xien-3-tang-dien-tich-250m2-huong-tay-bac-phap-ly-hop-dong-mua-ban', 'meta_code': 'V09117471', 'address_street': 'Nguyễn Xiển', 'address_ward': 'Long Bình', 'address_district': 'Quận 9', 'address_city': 'Hồ Chí Minh', 'price': 37620000000.0, 'area': 250.0, 'area_site': 250.0, 'area_basebuilt': 334.0, 'area_netused': 750.0, 'area_yard': nan, 'area_length': 25.0, 'area_width': 10.0, 'area_front': nan, 'house_noFloor': 3, 'house_type': 'Biệt thự', 'house_noBasement': 0, 'house_direction': 'Tây Bắc', 'in_room_noBed': 4, 'in_room_noBath': 5, 'in_room_noKitchen': nan, 'in_room_noRelax': nan, 'in_room_others': nan, 'in_interiorStatus': nan, 'prj_name': nan, 'prj_investor': nan, 'prj_status': nan, 'prj_tower': nan, 'legal_status': 'HĐ mua bán', 'other_overview': nan, 'other_good_outstandingCharacteristics': 'Biệt Thự được bàn giao hoàn thiện bên ngoài và thô bên trong, thích hợp cho quý gia chủ tương lai thiết kế không gian sống phù hợp phong thủy và nhu cầu an cư của cả gia đình. \\nPháp lý: Hợp đồng mua bán', 'other_good_locationDesc': 'Biệt thự có vị trí cách Trường Đại học Công nghệ Thông tin ĐHQG TP.HCM khoảng 4.1km, cách Trường Tiểu học Trương Văn Thành khoảng 7.2km. Di chuyển tới Sân Bóng Đá Cỏ Nhân Tạo Nhà Thiếu Nhi Thủ Đức khoảng 8.5km, Nhà Thi đấu trường Đại học Nông Lâm TP.HCM khoảng 5.4km. Tọa lạc tại vị trí thuận tiện di chuyển với đầy đủ các tiện ích về y tế, giáo dục và giải trí.', 'other_good_community': nan, 'other_good_education': nan, 'overall_info': 'BÁN BIỆT THỰ ĐƯỜNG NGUYỄN XIỂN, QUẬN 9\\nDiện tích: 250m² (25m x 10m)\\nDiện tích sử dụng: 750m²\\nKết cấu: Kết cấu: 3 tầng lầu và 1 tum, có vị trí chờ toilet ( 4 phòng ngủ 5 phòng tắm)\\nHướng biệt thự: Tây Bắc\\nBiệt Thự được bàn giao hoàn thiện bên ngoài và thô bên trong, thích hợp cho quý gia chủ tương lai thiết kế không gian sống phù hợp phong thủy và nhu cầu an cư của cả gia đình. \\nPháp lý: Hợp đồng mua bán\\n\\nBiệt thự có vị trí cách Trường Đại học Công nghệ Thông tin ĐHQG TP.HCM khoảng 4.1km, cách Trường Tiểu học Trương Văn Thành khoảng 7.2km. Di chuyển tới Sân Bóng Đá Cỏ Nhân Tạo Nhà Thiếu Nhi Thủ Đức khoảng 8.5km, Nhà Thi đấu trường Đại học Nông Lâm TP.HCM khoảng 5.4km. Tọa lạc tại vị trí thuận tiện di chuyển với đầy đủ các tiện ích về y tế, giáo dục và giải trí.'}\n",
      "-------------\n",
      "\n",
      "\tCode of group A  | Group condition: isValidInput( buyerInfo.get(\"group\") )  and isValidInput( buyerInfo.get(\"is_married\") )  and isValidInput( buyerInfo.get(\"no_child\") )  and isValidInput(houseInfo.get(\"in_room_noBed\") )\n",
      "{'rule_group': 'A', 'rule_code': 'A1', 'score': 0.7, 'rule_expression': '(getValue(buyerInfo.get(\"group\",  0))  == 1 or (buyerInfo.get(\"is_married\")  == False and buyerInfo.get(\"no_child\") == 0 )) and houseInfo.get(\"in_room_noBed\")  in (1, 2)', 'rule_desc': 'Nếu không có gia đình VÀ không có con (KH nhóm 1) VÀ số phòng ngủ của căn nhà là (1,2)', 'rule_expression_backup': '(getValue(buyerInfo.get(\"group\",  0))  == 1 or (buyerInfo.get(\"is_married\")  == False and buyerInfo.get(\"no_child\") == 0 )) and houseInfo.get(\"no_bedroom\")  in (1, 2)'}\n",
      "score: 0\n",
      "{'rule_group': 'A', 'rule_code': 'A2', 'score': 0.6, 'rule_expression': '(getValue(buyerInfo.get(\"group\",  0))  == 1 or (buyerInfo.get(\"is_married\")  == False and buyerInfo.get(\"no_child\") == 0 )) and houseInfo.get(\"in_room_noBed\")  in (2,3,4)', 'rule_desc': 'Nếu không có gia đình VÀ không có con (KH nhóm 1) VÀ số phòng ngủ của căn nhà là 3', 'rule_expression_backup': '(getValue(buyerInfo.get(\"group\",  0))  == 1 or (buyerInfo.get(\"is_married\")  == False and buyerInfo.get(\"no_child\") == 0 )) and houseInfo.get(\"no_bedroom\")  >= 3'}\n",
      "score: 0.6\n",
      "{'rule_group': 'A', 'rule_code': 'A3', 'score': 0.8, 'rule_expression': '( getValue(buyerInfo.get(\"group\",  0))  == 2 or buyerInfo.get(\"is_married\")  == True ) and buyerInfo.get(\"no_child\") in ( 0, 1) and houseInfo.get(\"in_room_noBed\")  in (2, 3,4)', 'rule_desc': 'Nếu có gia đình VÀ số con là (0, 1) (KH nhóm 2) VÀ số phòng ngủ của căn nhà là (2,3)', 'rule_expression_backup': '( getValue(buyerInfo.get(\"group\",  0))  == 2 or buyerInfo.get(\"is_married\")  == True ) and buyerInfo.get(\"no_child\") in ( 0, 1) and houseInfo.get(\"no_bedroom\")  in (2, 3)'}\n",
      "score: 0\n",
      "{'rule_group': 'A', 'rule_code': 'A4', 'score': 0.6, 'rule_expression': '( getValue(buyerInfo.get(\"group\",  0))  == 2 or buyerInfo.get(\"is_married\")  == True ) and buyerInfo.get(\"no_child\") in ( 0, 1) and houseInfo.get(\"in_room_noBed\")  == 1', 'rule_desc': 'Nếu có gia đình VÀ số con là (0, 1) (KH nhóm 2) VÀ số phòng ngủ của căn nhà là 1', 'rule_expression_backup': '( getValue(buyerInfo.get(\"group\",  0))  == 2 or buyerInfo.get(\"is_married\")  == True ) and buyerInfo.get(\"no_child\") in ( 0, 1) and houseInfo.get(\"no_bedroom\")  == 1'}\n",
      "score: 0\n",
      "{'rule_group': 'A', 'rule_code': 'A5', 'score': 0.5, 'rule_expression': '( getValue(buyerInfo.get(\"group\",  0))  == 2 or buyerInfo.get(\"is_married\")  == True ) and buyerInfo.get(\"no_child\") == 2\\xa0and houseInfo.get(\"in_room_noBed\")  == 2', 'rule_desc': 'Nếu có gia đình VÀ số con là 2 (KH nhóm 2) VÀ số phòng ngủ của căn nhà là 2', 'rule_expression_backup': '( getValue(buyerInfo.get(\"group\",  0))  == 2 or buyerInfo.get(\"is_married\")  == True ) and buyerInfo.get(\"no_child\") == 2\\xa0and houseInfo.get(\"no_bedroom\")  == 2'}\n",
      "score: 0\n",
      "{'rule_group': 'A', 'rule_code': 'A6', 'score': 1.0, 'rule_expression': '( getValue(buyerInfo.get(\"group\",  0))  == 2 or buyerInfo.get(\"is_married\")  == True )  and buyerInfo.get(\"no_child\") == 2 and houseInfo.get(\"in_room_noBed\")  in ( 3,4,5)', 'rule_desc': 'Nếu có gia đình VÀ số con là 2 (KH nhóm 2) VÀ số phòng ngủ của căn nhà là 3', 'rule_expression_backup': '( getValue(buyerInfo.get(\"group\",  0))  == 2 or buyerInfo.get(\"is_married\")  == True )  and buyerInfo.get(\"no_child\") == 2 and houseInfo.get(\"no_bedroom\")  >= 3'}\n",
      "score: 0\n",
      "{'rule_group': 'A', 'rule_code': 'A7', 'score': 0.6, 'rule_expression': 'getValue(buyerInfo.get(\"group\",  0))  == 4 and houseInfo.get(\"in_room_noBed\")  == 1', 'rule_desc': 'Nếu KH nhóm 4 VÀ số phòng ngủ là 1', 'rule_expression_backup': 'getValue(buyerInfo.get(\"group\",  0))  == 4 and houseInfo.get(\"no_bedroom\")  == 1'}\n",
      "score: 0\n",
      "{'rule_group': 'A', 'rule_code': 'A8', 'score': 1.0, 'rule_expression': 'getValue(buyerInfo.get(\"group\",  0))  == 4 and houseInfo.get(\"in_room_noBed\")  in (2, 3,4)', 'rule_desc': 'Nếu KH nhóm 4 VÀ số phòng ngủ từ 2', 'rule_expression_backup': 'getValue(buyerInfo.get(\"group\",  0))  == 4 and houseInfo.get(\"no_bedroom\")  >= 2'}\n",
      "score: 0\n",
      "\tCode of group B  | Group condition: buyerInfo.get(\"avai_amt\") is not None and buyerInfo.get(\"monthly_amt\") is not None\n",
      "{'rule_group': 'B', 'rule_code': 'B1', 'score': 1.0, 'rule_expression': 'houseInfo.get(\"price\") >= 0.9 * buyerInfo.get(\"avai_amt\") and houseInfo.get(\"price\") <= buyerInfo.get(\"avai_amt\")', 'rule_desc': 'Nếu giá của ngôi nhà bằng khoảng 0.9-1 số tiền người mua hiện có', 'rule_expression_backup': 'houseInfo.get(\"price\") >= 0.8 * buyerInfo.get(\"avai_amt\")'}\n",
      "score: 0\n",
      "{'rule_group': 'B', 'rule_code': 'B2', 'score': 0.8, 'rule_expression': '( buyerInfo.get(\"avai_amt\")  >= 0.75 * houseInfo.get(\"price\") and houseInfo.get(\"price\") > buyerInfo.get(\"avai_amt\") ) and ( (buyerInfo.get(\"avai_amt\") + 12* buyerInfo.get(\"monthly_amt\")) >= houseInfo.get(\"price\"))', 'rule_desc': 'Nếu người mua có sẵn 0.75 giá trị ngôi nhà, và người mua có khả năng trả góp trong 12 tháng', 'rule_expression_backup': nan}\n",
      "score: 0\n",
      "{'rule_group': 'B', 'rule_code': 'B3', 'score': 0.6, 'rule_expression': '( buyerInfo.get(\"avai_amt\")  >= 0.5 * houseInfo.get(\"price\") and houseInfo.get(\"price\") > buyerInfo.get(\"avai_amt\") ) and ( (buyerInfo.get(\"avai_amt\") + 24* buyerInfo.get(\"monthly_amt\")) >= houseInfo.get(\"price\"))', 'rule_desc': 'Nếu người mua có sẵn 0.5 giá trị ngôi nhà, và người mua có khả năng trả góp trong 24 tháng', 'rule_expression_backup': 'houseInfo.get(\"price\") >= 0.5 * buyerInfo.get(\"avai_amt\") and ( (0.5 * buyerInfo.get(\"avai_amt\") + 24* buyerInfo.get(\"monthly_amt\")) >= houseInfo.get(\"price\"))'}\n",
      "score: 0\n",
      "{'rule_group': 'B', 'rule_code': 'B4', 'score': 0.5, 'rule_expression': '( buyerInfo.get(\"avai_amt\")  >= 0.5 * houseInfo.get(\"price\") and houseInfo.get(\"price\") > buyerInfo.get(\"avai_amt\") ) and ( (buyerInfo.get(\"avai_amt\") + 60* buyerInfo.get(\"monthly_amt\")) >= houseInfo.get(\"price\"))', 'rule_desc': 'Nếu người mua có sẵn 0.5 giá trị ngôi nhà, và người mua có khả năng trả góp trong 60 tháng (5 năm)', 'rule_expression_backup': nan}\n",
      "score: 0\n",
      "{'rule_group': 'B', 'rule_code': 'B5', 'score': 1.0, 'rule_expression': 'getValue(buyerInfo.get(\"group\",  0))  == 4 and ( houseInfo.get(\"price\") >= 0.8 * buyerInfo.get(\"avai_amt\") and houseInfo.get(\"price\") <= buyerInfo.get(\"avai_amt\")*1.2 )', 'rule_desc': 'Nếu người mua thuộc nhóm 4, ngôi nhà trong khoảng 0.8-1.2 số tiền sẵn có', 'rule_expression_backup': nan}\n",
      "score: 0\n",
      "{'rule_group': 'B', 'rule_code': 'B6', 'score': 0.0, 'rule_expression': 'getValue(buyerInfo.get(\"group\",  0))  == 4 and ( houseInfo.get(\"price\") < 0.8 * buyerInfo.get(\"avai_amt\") and houseInfo.get(\"price\") > buyerInfo.get(\"avai_amt\")*1.2 )', 'rule_desc': 'Nếu người mua thuộc nhóm 4, ngôi nhà nhỏ hơn 0.8 hoặc lớn hơn 1.2 số tiền sẵn có', 'rule_expression_backup': nan}\n",
      "score: 0\n",
      "\tCode of group C  | Group condition: isValidInput( buyerInfo.get(\"desired_location\") ) and isValidInput( houseInfo.get(\"address_district\") )\n",
      "{'rule_group': 'C', 'rule_code': 'C1', 'score': 1.0, 'rule_expression': 'fn_calculateDistance(houseInfo.get(\"address_district\"), buyerInfo.get(\"desired_location\")) <= 2', 'rule_desc': 'Nếu trong phạm vi 2km', 'rule_expression_backup': nan}\n",
      "score: 0\n",
      "{'rule_group': 'C', 'rule_code': 'C2', 'score': 0.8, 'rule_expression': 'fn_calculateDistance(houseInfo.get(\"address_district\"), buyerInfo.get(\"desired_location\")) <= 4', 'rule_desc': nan, 'rule_expression_backup': nan}\n",
      "score: 0\n",
      "{'rule_group': 'C', 'rule_code': 'C3', 'score': 0.5, 'rule_expression': 'fn_calculateDistance(houseInfo.get(\"address_district\"), buyerInfo.get(\"desired_location\")) <= 6', 'rule_desc': nan, 'rule_expression_backup': nan}\n",
      "score: 0\n",
      "\tCode of group D  | Group condition: 1==1\n",
      "{'rule_group': 'D', 'rule_code': 'D1', 'score': 1.0, 'rule_expression': 'isGoodLegalStatus(houseInfo.get(\"legal_status\"))', 'rule_desc': 'Có giấy tờ', 'rule_expression_backup': 'houseInfo.get(\"legal_status\") in [\\'Sổ hồng\\', \\'Sổ đỏ\\']'}\n",
      "score: 1.0\n",
      "{'rule_group': 'D', 'rule_code': 'D2', 'score': 0.2, 'rule_expression': 'isGoodLegalStatus(houseInfo.get(\"legal_status\")) is not True and getValue(buyerInfo.get(\"group\",  0)) in (1, 3,4)', 'rule_desc': 'K giấy tờ và người mua có nhóm thuộc (1,3,4)', 'rule_expression_backup': nan}\n",
      "score: 0\n",
      "{'rule_group': 'D', 'rule_code': 'D3', 'score': 0.4, 'rule_expression': 'isGoodLegalStatus(houseInfo.get(\"legal_status\")) is not True and getValue(buyerInfo.get(\"group\",  0)) not in (1, 3,4)', 'rule_desc': 'Các trường hợp k giấy tờ còn lại', 'rule_expression_backup': nan}\n",
      "score: 0\n",
      "REPORT:\n",
      "Total calculated Score:  9.8\n",
      "Max Score from Groups:  26.0\n",
      "{'meta_url': 'https://rever.vn/mua/biet-thu-duong-so-14-3-tang-dien-tich-85m2-phap-ly-so-hong', 'meta_code': 'V09145032', 'address_street': 'Đường số 14', 'address_ward': 'Phú Hữu', 'address_district': 'Quận 9', 'address_city': 'Hồ Chí Minh', 'price': 16000000000.0, 'area': 85.0, 'area_site': 85.0, 'area_basebuilt': nan, 'area_netused': 211.0, 'area_yard': nan, 'area_length': 17.0, 'area_width': 5.0, 'area_front': nan, 'house_noFloor': 3, 'house_type': 'Biệt thự', 'house_noBasement': 0, 'house_direction': 'Bắc', 'in_room_noBed': 3, 'in_room_noBath': 4, 'in_room_noKitchen': nan, 'in_room_noRelax': nan, 'in_room_others': nan, 'in_interiorStatus': 'Đầy đủ nội thất', 'prj_name': nan, 'prj_investor': nan, 'prj_status': nan, 'prj_tower': nan, 'legal_status': 'Sổ hồng', 'other_overview': nan, 'other_good_outstandingCharacteristics': nan, 'other_good_locationDesc': nan, 'other_good_community': nan, 'other_good_education': nan, 'overall_info': 'BÁN BIỆT THỰ VEROSA PARK ĐƯỜNG SỐ 14, QUẬN 9\\nDiện tích: 85m² (17m x 5m)\\nDiện tích sử dụng: 211m²\\nKết cấu: 3 tầng (trệt + lầu), 3 phòng ngủ 4 phòng tắm\\nTình trạng nội thất: Đầy đủ nội thất\\nPháp lý: Sổ hồng\\n\\nBiệt thự có vị trí cách Trường Mầm non Cỏ Ba Lá - Clover Montessori Quận 2 khoảng 2.5km, cách Trường Mầm non Úc Châu khoảng 4.3km. Di chuyển tới VShape Fitness & Yoga Center Quận 2 khoảng 4.0km, F5 Gym And Fitness Center khoảng 5.1km. Tọa lạc tại vị trí thuận tiện di chuyển với đầy đủ các tiện ích về y tế, giáo dục và giải trí.'}\n",
      "{'executedRuleGroup': [{'groupCode': 'A', 'groupCondition': 'isValidInput( buyerInfo.get(\"group\") )  and isValidInput( buyerInfo.get(\"is_married\") )  and isValidInput( buyerInfo.get(\"no_child\") )  and isValidInput(houseInfo.get(\"in_room_noBed\") )', 'groupScore': 3.0, 'rule_group': 'A', 'rule_code': 'A2', 'score': 0.6, 'rule_expression': '(getValue(buyerInfo.get(\"group\",  0))  == 1 or (buyerInfo.get(\"is_married\")  == False and buyerInfo.get(\"no_child\") == 0 )) and houseInfo.get(\"in_room_noBed\")  in (2,3,4)', 'rule_desc': 'Nếu không có gia đình VÀ không có con (KH nhóm 1) VÀ số phòng ngủ của căn nhà là 3', 'rule_expression_backup': '(getValue(buyerInfo.get(\"group\",  0))  == 1 or (buyerInfo.get(\"is_married\")  == False and buyerInfo.get(\"no_child\") == 0 )) and houseInfo.get(\"no_bedroom\")  >= 3', 'calRuleScore': 1.7999999999999998}, {'groupCode': 'B', 'groupCondition': 'buyerInfo.get(\"avai_amt\") is not None and buyerInfo.get(\"monthly_amt\") is not None', 'groupScore': 10.0, 'calRuleScore': 0.0}, {'groupCode': 'C', 'groupCondition': 'isValidInput( buyerInfo.get(\"desired_location\") ) and isValidInput( houseInfo.get(\"address_district\") )', 'groupScore': 5.0, 'calRuleScore': 0.0}, {'groupCode': 'D', 'groupCondition': '1==1', 'groupScore': 8.0, 'rule_group': 'D', 'rule_code': 'D1', 'score': 1.0, 'rule_expression': 'isGoodLegalStatus(houseInfo.get(\"legal_status\"))', 'rule_desc': 'Có giấy tờ', 'rule_expression_backup': 'houseInfo.get(\"legal_status\") in [\\'Sổ hồng\\', \\'Sổ đỏ\\']', 'calRuleScore': 8.0}], 'houseInfo': {'meta_url': 'https://rever.vn/mua/biet-thu-duong-so-14-3-tang-dien-tich-85m2-phap-ly-so-hong', 'meta_code': 'V09145032', 'address_street': 'Đường số 14', 'address_ward': 'Phú Hữu', 'address_district': 'Quận 9', 'address_city': 'Hồ Chí Minh', 'price': 16000000000.0, 'area': 85.0, 'area_site': 85.0, 'area_basebuilt': nan, 'area_netused': 211.0, 'area_yard': nan, 'area_length': 17.0, 'area_width': 5.0, 'area_front': nan, 'house_noFloor': 3, 'house_type': 'Biệt thự', 'house_noBasement': 0, 'house_direction': 'Bắc', 'in_room_noBed': 3, 'in_room_noBath': 4, 'in_room_noKitchen': nan, 'in_room_noRelax': nan, 'in_room_others': nan, 'in_interiorStatus': 'Đầy đủ nội thất', 'prj_name': nan, 'prj_investor': nan, 'prj_status': nan, 'prj_tower': nan, 'legal_status': 'Sổ hồng', 'other_overview': nan, 'other_good_outstandingCharacteristics': nan, 'other_good_locationDesc': nan, 'other_good_community': nan, 'other_good_education': nan, 'overall_info': 'BÁN BIỆT THỰ VEROSA PARK ĐƯỜNG SỐ 14, QUẬN 9\\nDiện tích: 85m² (17m x 5m)\\nDiện tích sử dụng: 211m²\\nKết cấu: 3 tầng (trệt + lầu), 3 phòng ngủ 4 phòng tắm\\nTình trạng nội thất: Đầy đủ nội thất\\nPháp lý: Sổ hồng\\n\\nBiệt thự có vị trí cách Trường Mầm non Cỏ Ba Lá - Clover Montessori Quận 2 khoảng 2.5km, cách Trường Mầm non Úc Châu khoảng 4.3km. Di chuyển tới VShape Fitness & Yoga Center Quận 2 khoảng 4.0km, F5 Gym And Fitness Center khoảng 5.1km. Tọa lạc tại vị trí thuận tiện di chuyển với đầy đủ các tiện ích về y tế, giáo dục và giải trí.'}, 'maxScore': 26.0, 'houseScore': 9.8, 'housePerformance': 37.69, 'buyerInfo': {'id': 'x2', 'group': 1.0, 'age': 30.0, 'is_married': 0.0, 'no_child': 0.0, 'month_income': 70000000.0, 'monthly_amt': 50000000.0, 'avai_amt': 10000000000.0, 'desired_location': 'Quận 3', 'desired_interiorStatus': nan}, 'id': 'x2', 'group': 1.0, 'age': 30.0, 'is_married': 0.0, 'no_child': 0.0, 'month_income': 70000000.0, 'monthly_amt': 50000000.0, 'avai_amt': 10000000000.0, 'desired_location': 'Quận 3', 'desired_interiorStatus': nan, 'meta_url': 'https://rever.vn/mua/biet-thu-duong-so-14-3-tang-dien-tich-85m2-phap-ly-so-hong', 'meta_code': 'V09145032', 'address_street': 'Đường số 14', 'address_ward': 'Phú Hữu', 'address_district': 'Quận 9', 'address_city': 'Hồ Chí Minh', 'price': 16000000000.0, 'area': 85.0, 'area_site': 85.0, 'area_basebuilt': nan, 'area_netused': 211.0, 'area_yard': nan, 'area_length': 17.0, 'area_width': 5.0, 'area_front': nan, 'house_noFloor': 3, 'house_type': 'Biệt thự', 'house_noBasement': 0, 'house_direction': 'Bắc', 'in_room_noBed': 3, 'in_room_noBath': 4, 'in_room_noKitchen': nan, 'in_room_noRelax': nan, 'in_room_others': nan, 'in_interiorStatus': 'Đầy đủ nội thất', 'prj_name': nan, 'prj_investor': nan, 'prj_status': nan, 'prj_tower': nan, 'legal_status': 'Sổ hồng', 'other_overview': nan, 'other_good_outstandingCharacteristics': nan, 'other_good_locationDesc': nan, 'other_good_community': nan, 'other_good_education': nan, 'overall_info': 'BÁN BIỆT THỰ VEROSA PARK ĐƯỜNG SỐ 14, QUẬN 9\\nDiện tích: 85m² (17m x 5m)\\nDiện tích sử dụng: 211m²\\nKết cấu: 3 tầng (trệt + lầu), 3 phòng ngủ 4 phòng tắm\\nTình trạng nội thất: Đầy đủ nội thất\\nPháp lý: Sổ hồng\\n\\nBiệt thự có vị trí cách Trường Mầm non Cỏ Ba Lá - Clover Montessori Quận 2 khoảng 2.5km, cách Trường Mầm non Úc Châu khoảng 4.3km. Di chuyển tới VShape Fitness & Yoga Center Quận 2 khoảng 4.0km, F5 Gym And Fitness Center khoảng 5.1km. Tọa lạc tại vị trí thuận tiện di chuyển với đầy đủ các tiện ích về y tế, giáo dục và giải trí.'}\n",
      "-------------\n",
      "\n",
      "\tCode of group A  | Group condition: isValidInput( buyerInfo.get(\"group\") )  and isValidInput( buyerInfo.get(\"is_married\") )  and isValidInput( buyerInfo.get(\"no_child\") )  and isValidInput(houseInfo.get(\"in_room_noBed\") )\n",
      "{'rule_group': 'A', 'rule_code': 'A1', 'score': 0.7, 'rule_expression': '(getValue(buyerInfo.get(\"group\",  0))  == 1 or (buyerInfo.get(\"is_married\")  == False and buyerInfo.get(\"no_child\") == 0 )) and houseInfo.get(\"in_room_noBed\")  in (1, 2)', 'rule_desc': 'Nếu không có gia đình VÀ không có con (KH nhóm 1) VÀ số phòng ngủ của căn nhà là (1,2)', 'rule_expression_backup': '(getValue(buyerInfo.get(\"group\",  0))  == 1 or (buyerInfo.get(\"is_married\")  == False and buyerInfo.get(\"no_child\") == 0 )) and houseInfo.get(\"no_bedroom\")  in (1, 2)'}\n",
      "score: 0\n",
      "{'rule_group': 'A', 'rule_code': 'A2', 'score': 0.6, 'rule_expression': '(getValue(buyerInfo.get(\"group\",  0))  == 1 or (buyerInfo.get(\"is_married\")  == False and buyerInfo.get(\"no_child\") == 0 )) and houseInfo.get(\"in_room_noBed\")  in (2,3,4)', 'rule_desc': 'Nếu không có gia đình VÀ không có con (KH nhóm 1) VÀ số phòng ngủ của căn nhà là 3', 'rule_expression_backup': '(getValue(buyerInfo.get(\"group\",  0))  == 1 or (buyerInfo.get(\"is_married\")  == False and buyerInfo.get(\"no_child\") == 0 )) and houseInfo.get(\"no_bedroom\")  >= 3'}\n",
      "score: 0\n",
      "{'rule_group': 'A', 'rule_code': 'A3', 'score': 0.8, 'rule_expression': '( getValue(buyerInfo.get(\"group\",  0))  == 2 or buyerInfo.get(\"is_married\")  == True ) and buyerInfo.get(\"no_child\") in ( 0, 1) and houseInfo.get(\"in_room_noBed\")  in (2, 3,4)', 'rule_desc': 'Nếu có gia đình VÀ số con là (0, 1) (KH nhóm 2) VÀ số phòng ngủ của căn nhà là (2,3)', 'rule_expression_backup': '( getValue(buyerInfo.get(\"group\",  0))  == 2 or buyerInfo.get(\"is_married\")  == True ) and buyerInfo.get(\"no_child\") in ( 0, 1) and houseInfo.get(\"no_bedroom\")  in (2, 3)'}\n",
      "score: 0\n",
      "{'rule_group': 'A', 'rule_code': 'A4', 'score': 0.6, 'rule_expression': '( getValue(buyerInfo.get(\"group\",  0))  == 2 or buyerInfo.get(\"is_married\")  == True ) and buyerInfo.get(\"no_child\") in ( 0, 1) and houseInfo.get(\"in_room_noBed\")  == 1', 'rule_desc': 'Nếu có gia đình VÀ số con là (0, 1) (KH nhóm 2) VÀ số phòng ngủ của căn nhà là 1', 'rule_expression_backup': '( getValue(buyerInfo.get(\"group\",  0))  == 2 or buyerInfo.get(\"is_married\")  == True ) and buyerInfo.get(\"no_child\") in ( 0, 1) and houseInfo.get(\"no_bedroom\")  == 1'}\n",
      "score: 0\n",
      "{'rule_group': 'A', 'rule_code': 'A5', 'score': 0.5, 'rule_expression': '( getValue(buyerInfo.get(\"group\",  0))  == 2 or buyerInfo.get(\"is_married\")  == True ) and buyerInfo.get(\"no_child\") == 2\\xa0and houseInfo.get(\"in_room_noBed\")  == 2', 'rule_desc': 'Nếu có gia đình VÀ số con là 2 (KH nhóm 2) VÀ số phòng ngủ của căn nhà là 2', 'rule_expression_backup': '( getValue(buyerInfo.get(\"group\",  0))  == 2 or buyerInfo.get(\"is_married\")  == True ) and buyerInfo.get(\"no_child\") == 2\\xa0and houseInfo.get(\"no_bedroom\")  == 2'}\n",
      "score: 0\n",
      "{'rule_group': 'A', 'rule_code': 'A6', 'score': 1.0, 'rule_expression': '( getValue(buyerInfo.get(\"group\",  0))  == 2 or buyerInfo.get(\"is_married\")  == True )  and buyerInfo.get(\"no_child\") == 2 and houseInfo.get(\"in_room_noBed\")  in ( 3,4,5)', 'rule_desc': 'Nếu có gia đình VÀ số con là 2 (KH nhóm 2) VÀ số phòng ngủ của căn nhà là 3', 'rule_expression_backup': '( getValue(buyerInfo.get(\"group\",  0))  == 2 or buyerInfo.get(\"is_married\")  == True )  and buyerInfo.get(\"no_child\") == 2 and houseInfo.get(\"no_bedroom\")  >= 3'}\n",
      "score: 0\n",
      "{'rule_group': 'A', 'rule_code': 'A7', 'score': 0.6, 'rule_expression': 'getValue(buyerInfo.get(\"group\",  0))  == 4 and houseInfo.get(\"in_room_noBed\")  == 1', 'rule_desc': 'Nếu KH nhóm 4 VÀ số phòng ngủ là 1', 'rule_expression_backup': 'getValue(buyerInfo.get(\"group\",  0))  == 4 and houseInfo.get(\"no_bedroom\")  == 1'}\n",
      "score: 0\n",
      "{'rule_group': 'A', 'rule_code': 'A8', 'score': 1.0, 'rule_expression': 'getValue(buyerInfo.get(\"group\",  0))  == 4 and houseInfo.get(\"in_room_noBed\")  in (2, 3,4)', 'rule_desc': 'Nếu KH nhóm 4 VÀ số phòng ngủ từ 2', 'rule_expression_backup': 'getValue(buyerInfo.get(\"group\",  0))  == 4 and houseInfo.get(\"no_bedroom\")  >= 2'}\n",
      "score: 0\n",
      "\tCode of group B  | Group condition: buyerInfo.get(\"avai_amt\") is not None and buyerInfo.get(\"monthly_amt\") is not None\n",
      "{'rule_group': 'B', 'rule_code': 'B1', 'score': 1.0, 'rule_expression': 'houseInfo.get(\"price\") >= 0.9 * buyerInfo.get(\"avai_amt\") and houseInfo.get(\"price\") <= buyerInfo.get(\"avai_amt\")', 'rule_desc': 'Nếu giá của ngôi nhà bằng khoảng 0.9-1 số tiền người mua hiện có', 'rule_expression_backup': 'houseInfo.get(\"price\") >= 0.8 * buyerInfo.get(\"avai_amt\")'}\n",
      "score: 0\n",
      "{'rule_group': 'B', 'rule_code': 'B2', 'score': 0.8, 'rule_expression': '( buyerInfo.get(\"avai_amt\")  >= 0.75 * houseInfo.get(\"price\") and houseInfo.get(\"price\") > buyerInfo.get(\"avai_amt\") ) and ( (buyerInfo.get(\"avai_amt\") + 12* buyerInfo.get(\"monthly_amt\")) >= houseInfo.get(\"price\"))', 'rule_desc': 'Nếu người mua có sẵn 0.75 giá trị ngôi nhà, và người mua có khả năng trả góp trong 12 tháng', 'rule_expression_backup': nan}\n",
      "score: 0\n",
      "{'rule_group': 'B', 'rule_code': 'B3', 'score': 0.6, 'rule_expression': '( buyerInfo.get(\"avai_amt\")  >= 0.5 * houseInfo.get(\"price\") and houseInfo.get(\"price\") > buyerInfo.get(\"avai_amt\") ) and ( (buyerInfo.get(\"avai_amt\") + 24* buyerInfo.get(\"monthly_amt\")) >= houseInfo.get(\"price\"))', 'rule_desc': 'Nếu người mua có sẵn 0.5 giá trị ngôi nhà, và người mua có khả năng trả góp trong 24 tháng', 'rule_expression_backup': 'houseInfo.get(\"price\") >= 0.5 * buyerInfo.get(\"avai_amt\") and ( (0.5 * buyerInfo.get(\"avai_amt\") + 24* buyerInfo.get(\"monthly_amt\")) >= houseInfo.get(\"price\"))'}\n",
      "score: 0\n",
      "{'rule_group': 'B', 'rule_code': 'B4', 'score': 0.5, 'rule_expression': '( buyerInfo.get(\"avai_amt\")  >= 0.5 * houseInfo.get(\"price\") and houseInfo.get(\"price\") > buyerInfo.get(\"avai_amt\") ) and ( (buyerInfo.get(\"avai_amt\") + 60* buyerInfo.get(\"monthly_amt\")) >= houseInfo.get(\"price\"))', 'rule_desc': 'Nếu người mua có sẵn 0.5 giá trị ngôi nhà, và người mua có khả năng trả góp trong 60 tháng (5 năm)', 'rule_expression_backup': nan}\n",
      "score: 0\n",
      "{'rule_group': 'B', 'rule_code': 'B5', 'score': 1.0, 'rule_expression': 'getValue(buyerInfo.get(\"group\",  0))  == 4 and ( houseInfo.get(\"price\") >= 0.8 * buyerInfo.get(\"avai_amt\") and houseInfo.get(\"price\") <= buyerInfo.get(\"avai_amt\")*1.2 )', 'rule_desc': 'Nếu người mua thuộc nhóm 4, ngôi nhà trong khoảng 0.8-1.2 số tiền sẵn có', 'rule_expression_backup': nan}\n",
      "score: 0\n",
      "{'rule_group': 'B', 'rule_code': 'B6', 'score': 0.0, 'rule_expression': 'getValue(buyerInfo.get(\"group\",  0))  == 4 and ( houseInfo.get(\"price\") < 0.8 * buyerInfo.get(\"avai_amt\") and houseInfo.get(\"price\") > buyerInfo.get(\"avai_amt\")*1.2 )', 'rule_desc': 'Nếu người mua thuộc nhóm 4, ngôi nhà nhỏ hơn 0.8 hoặc lớn hơn 1.2 số tiền sẵn có', 'rule_expression_backup': nan}\n",
      "score: 0\n",
      "\tCode of group C  | Group condition: isValidInput( buyerInfo.get(\"desired_location\") ) and isValidInput( houseInfo.get(\"address_district\") )\n",
      "{'rule_group': 'C', 'rule_code': 'C1', 'score': 1.0, 'rule_expression': 'fn_calculateDistance(houseInfo.get(\"address_district\"), buyerInfo.get(\"desired_location\")) <= 2', 'rule_desc': 'Nếu trong phạm vi 2km', 'rule_expression_backup': nan}\n",
      "score: 0\n",
      "{'rule_group': 'C', 'rule_code': 'C2', 'score': 0.8, 'rule_expression': 'fn_calculateDistance(houseInfo.get(\"address_district\"), buyerInfo.get(\"desired_location\")) <= 4', 'rule_desc': nan, 'rule_expression_backup': nan}\n",
      "score: 0\n",
      "{'rule_group': 'C', 'rule_code': 'C3', 'score': 0.5, 'rule_expression': 'fn_calculateDistance(houseInfo.get(\"address_district\"), buyerInfo.get(\"desired_location\")) <= 6', 'rule_desc': nan, 'rule_expression_backup': nan}\n",
      "score: 0.5\n",
      "\tCode of group D  | Group condition: 1==1\n",
      "{'rule_group': 'D', 'rule_code': 'D1', 'score': 1.0, 'rule_expression': 'isGoodLegalStatus(houseInfo.get(\"legal_status\"))', 'rule_desc': 'Có giấy tờ', 'rule_expression_backup': 'houseInfo.get(\"legal_status\") in [\\'Sổ hồng\\', \\'Sổ đỏ\\']'}\n",
      "score: 1.0\n",
      "{'rule_group': 'D', 'rule_code': 'D2', 'score': 0.2, 'rule_expression': 'isGoodLegalStatus(houseInfo.get(\"legal_status\")) is not True and getValue(buyerInfo.get(\"group\",  0)) in (1, 3,4)', 'rule_desc': 'K giấy tờ và người mua có nhóm thuộc (1,3,4)', 'rule_expression_backup': nan}\n",
      "score: 0\n",
      "{'rule_group': 'D', 'rule_code': 'D3', 'score': 0.4, 'rule_expression': 'isGoodLegalStatus(houseInfo.get(\"legal_status\")) is not True and getValue(buyerInfo.get(\"group\",  0)) not in (1, 3,4)', 'rule_desc': 'Các trường hợp k giấy tờ còn lại', 'rule_expression_backup': nan}\n",
      "score: 0\n",
      "REPORT:\n",
      "Total calculated Score:  10.5\n",
      "Max Score from Groups:  26.0\n",
      "{'meta_url': 'https://rever.vn/mua/biet-thu-duong-ngo-be-2-tang-dien-tich-343-7m2-huong-tay-phap-ly-so-hong', 'meta_code': 'TTB141058', 'address_street': 'Ngô Bệ', 'address_ward': 'Phường 13', 'address_district': 'Tân Bình', 'address_city': 'Hồ Chí Minh', 'price': 61000000000.0, 'area': 343.7, 'area_site': 343.7, 'area_basebuilt': 296.97, 'area_netused': 439.48, 'area_yard': nan, 'area_length': 25.2, 'area_width': 11.7, 'area_front': nan, 'house_noFloor': 2, 'house_type': 'Biệt thự', 'house_noBasement': 0, 'house_direction': 'Tây', 'in_room_noBed': 6, 'in_room_noBath': 4, 'in_room_noKitchen': nan, 'in_room_noRelax': nan, 'in_room_others': nan, 'in_interiorStatus': 'Không có nội thất', 'prj_name': nan, 'prj_investor': nan, 'prj_status': nan, 'prj_tower': nan, 'legal_status': 'Sổ hồng', 'other_overview': nan, 'other_good_outstandingCharacteristics': nan, 'other_good_locationDesc': nan, 'other_good_community': nan, 'other_good_education': nan, 'overall_info': 'BÁN BIỆT THỰ ĐƯỜNG NGÔ BỆ, TÂN BÌNH\\nDiện tích: 343.7m² (25.2m x 11.7m), nở hậu 20.5m\\nDiện tích sử dụng: 439.48m², Nhà biệt thự sân vườn rộng lớn\\nKết cấu: 2 tầng (trệt + lầu), 6 phòng ngủ 4 phòng tắm\\nHướng biệt thự: Tây\\nTình trạng nội thất: Không có nội thất. Thế đất cao không bị ngập khi mưa. Đường trước nhà 10m rộng lớn\\nPháp lý: Sổ hồng\\n\\nBiệt thự có vị trí cách Trường Đại học Sài Gòn khoảng 6.6km, cách Trường Quốc tế Thành phố Hồ Chí Minh- Secondary Campus khoảng 9.4km. Di chuyển tới Sân cầu lông Hưng Phú khoảng 7.0km, Elite Fitness Đồng Khởi khoảng 7.2km. Tọa lạc tại vị trí thuận tiện di chuyển với đầy đủ các tiện ích về y tế, giáo dục và giải trí. Từ vị trí nhà di chuyển 15 phút đến sân bay Tân Sơn Nhất,'}\n",
      "{'executedRuleGroup': [{'groupCode': 'A', 'groupCondition': 'isValidInput( buyerInfo.get(\"group\") )  and isValidInput( buyerInfo.get(\"is_married\") )  and isValidInput( buyerInfo.get(\"no_child\") )  and isValidInput(houseInfo.get(\"in_room_noBed\") )', 'groupScore': 3.0, 'calRuleScore': 0.0}, {'groupCode': 'B', 'groupCondition': 'buyerInfo.get(\"avai_amt\") is not None and buyerInfo.get(\"monthly_amt\") is not None', 'groupScore': 10.0, 'calRuleScore': 0.0}, {'groupCode': 'C', 'groupCondition': 'isValidInput( buyerInfo.get(\"desired_location\") ) and isValidInput( houseInfo.get(\"address_district\") )', 'groupScore': 5.0, 'rule_group': 'C', 'rule_code': 'C3', 'score': 0.5, 'rule_expression': 'fn_calculateDistance(houseInfo.get(\"address_district\"), buyerInfo.get(\"desired_location\")) <= 6', 'rule_desc': nan, 'rule_expression_backup': nan, 'calRuleScore': 2.5}, {'groupCode': 'D', 'groupCondition': '1==1', 'groupScore': 8.0, 'rule_group': 'D', 'rule_code': 'D1', 'score': 1.0, 'rule_expression': 'isGoodLegalStatus(houseInfo.get(\"legal_status\"))', 'rule_desc': 'Có giấy tờ', 'rule_expression_backup': 'houseInfo.get(\"legal_status\") in [\\'Sổ hồng\\', \\'Sổ đỏ\\']', 'calRuleScore': 8.0}], 'houseInfo': {'meta_url': 'https://rever.vn/mua/biet-thu-duong-ngo-be-2-tang-dien-tich-343-7m2-huong-tay-phap-ly-so-hong', 'meta_code': 'TTB141058', 'address_street': 'Ngô Bệ', 'address_ward': 'Phường 13', 'address_district': 'Tân Bình', 'address_city': 'Hồ Chí Minh', 'price': 61000000000.0, 'area': 343.7, 'area_site': 343.7, 'area_basebuilt': 296.97, 'area_netused': 439.48, 'area_yard': nan, 'area_length': 25.2, 'area_width': 11.7, 'area_front': nan, 'house_noFloor': 2, 'house_type': 'Biệt thự', 'house_noBasement': 0, 'house_direction': 'Tây', 'in_room_noBed': 6, 'in_room_noBath': 4, 'in_room_noKitchen': nan, 'in_room_noRelax': nan, 'in_room_others': nan, 'in_interiorStatus': 'Không có nội thất', 'prj_name': nan, 'prj_investor': nan, 'prj_status': nan, 'prj_tower': nan, 'legal_status': 'Sổ hồng', 'other_overview': nan, 'other_good_outstandingCharacteristics': nan, 'other_good_locationDesc': nan, 'other_good_community': nan, 'other_good_education': nan, 'overall_info': 'BÁN BIỆT THỰ ĐƯỜNG NGÔ BỆ, TÂN BÌNH\\nDiện tích: 343.7m² (25.2m x 11.7m), nở hậu 20.5m\\nDiện tích sử dụng: 439.48m², Nhà biệt thự sân vườn rộng lớn\\nKết cấu: 2 tầng (trệt + lầu), 6 phòng ngủ 4 phòng tắm\\nHướng biệt thự: Tây\\nTình trạng nội thất: Không có nội thất. Thế đất cao không bị ngập khi mưa. Đường trước nhà 10m rộng lớn\\nPháp lý: Sổ hồng\\n\\nBiệt thự có vị trí cách Trường Đại học Sài Gòn khoảng 6.6km, cách Trường Quốc tế Thành phố Hồ Chí Minh- Secondary Campus khoảng 9.4km. Di chuyển tới Sân cầu lông Hưng Phú khoảng 7.0km, Elite Fitness Đồng Khởi khoảng 7.2km. Tọa lạc tại vị trí thuận tiện di chuyển với đầy đủ các tiện ích về y tế, giáo dục và giải trí. Từ vị trí nhà di chuyển 15 phút đến sân bay Tân Sơn Nhất,'}, 'maxScore': 26.0, 'houseScore': 10.5, 'housePerformance': 40.38, 'buyerInfo': {'id': 'x2', 'group': 1.0, 'age': 30.0, 'is_married': 0.0, 'no_child': 0.0, 'month_income': 70000000.0, 'monthly_amt': 50000000.0, 'avai_amt': 10000000000.0, 'desired_location': 'Quận 3', 'desired_interiorStatus': nan}, 'id': 'x2', 'group': 1.0, 'age': 30.0, 'is_married': 0.0, 'no_child': 0.0, 'month_income': 70000000.0, 'monthly_amt': 50000000.0, 'avai_amt': 10000000000.0, 'desired_location': 'Quận 3', 'desired_interiorStatus': nan, 'meta_url': 'https://rever.vn/mua/biet-thu-duong-ngo-be-2-tang-dien-tich-343-7m2-huong-tay-phap-ly-so-hong', 'meta_code': 'TTB141058', 'address_street': 'Ngô Bệ', 'address_ward': 'Phường 13', 'address_district': 'Tân Bình', 'address_city': 'Hồ Chí Minh', 'price': 61000000000.0, 'area': 343.7, 'area_site': 343.7, 'area_basebuilt': 296.97, 'area_netused': 439.48, 'area_yard': nan, 'area_length': 25.2, 'area_width': 11.7, 'area_front': nan, 'house_noFloor': 2, 'house_type': 'Biệt thự', 'house_noBasement': 0, 'house_direction': 'Tây', 'in_room_noBed': 6, 'in_room_noBath': 4, 'in_room_noKitchen': nan, 'in_room_noRelax': nan, 'in_room_others': nan, 'in_interiorStatus': 'Không có nội thất', 'prj_name': nan, 'prj_investor': nan, 'prj_status': nan, 'prj_tower': nan, 'legal_status': 'Sổ hồng', 'other_overview': nan, 'other_good_outstandingCharacteristics': nan, 'other_good_locationDesc': nan, 'other_good_community': nan, 'other_good_education': nan, 'overall_info': 'BÁN BIỆT THỰ ĐƯỜNG NGÔ BỆ, TÂN BÌNH\\nDiện tích: 343.7m² (25.2m x 11.7m), nở hậu 20.5m\\nDiện tích sử dụng: 439.48m², Nhà biệt thự sân vườn rộng lớn\\nKết cấu: 2 tầng (trệt + lầu), 6 phòng ngủ 4 phòng tắm\\nHướng biệt thự: Tây\\nTình trạng nội thất: Không có nội thất. Thế đất cao không bị ngập khi mưa. Đường trước nhà 10m rộng lớn\\nPháp lý: Sổ hồng\\n\\nBiệt thự có vị trí cách Trường Đại học Sài Gòn khoảng 6.6km, cách Trường Quốc tế Thành phố Hồ Chí Minh- Secondary Campus khoảng 9.4km. Di chuyển tới Sân cầu lông Hưng Phú khoảng 7.0km, Elite Fitness Đồng Khởi khoảng 7.2km. Tọa lạc tại vị trí thuận tiện di chuyển với đầy đủ các tiện ích về y tế, giáo dục và giải trí. Từ vị trí nhà di chuyển 15 phút đến sân bay Tân Sơn Nhất,'}\n",
      "-------------\n",
      "\n",
      "\tCode of group A  | Group condition: isValidInput( buyerInfo.get(\"group\") )  and isValidInput( buyerInfo.get(\"is_married\") )  and isValidInput( buyerInfo.get(\"no_child\") )  and isValidInput(houseInfo.get(\"in_room_noBed\") )\n",
      "{'rule_group': 'A', 'rule_code': 'A1', 'score': 0.7, 'rule_expression': '(getValue(buyerInfo.get(\"group\",  0))  == 1 or (buyerInfo.get(\"is_married\")  == False and buyerInfo.get(\"no_child\") == 0 )) and houseInfo.get(\"in_room_noBed\")  in (1, 2)', 'rule_desc': 'Nếu không có gia đình VÀ không có con (KH nhóm 1) VÀ số phòng ngủ của căn nhà là (1,2)', 'rule_expression_backup': '(getValue(buyerInfo.get(\"group\",  0))  == 1 or (buyerInfo.get(\"is_married\")  == False and buyerInfo.get(\"no_child\") == 0 )) and houseInfo.get(\"no_bedroom\")  in (1, 2)'}\n",
      "score: 0\n",
      "{'rule_group': 'A', 'rule_code': 'A2', 'score': 0.6, 'rule_expression': '(getValue(buyerInfo.get(\"group\",  0))  == 1 or (buyerInfo.get(\"is_married\")  == False and buyerInfo.get(\"no_child\") == 0 )) and houseInfo.get(\"in_room_noBed\")  in (2,3,4)', 'rule_desc': 'Nếu không có gia đình VÀ không có con (KH nhóm 1) VÀ số phòng ngủ của căn nhà là 3', 'rule_expression_backup': '(getValue(buyerInfo.get(\"group\",  0))  == 1 or (buyerInfo.get(\"is_married\")  == False and buyerInfo.get(\"no_child\") == 0 )) and houseInfo.get(\"no_bedroom\")  >= 3'}\n",
      "score: 0.6\n",
      "{'rule_group': 'A', 'rule_code': 'A3', 'score': 0.8, 'rule_expression': '( getValue(buyerInfo.get(\"group\",  0))  == 2 or buyerInfo.get(\"is_married\")  == True ) and buyerInfo.get(\"no_child\") in ( 0, 1) and houseInfo.get(\"in_room_noBed\")  in (2, 3,4)', 'rule_desc': 'Nếu có gia đình VÀ số con là (0, 1) (KH nhóm 2) VÀ số phòng ngủ của căn nhà là (2,3)', 'rule_expression_backup': '( getValue(buyerInfo.get(\"group\",  0))  == 2 or buyerInfo.get(\"is_married\")  == True ) and buyerInfo.get(\"no_child\") in ( 0, 1) and houseInfo.get(\"no_bedroom\")  in (2, 3)'}\n",
      "score: 0\n",
      "{'rule_group': 'A', 'rule_code': 'A4', 'score': 0.6, 'rule_expression': '( getValue(buyerInfo.get(\"group\",  0))  == 2 or buyerInfo.get(\"is_married\")  == True ) and buyerInfo.get(\"no_child\") in ( 0, 1) and houseInfo.get(\"in_room_noBed\")  == 1', 'rule_desc': 'Nếu có gia đình VÀ số con là (0, 1) (KH nhóm 2) VÀ số phòng ngủ của căn nhà là 1', 'rule_expression_backup': '( getValue(buyerInfo.get(\"group\",  0))  == 2 or buyerInfo.get(\"is_married\")  == True ) and buyerInfo.get(\"no_child\") in ( 0, 1) and houseInfo.get(\"no_bedroom\")  == 1'}\n",
      "score: 0\n",
      "{'rule_group': 'A', 'rule_code': 'A5', 'score': 0.5, 'rule_expression': '( getValue(buyerInfo.get(\"group\",  0))  == 2 or buyerInfo.get(\"is_married\")  == True ) and buyerInfo.get(\"no_child\") == 2\\xa0and houseInfo.get(\"in_room_noBed\")  == 2', 'rule_desc': 'Nếu có gia đình VÀ số con là 2 (KH nhóm 2) VÀ số phòng ngủ của căn nhà là 2', 'rule_expression_backup': '( getValue(buyerInfo.get(\"group\",  0))  == 2 or buyerInfo.get(\"is_married\")  == True ) and buyerInfo.get(\"no_child\") == 2\\xa0and houseInfo.get(\"no_bedroom\")  == 2'}\n",
      "score: 0\n",
      "{'rule_group': 'A', 'rule_code': 'A6', 'score': 1.0, 'rule_expression': '( getValue(buyerInfo.get(\"group\",  0))  == 2 or buyerInfo.get(\"is_married\")  == True )  and buyerInfo.get(\"no_child\") == 2 and houseInfo.get(\"in_room_noBed\")  in ( 3,4,5)', 'rule_desc': 'Nếu có gia đình VÀ số con là 2 (KH nhóm 2) VÀ số phòng ngủ của căn nhà là 3', 'rule_expression_backup': '( getValue(buyerInfo.get(\"group\",  0))  == 2 or buyerInfo.get(\"is_married\")  == True )  and buyerInfo.get(\"no_child\") == 2 and houseInfo.get(\"no_bedroom\")  >= 3'}\n",
      "score: 0\n",
      "{'rule_group': 'A', 'rule_code': 'A7', 'score': 0.6, 'rule_expression': 'getValue(buyerInfo.get(\"group\",  0))  == 4 and houseInfo.get(\"in_room_noBed\")  == 1', 'rule_desc': 'Nếu KH nhóm 4 VÀ số phòng ngủ là 1', 'rule_expression_backup': 'getValue(buyerInfo.get(\"group\",  0))  == 4 and houseInfo.get(\"no_bedroom\")  == 1'}\n",
      "score: 0\n",
      "{'rule_group': 'A', 'rule_code': 'A8', 'score': 1.0, 'rule_expression': 'getValue(buyerInfo.get(\"group\",  0))  == 4 and houseInfo.get(\"in_room_noBed\")  in (2, 3,4)', 'rule_desc': 'Nếu KH nhóm 4 VÀ số phòng ngủ từ 2', 'rule_expression_backup': 'getValue(buyerInfo.get(\"group\",  0))  == 4 and houseInfo.get(\"no_bedroom\")  >= 2'}\n",
      "score: 0\n",
      "\tCode of group B  | Group condition: buyerInfo.get(\"avai_amt\") is not None and buyerInfo.get(\"monthly_amt\") is not None\n",
      "{'rule_group': 'B', 'rule_code': 'B1', 'score': 1.0, 'rule_expression': 'houseInfo.get(\"price\") >= 0.9 * buyerInfo.get(\"avai_amt\") and houseInfo.get(\"price\") <= buyerInfo.get(\"avai_amt\")', 'rule_desc': 'Nếu giá của ngôi nhà bằng khoảng 0.9-1 số tiền người mua hiện có', 'rule_expression_backup': 'houseInfo.get(\"price\") >= 0.8 * buyerInfo.get(\"avai_amt\")'}\n",
      "score: 0\n",
      "{'rule_group': 'B', 'rule_code': 'B2', 'score': 0.8, 'rule_expression': '( buyerInfo.get(\"avai_amt\")  >= 0.75 * houseInfo.get(\"price\") and houseInfo.get(\"price\") > buyerInfo.get(\"avai_amt\") ) and ( (buyerInfo.get(\"avai_amt\") + 12* buyerInfo.get(\"monthly_amt\")) >= houseInfo.get(\"price\"))', 'rule_desc': 'Nếu người mua có sẵn 0.75 giá trị ngôi nhà, và người mua có khả năng trả góp trong 12 tháng', 'rule_expression_backup': nan}\n",
      "score: 0\n",
      "{'rule_group': 'B', 'rule_code': 'B3', 'score': 0.6, 'rule_expression': '( buyerInfo.get(\"avai_amt\")  >= 0.5 * houseInfo.get(\"price\") and houseInfo.get(\"price\") > buyerInfo.get(\"avai_amt\") ) and ( (buyerInfo.get(\"avai_amt\") + 24* buyerInfo.get(\"monthly_amt\")) >= houseInfo.get(\"price\"))', 'rule_desc': 'Nếu người mua có sẵn 0.5 giá trị ngôi nhà, và người mua có khả năng trả góp trong 24 tháng', 'rule_expression_backup': 'houseInfo.get(\"price\") >= 0.5 * buyerInfo.get(\"avai_amt\") and ( (0.5 * buyerInfo.get(\"avai_amt\") + 24* buyerInfo.get(\"monthly_amt\")) >= houseInfo.get(\"price\"))'}\n",
      "score: 0\n",
      "{'rule_group': 'B', 'rule_code': 'B4', 'score': 0.5, 'rule_expression': '( buyerInfo.get(\"avai_amt\")  >= 0.5 * houseInfo.get(\"price\") and houseInfo.get(\"price\") > buyerInfo.get(\"avai_amt\") ) and ( (buyerInfo.get(\"avai_amt\") + 60* buyerInfo.get(\"monthly_amt\")) >= houseInfo.get(\"price\"))', 'rule_desc': 'Nếu người mua có sẵn 0.5 giá trị ngôi nhà, và người mua có khả năng trả góp trong 60 tháng (5 năm)', 'rule_expression_backup': nan}\n",
      "score: 0\n",
      "{'rule_group': 'B', 'rule_code': 'B5', 'score': 1.0, 'rule_expression': 'getValue(buyerInfo.get(\"group\",  0))  == 4 and ( houseInfo.get(\"price\") >= 0.8 * buyerInfo.get(\"avai_amt\") and houseInfo.get(\"price\") <= buyerInfo.get(\"avai_amt\")*1.2 )', 'rule_desc': 'Nếu người mua thuộc nhóm 4, ngôi nhà trong khoảng 0.8-1.2 số tiền sẵn có', 'rule_expression_backup': nan}\n",
      "score: 0\n",
      "{'rule_group': 'B', 'rule_code': 'B6', 'score': 0.0, 'rule_expression': 'getValue(buyerInfo.get(\"group\",  0))  == 4 and ( houseInfo.get(\"price\") < 0.8 * buyerInfo.get(\"avai_amt\") and houseInfo.get(\"price\") > buyerInfo.get(\"avai_amt\")*1.2 )', 'rule_desc': 'Nếu người mua thuộc nhóm 4, ngôi nhà nhỏ hơn 0.8 hoặc lớn hơn 1.2 số tiền sẵn có', 'rule_expression_backup': nan}\n",
      "score: 0\n",
      "\tCode of group C  | Group condition: isValidInput( buyerInfo.get(\"desired_location\") ) and isValidInput( houseInfo.get(\"address_district\") )\n",
      "{'rule_group': 'C', 'rule_code': 'C1', 'score': 1.0, 'rule_expression': 'fn_calculateDistance(houseInfo.get(\"address_district\"), buyerInfo.get(\"desired_location\")) <= 2', 'rule_desc': 'Nếu trong phạm vi 2km', 'rule_expression_backup': nan}\n",
      "score: 0\n",
      "{'rule_group': 'C', 'rule_code': 'C2', 'score': 0.8, 'rule_expression': 'fn_calculateDistance(houseInfo.get(\"address_district\"), buyerInfo.get(\"desired_location\")) <= 4', 'rule_desc': nan, 'rule_expression_backup': nan}\n",
      "score: 0\n",
      "{'rule_group': 'C', 'rule_code': 'C3', 'score': 0.5, 'rule_expression': 'fn_calculateDistance(houseInfo.get(\"address_district\"), buyerInfo.get(\"desired_location\")) <= 6', 'rule_desc': nan, 'rule_expression_backup': nan}\n",
      "score: 0.5\n",
      "\tCode of group D  | Group condition: 1==1\n",
      "{'rule_group': 'D', 'rule_code': 'D1', 'score': 1.0, 'rule_expression': 'isGoodLegalStatus(houseInfo.get(\"legal_status\"))', 'rule_desc': 'Có giấy tờ', 'rule_expression_backup': 'houseInfo.get(\"legal_status\") in [\\'Sổ hồng\\', \\'Sổ đỏ\\']'}\n",
      "score: 1.0\n",
      "{'rule_group': 'D', 'rule_code': 'D2', 'score': 0.2, 'rule_expression': 'isGoodLegalStatus(houseInfo.get(\"legal_status\")) is not True and getValue(buyerInfo.get(\"group\",  0)) in (1, 3,4)', 'rule_desc': 'K giấy tờ và người mua có nhóm thuộc (1,3,4)', 'rule_expression_backup': nan}\n",
      "score: 0\n",
      "{'rule_group': 'D', 'rule_code': 'D3', 'score': 0.4, 'rule_expression': 'isGoodLegalStatus(houseInfo.get(\"legal_status\")) is not True and getValue(buyerInfo.get(\"group\",  0)) not in (1, 3,4)', 'rule_desc': 'Các trường hợp k giấy tờ còn lại', 'rule_expression_backup': nan}\n",
      "score: 0\n",
      "REPORT:\n",
      "Total calculated Score:  12.3\n",
      "Max Score from Groups:  26.0\n",
      "{'meta_url': 'https://rever.vn/mua/biet-thu-duong-phu-dinh-2-tang-dien-tich-296-9m2-huong-bac-phap-ly-so-hong', 'meta_code': 'V08144644', 'address_street': 'Phú Định', 'address_ward': 'Phường 16', 'address_district': 'Quận 8', 'address_city': 'Hồ Chí Minh', 'price': 35000000000.0, 'area': 296.9, 'area_site': 296.9, 'area_basebuilt': 139.0, 'area_netused': 279.0, 'area_yard': nan, 'area_length': 11.0, 'area_width': 44.0, 'area_front': nan, 'house_noFloor': 2, 'house_type': 'Biệt thự', 'house_noBasement': 0, 'house_direction': 'Bắc', 'in_room_noBed': 4, 'in_room_noBath': 3, 'in_room_noKitchen': nan, 'in_room_noRelax': nan, 'in_room_others': nan, 'in_interiorStatus': 'Nội thất cơ bản', 'prj_name': nan, 'prj_investor': nan, 'prj_status': nan, 'prj_tower': nan, 'legal_status': 'Sổ hồng', 'other_overview': nan, 'other_good_outstandingCharacteristics': nan, 'other_good_locationDesc': nan, 'other_good_community': nan, 'other_good_education': nan, 'overall_info': 'BIỆT THỰ PHÚ ĐỊNH , QUẬN 8\\nDiện tích: 296.9m² ( 11m x 44m )\\nDiện tích sử dụng: 2799m²\\nKết cấu: 2 tầng (trệt +lầu) 4 phòng ngủ 3 phòng tắm\\nHướng bắc\\nNội thất cơ bản\\nPháp lý: sổ hồng\\n\\nBiệt thự có vị trí cách Trường THPT Chuyên Năng Khiếu TDTT Nguyễn Thị Định 1.2 km, cách Trường THPT Nguyễn Văn Linh 1.2 km,...\\nTọa lạc tại vị trí thuận tiện di chuyển với đầy đủ các tiện ích về y tế, giáo dục và giải trí: Phòng Khám Đa Khoa Rạch Cát 0.6 km, Quán Ăn Hương Tràm 1.1 km, Siêu Thị Bách Hóa Xanh Phạm Thế Hiển 0.6 km'}\n",
      "{'executedRuleGroup': [{'groupCode': 'A', 'groupCondition': 'isValidInput( buyerInfo.get(\"group\") )  and isValidInput( buyerInfo.get(\"is_married\") )  and isValidInput( buyerInfo.get(\"no_child\") )  and isValidInput(houseInfo.get(\"in_room_noBed\") )', 'groupScore': 3.0, 'rule_group': 'A', 'rule_code': 'A2', 'score': 0.6, 'rule_expression': '(getValue(buyerInfo.get(\"group\",  0))  == 1 or (buyerInfo.get(\"is_married\")  == False and buyerInfo.get(\"no_child\") == 0 )) and houseInfo.get(\"in_room_noBed\")  in (2,3,4)', 'rule_desc': 'Nếu không có gia đình VÀ không có con (KH nhóm 1) VÀ số phòng ngủ của căn nhà là 3', 'rule_expression_backup': '(getValue(buyerInfo.get(\"group\",  0))  == 1 or (buyerInfo.get(\"is_married\")  == False and buyerInfo.get(\"no_child\") == 0 )) and houseInfo.get(\"no_bedroom\")  >= 3', 'calRuleScore': 1.7999999999999998}, {'groupCode': 'B', 'groupCondition': 'buyerInfo.get(\"avai_amt\") is not None and buyerInfo.get(\"monthly_amt\") is not None', 'groupScore': 10.0, 'calRuleScore': 0.0}, {'groupCode': 'C', 'groupCondition': 'isValidInput( buyerInfo.get(\"desired_location\") ) and isValidInput( houseInfo.get(\"address_district\") )', 'groupScore': 5.0, 'rule_group': 'C', 'rule_code': 'C3', 'score': 0.5, 'rule_expression': 'fn_calculateDistance(houseInfo.get(\"address_district\"), buyerInfo.get(\"desired_location\")) <= 6', 'rule_desc': nan, 'rule_expression_backup': nan, 'calRuleScore': 2.5}, {'groupCode': 'D', 'groupCondition': '1==1', 'groupScore': 8.0, 'rule_group': 'D', 'rule_code': 'D1', 'score': 1.0, 'rule_expression': 'isGoodLegalStatus(houseInfo.get(\"legal_status\"))', 'rule_desc': 'Có giấy tờ', 'rule_expression_backup': 'houseInfo.get(\"legal_status\") in [\\'Sổ hồng\\', \\'Sổ đỏ\\']', 'calRuleScore': 8.0}], 'houseInfo': {'meta_url': 'https://rever.vn/mua/biet-thu-duong-phu-dinh-2-tang-dien-tich-296-9m2-huong-bac-phap-ly-so-hong', 'meta_code': 'V08144644', 'address_street': 'Phú Định', 'address_ward': 'Phường 16', 'address_district': 'Quận 8', 'address_city': 'Hồ Chí Minh', 'price': 35000000000.0, 'area': 296.9, 'area_site': 296.9, 'area_basebuilt': 139.0, 'area_netused': 279.0, 'area_yard': nan, 'area_length': 11.0, 'area_width': 44.0, 'area_front': nan, 'house_noFloor': 2, 'house_type': 'Biệt thự', 'house_noBasement': 0, 'house_direction': 'Bắc', 'in_room_noBed': 4, 'in_room_noBath': 3, 'in_room_noKitchen': nan, 'in_room_noRelax': nan, 'in_room_others': nan, 'in_interiorStatus': 'Nội thất cơ bản', 'prj_name': nan, 'prj_investor': nan, 'prj_status': nan, 'prj_tower': nan, 'legal_status': 'Sổ hồng', 'other_overview': nan, 'other_good_outstandingCharacteristics': nan, 'other_good_locationDesc': nan, 'other_good_community': nan, 'other_good_education': nan, 'overall_info': 'BIỆT THỰ PHÚ ĐỊNH , QUẬN 8\\nDiện tích: 296.9m² ( 11m x 44m )\\nDiện tích sử dụng: 2799m²\\nKết cấu: 2 tầng (trệt +lầu) 4 phòng ngủ 3 phòng tắm\\nHướng bắc\\nNội thất cơ bản\\nPháp lý: sổ hồng\\n\\nBiệt thự có vị trí cách Trường THPT Chuyên Năng Khiếu TDTT Nguyễn Thị Định 1.2 km, cách Trường THPT Nguyễn Văn Linh 1.2 km,...\\nTọa lạc tại vị trí thuận tiện di chuyển với đầy đủ các tiện ích về y tế, giáo dục và giải trí: Phòng Khám Đa Khoa Rạch Cát 0.6 km, Quán Ăn Hương Tràm 1.1 km, Siêu Thị Bách Hóa Xanh Phạm Thế Hiển 0.6 km'}, 'maxScore': 26.0, 'houseScore': 12.3, 'housePerformance': 47.31, 'buyerInfo': {'id': 'x2', 'group': 1.0, 'age': 30.0, 'is_married': 0.0, 'no_child': 0.0, 'month_income': 70000000.0, 'monthly_amt': 50000000.0, 'avai_amt': 10000000000.0, 'desired_location': 'Quận 3', 'desired_interiorStatus': nan}, 'id': 'x2', 'group': 1.0, 'age': 30.0, 'is_married': 0.0, 'no_child': 0.0, 'month_income': 70000000.0, 'monthly_amt': 50000000.0, 'avai_amt': 10000000000.0, 'desired_location': 'Quận 3', 'desired_interiorStatus': nan, 'meta_url': 'https://rever.vn/mua/biet-thu-duong-phu-dinh-2-tang-dien-tich-296-9m2-huong-bac-phap-ly-so-hong', 'meta_code': 'V08144644', 'address_street': 'Phú Định', 'address_ward': 'Phường 16', 'address_district': 'Quận 8', 'address_city': 'Hồ Chí Minh', 'price': 35000000000.0, 'area': 296.9, 'area_site': 296.9, 'area_basebuilt': 139.0, 'area_netused': 279.0, 'area_yard': nan, 'area_length': 11.0, 'area_width': 44.0, 'area_front': nan, 'house_noFloor': 2, 'house_type': 'Biệt thự', 'house_noBasement': 0, 'house_direction': 'Bắc', 'in_room_noBed': 4, 'in_room_noBath': 3, 'in_room_noKitchen': nan, 'in_room_noRelax': nan, 'in_room_others': nan, 'in_interiorStatus': 'Nội thất cơ bản', 'prj_name': nan, 'prj_investor': nan, 'prj_status': nan, 'prj_tower': nan, 'legal_status': 'Sổ hồng', 'other_overview': nan, 'other_good_outstandingCharacteristics': nan, 'other_good_locationDesc': nan, 'other_good_community': nan, 'other_good_education': nan, 'overall_info': 'BIỆT THỰ PHÚ ĐỊNH , QUẬN 8\\nDiện tích: 296.9m² ( 11m x 44m )\\nDiện tích sử dụng: 2799m²\\nKết cấu: 2 tầng (trệt +lầu) 4 phòng ngủ 3 phòng tắm\\nHướng bắc\\nNội thất cơ bản\\nPháp lý: sổ hồng\\n\\nBiệt thự có vị trí cách Trường THPT Chuyên Năng Khiếu TDTT Nguyễn Thị Định 1.2 km, cách Trường THPT Nguyễn Văn Linh 1.2 km,...\\nTọa lạc tại vị trí thuận tiện di chuyển với đầy đủ các tiện ích về y tế, giáo dục và giải trí: Phòng Khám Đa Khoa Rạch Cát 0.6 km, Quán Ăn Hương Tràm 1.1 km, Siêu Thị Bách Hóa Xanh Phạm Thế Hiển 0.6 km'}\n",
      "-------------\n",
      "\n",
      "\tCode of group A  | Group condition: isValidInput( buyerInfo.get(\"group\") )  and isValidInput( buyerInfo.get(\"is_married\") )  and isValidInput( buyerInfo.get(\"no_child\") )  and isValidInput(houseInfo.get(\"in_room_noBed\") )\n",
      "{'rule_group': 'A', 'rule_code': 'A1', 'score': 0.7, 'rule_expression': '(getValue(buyerInfo.get(\"group\",  0))  == 1 or (buyerInfo.get(\"is_married\")  == False and buyerInfo.get(\"no_child\") == 0 )) and houseInfo.get(\"in_room_noBed\")  in (1, 2)', 'rule_desc': 'Nếu không có gia đình VÀ không có con (KH nhóm 1) VÀ số phòng ngủ của căn nhà là (1,2)', 'rule_expression_backup': '(getValue(buyerInfo.get(\"group\",  0))  == 1 or (buyerInfo.get(\"is_married\")  == False and buyerInfo.get(\"no_child\") == 0 )) and houseInfo.get(\"no_bedroom\")  in (1, 2)'}\n",
      "score: 0\n",
      "{'rule_group': 'A', 'rule_code': 'A2', 'score': 0.6, 'rule_expression': '(getValue(buyerInfo.get(\"group\",  0))  == 1 or (buyerInfo.get(\"is_married\")  == False and buyerInfo.get(\"no_child\") == 0 )) and houseInfo.get(\"in_room_noBed\")  in (2,3,4)', 'rule_desc': 'Nếu không có gia đình VÀ không có con (KH nhóm 1) VÀ số phòng ngủ của căn nhà là 3', 'rule_expression_backup': '(getValue(buyerInfo.get(\"group\",  0))  == 1 or (buyerInfo.get(\"is_married\")  == False and buyerInfo.get(\"no_child\") == 0 )) and houseInfo.get(\"no_bedroom\")  >= 3'}\n",
      "score: 0\n",
      "{'rule_group': 'A', 'rule_code': 'A3', 'score': 0.8, 'rule_expression': '( getValue(buyerInfo.get(\"group\",  0))  == 2 or buyerInfo.get(\"is_married\")  == True ) and buyerInfo.get(\"no_child\") in ( 0, 1) and houseInfo.get(\"in_room_noBed\")  in (2, 3,4)', 'rule_desc': 'Nếu có gia đình VÀ số con là (0, 1) (KH nhóm 2) VÀ số phòng ngủ của căn nhà là (2,3)', 'rule_expression_backup': '( getValue(buyerInfo.get(\"group\",  0))  == 2 or buyerInfo.get(\"is_married\")  == True ) and buyerInfo.get(\"no_child\") in ( 0, 1) and houseInfo.get(\"no_bedroom\")  in (2, 3)'}\n",
      "score: 0\n",
      "{'rule_group': 'A', 'rule_code': 'A4', 'score': 0.6, 'rule_expression': '( getValue(buyerInfo.get(\"group\",  0))  == 2 or buyerInfo.get(\"is_married\")  == True ) and buyerInfo.get(\"no_child\") in ( 0, 1) and houseInfo.get(\"in_room_noBed\")  == 1', 'rule_desc': 'Nếu có gia đình VÀ số con là (0, 1) (KH nhóm 2) VÀ số phòng ngủ của căn nhà là 1', 'rule_expression_backup': '( getValue(buyerInfo.get(\"group\",  0))  == 2 or buyerInfo.get(\"is_married\")  == True ) and buyerInfo.get(\"no_child\") in ( 0, 1) and houseInfo.get(\"no_bedroom\")  == 1'}\n",
      "score: 0\n",
      "{'rule_group': 'A', 'rule_code': 'A5', 'score': 0.5, 'rule_expression': '( getValue(buyerInfo.get(\"group\",  0))  == 2 or buyerInfo.get(\"is_married\")  == True ) and buyerInfo.get(\"no_child\") == 2\\xa0and houseInfo.get(\"in_room_noBed\")  == 2', 'rule_desc': 'Nếu có gia đình VÀ số con là 2 (KH nhóm 2) VÀ số phòng ngủ của căn nhà là 2', 'rule_expression_backup': '( getValue(buyerInfo.get(\"group\",  0))  == 2 or buyerInfo.get(\"is_married\")  == True ) and buyerInfo.get(\"no_child\") == 2\\xa0and houseInfo.get(\"no_bedroom\")  == 2'}\n",
      "score: 0\n",
      "{'rule_group': 'A', 'rule_code': 'A6', 'score': 1.0, 'rule_expression': '( getValue(buyerInfo.get(\"group\",  0))  == 2 or buyerInfo.get(\"is_married\")  == True )  and buyerInfo.get(\"no_child\") == 2 and houseInfo.get(\"in_room_noBed\")  in ( 3,4,5)', 'rule_desc': 'Nếu có gia đình VÀ số con là 2 (KH nhóm 2) VÀ số phòng ngủ của căn nhà là 3', 'rule_expression_backup': '( getValue(buyerInfo.get(\"group\",  0))  == 2 or buyerInfo.get(\"is_married\")  == True )  and buyerInfo.get(\"no_child\") == 2 and houseInfo.get(\"no_bedroom\")  >= 3'}\n",
      "score: 0\n",
      "{'rule_group': 'A', 'rule_code': 'A7', 'score': 0.6, 'rule_expression': 'getValue(buyerInfo.get(\"group\",  0))  == 4 and houseInfo.get(\"in_room_noBed\")  == 1', 'rule_desc': 'Nếu KH nhóm 4 VÀ số phòng ngủ là 1', 'rule_expression_backup': 'getValue(buyerInfo.get(\"group\",  0))  == 4 and houseInfo.get(\"no_bedroom\")  == 1'}\n",
      "score: 0\n",
      "{'rule_group': 'A', 'rule_code': 'A8', 'score': 1.0, 'rule_expression': 'getValue(buyerInfo.get(\"group\",  0))  == 4 and houseInfo.get(\"in_room_noBed\")  in (2, 3,4)', 'rule_desc': 'Nếu KH nhóm 4 VÀ số phòng ngủ từ 2', 'rule_expression_backup': 'getValue(buyerInfo.get(\"group\",  0))  == 4 and houseInfo.get(\"no_bedroom\")  >= 2'}\n",
      "score: 0\n",
      "\tCode of group B  | Group condition: buyerInfo.get(\"avai_amt\") is not None and buyerInfo.get(\"monthly_amt\") is not None\n",
      "{'rule_group': 'B', 'rule_code': 'B1', 'score': 1.0, 'rule_expression': 'houseInfo.get(\"price\") >= 0.9 * buyerInfo.get(\"avai_amt\") and houseInfo.get(\"price\") <= buyerInfo.get(\"avai_amt\")', 'rule_desc': 'Nếu giá của ngôi nhà bằng khoảng 0.9-1 số tiền người mua hiện có', 'rule_expression_backup': 'houseInfo.get(\"price\") >= 0.8 * buyerInfo.get(\"avai_amt\")'}\n",
      "score: 0\n",
      "{'rule_group': 'B', 'rule_code': 'B2', 'score': 0.8, 'rule_expression': '( buyerInfo.get(\"avai_amt\")  >= 0.75 * houseInfo.get(\"price\") and houseInfo.get(\"price\") > buyerInfo.get(\"avai_amt\") ) and ( (buyerInfo.get(\"avai_amt\") + 12* buyerInfo.get(\"monthly_amt\")) >= houseInfo.get(\"price\"))', 'rule_desc': 'Nếu người mua có sẵn 0.75 giá trị ngôi nhà, và người mua có khả năng trả góp trong 12 tháng', 'rule_expression_backup': nan}\n",
      "score: 0\n",
      "{'rule_group': 'B', 'rule_code': 'B3', 'score': 0.6, 'rule_expression': '( buyerInfo.get(\"avai_amt\")  >= 0.5 * houseInfo.get(\"price\") and houseInfo.get(\"price\") > buyerInfo.get(\"avai_amt\") ) and ( (buyerInfo.get(\"avai_amt\") + 24* buyerInfo.get(\"monthly_amt\")) >= houseInfo.get(\"price\"))', 'rule_desc': 'Nếu người mua có sẵn 0.5 giá trị ngôi nhà, và người mua có khả năng trả góp trong 24 tháng', 'rule_expression_backup': 'houseInfo.get(\"price\") >= 0.5 * buyerInfo.get(\"avai_amt\") and ( (0.5 * buyerInfo.get(\"avai_amt\") + 24* buyerInfo.get(\"monthly_amt\")) >= houseInfo.get(\"price\"))'}\n",
      "score: 0\n",
      "{'rule_group': 'B', 'rule_code': 'B4', 'score': 0.5, 'rule_expression': '( buyerInfo.get(\"avai_amt\")  >= 0.5 * houseInfo.get(\"price\") and houseInfo.get(\"price\") > buyerInfo.get(\"avai_amt\") ) and ( (buyerInfo.get(\"avai_amt\") + 60* buyerInfo.get(\"monthly_amt\")) >= houseInfo.get(\"price\"))', 'rule_desc': 'Nếu người mua có sẵn 0.5 giá trị ngôi nhà, và người mua có khả năng trả góp trong 60 tháng (5 năm)', 'rule_expression_backup': nan}\n",
      "score: 0\n",
      "{'rule_group': 'B', 'rule_code': 'B5', 'score': 1.0, 'rule_expression': 'getValue(buyerInfo.get(\"group\",  0))  == 4 and ( houseInfo.get(\"price\") >= 0.8 * buyerInfo.get(\"avai_amt\") and houseInfo.get(\"price\") <= buyerInfo.get(\"avai_amt\")*1.2 )', 'rule_desc': 'Nếu người mua thuộc nhóm 4, ngôi nhà trong khoảng 0.8-1.2 số tiền sẵn có', 'rule_expression_backup': nan}\n",
      "score: 0\n",
      "{'rule_group': 'B', 'rule_code': 'B6', 'score': 0.0, 'rule_expression': 'getValue(buyerInfo.get(\"group\",  0))  == 4 and ( houseInfo.get(\"price\") < 0.8 * buyerInfo.get(\"avai_amt\") and houseInfo.get(\"price\") > buyerInfo.get(\"avai_amt\")*1.2 )', 'rule_desc': 'Nếu người mua thuộc nhóm 4, ngôi nhà nhỏ hơn 0.8 hoặc lớn hơn 1.2 số tiền sẵn có', 'rule_expression_backup': nan}\n",
      "score: 0\n",
      "\tCode of group C  | Group condition: isValidInput( buyerInfo.get(\"desired_location\") ) and isValidInput( houseInfo.get(\"address_district\") )\n",
      "{'rule_group': 'C', 'rule_code': 'C1', 'score': 1.0, 'rule_expression': 'fn_calculateDistance(houseInfo.get(\"address_district\"), buyerInfo.get(\"desired_location\")) <= 2', 'rule_desc': 'Nếu trong phạm vi 2km', 'rule_expression_backup': nan}\n",
      "score: 1.0\n",
      "{'rule_group': 'C', 'rule_code': 'C2', 'score': 0.8, 'rule_expression': 'fn_calculateDistance(houseInfo.get(\"address_district\"), buyerInfo.get(\"desired_location\")) <= 4', 'rule_desc': nan, 'rule_expression_backup': nan}\n",
      "score: 0.8\n",
      "{'rule_group': 'C', 'rule_code': 'C3', 'score': 0.5, 'rule_expression': 'fn_calculateDistance(houseInfo.get(\"address_district\"), buyerInfo.get(\"desired_location\")) <= 6', 'rule_desc': nan, 'rule_expression_backup': nan}\n",
      "score: 0.5\n",
      "\tCode of group D  | Group condition: 1==1\n",
      "{'rule_group': 'D', 'rule_code': 'D1', 'score': 1.0, 'rule_expression': 'isGoodLegalStatus(houseInfo.get(\"legal_status\"))', 'rule_desc': 'Có giấy tờ', 'rule_expression_backup': 'houseInfo.get(\"legal_status\") in [\\'Sổ hồng\\', \\'Sổ đỏ\\']'}\n",
      "score: 1.0\n",
      "{'rule_group': 'D', 'rule_code': 'D2', 'score': 0.2, 'rule_expression': 'isGoodLegalStatus(houseInfo.get(\"legal_status\")) is not True and getValue(buyerInfo.get(\"group\",  0)) in (1, 3,4)', 'rule_desc': 'K giấy tờ và người mua có nhóm thuộc (1,3,4)', 'rule_expression_backup': nan}\n",
      "score: 0\n",
      "{'rule_group': 'D', 'rule_code': 'D3', 'score': 0.4, 'rule_expression': 'isGoodLegalStatus(houseInfo.get(\"legal_status\")) is not True and getValue(buyerInfo.get(\"group\",  0)) not in (1, 3,4)', 'rule_desc': 'Các trường hợp k giấy tờ còn lại', 'rule_expression_backup': nan}\n",
      "score: 0\n",
      "REPORT:\n",
      "Total calculated Score:  13.0\n",
      "Max Score from Groups:  26.0\n",
      "{'meta_url': 'https://rever.vn/mua/nha-pho-duong-vo-thi-sau-4-tang-dien-tich-112-8m2-huong-dong-bac-phap-ly-so-hong', 'meta_code': 'T01146006', 'address_street': 'Võ Thị Sáu', 'address_ward': 'Đa Kao', 'address_district': 'Quận 1', 'address_city': 'Hồ Chí Minh', 'price': 31000000000.0, 'area': 112.8, 'area_site': 112.8, 'area_basebuilt': 88.8, 'area_netused': 325.8, 'area_yard': nan, 'area_length': nan, 'area_width': nan, 'area_front': nan, 'house_noFloor': 4, 'house_type': 'Nhà phố', 'house_noBasement': 0, 'house_direction': 'Đông Bắc', 'in_room_noBed': 5, 'in_room_noBath': 6, 'in_room_noKitchen': nan, 'in_room_noRelax': nan, 'in_room_others': nan, 'in_interiorStatus': 'Đầy đủ nội thất', 'prj_name': nan, 'prj_investor': nan, 'prj_status': nan, 'prj_tower': nan, 'legal_status': 'Sổ hồng', 'other_overview': nan, 'other_good_outstandingCharacteristics': nan, 'other_good_locationDesc': nan, 'other_good_community': nan, 'other_good_education': nan, 'overall_info': 'NHÀ PHỐ VÕ THỊ SÁU, QUẬN 1\\nDiện tích: 112.8m² ( 18m x 6.4m )\\nDiện tích sử dụng: 325.8m²\\nKết cấu: 4 tầng (trệt +lầu) 5 phòng ngủ 6 phòng tắm\\nHướng đông bắc\\nĐầy đủ nội thất\\nPháp lý: sổ hồng\\n\\nNhà phố có vị trí cách Trường Đại học Kinh Tế Tài Chính 1.5 km, cách Trường Mầm non Tư Thục 2-9 0.9 km,...\\nTọa lạc tại vị trí thuận tiện di chuyển với đầy đủ các tiện ích về y tế, giáo dục và giải trí: Bệnh viện quận Bình Thạnh 0.7 km, KFC 1.9 km, Shop Bigsize Nhung Lê 0.9 km'}\n",
      "{'executedRuleGroup': [{'groupCode': 'A', 'groupCondition': 'isValidInput( buyerInfo.get(\"group\") )  and isValidInput( buyerInfo.get(\"is_married\") )  and isValidInput( buyerInfo.get(\"no_child\") )  and isValidInput(houseInfo.get(\"in_room_noBed\") )', 'groupScore': 3.0, 'calRuleScore': 0.0}, {'groupCode': 'B', 'groupCondition': 'buyerInfo.get(\"avai_amt\") is not None and buyerInfo.get(\"monthly_amt\") is not None', 'groupScore': 10.0, 'calRuleScore': 0.0}, {'groupCode': 'C', 'groupCondition': 'isValidInput( buyerInfo.get(\"desired_location\") ) and isValidInput( houseInfo.get(\"address_district\") )', 'groupScore': 5.0, 'rule_group': 'C', 'rule_code': 'C1', 'score': 1.0, 'rule_expression': 'fn_calculateDistance(houseInfo.get(\"address_district\"), buyerInfo.get(\"desired_location\")) <= 2', 'rule_desc': 'Nếu trong phạm vi 2km', 'rule_expression_backup': nan, 'calRuleScore': 5.0}, {'groupCode': 'D', 'groupCondition': '1==1', 'groupScore': 8.0, 'rule_group': 'D', 'rule_code': 'D1', 'score': 1.0, 'rule_expression': 'isGoodLegalStatus(houseInfo.get(\"legal_status\"))', 'rule_desc': 'Có giấy tờ', 'rule_expression_backup': 'houseInfo.get(\"legal_status\") in [\\'Sổ hồng\\', \\'Sổ đỏ\\']', 'calRuleScore': 8.0}], 'houseInfo': {'meta_url': 'https://rever.vn/mua/nha-pho-duong-vo-thi-sau-4-tang-dien-tich-112-8m2-huong-dong-bac-phap-ly-so-hong', 'meta_code': 'T01146006', 'address_street': 'Võ Thị Sáu', 'address_ward': 'Đa Kao', 'address_district': 'Quận 1', 'address_city': 'Hồ Chí Minh', 'price': 31000000000.0, 'area': 112.8, 'area_site': 112.8, 'area_basebuilt': 88.8, 'area_netused': 325.8, 'area_yard': nan, 'area_length': nan, 'area_width': nan, 'area_front': nan, 'house_noFloor': 4, 'house_type': 'Nhà phố', 'house_noBasement': 0, 'house_direction': 'Đông Bắc', 'in_room_noBed': 5, 'in_room_noBath': 6, 'in_room_noKitchen': nan, 'in_room_noRelax': nan, 'in_room_others': nan, 'in_interiorStatus': 'Đầy đủ nội thất', 'prj_name': nan, 'prj_investor': nan, 'prj_status': nan, 'prj_tower': nan, 'legal_status': 'Sổ hồng', 'other_overview': nan, 'other_good_outstandingCharacteristics': nan, 'other_good_locationDesc': nan, 'other_good_community': nan, 'other_good_education': nan, 'overall_info': 'NHÀ PHỐ VÕ THỊ SÁU, QUẬN 1\\nDiện tích: 112.8m² ( 18m x 6.4m )\\nDiện tích sử dụng: 325.8m²\\nKết cấu: 4 tầng (trệt +lầu) 5 phòng ngủ 6 phòng tắm\\nHướng đông bắc\\nĐầy đủ nội thất\\nPháp lý: sổ hồng\\n\\nNhà phố có vị trí cách Trường Đại học Kinh Tế Tài Chính 1.5 km, cách Trường Mầm non Tư Thục 2-9 0.9 km,...\\nTọa lạc tại vị trí thuận tiện di chuyển với đầy đủ các tiện ích về y tế, giáo dục và giải trí: Bệnh viện quận Bình Thạnh 0.7 km, KFC 1.9 km, Shop Bigsize Nhung Lê 0.9 km'}, 'maxScore': 26.0, 'houseScore': 13.0, 'housePerformance': 50.0, 'buyerInfo': {'id': 'x2', 'group': 1.0, 'age': 30.0, 'is_married': 0.0, 'no_child': 0.0, 'month_income': 70000000.0, 'monthly_amt': 50000000.0, 'avai_amt': 10000000000.0, 'desired_location': 'Quận 3', 'desired_interiorStatus': nan}, 'id': 'x2', 'group': 1.0, 'age': 30.0, 'is_married': 0.0, 'no_child': 0.0, 'month_income': 70000000.0, 'monthly_amt': 50000000.0, 'avai_amt': 10000000000.0, 'desired_location': 'Quận 3', 'desired_interiorStatus': nan, 'meta_url': 'https://rever.vn/mua/nha-pho-duong-vo-thi-sau-4-tang-dien-tich-112-8m2-huong-dong-bac-phap-ly-so-hong', 'meta_code': 'T01146006', 'address_street': 'Võ Thị Sáu', 'address_ward': 'Đa Kao', 'address_district': 'Quận 1', 'address_city': 'Hồ Chí Minh', 'price': 31000000000.0, 'area': 112.8, 'area_site': 112.8, 'area_basebuilt': 88.8, 'area_netused': 325.8, 'area_yard': nan, 'area_length': nan, 'area_width': nan, 'area_front': nan, 'house_noFloor': 4, 'house_type': 'Nhà phố', 'house_noBasement': 0, 'house_direction': 'Đông Bắc', 'in_room_noBed': 5, 'in_room_noBath': 6, 'in_room_noKitchen': nan, 'in_room_noRelax': nan, 'in_room_others': nan, 'in_interiorStatus': 'Đầy đủ nội thất', 'prj_name': nan, 'prj_investor': nan, 'prj_status': nan, 'prj_tower': nan, 'legal_status': 'Sổ hồng', 'other_overview': nan, 'other_good_outstandingCharacteristics': nan, 'other_good_locationDesc': nan, 'other_good_community': nan, 'other_good_education': nan, 'overall_info': 'NHÀ PHỐ VÕ THỊ SÁU, QUẬN 1\\nDiện tích: 112.8m² ( 18m x 6.4m )\\nDiện tích sử dụng: 325.8m²\\nKết cấu: 4 tầng (trệt +lầu) 5 phòng ngủ 6 phòng tắm\\nHướng đông bắc\\nĐầy đủ nội thất\\nPháp lý: sổ hồng\\n\\nNhà phố có vị trí cách Trường Đại học Kinh Tế Tài Chính 1.5 km, cách Trường Mầm non Tư Thục 2-9 0.9 km,...\\nTọa lạc tại vị trí thuận tiện di chuyển với đầy đủ các tiện ích về y tế, giáo dục và giải trí: Bệnh viện quận Bình Thạnh 0.7 km, KFC 1.9 km, Shop Bigsize Nhung Lê 0.9 km'}\n",
      "-------------\n",
      "\n",
      "\tCode of group A  | Group condition: isValidInput( buyerInfo.get(\"group\") )  and isValidInput( buyerInfo.get(\"is_married\") )  and isValidInput( buyerInfo.get(\"no_child\") )  and isValidInput(houseInfo.get(\"in_room_noBed\") )\n",
      "{'rule_group': 'A', 'rule_code': 'A1', 'score': 0.7, 'rule_expression': '(getValue(buyerInfo.get(\"group\",  0))  == 1 or (buyerInfo.get(\"is_married\")  == False and buyerInfo.get(\"no_child\") == 0 )) and houseInfo.get(\"in_room_noBed\")  in (1, 2)', 'rule_desc': 'Nếu không có gia đình VÀ không có con (KH nhóm 1) VÀ số phòng ngủ của căn nhà là (1,2)', 'rule_expression_backup': '(getValue(buyerInfo.get(\"group\",  0))  == 1 or (buyerInfo.get(\"is_married\")  == False and buyerInfo.get(\"no_child\") == 0 )) and houseInfo.get(\"no_bedroom\")  in (1, 2)'}\n",
      "score: 0.7\n",
      "{'rule_group': 'A', 'rule_code': 'A2', 'score': 0.6, 'rule_expression': '(getValue(buyerInfo.get(\"group\",  0))  == 1 or (buyerInfo.get(\"is_married\")  == False and buyerInfo.get(\"no_child\") == 0 )) and houseInfo.get(\"in_room_noBed\")  in (2,3,4)', 'rule_desc': 'Nếu không có gia đình VÀ không có con (KH nhóm 1) VÀ số phòng ngủ của căn nhà là 3', 'rule_expression_backup': '(getValue(buyerInfo.get(\"group\",  0))  == 1 or (buyerInfo.get(\"is_married\")  == False and buyerInfo.get(\"no_child\") == 0 )) and houseInfo.get(\"no_bedroom\")  >= 3'}\n",
      "score: 0.6\n",
      "{'rule_group': 'A', 'rule_code': 'A3', 'score': 0.8, 'rule_expression': '( getValue(buyerInfo.get(\"group\",  0))  == 2 or buyerInfo.get(\"is_married\")  == True ) and buyerInfo.get(\"no_child\") in ( 0, 1) and houseInfo.get(\"in_room_noBed\")  in (2, 3,4)', 'rule_desc': 'Nếu có gia đình VÀ số con là (0, 1) (KH nhóm 2) VÀ số phòng ngủ của căn nhà là (2,3)', 'rule_expression_backup': '( getValue(buyerInfo.get(\"group\",  0))  == 2 or buyerInfo.get(\"is_married\")  == True ) and buyerInfo.get(\"no_child\") in ( 0, 1) and houseInfo.get(\"no_bedroom\")  in (2, 3)'}\n",
      "score: 0\n",
      "{'rule_group': 'A', 'rule_code': 'A4', 'score': 0.6, 'rule_expression': '( getValue(buyerInfo.get(\"group\",  0))  == 2 or buyerInfo.get(\"is_married\")  == True ) and buyerInfo.get(\"no_child\") in ( 0, 1) and houseInfo.get(\"in_room_noBed\")  == 1', 'rule_desc': 'Nếu có gia đình VÀ số con là (0, 1) (KH nhóm 2) VÀ số phòng ngủ của căn nhà là 1', 'rule_expression_backup': '( getValue(buyerInfo.get(\"group\",  0))  == 2 or buyerInfo.get(\"is_married\")  == True ) and buyerInfo.get(\"no_child\") in ( 0, 1) and houseInfo.get(\"no_bedroom\")  == 1'}\n",
      "score: 0\n",
      "{'rule_group': 'A', 'rule_code': 'A5', 'score': 0.5, 'rule_expression': '( getValue(buyerInfo.get(\"group\",  0))  == 2 or buyerInfo.get(\"is_married\")  == True ) and buyerInfo.get(\"no_child\") == 2\\xa0and houseInfo.get(\"in_room_noBed\")  == 2', 'rule_desc': 'Nếu có gia đình VÀ số con là 2 (KH nhóm 2) VÀ số phòng ngủ của căn nhà là 2', 'rule_expression_backup': '( getValue(buyerInfo.get(\"group\",  0))  == 2 or buyerInfo.get(\"is_married\")  == True ) and buyerInfo.get(\"no_child\") == 2\\xa0and houseInfo.get(\"no_bedroom\")  == 2'}\n",
      "score: 0\n",
      "{'rule_group': 'A', 'rule_code': 'A6', 'score': 1.0, 'rule_expression': '( getValue(buyerInfo.get(\"group\",  0))  == 2 or buyerInfo.get(\"is_married\")  == True )  and buyerInfo.get(\"no_child\") == 2 and houseInfo.get(\"in_room_noBed\")  in ( 3,4,5)', 'rule_desc': 'Nếu có gia đình VÀ số con là 2 (KH nhóm 2) VÀ số phòng ngủ của căn nhà là 3', 'rule_expression_backup': '( getValue(buyerInfo.get(\"group\",  0))  == 2 or buyerInfo.get(\"is_married\")  == True )  and buyerInfo.get(\"no_child\") == 2 and houseInfo.get(\"no_bedroom\")  >= 3'}\n",
      "score: 0\n",
      "{'rule_group': 'A', 'rule_code': 'A7', 'score': 0.6, 'rule_expression': 'getValue(buyerInfo.get(\"group\",  0))  == 4 and houseInfo.get(\"in_room_noBed\")  == 1', 'rule_desc': 'Nếu KH nhóm 4 VÀ số phòng ngủ là 1', 'rule_expression_backup': 'getValue(buyerInfo.get(\"group\",  0))  == 4 and houseInfo.get(\"no_bedroom\")  == 1'}\n",
      "score: 0\n",
      "{'rule_group': 'A', 'rule_code': 'A8', 'score': 1.0, 'rule_expression': 'getValue(buyerInfo.get(\"group\",  0))  == 4 and houseInfo.get(\"in_room_noBed\")  in (2, 3,4)', 'rule_desc': 'Nếu KH nhóm 4 VÀ số phòng ngủ từ 2', 'rule_expression_backup': 'getValue(buyerInfo.get(\"group\",  0))  == 4 and houseInfo.get(\"no_bedroom\")  >= 2'}\n",
      "score: 0\n",
      "\tCode of group B  | Group condition: buyerInfo.get(\"avai_amt\") is not None and buyerInfo.get(\"monthly_amt\") is not None\n",
      "{'rule_group': 'B', 'rule_code': 'B1', 'score': 1.0, 'rule_expression': 'houseInfo.get(\"price\") >= 0.9 * buyerInfo.get(\"avai_amt\") and houseInfo.get(\"price\") <= buyerInfo.get(\"avai_amt\")', 'rule_desc': 'Nếu giá của ngôi nhà bằng khoảng 0.9-1 số tiền người mua hiện có', 'rule_expression_backup': 'houseInfo.get(\"price\") >= 0.8 * buyerInfo.get(\"avai_amt\")'}\n",
      "score: 0\n",
      "{'rule_group': 'B', 'rule_code': 'B2', 'score': 0.8, 'rule_expression': '( buyerInfo.get(\"avai_amt\")  >= 0.75 * houseInfo.get(\"price\") and houseInfo.get(\"price\") > buyerInfo.get(\"avai_amt\") ) and ( (buyerInfo.get(\"avai_amt\") + 12* buyerInfo.get(\"monthly_amt\")) >= houseInfo.get(\"price\"))', 'rule_desc': 'Nếu người mua có sẵn 0.75 giá trị ngôi nhà, và người mua có khả năng trả góp trong 12 tháng', 'rule_expression_backup': nan}\n",
      "score: 0\n",
      "{'rule_group': 'B', 'rule_code': 'B3', 'score': 0.6, 'rule_expression': '( buyerInfo.get(\"avai_amt\")  >= 0.5 * houseInfo.get(\"price\") and houseInfo.get(\"price\") > buyerInfo.get(\"avai_amt\") ) and ( (buyerInfo.get(\"avai_amt\") + 24* buyerInfo.get(\"monthly_amt\")) >= houseInfo.get(\"price\"))', 'rule_desc': 'Nếu người mua có sẵn 0.5 giá trị ngôi nhà, và người mua có khả năng trả góp trong 24 tháng', 'rule_expression_backup': 'houseInfo.get(\"price\") >= 0.5 * buyerInfo.get(\"avai_amt\") and ( (0.5 * buyerInfo.get(\"avai_amt\") + 24* buyerInfo.get(\"monthly_amt\")) >= houseInfo.get(\"price\"))'}\n",
      "score: 0\n",
      "{'rule_group': 'B', 'rule_code': 'B4', 'score': 0.5, 'rule_expression': '( buyerInfo.get(\"avai_amt\")  >= 0.5 * houseInfo.get(\"price\") and houseInfo.get(\"price\") > buyerInfo.get(\"avai_amt\") ) and ( (buyerInfo.get(\"avai_amt\") + 60* buyerInfo.get(\"monthly_amt\")) >= houseInfo.get(\"price\"))', 'rule_desc': 'Nếu người mua có sẵn 0.5 giá trị ngôi nhà, và người mua có khả năng trả góp trong 60 tháng (5 năm)', 'rule_expression_backup': nan}\n",
      "score: 0\n",
      "{'rule_group': 'B', 'rule_code': 'B5', 'score': 1.0, 'rule_expression': 'getValue(buyerInfo.get(\"group\",  0))  == 4 and ( houseInfo.get(\"price\") >= 0.8 * buyerInfo.get(\"avai_amt\") and houseInfo.get(\"price\") <= buyerInfo.get(\"avai_amt\")*1.2 )', 'rule_desc': 'Nếu người mua thuộc nhóm 4, ngôi nhà trong khoảng 0.8-1.2 số tiền sẵn có', 'rule_expression_backup': nan}\n",
      "score: 0\n",
      "{'rule_group': 'B', 'rule_code': 'B6', 'score': 0.0, 'rule_expression': 'getValue(buyerInfo.get(\"group\",  0))  == 4 and ( houseInfo.get(\"price\") < 0.8 * buyerInfo.get(\"avai_amt\") and houseInfo.get(\"price\") > buyerInfo.get(\"avai_amt\")*1.2 )', 'rule_desc': 'Nếu người mua thuộc nhóm 4, ngôi nhà nhỏ hơn 0.8 hoặc lớn hơn 1.2 số tiền sẵn có', 'rule_expression_backup': nan}\n",
      "score: 0\n",
      "\tCode of group C  | Group condition: isValidInput( buyerInfo.get(\"desired_location\") ) and isValidInput( houseInfo.get(\"address_district\") )\n",
      "{'rule_group': 'C', 'rule_code': 'C1', 'score': 1.0, 'rule_expression': 'fn_calculateDistance(houseInfo.get(\"address_district\"), buyerInfo.get(\"desired_location\")) <= 2', 'rule_desc': 'Nếu trong phạm vi 2km', 'rule_expression_backup': nan}\n",
      "score: 0\n",
      "{'rule_group': 'C', 'rule_code': 'C2', 'score': 0.8, 'rule_expression': 'fn_calculateDistance(houseInfo.get(\"address_district\"), buyerInfo.get(\"desired_location\")) <= 4', 'rule_desc': nan, 'rule_expression_backup': nan}\n",
      "score: 0\n",
      "{'rule_group': 'C', 'rule_code': 'C3', 'score': 0.5, 'rule_expression': 'fn_calculateDistance(houseInfo.get(\"address_district\"), buyerInfo.get(\"desired_location\")) <= 6', 'rule_desc': nan, 'rule_expression_backup': nan}\n",
      "score: 0.5\n",
      "\tCode of group D  | Group condition: 1==1\n",
      "{'rule_group': 'D', 'rule_code': 'D1', 'score': 1.0, 'rule_expression': 'isGoodLegalStatus(houseInfo.get(\"legal_status\"))', 'rule_desc': 'Có giấy tờ', 'rule_expression_backup': 'houseInfo.get(\"legal_status\") in [\\'Sổ hồng\\', \\'Sổ đỏ\\']'}\n",
      "score: 1.0\n",
      "{'rule_group': 'D', 'rule_code': 'D2', 'score': 0.2, 'rule_expression': 'isGoodLegalStatus(houseInfo.get(\"legal_status\")) is not True and getValue(buyerInfo.get(\"group\",  0)) in (1, 3,4)', 'rule_desc': 'K giấy tờ và người mua có nhóm thuộc (1,3,4)', 'rule_expression_backup': nan}\n",
      "score: 0\n",
      "{'rule_group': 'D', 'rule_code': 'D3', 'score': 0.4, 'rule_expression': 'isGoodLegalStatus(houseInfo.get(\"legal_status\")) is not True and getValue(buyerInfo.get(\"group\",  0)) not in (1, 3,4)', 'rule_desc': 'Các trường hợp k giấy tờ còn lại', 'rule_expression_backup': nan}\n",
      "score: 0\n",
      "REPORT:\n",
      "Total calculated Score:  12.6\n",
      "Max Score from Groups:  26.0\n",
      "{'meta_url': 'https://rever.vn/mua/nha-pho-duong-quang-trung-2-tang-dien-tich-21-1m2-phap-ly-so-hong', 'meta_code': 'TGV145971', 'address_street': 'Quang Trung', 'address_ward': 'Phường 12', 'address_district': 'Gò Vấp', 'address_city': 'Hồ Chí Minh', 'price': 2800000000.0, 'area': 21.1, 'area_site': 21.1, 'area_basebuilt': nan, 'area_netused': 57.9, 'area_yard': nan, 'area_length': nan, 'area_width': nan, 'area_front': nan, 'house_noFloor': 2, 'house_type': 'Nhà phố', 'house_noBasement': 0, 'house_direction': 'Tây', 'in_room_noBed': 2, 'in_room_noBath': 3, 'in_room_noKitchen': nan, 'in_room_noRelax': nan, 'in_room_others': nan, 'in_interiorStatus': 'Nội thất cơ bản', 'prj_name': nan, 'prj_investor': nan, 'prj_status': nan, 'prj_tower': nan, 'legal_status': 'Sổ hồng', 'other_overview': nan, 'other_good_outstandingCharacteristics': nan, 'other_good_locationDesc': nan, 'other_good_community': nan, 'other_good_education': nan, 'overall_info': 'BÁN NHÀ PHỐ ĐƯỜNG QUANG TRUNG, GÒ VẤP\\nDiện tích: 21.1m² (7m x 3.5m)\\nDiện tích sử dụng: 57.9m²\\nKết cấu: 2 tầng (trệt + lầu), 2 phòng ngủ 3 phòng tắm\\nTình trạng nội thất: Nội thất cơ bản\\nPháp lý: Sổ hồng\\n\\nNhà phố có vị trí cách Trường Đại học Sài Gòn khoảng 9.9km, cách Saint Ange French International School khoảng 9.6km. Di chuyển tới Elite Fitness Đồng Khởi khoảng 9.4km, Trung tâm Thể dục Thể thao Hoa Lư khoảng 8.6km. Tọa lạc tại vị trí thuận tiện di chuyển với đầy đủ các tiện ích về y tế, giáo dục và giải trí.'}\n",
      "{'executedRuleGroup': [{'groupCode': 'A', 'groupCondition': 'isValidInput( buyerInfo.get(\"group\") )  and isValidInput( buyerInfo.get(\"is_married\") )  and isValidInput( buyerInfo.get(\"no_child\") )  and isValidInput(houseInfo.get(\"in_room_noBed\") )', 'groupScore': 3.0, 'rule_group': 'A', 'rule_code': 'A1', 'score': 0.7, 'rule_expression': '(getValue(buyerInfo.get(\"group\",  0))  == 1 or (buyerInfo.get(\"is_married\")  == False and buyerInfo.get(\"no_child\") == 0 )) and houseInfo.get(\"in_room_noBed\")  in (1, 2)', 'rule_desc': 'Nếu không có gia đình VÀ không có con (KH nhóm 1) VÀ số phòng ngủ của căn nhà là (1,2)', 'rule_expression_backup': '(getValue(buyerInfo.get(\"group\",  0))  == 1 or (buyerInfo.get(\"is_married\")  == False and buyerInfo.get(\"no_child\") == 0 )) and houseInfo.get(\"no_bedroom\")  in (1, 2)', 'calRuleScore': 2.0999999999999996}, {'groupCode': 'B', 'groupCondition': 'buyerInfo.get(\"avai_amt\") is not None and buyerInfo.get(\"monthly_amt\") is not None', 'groupScore': 10.0, 'calRuleScore': 0.0}, {'groupCode': 'C', 'groupCondition': 'isValidInput( buyerInfo.get(\"desired_location\") ) and isValidInput( houseInfo.get(\"address_district\") )', 'groupScore': 5.0, 'rule_group': 'C', 'rule_code': 'C3', 'score': 0.5, 'rule_expression': 'fn_calculateDistance(houseInfo.get(\"address_district\"), buyerInfo.get(\"desired_location\")) <= 6', 'rule_desc': nan, 'rule_expression_backup': nan, 'calRuleScore': 2.5}, {'groupCode': 'D', 'groupCondition': '1==1', 'groupScore': 8.0, 'rule_group': 'D', 'rule_code': 'D1', 'score': 1.0, 'rule_expression': 'isGoodLegalStatus(houseInfo.get(\"legal_status\"))', 'rule_desc': 'Có giấy tờ', 'rule_expression_backup': 'houseInfo.get(\"legal_status\") in [\\'Sổ hồng\\', \\'Sổ đỏ\\']', 'calRuleScore': 8.0}], 'houseInfo': {'meta_url': 'https://rever.vn/mua/nha-pho-duong-quang-trung-2-tang-dien-tich-21-1m2-phap-ly-so-hong', 'meta_code': 'TGV145971', 'address_street': 'Quang Trung', 'address_ward': 'Phường 12', 'address_district': 'Gò Vấp', 'address_city': 'Hồ Chí Minh', 'price': 2800000000.0, 'area': 21.1, 'area_site': 21.1, 'area_basebuilt': nan, 'area_netused': 57.9, 'area_yard': nan, 'area_length': nan, 'area_width': nan, 'area_front': nan, 'house_noFloor': 2, 'house_type': 'Nhà phố', 'house_noBasement': 0, 'house_direction': 'Tây', 'in_room_noBed': 2, 'in_room_noBath': 3, 'in_room_noKitchen': nan, 'in_room_noRelax': nan, 'in_room_others': nan, 'in_interiorStatus': 'Nội thất cơ bản', 'prj_name': nan, 'prj_investor': nan, 'prj_status': nan, 'prj_tower': nan, 'legal_status': 'Sổ hồng', 'other_overview': nan, 'other_good_outstandingCharacteristics': nan, 'other_good_locationDesc': nan, 'other_good_community': nan, 'other_good_education': nan, 'overall_info': 'BÁN NHÀ PHỐ ĐƯỜNG QUANG TRUNG, GÒ VẤP\\nDiện tích: 21.1m² (7m x 3.5m)\\nDiện tích sử dụng: 57.9m²\\nKết cấu: 2 tầng (trệt + lầu), 2 phòng ngủ 3 phòng tắm\\nTình trạng nội thất: Nội thất cơ bản\\nPháp lý: Sổ hồng\\n\\nNhà phố có vị trí cách Trường Đại học Sài Gòn khoảng 9.9km, cách Saint Ange French International School khoảng 9.6km. Di chuyển tới Elite Fitness Đồng Khởi khoảng 9.4km, Trung tâm Thể dục Thể thao Hoa Lư khoảng 8.6km. Tọa lạc tại vị trí thuận tiện di chuyển với đầy đủ các tiện ích về y tế, giáo dục và giải trí.'}, 'maxScore': 26.0, 'houseScore': 12.6, 'housePerformance': 48.46, 'buyerInfo': {'id': 'x2', 'group': 1.0, 'age': 30.0, 'is_married': 0.0, 'no_child': 0.0, 'month_income': 70000000.0, 'monthly_amt': 50000000.0, 'avai_amt': 10000000000.0, 'desired_location': 'Quận 3', 'desired_interiorStatus': nan}, 'id': 'x2', 'group': 1.0, 'age': 30.0, 'is_married': 0.0, 'no_child': 0.0, 'month_income': 70000000.0, 'monthly_amt': 50000000.0, 'avai_amt': 10000000000.0, 'desired_location': 'Quận 3', 'desired_interiorStatus': nan, 'meta_url': 'https://rever.vn/mua/nha-pho-duong-quang-trung-2-tang-dien-tich-21-1m2-phap-ly-so-hong', 'meta_code': 'TGV145971', 'address_street': 'Quang Trung', 'address_ward': 'Phường 12', 'address_district': 'Gò Vấp', 'address_city': 'Hồ Chí Minh', 'price': 2800000000.0, 'area': 21.1, 'area_site': 21.1, 'area_basebuilt': nan, 'area_netused': 57.9, 'area_yard': nan, 'area_length': nan, 'area_width': nan, 'area_front': nan, 'house_noFloor': 2, 'house_type': 'Nhà phố', 'house_noBasement': 0, 'house_direction': 'Tây', 'in_room_noBed': 2, 'in_room_noBath': 3, 'in_room_noKitchen': nan, 'in_room_noRelax': nan, 'in_room_others': nan, 'in_interiorStatus': 'Nội thất cơ bản', 'prj_name': nan, 'prj_investor': nan, 'prj_status': nan, 'prj_tower': nan, 'legal_status': 'Sổ hồng', 'other_overview': nan, 'other_good_outstandingCharacteristics': nan, 'other_good_locationDesc': nan, 'other_good_community': nan, 'other_good_education': nan, 'overall_info': 'BÁN NHÀ PHỐ ĐƯỜNG QUANG TRUNG, GÒ VẤP\\nDiện tích: 21.1m² (7m x 3.5m)\\nDiện tích sử dụng: 57.9m²\\nKết cấu: 2 tầng (trệt + lầu), 2 phòng ngủ 3 phòng tắm\\nTình trạng nội thất: Nội thất cơ bản\\nPháp lý: Sổ hồng\\n\\nNhà phố có vị trí cách Trường Đại học Sài Gòn khoảng 9.9km, cách Saint Ange French International School khoảng 9.6km. Di chuyển tới Elite Fitness Đồng Khởi khoảng 9.4km, Trung tâm Thể dục Thể thao Hoa Lư khoảng 8.6km. Tọa lạc tại vị trí thuận tiện di chuyển với đầy đủ các tiện ích về y tế, giáo dục và giải trí.'}\n",
      "-------------\n",
      "\n",
      "\tCode of group A  | Group condition: isValidInput( buyerInfo.get(\"group\") )  and isValidInput( buyerInfo.get(\"is_married\") )  and isValidInput( buyerInfo.get(\"no_child\") )  and isValidInput(houseInfo.get(\"in_room_noBed\") )\n",
      "{'rule_group': 'A', 'rule_code': 'A1', 'score': 0.7, 'rule_expression': '(getValue(buyerInfo.get(\"group\",  0))  == 1 or (buyerInfo.get(\"is_married\")  == False and buyerInfo.get(\"no_child\") == 0 )) and houseInfo.get(\"in_room_noBed\")  in (1, 2)', 'rule_desc': 'Nếu không có gia đình VÀ không có con (KH nhóm 1) VÀ số phòng ngủ của căn nhà là (1,2)', 'rule_expression_backup': '(getValue(buyerInfo.get(\"group\",  0))  == 1 or (buyerInfo.get(\"is_married\")  == False and buyerInfo.get(\"no_child\") == 0 )) and houseInfo.get(\"no_bedroom\")  in (1, 2)'}\n",
      "score: 0\n",
      "{'rule_group': 'A', 'rule_code': 'A2', 'score': 0.6, 'rule_expression': '(getValue(buyerInfo.get(\"group\",  0))  == 1 or (buyerInfo.get(\"is_married\")  == False and buyerInfo.get(\"no_child\") == 0 )) and houseInfo.get(\"in_room_noBed\")  in (2,3,4)', 'rule_desc': 'Nếu không có gia đình VÀ không có con (KH nhóm 1) VÀ số phòng ngủ của căn nhà là 3', 'rule_expression_backup': '(getValue(buyerInfo.get(\"group\",  0))  == 1 or (buyerInfo.get(\"is_married\")  == False and buyerInfo.get(\"no_child\") == 0 )) and houseInfo.get(\"no_bedroom\")  >= 3'}\n",
      "score: 0\n",
      "{'rule_group': 'A', 'rule_code': 'A3', 'score': 0.8, 'rule_expression': '( getValue(buyerInfo.get(\"group\",  0))  == 2 or buyerInfo.get(\"is_married\")  == True ) and buyerInfo.get(\"no_child\") in ( 0, 1) and houseInfo.get(\"in_room_noBed\")  in (2, 3,4)', 'rule_desc': 'Nếu có gia đình VÀ số con là (0, 1) (KH nhóm 2) VÀ số phòng ngủ của căn nhà là (2,3)', 'rule_expression_backup': '( getValue(buyerInfo.get(\"group\",  0))  == 2 or buyerInfo.get(\"is_married\")  == True ) and buyerInfo.get(\"no_child\") in ( 0, 1) and houseInfo.get(\"no_bedroom\")  in (2, 3)'}\n",
      "score: 0\n",
      "{'rule_group': 'A', 'rule_code': 'A4', 'score': 0.6, 'rule_expression': '( getValue(buyerInfo.get(\"group\",  0))  == 2 or buyerInfo.get(\"is_married\")  == True ) and buyerInfo.get(\"no_child\") in ( 0, 1) and houseInfo.get(\"in_room_noBed\")  == 1', 'rule_desc': 'Nếu có gia đình VÀ số con là (0, 1) (KH nhóm 2) VÀ số phòng ngủ của căn nhà là 1', 'rule_expression_backup': '( getValue(buyerInfo.get(\"group\",  0))  == 2 or buyerInfo.get(\"is_married\")  == True ) and buyerInfo.get(\"no_child\") in ( 0, 1) and houseInfo.get(\"no_bedroom\")  == 1'}\n",
      "score: 0\n",
      "{'rule_group': 'A', 'rule_code': 'A5', 'score': 0.5, 'rule_expression': '( getValue(buyerInfo.get(\"group\",  0))  == 2 or buyerInfo.get(\"is_married\")  == True ) and buyerInfo.get(\"no_child\") == 2\\xa0and houseInfo.get(\"in_room_noBed\")  == 2', 'rule_desc': 'Nếu có gia đình VÀ số con là 2 (KH nhóm 2) VÀ số phòng ngủ của căn nhà là 2', 'rule_expression_backup': '( getValue(buyerInfo.get(\"group\",  0))  == 2 or buyerInfo.get(\"is_married\")  == True ) and buyerInfo.get(\"no_child\") == 2\\xa0and houseInfo.get(\"no_bedroom\")  == 2'}\n",
      "score: 0\n",
      "{'rule_group': 'A', 'rule_code': 'A6', 'score': 1.0, 'rule_expression': '( getValue(buyerInfo.get(\"group\",  0))  == 2 or buyerInfo.get(\"is_married\")  == True )  and buyerInfo.get(\"no_child\") == 2 and houseInfo.get(\"in_room_noBed\")  in ( 3,4,5)', 'rule_desc': 'Nếu có gia đình VÀ số con là 2 (KH nhóm 2) VÀ số phòng ngủ của căn nhà là 3', 'rule_expression_backup': '( getValue(buyerInfo.get(\"group\",  0))  == 2 or buyerInfo.get(\"is_married\")  == True )  and buyerInfo.get(\"no_child\") == 2 and houseInfo.get(\"no_bedroom\")  >= 3'}\n",
      "score: 0\n",
      "{'rule_group': 'A', 'rule_code': 'A7', 'score': 0.6, 'rule_expression': 'getValue(buyerInfo.get(\"group\",  0))  == 4 and houseInfo.get(\"in_room_noBed\")  == 1', 'rule_desc': 'Nếu KH nhóm 4 VÀ số phòng ngủ là 1', 'rule_expression_backup': 'getValue(buyerInfo.get(\"group\",  0))  == 4 and houseInfo.get(\"no_bedroom\")  == 1'}\n",
      "score: 0\n",
      "{'rule_group': 'A', 'rule_code': 'A8', 'score': 1.0, 'rule_expression': 'getValue(buyerInfo.get(\"group\",  0))  == 4 and houseInfo.get(\"in_room_noBed\")  in (2, 3,4)', 'rule_desc': 'Nếu KH nhóm 4 VÀ số phòng ngủ từ 2', 'rule_expression_backup': 'getValue(buyerInfo.get(\"group\",  0))  == 4 and houseInfo.get(\"no_bedroom\")  >= 2'}\n",
      "score: 0\n",
      "\tCode of group B  | Group condition: buyerInfo.get(\"avai_amt\") is not None and buyerInfo.get(\"monthly_amt\") is not None\n",
      "{'rule_group': 'B', 'rule_code': 'B1', 'score': 1.0, 'rule_expression': 'houseInfo.get(\"price\") >= 0.9 * buyerInfo.get(\"avai_amt\") and houseInfo.get(\"price\") <= buyerInfo.get(\"avai_amt\")', 'rule_desc': 'Nếu giá của ngôi nhà bằng khoảng 0.9-1 số tiền người mua hiện có', 'rule_expression_backup': 'houseInfo.get(\"price\") >= 0.8 * buyerInfo.get(\"avai_amt\")'}\n",
      "score: 0\n",
      "{'rule_group': 'B', 'rule_code': 'B2', 'score': 0.8, 'rule_expression': '( buyerInfo.get(\"avai_amt\")  >= 0.75 * houseInfo.get(\"price\") and houseInfo.get(\"price\") > buyerInfo.get(\"avai_amt\") ) and ( (buyerInfo.get(\"avai_amt\") + 12* buyerInfo.get(\"monthly_amt\")) >= houseInfo.get(\"price\"))', 'rule_desc': 'Nếu người mua có sẵn 0.75 giá trị ngôi nhà, và người mua có khả năng trả góp trong 12 tháng', 'rule_expression_backup': nan}\n",
      "score: 0\n",
      "{'rule_group': 'B', 'rule_code': 'B3', 'score': 0.6, 'rule_expression': '( buyerInfo.get(\"avai_amt\")  >= 0.5 * houseInfo.get(\"price\") and houseInfo.get(\"price\") > buyerInfo.get(\"avai_amt\") ) and ( (buyerInfo.get(\"avai_amt\") + 24* buyerInfo.get(\"monthly_amt\")) >= houseInfo.get(\"price\"))', 'rule_desc': 'Nếu người mua có sẵn 0.5 giá trị ngôi nhà, và người mua có khả năng trả góp trong 24 tháng', 'rule_expression_backup': 'houseInfo.get(\"price\") >= 0.5 * buyerInfo.get(\"avai_amt\") and ( (0.5 * buyerInfo.get(\"avai_amt\") + 24* buyerInfo.get(\"monthly_amt\")) >= houseInfo.get(\"price\"))'}\n",
      "score: 0\n",
      "{'rule_group': 'B', 'rule_code': 'B4', 'score': 0.5, 'rule_expression': '( buyerInfo.get(\"avai_amt\")  >= 0.5 * houseInfo.get(\"price\") and houseInfo.get(\"price\") > buyerInfo.get(\"avai_amt\") ) and ( (buyerInfo.get(\"avai_amt\") + 60* buyerInfo.get(\"monthly_amt\")) >= houseInfo.get(\"price\"))', 'rule_desc': 'Nếu người mua có sẵn 0.5 giá trị ngôi nhà, và người mua có khả năng trả góp trong 60 tháng (5 năm)', 'rule_expression_backup': nan}\n",
      "score: 0\n",
      "{'rule_group': 'B', 'rule_code': 'B5', 'score': 1.0, 'rule_expression': 'getValue(buyerInfo.get(\"group\",  0))  == 4 and ( houseInfo.get(\"price\") >= 0.8 * buyerInfo.get(\"avai_amt\") and houseInfo.get(\"price\") <= buyerInfo.get(\"avai_amt\")*1.2 )', 'rule_desc': 'Nếu người mua thuộc nhóm 4, ngôi nhà trong khoảng 0.8-1.2 số tiền sẵn có', 'rule_expression_backup': nan}\n",
      "score: 0\n",
      "{'rule_group': 'B', 'rule_code': 'B6', 'score': 0.0, 'rule_expression': 'getValue(buyerInfo.get(\"group\",  0))  == 4 and ( houseInfo.get(\"price\") < 0.8 * buyerInfo.get(\"avai_amt\") and houseInfo.get(\"price\") > buyerInfo.get(\"avai_amt\")*1.2 )', 'rule_desc': 'Nếu người mua thuộc nhóm 4, ngôi nhà nhỏ hơn 0.8 hoặc lớn hơn 1.2 số tiền sẵn có', 'rule_expression_backup': nan}\n",
      "score: 0\n",
      "\tCode of group C  | Group condition: isValidInput( buyerInfo.get(\"desired_location\") ) and isValidInput( houseInfo.get(\"address_district\") )\n",
      "{'rule_group': 'C', 'rule_code': 'C1', 'score': 1.0, 'rule_expression': 'fn_calculateDistance(houseInfo.get(\"address_district\"), buyerInfo.get(\"desired_location\")) <= 2', 'rule_desc': 'Nếu trong phạm vi 2km', 'rule_expression_backup': nan}\n",
      "score: 0\n",
      "{'rule_group': 'C', 'rule_code': 'C2', 'score': 0.8, 'rule_expression': 'fn_calculateDistance(houseInfo.get(\"address_district\"), buyerInfo.get(\"desired_location\")) <= 4', 'rule_desc': nan, 'rule_expression_backup': nan}\n",
      "score: 0.8\n",
      "{'rule_group': 'C', 'rule_code': 'C3', 'score': 0.5, 'rule_expression': 'fn_calculateDistance(houseInfo.get(\"address_district\"), buyerInfo.get(\"desired_location\")) <= 6', 'rule_desc': nan, 'rule_expression_backup': nan}\n",
      "score: 0.5\n",
      "\tCode of group D  | Group condition: 1==1\n",
      "{'rule_group': 'D', 'rule_code': 'D1', 'score': 1.0, 'rule_expression': 'isGoodLegalStatus(houseInfo.get(\"legal_status\"))', 'rule_desc': 'Có giấy tờ', 'rule_expression_backup': 'houseInfo.get(\"legal_status\") in [\\'Sổ hồng\\', \\'Sổ đỏ\\']'}\n",
      "score: 1.0\n",
      "{'rule_group': 'D', 'rule_code': 'D2', 'score': 0.2, 'rule_expression': 'isGoodLegalStatus(houseInfo.get(\"legal_status\")) is not True and getValue(buyerInfo.get(\"group\",  0)) in (1, 3,4)', 'rule_desc': 'K giấy tờ và người mua có nhóm thuộc (1,3,4)', 'rule_expression_backup': nan}\n",
      "score: 0\n",
      "{'rule_group': 'D', 'rule_code': 'D3', 'score': 0.4, 'rule_expression': 'isGoodLegalStatus(houseInfo.get(\"legal_status\")) is not True and getValue(buyerInfo.get(\"group\",  0)) not in (1, 3,4)', 'rule_desc': 'Các trường hợp k giấy tờ còn lại', 'rule_expression_backup': nan}\n",
      "score: 0\n",
      "REPORT:\n",
      "Total calculated Score:  12.0\n",
      "Max Score from Groups:  26.0\n",
      "{'meta_url': 'https://rever.vn/mua/nha-pho-duong-thanh-thai-4-tang-dien-tich-108m2-phap-ly-so-hong', 'meta_code': 'T10116615', 'address_street': 'Thành Thái', 'address_ward': 'Phường 14', 'address_district': 'Quận 10', 'address_city': 'Hồ Chí Minh', 'price': 14000000000.0, 'area': 108.0, 'area_site': 108.0, 'area_basebuilt': nan, 'area_netused': 332.0, 'area_yard': nan, 'area_length': nan, 'area_width': nan, 'area_front': nan, 'house_noFloor': 4, 'house_type': 'Nhà phố', 'house_noBasement': 0, 'house_direction': 'Đông Bắc', 'in_room_noBed': 5, 'in_room_noBath': 3, 'in_room_noKitchen': nan, 'in_room_noRelax': nan, 'in_room_others': nan, 'in_interiorStatus': 'Đầy đủ nội thất', 'prj_name': nan, 'prj_investor': nan, 'prj_status': nan, 'prj_tower': nan, 'legal_status': 'Sổ hồng', 'other_overview': nan, 'other_good_outstandingCharacteristics': 'Nhà có kiến trúc hiện đại và sang trọng, đầy đủ các tiện ích và công năng. Khu vực dân cư an ninh và yên tĩnh.', 'other_good_locationDesc': 'Nhà phố có vị trí cách Trường Mầm non Sakura Montessori Quận 2 - TP HCM khoảng 9.8km, cách Trường Đại học Sài Gòn khoảng 2.7km. Tọa lạc tại vị trí thuận tiện di chuyển với đầy đủ các tiện ích về y tế, giáo dục và giải trí.', 'other_good_community': 'Cộng đồng dân cư văn minh, dân trí cao, hòa nhã.', 'other_good_education': 'Trường ĐH Kinh tế Thành phố HCM 400m, Học viện Hành chính Quốc gia 300m,...', 'overall_info': 'NHÀ PHỐ THÀNH THÁI, QUẬN 10\\nDiện tích: 108m² ( 4.2m x 24m )\\nDiện tích sử dụng: 332m²\\nKết cấu: 4 tầng (trệt +lầu) 5 phòng ngủ 3 phòng tắm\\nHướng đông bắc\\nĐầy đủ nội thất\\nPháp lý: sổ hồng\\n\\nNhà phố có vị trí cách Trường Đại học Bách Khoa (cổng 3) 0.4 km, cách Trường Mầm non 1 1.8 km,...\\nTọa lạc tại vị trí thuận tiện di chuyển với đầy đủ các tiện ích về y tế, giáo dục và giải trí: Bệnh viện Chợ Rẫy 1.5 km, Hoàng Yến Buffet 1.8 km, Cửa hàng tiện lợi GS25 1.2 km'}\n",
      "{'executedRuleGroup': [{'groupCode': 'A', 'groupCondition': 'isValidInput( buyerInfo.get(\"group\") )  and isValidInput( buyerInfo.get(\"is_married\") )  and isValidInput( buyerInfo.get(\"no_child\") )  and isValidInput(houseInfo.get(\"in_room_noBed\") )', 'groupScore': 3.0, 'calRuleScore': 0.0}, {'groupCode': 'B', 'groupCondition': 'buyerInfo.get(\"avai_amt\") is not None and buyerInfo.get(\"monthly_amt\") is not None', 'groupScore': 10.0, 'calRuleScore': 0.0}, {'groupCode': 'C', 'groupCondition': 'isValidInput( buyerInfo.get(\"desired_location\") ) and isValidInput( houseInfo.get(\"address_district\") )', 'groupScore': 5.0, 'rule_group': 'C', 'rule_code': 'C2', 'score': 0.8, 'rule_expression': 'fn_calculateDistance(houseInfo.get(\"address_district\"), buyerInfo.get(\"desired_location\")) <= 4', 'rule_desc': nan, 'rule_expression_backup': nan, 'calRuleScore': 4.0}, {'groupCode': 'D', 'groupCondition': '1==1', 'groupScore': 8.0, 'rule_group': 'D', 'rule_code': 'D1', 'score': 1.0, 'rule_expression': 'isGoodLegalStatus(houseInfo.get(\"legal_status\"))', 'rule_desc': 'Có giấy tờ', 'rule_expression_backup': 'houseInfo.get(\"legal_status\") in [\\'Sổ hồng\\', \\'Sổ đỏ\\']', 'calRuleScore': 8.0}], 'houseInfo': {'meta_url': 'https://rever.vn/mua/nha-pho-duong-thanh-thai-4-tang-dien-tich-108m2-phap-ly-so-hong', 'meta_code': 'T10116615', 'address_street': 'Thành Thái', 'address_ward': 'Phường 14', 'address_district': 'Quận 10', 'address_city': 'Hồ Chí Minh', 'price': 14000000000.0, 'area': 108.0, 'area_site': 108.0, 'area_basebuilt': nan, 'area_netused': 332.0, 'area_yard': nan, 'area_length': nan, 'area_width': nan, 'area_front': nan, 'house_noFloor': 4, 'house_type': 'Nhà phố', 'house_noBasement': 0, 'house_direction': 'Đông Bắc', 'in_room_noBed': 5, 'in_room_noBath': 3, 'in_room_noKitchen': nan, 'in_room_noRelax': nan, 'in_room_others': nan, 'in_interiorStatus': 'Đầy đủ nội thất', 'prj_name': nan, 'prj_investor': nan, 'prj_status': nan, 'prj_tower': nan, 'legal_status': 'Sổ hồng', 'other_overview': nan, 'other_good_outstandingCharacteristics': 'Nhà có kiến trúc hiện đại và sang trọng, đầy đủ các tiện ích và công năng. Khu vực dân cư an ninh và yên tĩnh.', 'other_good_locationDesc': 'Nhà phố có vị trí cách Trường Mầm non Sakura Montessori Quận 2 - TP HCM khoảng 9.8km, cách Trường Đại học Sài Gòn khoảng 2.7km. Tọa lạc tại vị trí thuận tiện di chuyển với đầy đủ các tiện ích về y tế, giáo dục và giải trí.', 'other_good_community': 'Cộng đồng dân cư văn minh, dân trí cao, hòa nhã.', 'other_good_education': 'Trường ĐH Kinh tế Thành phố HCM 400m, Học viện Hành chính Quốc gia 300m,...', 'overall_info': 'NHÀ PHỐ THÀNH THÁI, QUẬN 10\\nDiện tích: 108m² ( 4.2m x 24m )\\nDiện tích sử dụng: 332m²\\nKết cấu: 4 tầng (trệt +lầu) 5 phòng ngủ 3 phòng tắm\\nHướng đông bắc\\nĐầy đủ nội thất\\nPháp lý: sổ hồng\\n\\nNhà phố có vị trí cách Trường Đại học Bách Khoa (cổng 3) 0.4 km, cách Trường Mầm non 1 1.8 km,...\\nTọa lạc tại vị trí thuận tiện di chuyển với đầy đủ các tiện ích về y tế, giáo dục và giải trí: Bệnh viện Chợ Rẫy 1.5 km, Hoàng Yến Buffet 1.8 km, Cửa hàng tiện lợi GS25 1.2 km'}, 'maxScore': 26.0, 'houseScore': 12.0, 'housePerformance': 46.15, 'buyerInfo': {'id': 'x2', 'group': 1.0, 'age': 30.0, 'is_married': 0.0, 'no_child': 0.0, 'month_income': 70000000.0, 'monthly_amt': 50000000.0, 'avai_amt': 10000000000.0, 'desired_location': 'Quận 3', 'desired_interiorStatus': nan}, 'id': 'x2', 'group': 1.0, 'age': 30.0, 'is_married': 0.0, 'no_child': 0.0, 'month_income': 70000000.0, 'monthly_amt': 50000000.0, 'avai_amt': 10000000000.0, 'desired_location': 'Quận 3', 'desired_interiorStatus': nan, 'meta_url': 'https://rever.vn/mua/nha-pho-duong-thanh-thai-4-tang-dien-tich-108m2-phap-ly-so-hong', 'meta_code': 'T10116615', 'address_street': 'Thành Thái', 'address_ward': 'Phường 14', 'address_district': 'Quận 10', 'address_city': 'Hồ Chí Minh', 'price': 14000000000.0, 'area': 108.0, 'area_site': 108.0, 'area_basebuilt': nan, 'area_netused': 332.0, 'area_yard': nan, 'area_length': nan, 'area_width': nan, 'area_front': nan, 'house_noFloor': 4, 'house_type': 'Nhà phố', 'house_noBasement': 0, 'house_direction': 'Đông Bắc', 'in_room_noBed': 5, 'in_room_noBath': 3, 'in_room_noKitchen': nan, 'in_room_noRelax': nan, 'in_room_others': nan, 'in_interiorStatus': 'Đầy đủ nội thất', 'prj_name': nan, 'prj_investor': nan, 'prj_status': nan, 'prj_tower': nan, 'legal_status': 'Sổ hồng', 'other_overview': nan, 'other_good_outstandingCharacteristics': 'Nhà có kiến trúc hiện đại và sang trọng, đầy đủ các tiện ích và công năng. Khu vực dân cư an ninh và yên tĩnh.', 'other_good_locationDesc': 'Nhà phố có vị trí cách Trường Mầm non Sakura Montessori Quận 2 - TP HCM khoảng 9.8km, cách Trường Đại học Sài Gòn khoảng 2.7km. Tọa lạc tại vị trí thuận tiện di chuyển với đầy đủ các tiện ích về y tế, giáo dục và giải trí.', 'other_good_community': 'Cộng đồng dân cư văn minh, dân trí cao, hòa nhã.', 'other_good_education': 'Trường ĐH Kinh tế Thành phố HCM 400m, Học viện Hành chính Quốc gia 300m,...', 'overall_info': 'NHÀ PHỐ THÀNH THÁI, QUẬN 10\\nDiện tích: 108m² ( 4.2m x 24m )\\nDiện tích sử dụng: 332m²\\nKết cấu: 4 tầng (trệt +lầu) 5 phòng ngủ 3 phòng tắm\\nHướng đông bắc\\nĐầy đủ nội thất\\nPháp lý: sổ hồng\\n\\nNhà phố có vị trí cách Trường Đại học Bách Khoa (cổng 3) 0.4 km, cách Trường Mầm non 1 1.8 km,...\\nTọa lạc tại vị trí thuận tiện di chuyển với đầy đủ các tiện ích về y tế, giáo dục và giải trí: Bệnh viện Chợ Rẫy 1.5 km, Hoàng Yến Buffet 1.8 km, Cửa hàng tiện lợi GS25 1.2 km'}\n",
      "-------------\n",
      "\n",
      "\tCode of group A  | Group condition: isValidInput( buyerInfo.get(\"group\") )  and isValidInput( buyerInfo.get(\"is_married\") )  and isValidInput( buyerInfo.get(\"no_child\") )  and isValidInput(houseInfo.get(\"in_room_noBed\") )\n",
      "{'rule_group': 'A', 'rule_code': 'A1', 'score': 0.7, 'rule_expression': '(getValue(buyerInfo.get(\"group\",  0))  == 1 or (buyerInfo.get(\"is_married\")  == False and buyerInfo.get(\"no_child\") == 0 )) and houseInfo.get(\"in_room_noBed\")  in (1, 2)', 'rule_desc': 'Nếu không có gia đình VÀ không có con (KH nhóm 1) VÀ số phòng ngủ của căn nhà là (1,2)', 'rule_expression_backup': '(getValue(buyerInfo.get(\"group\",  0))  == 1 or (buyerInfo.get(\"is_married\")  == False and buyerInfo.get(\"no_child\") == 0 )) and houseInfo.get(\"no_bedroom\")  in (1, 2)'}\n",
      "score: 0\n",
      "{'rule_group': 'A', 'rule_code': 'A2', 'score': 0.6, 'rule_expression': '(getValue(buyerInfo.get(\"group\",  0))  == 1 or (buyerInfo.get(\"is_married\")  == False and buyerInfo.get(\"no_child\") == 0 )) and houseInfo.get(\"in_room_noBed\")  in (2,3,4)', 'rule_desc': 'Nếu không có gia đình VÀ không có con (KH nhóm 1) VÀ số phòng ngủ của căn nhà là 3', 'rule_expression_backup': '(getValue(buyerInfo.get(\"group\",  0))  == 1 or (buyerInfo.get(\"is_married\")  == False and buyerInfo.get(\"no_child\") == 0 )) and houseInfo.get(\"no_bedroom\")  >= 3'}\n",
      "score: 0.6\n",
      "{'rule_group': 'A', 'rule_code': 'A3', 'score': 0.8, 'rule_expression': '( getValue(buyerInfo.get(\"group\",  0))  == 2 or buyerInfo.get(\"is_married\")  == True ) and buyerInfo.get(\"no_child\") in ( 0, 1) and houseInfo.get(\"in_room_noBed\")  in (2, 3,4)', 'rule_desc': 'Nếu có gia đình VÀ số con là (0, 1) (KH nhóm 2) VÀ số phòng ngủ của căn nhà là (2,3)', 'rule_expression_backup': '( getValue(buyerInfo.get(\"group\",  0))  == 2 or buyerInfo.get(\"is_married\")  == True ) and buyerInfo.get(\"no_child\") in ( 0, 1) and houseInfo.get(\"no_bedroom\")  in (2, 3)'}\n",
      "score: 0\n",
      "{'rule_group': 'A', 'rule_code': 'A4', 'score': 0.6, 'rule_expression': '( getValue(buyerInfo.get(\"group\",  0))  == 2 or buyerInfo.get(\"is_married\")  == True ) and buyerInfo.get(\"no_child\") in ( 0, 1) and houseInfo.get(\"in_room_noBed\")  == 1', 'rule_desc': 'Nếu có gia đình VÀ số con là (0, 1) (KH nhóm 2) VÀ số phòng ngủ của căn nhà là 1', 'rule_expression_backup': '( getValue(buyerInfo.get(\"group\",  0))  == 2 or buyerInfo.get(\"is_married\")  == True ) and buyerInfo.get(\"no_child\") in ( 0, 1) and houseInfo.get(\"no_bedroom\")  == 1'}\n",
      "score: 0\n",
      "{'rule_group': 'A', 'rule_code': 'A5', 'score': 0.5, 'rule_expression': '( getValue(buyerInfo.get(\"group\",  0))  == 2 or buyerInfo.get(\"is_married\")  == True ) and buyerInfo.get(\"no_child\") == 2\\xa0and houseInfo.get(\"in_room_noBed\")  == 2', 'rule_desc': 'Nếu có gia đình VÀ số con là 2 (KH nhóm 2) VÀ số phòng ngủ của căn nhà là 2', 'rule_expression_backup': '( getValue(buyerInfo.get(\"group\",  0))  == 2 or buyerInfo.get(\"is_married\")  == True ) and buyerInfo.get(\"no_child\") == 2\\xa0and houseInfo.get(\"no_bedroom\")  == 2'}\n",
      "score: 0\n",
      "{'rule_group': 'A', 'rule_code': 'A6', 'score': 1.0, 'rule_expression': '( getValue(buyerInfo.get(\"group\",  0))  == 2 or buyerInfo.get(\"is_married\")  == True )  and buyerInfo.get(\"no_child\") == 2 and houseInfo.get(\"in_room_noBed\")  in ( 3,4,5)', 'rule_desc': 'Nếu có gia đình VÀ số con là 2 (KH nhóm 2) VÀ số phòng ngủ của căn nhà là 3', 'rule_expression_backup': '( getValue(buyerInfo.get(\"group\",  0))  == 2 or buyerInfo.get(\"is_married\")  == True )  and buyerInfo.get(\"no_child\") == 2 and houseInfo.get(\"no_bedroom\")  >= 3'}\n",
      "score: 0\n",
      "{'rule_group': 'A', 'rule_code': 'A7', 'score': 0.6, 'rule_expression': 'getValue(buyerInfo.get(\"group\",  0))  == 4 and houseInfo.get(\"in_room_noBed\")  == 1', 'rule_desc': 'Nếu KH nhóm 4 VÀ số phòng ngủ là 1', 'rule_expression_backup': 'getValue(buyerInfo.get(\"group\",  0))  == 4 and houseInfo.get(\"no_bedroom\")  == 1'}\n",
      "score: 0\n",
      "{'rule_group': 'A', 'rule_code': 'A8', 'score': 1.0, 'rule_expression': 'getValue(buyerInfo.get(\"group\",  0))  == 4 and houseInfo.get(\"in_room_noBed\")  in (2, 3,4)', 'rule_desc': 'Nếu KH nhóm 4 VÀ số phòng ngủ từ 2', 'rule_expression_backup': 'getValue(buyerInfo.get(\"group\",  0))  == 4 and houseInfo.get(\"no_bedroom\")  >= 2'}\n",
      "score: 0\n",
      "\tCode of group B  | Group condition: buyerInfo.get(\"avai_amt\") is not None and buyerInfo.get(\"monthly_amt\") is not None\n",
      "{'rule_group': 'B', 'rule_code': 'B1', 'score': 1.0, 'rule_expression': 'houseInfo.get(\"price\") >= 0.9 * buyerInfo.get(\"avai_amt\") and houseInfo.get(\"price\") <= buyerInfo.get(\"avai_amt\")', 'rule_desc': 'Nếu giá của ngôi nhà bằng khoảng 0.9-1 số tiền người mua hiện có', 'rule_expression_backup': 'houseInfo.get(\"price\") >= 0.8 * buyerInfo.get(\"avai_amt\")'}\n",
      "score: 0\n",
      "{'rule_group': 'B', 'rule_code': 'B2', 'score': 0.8, 'rule_expression': '( buyerInfo.get(\"avai_amt\")  >= 0.75 * houseInfo.get(\"price\") and houseInfo.get(\"price\") > buyerInfo.get(\"avai_amt\") ) and ( (buyerInfo.get(\"avai_amt\") + 12* buyerInfo.get(\"monthly_amt\")) >= houseInfo.get(\"price\"))', 'rule_desc': 'Nếu người mua có sẵn 0.75 giá trị ngôi nhà, và người mua có khả năng trả góp trong 12 tháng', 'rule_expression_backup': nan}\n",
      "score: 0\n",
      "{'rule_group': 'B', 'rule_code': 'B3', 'score': 0.6, 'rule_expression': '( buyerInfo.get(\"avai_amt\")  >= 0.5 * houseInfo.get(\"price\") and houseInfo.get(\"price\") > buyerInfo.get(\"avai_amt\") ) and ( (buyerInfo.get(\"avai_amt\") + 24* buyerInfo.get(\"monthly_amt\")) >= houseInfo.get(\"price\"))', 'rule_desc': 'Nếu người mua có sẵn 0.5 giá trị ngôi nhà, và người mua có khả năng trả góp trong 24 tháng', 'rule_expression_backup': 'houseInfo.get(\"price\") >= 0.5 * buyerInfo.get(\"avai_amt\") and ( (0.5 * buyerInfo.get(\"avai_amt\") + 24* buyerInfo.get(\"monthly_amt\")) >= houseInfo.get(\"price\"))'}\n",
      "score: 0\n",
      "{'rule_group': 'B', 'rule_code': 'B4', 'score': 0.5, 'rule_expression': '( buyerInfo.get(\"avai_amt\")  >= 0.5 * houseInfo.get(\"price\") and houseInfo.get(\"price\") > buyerInfo.get(\"avai_amt\") ) and ( (buyerInfo.get(\"avai_amt\") + 60* buyerInfo.get(\"monthly_amt\")) >= houseInfo.get(\"price\"))', 'rule_desc': 'Nếu người mua có sẵn 0.5 giá trị ngôi nhà, và người mua có khả năng trả góp trong 60 tháng (5 năm)', 'rule_expression_backup': nan}\n",
      "score: 0\n",
      "{'rule_group': 'B', 'rule_code': 'B5', 'score': 1.0, 'rule_expression': 'getValue(buyerInfo.get(\"group\",  0))  == 4 and ( houseInfo.get(\"price\") >= 0.8 * buyerInfo.get(\"avai_amt\") and houseInfo.get(\"price\") <= buyerInfo.get(\"avai_amt\")*1.2 )', 'rule_desc': 'Nếu người mua thuộc nhóm 4, ngôi nhà trong khoảng 0.8-1.2 số tiền sẵn có', 'rule_expression_backup': nan}\n",
      "score: 0\n",
      "{'rule_group': 'B', 'rule_code': 'B6', 'score': 0.0, 'rule_expression': 'getValue(buyerInfo.get(\"group\",  0))  == 4 and ( houseInfo.get(\"price\") < 0.8 * buyerInfo.get(\"avai_amt\") and houseInfo.get(\"price\") > buyerInfo.get(\"avai_amt\")*1.2 )', 'rule_desc': 'Nếu người mua thuộc nhóm 4, ngôi nhà nhỏ hơn 0.8 hoặc lớn hơn 1.2 số tiền sẵn có', 'rule_expression_backup': nan}\n",
      "score: 0\n",
      "\tCode of group C  | Group condition: isValidInput( buyerInfo.get(\"desired_location\") ) and isValidInput( houseInfo.get(\"address_district\") )\n",
      "{'rule_group': 'C', 'rule_code': 'C1', 'score': 1.0, 'rule_expression': 'fn_calculateDistance(houseInfo.get(\"address_district\"), buyerInfo.get(\"desired_location\")) <= 2', 'rule_desc': 'Nếu trong phạm vi 2km', 'rule_expression_backup': nan}\n",
      "score: 0\n",
      "{'rule_group': 'C', 'rule_code': 'C2', 'score': 0.8, 'rule_expression': 'fn_calculateDistance(houseInfo.get(\"address_district\"), buyerInfo.get(\"desired_location\")) <= 4', 'rule_desc': nan, 'rule_expression_backup': nan}\n",
      "score: 0\n",
      "{'rule_group': 'C', 'rule_code': 'C3', 'score': 0.5, 'rule_expression': 'fn_calculateDistance(houseInfo.get(\"address_district\"), buyerInfo.get(\"desired_location\")) <= 6', 'rule_desc': nan, 'rule_expression_backup': nan}\n",
      "score: 0.5\n",
      "\tCode of group D  | Group condition: 1==1\n",
      "{'rule_group': 'D', 'rule_code': 'D1', 'score': 1.0, 'rule_expression': 'isGoodLegalStatus(houseInfo.get(\"legal_status\"))', 'rule_desc': 'Có giấy tờ', 'rule_expression_backup': 'houseInfo.get(\"legal_status\") in [\\'Sổ hồng\\', \\'Sổ đỏ\\']'}\n",
      "score: 0\n",
      "{'rule_group': 'D', 'rule_code': 'D2', 'score': 0.2, 'rule_expression': 'isGoodLegalStatus(houseInfo.get(\"legal_status\")) is not True and getValue(buyerInfo.get(\"group\",  0)) in (1, 3,4)', 'rule_desc': 'K giấy tờ và người mua có nhóm thuộc (1,3,4)', 'rule_expression_backup': nan}\n",
      "score: 0.2\n",
      "{'rule_group': 'D', 'rule_code': 'D3', 'score': 0.4, 'rule_expression': 'isGoodLegalStatus(houseInfo.get(\"legal_status\")) is not True and getValue(buyerInfo.get(\"group\",  0)) not in (1, 3,4)', 'rule_desc': 'Các trường hợp k giấy tờ còn lại', 'rule_expression_backup': nan}\n",
      "score: 0\n",
      "REPORT:\n",
      "Total calculated Score:  5.9\n",
      "Max Score from Groups:  26.0\n",
      "{'meta_url': 'https://rever.vn/mua/nha-pho-biet-thu-little-village-dien-tich-110m2-huong-dong-nam', 'meta_code': 'TTD145976', 'address_street': 'Đường số 22', 'address_ward': 'Hiệp Bình Chánh', 'address_district': 'Thủ Đức', 'address_city': 'Hồ Chí Minh', 'price': 17000000000.0, 'area': 110.0, 'area_site': 110.0, 'area_basebuilt': 76.0, 'area_netused': 380.0, 'area_yard': nan, 'area_length': nan, 'area_width': nan, 'area_front': nan, 'house_noFloor': 5, 'house_type': 'Nhà phố', 'house_noBasement': 0, 'house_direction': 'Đông Nam', 'in_room_noBed': 4, 'in_room_noBath': 3, 'in_room_noKitchen': nan, 'in_room_noRelax': nan, 'in_room_others': nan, 'in_interiorStatus': 'Đầy đủ nội thất', 'prj_name': nan, 'prj_investor': nan, 'prj_status': nan, 'prj_tower': nan, 'legal_status': 'HĐ mua bán', 'other_overview': nan, 'other_good_outstandingCharacteristics': nan, 'other_good_locationDesc': nan, 'other_good_community': nan, 'other_good_education': nan, 'overall_info': 'NHÀ PHỐ ĐƯỜNG SỐ 22, THỦ ĐỨC, KDC CAO CẤP LITTLE VILLAGE\\nDiện tích: 110m² ( 5m x 22m )\\nDiện tích sử dụng: 380m²\\nKết cấu: 5 tầng (hầm + trệt + lầu) 4 phòng ngủ 3 phòng tắm\\nHướng đông nam\\nĐầy đủ nội thất\\nPháp lý: hđ mua bán\\n\\nNhà phố có vị trí cách Saint Ange French International School 1.4 km, cách Trường Mầm non Wisdomland 1.2 km,...\\nTọa lạc tại vị trí thuận tiện di chuyển với đầy đủ các tiện ích về y tế, giáo dục và giải trí: Nha Khoa Tâm Đức II 0.8 km, Nhà hàng buffet Hotpot Story 0.2 km, Coop Extra GigaMall 0.3 km'}\n",
      "{'executedRuleGroup': [{'groupCode': 'A', 'groupCondition': 'isValidInput( buyerInfo.get(\"group\") )  and isValidInput( buyerInfo.get(\"is_married\") )  and isValidInput( buyerInfo.get(\"no_child\") )  and isValidInput(houseInfo.get(\"in_room_noBed\") )', 'groupScore': 3.0, 'rule_group': 'A', 'rule_code': 'A2', 'score': 0.6, 'rule_expression': '(getValue(buyerInfo.get(\"group\",  0))  == 1 or (buyerInfo.get(\"is_married\")  == False and buyerInfo.get(\"no_child\") == 0 )) and houseInfo.get(\"in_room_noBed\")  in (2,3,4)', 'rule_desc': 'Nếu không có gia đình VÀ không có con (KH nhóm 1) VÀ số phòng ngủ của căn nhà là 3', 'rule_expression_backup': '(getValue(buyerInfo.get(\"group\",  0))  == 1 or (buyerInfo.get(\"is_married\")  == False and buyerInfo.get(\"no_child\") == 0 )) and houseInfo.get(\"no_bedroom\")  >= 3', 'calRuleScore': 1.7999999999999998}, {'groupCode': 'B', 'groupCondition': 'buyerInfo.get(\"avai_amt\") is not None and buyerInfo.get(\"monthly_amt\") is not None', 'groupScore': 10.0, 'calRuleScore': 0.0}, {'groupCode': 'C', 'groupCondition': 'isValidInput( buyerInfo.get(\"desired_location\") ) and isValidInput( houseInfo.get(\"address_district\") )', 'groupScore': 5.0, 'rule_group': 'C', 'rule_code': 'C3', 'score': 0.5, 'rule_expression': 'fn_calculateDistance(houseInfo.get(\"address_district\"), buyerInfo.get(\"desired_location\")) <= 6', 'rule_desc': nan, 'rule_expression_backup': nan, 'calRuleScore': 2.5}, {'groupCode': 'D', 'groupCondition': '1==1', 'groupScore': 8.0, 'rule_group': 'D', 'rule_code': 'D2', 'score': 0.2, 'rule_expression': 'isGoodLegalStatus(houseInfo.get(\"legal_status\")) is not True and getValue(buyerInfo.get(\"group\",  0)) in (1, 3,4)', 'rule_desc': 'K giấy tờ và người mua có nhóm thuộc (1,3,4)', 'rule_expression_backup': nan, 'calRuleScore': 1.6}], 'houseInfo': {'meta_url': 'https://rever.vn/mua/nha-pho-biet-thu-little-village-dien-tich-110m2-huong-dong-nam', 'meta_code': 'TTD145976', 'address_street': 'Đường số 22', 'address_ward': 'Hiệp Bình Chánh', 'address_district': 'Thủ Đức', 'address_city': 'Hồ Chí Minh', 'price': 17000000000.0, 'area': 110.0, 'area_site': 110.0, 'area_basebuilt': 76.0, 'area_netused': 380.0, 'area_yard': nan, 'area_length': nan, 'area_width': nan, 'area_front': nan, 'house_noFloor': 5, 'house_type': 'Nhà phố', 'house_noBasement': 0, 'house_direction': 'Đông Nam', 'in_room_noBed': 4, 'in_room_noBath': 3, 'in_room_noKitchen': nan, 'in_room_noRelax': nan, 'in_room_others': nan, 'in_interiorStatus': 'Đầy đủ nội thất', 'prj_name': nan, 'prj_investor': nan, 'prj_status': nan, 'prj_tower': nan, 'legal_status': 'HĐ mua bán', 'other_overview': nan, 'other_good_outstandingCharacteristics': nan, 'other_good_locationDesc': nan, 'other_good_community': nan, 'other_good_education': nan, 'overall_info': 'NHÀ PHỐ ĐƯỜNG SỐ 22, THỦ ĐỨC, KDC CAO CẤP LITTLE VILLAGE\\nDiện tích: 110m² ( 5m x 22m )\\nDiện tích sử dụng: 380m²\\nKết cấu: 5 tầng (hầm + trệt + lầu) 4 phòng ngủ 3 phòng tắm\\nHướng đông nam\\nĐầy đủ nội thất\\nPháp lý: hđ mua bán\\n\\nNhà phố có vị trí cách Saint Ange French International School 1.4 km, cách Trường Mầm non Wisdomland 1.2 km,...\\nTọa lạc tại vị trí thuận tiện di chuyển với đầy đủ các tiện ích về y tế, giáo dục và giải trí: Nha Khoa Tâm Đức II 0.8 km, Nhà hàng buffet Hotpot Story 0.2 km, Coop Extra GigaMall 0.3 km'}, 'maxScore': 26.0, 'houseScore': 5.9, 'housePerformance': 22.69, 'buyerInfo': {'id': 'x2', 'group': 1.0, 'age': 30.0, 'is_married': 0.0, 'no_child': 0.0, 'month_income': 70000000.0, 'monthly_amt': 50000000.0, 'avai_amt': 10000000000.0, 'desired_location': 'Quận 3', 'desired_interiorStatus': nan}, 'id': 'x2', 'group': 1.0, 'age': 30.0, 'is_married': 0.0, 'no_child': 0.0, 'month_income': 70000000.0, 'monthly_amt': 50000000.0, 'avai_amt': 10000000000.0, 'desired_location': 'Quận 3', 'desired_interiorStatus': nan, 'meta_url': 'https://rever.vn/mua/nha-pho-biet-thu-little-village-dien-tich-110m2-huong-dong-nam', 'meta_code': 'TTD145976', 'address_street': 'Đường số 22', 'address_ward': 'Hiệp Bình Chánh', 'address_district': 'Thủ Đức', 'address_city': 'Hồ Chí Minh', 'price': 17000000000.0, 'area': 110.0, 'area_site': 110.0, 'area_basebuilt': 76.0, 'area_netused': 380.0, 'area_yard': nan, 'area_length': nan, 'area_width': nan, 'area_front': nan, 'house_noFloor': 5, 'house_type': 'Nhà phố', 'house_noBasement': 0, 'house_direction': 'Đông Nam', 'in_room_noBed': 4, 'in_room_noBath': 3, 'in_room_noKitchen': nan, 'in_room_noRelax': nan, 'in_room_others': nan, 'in_interiorStatus': 'Đầy đủ nội thất', 'prj_name': nan, 'prj_investor': nan, 'prj_status': nan, 'prj_tower': nan, 'legal_status': 'HĐ mua bán', 'other_overview': nan, 'other_good_outstandingCharacteristics': nan, 'other_good_locationDesc': nan, 'other_good_community': nan, 'other_good_education': nan, 'overall_info': 'NHÀ PHỐ ĐƯỜNG SỐ 22, THỦ ĐỨC, KDC CAO CẤP LITTLE VILLAGE\\nDiện tích: 110m² ( 5m x 22m )\\nDiện tích sử dụng: 380m²\\nKết cấu: 5 tầng (hầm + trệt + lầu) 4 phòng ngủ 3 phòng tắm\\nHướng đông nam\\nĐầy đủ nội thất\\nPháp lý: hđ mua bán\\n\\nNhà phố có vị trí cách Saint Ange French International School 1.4 km, cách Trường Mầm non Wisdomland 1.2 km,...\\nTọa lạc tại vị trí thuận tiện di chuyển với đầy đủ các tiện ích về y tế, giáo dục và giải trí: Nha Khoa Tâm Đức II 0.8 km, Nhà hàng buffet Hotpot Story 0.2 km, Coop Extra GigaMall 0.3 km'}\n",
      "-------------\n",
      "\n",
      "\tCode of group A  | Group condition: isValidInput( buyerInfo.get(\"group\") )  and isValidInput( buyerInfo.get(\"is_married\") )  and isValidInput( buyerInfo.get(\"no_child\") )  and isValidInput(houseInfo.get(\"in_room_noBed\") )\n",
      "{'rule_group': 'A', 'rule_code': 'A1', 'score': 0.7, 'rule_expression': '(getValue(buyerInfo.get(\"group\",  0))  == 1 or (buyerInfo.get(\"is_married\")  == False and buyerInfo.get(\"no_child\") == 0 )) and houseInfo.get(\"in_room_noBed\")  in (1, 2)', 'rule_desc': 'Nếu không có gia đình VÀ không có con (KH nhóm 1) VÀ số phòng ngủ của căn nhà là (1,2)', 'rule_expression_backup': '(getValue(buyerInfo.get(\"group\",  0))  == 1 or (buyerInfo.get(\"is_married\")  == False and buyerInfo.get(\"no_child\") == 0 )) and houseInfo.get(\"no_bedroom\")  in (1, 2)'}\n",
      "score: 0\n",
      "{'rule_group': 'A', 'rule_code': 'A2', 'score': 0.6, 'rule_expression': '(getValue(buyerInfo.get(\"group\",  0))  == 1 or (buyerInfo.get(\"is_married\")  == False and buyerInfo.get(\"no_child\") == 0 )) and houseInfo.get(\"in_room_noBed\")  in (2,3,4)', 'rule_desc': 'Nếu không có gia đình VÀ không có con (KH nhóm 1) VÀ số phòng ngủ của căn nhà là 3', 'rule_expression_backup': '(getValue(buyerInfo.get(\"group\",  0))  == 1 or (buyerInfo.get(\"is_married\")  == False and buyerInfo.get(\"no_child\") == 0 )) and houseInfo.get(\"no_bedroom\")  >= 3'}\n",
      "score: 0.6\n",
      "{'rule_group': 'A', 'rule_code': 'A3', 'score': 0.8, 'rule_expression': '( getValue(buyerInfo.get(\"group\",  0))  == 2 or buyerInfo.get(\"is_married\")  == True ) and buyerInfo.get(\"no_child\") in ( 0, 1) and houseInfo.get(\"in_room_noBed\")  in (2, 3,4)', 'rule_desc': 'Nếu có gia đình VÀ số con là (0, 1) (KH nhóm 2) VÀ số phòng ngủ của căn nhà là (2,3)', 'rule_expression_backup': '( getValue(buyerInfo.get(\"group\",  0))  == 2 or buyerInfo.get(\"is_married\")  == True ) and buyerInfo.get(\"no_child\") in ( 0, 1) and houseInfo.get(\"no_bedroom\")  in (2, 3)'}\n",
      "score: 0\n",
      "{'rule_group': 'A', 'rule_code': 'A4', 'score': 0.6, 'rule_expression': '( getValue(buyerInfo.get(\"group\",  0))  == 2 or buyerInfo.get(\"is_married\")  == True ) and buyerInfo.get(\"no_child\") in ( 0, 1) and houseInfo.get(\"in_room_noBed\")  == 1', 'rule_desc': 'Nếu có gia đình VÀ số con là (0, 1) (KH nhóm 2) VÀ số phòng ngủ của căn nhà là 1', 'rule_expression_backup': '( getValue(buyerInfo.get(\"group\",  0))  == 2 or buyerInfo.get(\"is_married\")  == True ) and buyerInfo.get(\"no_child\") in ( 0, 1) and houseInfo.get(\"no_bedroom\")  == 1'}\n",
      "score: 0\n",
      "{'rule_group': 'A', 'rule_code': 'A5', 'score': 0.5, 'rule_expression': '( getValue(buyerInfo.get(\"group\",  0))  == 2 or buyerInfo.get(\"is_married\")  == True ) and buyerInfo.get(\"no_child\") == 2\\xa0and houseInfo.get(\"in_room_noBed\")  == 2', 'rule_desc': 'Nếu có gia đình VÀ số con là 2 (KH nhóm 2) VÀ số phòng ngủ của căn nhà là 2', 'rule_expression_backup': '( getValue(buyerInfo.get(\"group\",  0))  == 2 or buyerInfo.get(\"is_married\")  == True ) and buyerInfo.get(\"no_child\") == 2\\xa0and houseInfo.get(\"no_bedroom\")  == 2'}\n",
      "score: 0\n",
      "{'rule_group': 'A', 'rule_code': 'A6', 'score': 1.0, 'rule_expression': '( getValue(buyerInfo.get(\"group\",  0))  == 2 or buyerInfo.get(\"is_married\")  == True )  and buyerInfo.get(\"no_child\") == 2 and houseInfo.get(\"in_room_noBed\")  in ( 3,4,5)', 'rule_desc': 'Nếu có gia đình VÀ số con là 2 (KH nhóm 2) VÀ số phòng ngủ của căn nhà là 3', 'rule_expression_backup': '( getValue(buyerInfo.get(\"group\",  0))  == 2 or buyerInfo.get(\"is_married\")  == True )  and buyerInfo.get(\"no_child\") == 2 and houseInfo.get(\"no_bedroom\")  >= 3'}\n",
      "score: 0\n",
      "{'rule_group': 'A', 'rule_code': 'A7', 'score': 0.6, 'rule_expression': 'getValue(buyerInfo.get(\"group\",  0))  == 4 and houseInfo.get(\"in_room_noBed\")  == 1', 'rule_desc': 'Nếu KH nhóm 4 VÀ số phòng ngủ là 1', 'rule_expression_backup': 'getValue(buyerInfo.get(\"group\",  0))  == 4 and houseInfo.get(\"no_bedroom\")  == 1'}\n",
      "score: 0\n",
      "{'rule_group': 'A', 'rule_code': 'A8', 'score': 1.0, 'rule_expression': 'getValue(buyerInfo.get(\"group\",  0))  == 4 and houseInfo.get(\"in_room_noBed\")  in (2, 3,4)', 'rule_desc': 'Nếu KH nhóm 4 VÀ số phòng ngủ từ 2', 'rule_expression_backup': 'getValue(buyerInfo.get(\"group\",  0))  == 4 and houseInfo.get(\"no_bedroom\")  >= 2'}\n",
      "score: 0\n",
      "\tCode of group B  | Group condition: buyerInfo.get(\"avai_amt\") is not None and buyerInfo.get(\"monthly_amt\") is not None\n",
      "{'rule_group': 'B', 'rule_code': 'B1', 'score': 1.0, 'rule_expression': 'houseInfo.get(\"price\") >= 0.9 * buyerInfo.get(\"avai_amt\") and houseInfo.get(\"price\") <= buyerInfo.get(\"avai_amt\")', 'rule_desc': 'Nếu giá của ngôi nhà bằng khoảng 0.9-1 số tiền người mua hiện có', 'rule_expression_backup': 'houseInfo.get(\"price\") >= 0.8 * buyerInfo.get(\"avai_amt\")'}\n",
      "score: 0\n",
      "{'rule_group': 'B', 'rule_code': 'B2', 'score': 0.8, 'rule_expression': '( buyerInfo.get(\"avai_amt\")  >= 0.75 * houseInfo.get(\"price\") and houseInfo.get(\"price\") > buyerInfo.get(\"avai_amt\") ) and ( (buyerInfo.get(\"avai_amt\") + 12* buyerInfo.get(\"monthly_amt\")) >= houseInfo.get(\"price\"))', 'rule_desc': 'Nếu người mua có sẵn 0.75 giá trị ngôi nhà, và người mua có khả năng trả góp trong 12 tháng', 'rule_expression_backup': nan}\n",
      "score: 0\n",
      "{'rule_group': 'B', 'rule_code': 'B3', 'score': 0.6, 'rule_expression': '( buyerInfo.get(\"avai_amt\")  >= 0.5 * houseInfo.get(\"price\") and houseInfo.get(\"price\") > buyerInfo.get(\"avai_amt\") ) and ( (buyerInfo.get(\"avai_amt\") + 24* buyerInfo.get(\"monthly_amt\")) >= houseInfo.get(\"price\"))', 'rule_desc': 'Nếu người mua có sẵn 0.5 giá trị ngôi nhà, và người mua có khả năng trả góp trong 24 tháng', 'rule_expression_backup': 'houseInfo.get(\"price\") >= 0.5 * buyerInfo.get(\"avai_amt\") and ( (0.5 * buyerInfo.get(\"avai_amt\") + 24* buyerInfo.get(\"monthly_amt\")) >= houseInfo.get(\"price\"))'}\n",
      "score: 0\n",
      "{'rule_group': 'B', 'rule_code': 'B4', 'score': 0.5, 'rule_expression': '( buyerInfo.get(\"avai_amt\")  >= 0.5 * houseInfo.get(\"price\") and houseInfo.get(\"price\") > buyerInfo.get(\"avai_amt\") ) and ( (buyerInfo.get(\"avai_amt\") + 60* buyerInfo.get(\"monthly_amt\")) >= houseInfo.get(\"price\"))', 'rule_desc': 'Nếu người mua có sẵn 0.5 giá trị ngôi nhà, và người mua có khả năng trả góp trong 60 tháng (5 năm)', 'rule_expression_backup': nan}\n",
      "score: 0\n",
      "{'rule_group': 'B', 'rule_code': 'B5', 'score': 1.0, 'rule_expression': 'getValue(buyerInfo.get(\"group\",  0))  == 4 and ( houseInfo.get(\"price\") >= 0.8 * buyerInfo.get(\"avai_amt\") and houseInfo.get(\"price\") <= buyerInfo.get(\"avai_amt\")*1.2 )', 'rule_desc': 'Nếu người mua thuộc nhóm 4, ngôi nhà trong khoảng 0.8-1.2 số tiền sẵn có', 'rule_expression_backup': nan}\n",
      "score: 0\n",
      "{'rule_group': 'B', 'rule_code': 'B6', 'score': 0.0, 'rule_expression': 'getValue(buyerInfo.get(\"group\",  0))  == 4 and ( houseInfo.get(\"price\") < 0.8 * buyerInfo.get(\"avai_amt\") and houseInfo.get(\"price\") > buyerInfo.get(\"avai_amt\")*1.2 )', 'rule_desc': 'Nếu người mua thuộc nhóm 4, ngôi nhà nhỏ hơn 0.8 hoặc lớn hơn 1.2 số tiền sẵn có', 'rule_expression_backup': nan}\n",
      "score: 0\n",
      "\tCode of group C  | Group condition: isValidInput( buyerInfo.get(\"desired_location\") ) and isValidInput( houseInfo.get(\"address_district\") )\n",
      "{'rule_group': 'C', 'rule_code': 'C1', 'score': 1.0, 'rule_expression': 'fn_calculateDistance(houseInfo.get(\"address_district\"), buyerInfo.get(\"desired_location\")) <= 2', 'rule_desc': 'Nếu trong phạm vi 2km', 'rule_expression_backup': nan}\n",
      "score: 0\n",
      "{'rule_group': 'C', 'rule_code': 'C2', 'score': 0.8, 'rule_expression': 'fn_calculateDistance(houseInfo.get(\"address_district\"), buyerInfo.get(\"desired_location\")) <= 4', 'rule_desc': nan, 'rule_expression_backup': nan}\n",
      "score: 0.8\n",
      "{'rule_group': 'C', 'rule_code': 'C3', 'score': 0.5, 'rule_expression': 'fn_calculateDistance(houseInfo.get(\"address_district\"), buyerInfo.get(\"desired_location\")) <= 6', 'rule_desc': nan, 'rule_expression_backup': nan}\n",
      "score: 0.5\n",
      "\tCode of group D  | Group condition: 1==1\n",
      "{'rule_group': 'D', 'rule_code': 'D1', 'score': 1.0, 'rule_expression': 'isGoodLegalStatus(houseInfo.get(\"legal_status\"))', 'rule_desc': 'Có giấy tờ', 'rule_expression_backup': 'houseInfo.get(\"legal_status\") in [\\'Sổ hồng\\', \\'Sổ đỏ\\']'}\n",
      "score: 1.0\n",
      "{'rule_group': 'D', 'rule_code': 'D2', 'score': 0.2, 'rule_expression': 'isGoodLegalStatus(houseInfo.get(\"legal_status\")) is not True and getValue(buyerInfo.get(\"group\",  0)) in (1, 3,4)', 'rule_desc': 'K giấy tờ và người mua có nhóm thuộc (1,3,4)', 'rule_expression_backup': nan}\n",
      "score: 0\n",
      "{'rule_group': 'D', 'rule_code': 'D3', 'score': 0.4, 'rule_expression': 'isGoodLegalStatus(houseInfo.get(\"legal_status\")) is not True and getValue(buyerInfo.get(\"group\",  0)) not in (1, 3,4)', 'rule_desc': 'Các trường hợp k giấy tờ còn lại', 'rule_expression_backup': nan}\n",
      "score: 0\n",
      "REPORT:\n",
      "Total calculated Score:  13.8\n",
      "Max Score from Groups:  26.0\n",
      "{'meta_url': 'https://rever.vn/mua/nha-pho-duong-3-thang-2-3-tang-dien-tich-45-9m2-phap-ly-so-hong', 'meta_code': 'T10116505', 'address_street': '3 Tháng 2', 'address_ward': 'Phường 11', 'address_district': 'Quận 10', 'address_city': 'Hồ Chí Minh', 'price': 14000000000.0, 'area': 45.9, 'area_site': 45.9, 'area_basebuilt': nan, 'area_netused': 203.4, 'area_yard': nan, 'area_length': nan, 'area_width': nan, 'area_front': nan, 'house_noFloor': 3, 'house_type': 'Nhà phố', 'house_noBasement': 0, 'house_direction': nan, 'in_room_noBed': 3, 'in_room_noBath': 3, 'in_room_noKitchen': nan, 'in_room_noRelax': nan, 'in_room_others': nan, 'in_interiorStatus': 'Nội thất cơ bản', 'prj_name': nan, 'prj_investor': nan, 'prj_status': nan, 'prj_tower': nan, 'legal_status': 'Sổ hồng', 'other_overview': nan, 'other_good_outstandingCharacteristics': nan, 'other_good_locationDesc': 'Nhà phố có vị trí cách Trường Mầm non Úc Châu khoảng 9.9km, cách Trường Mầm non Sakura Montessori Quận 2 - TP HCM khoảng 8.3km. Tọa lạc tại vị trí thuận tiện di chuyển với đầy đủ các tiện ích về y tế, giáo dục và giải trí.', 'other_good_community': 'Khu dân cư văn minh và hiện đại.', 'other_good_education': 'ĐH Bách Khoa, Học viện hành chính quốc gia, ĐH Y khoa Phạm Ngọc Thạch,...', 'overall_info': 'BÁN NHÀ PHỐ ĐƯỜNG 3 THÁNG 2, QUẬN 10\\nDiện tích: 45.9m² (6.5m x 7.2m)\\nDiện tích sử dụng: 203.4m²\\nKết cấu: 3 tầng (1 trệt và 2 lầu), 3 phòng ngủ 3 phòng tắm\\nTình trạng nội thất: Nội thất cơ bản\\nPháp lý: Sổ hồng\\n\\nNhà phố có vị trí cách Trường Mầm non Úc Châu khoảng 9.9km, cách Trường Mầm non Sakura Montessori Quận 2 - TP HCM khoảng 8.3km. Tọa lạc tại vị trí thuận tiện di chuyển với đầy đủ các tiện ích về y tế, giáo dục và giải trí.'}\n",
      "{'executedRuleGroup': [{'groupCode': 'A', 'groupCondition': 'isValidInput( buyerInfo.get(\"group\") )  and isValidInput( buyerInfo.get(\"is_married\") )  and isValidInput( buyerInfo.get(\"no_child\") )  and isValidInput(houseInfo.get(\"in_room_noBed\") )', 'groupScore': 3.0, 'rule_group': 'A', 'rule_code': 'A2', 'score': 0.6, 'rule_expression': '(getValue(buyerInfo.get(\"group\",  0))  == 1 or (buyerInfo.get(\"is_married\")  == False and buyerInfo.get(\"no_child\") == 0 )) and houseInfo.get(\"in_room_noBed\")  in (2,3,4)', 'rule_desc': 'Nếu không có gia đình VÀ không có con (KH nhóm 1) VÀ số phòng ngủ của căn nhà là 3', 'rule_expression_backup': '(getValue(buyerInfo.get(\"group\",  0))  == 1 or (buyerInfo.get(\"is_married\")  == False and buyerInfo.get(\"no_child\") == 0 )) and houseInfo.get(\"no_bedroom\")  >= 3', 'calRuleScore': 1.7999999999999998}, {'groupCode': 'B', 'groupCondition': 'buyerInfo.get(\"avai_amt\") is not None and buyerInfo.get(\"monthly_amt\") is not None', 'groupScore': 10.0, 'calRuleScore': 0.0}, {'groupCode': 'C', 'groupCondition': 'isValidInput( buyerInfo.get(\"desired_location\") ) and isValidInput( houseInfo.get(\"address_district\") )', 'groupScore': 5.0, 'rule_group': 'C', 'rule_code': 'C2', 'score': 0.8, 'rule_expression': 'fn_calculateDistance(houseInfo.get(\"address_district\"), buyerInfo.get(\"desired_location\")) <= 4', 'rule_desc': nan, 'rule_expression_backup': nan, 'calRuleScore': 4.0}, {'groupCode': 'D', 'groupCondition': '1==1', 'groupScore': 8.0, 'rule_group': 'D', 'rule_code': 'D1', 'score': 1.0, 'rule_expression': 'isGoodLegalStatus(houseInfo.get(\"legal_status\"))', 'rule_desc': 'Có giấy tờ', 'rule_expression_backup': 'houseInfo.get(\"legal_status\") in [\\'Sổ hồng\\', \\'Sổ đỏ\\']', 'calRuleScore': 8.0}], 'houseInfo': {'meta_url': 'https://rever.vn/mua/nha-pho-duong-3-thang-2-3-tang-dien-tich-45-9m2-phap-ly-so-hong', 'meta_code': 'T10116505', 'address_street': '3 Tháng 2', 'address_ward': 'Phường 11', 'address_district': 'Quận 10', 'address_city': 'Hồ Chí Minh', 'price': 14000000000.0, 'area': 45.9, 'area_site': 45.9, 'area_basebuilt': nan, 'area_netused': 203.4, 'area_yard': nan, 'area_length': nan, 'area_width': nan, 'area_front': nan, 'house_noFloor': 3, 'house_type': 'Nhà phố', 'house_noBasement': 0, 'house_direction': nan, 'in_room_noBed': 3, 'in_room_noBath': 3, 'in_room_noKitchen': nan, 'in_room_noRelax': nan, 'in_room_others': nan, 'in_interiorStatus': 'Nội thất cơ bản', 'prj_name': nan, 'prj_investor': nan, 'prj_status': nan, 'prj_tower': nan, 'legal_status': 'Sổ hồng', 'other_overview': nan, 'other_good_outstandingCharacteristics': nan, 'other_good_locationDesc': 'Nhà phố có vị trí cách Trường Mầm non Úc Châu khoảng 9.9km, cách Trường Mầm non Sakura Montessori Quận 2 - TP HCM khoảng 8.3km. Tọa lạc tại vị trí thuận tiện di chuyển với đầy đủ các tiện ích về y tế, giáo dục và giải trí.', 'other_good_community': 'Khu dân cư văn minh và hiện đại.', 'other_good_education': 'ĐH Bách Khoa, Học viện hành chính quốc gia, ĐH Y khoa Phạm Ngọc Thạch,...', 'overall_info': 'BÁN NHÀ PHỐ ĐƯỜNG 3 THÁNG 2, QUẬN 10\\nDiện tích: 45.9m² (6.5m x 7.2m)\\nDiện tích sử dụng: 203.4m²\\nKết cấu: 3 tầng (1 trệt và 2 lầu), 3 phòng ngủ 3 phòng tắm\\nTình trạng nội thất: Nội thất cơ bản\\nPháp lý: Sổ hồng\\n\\nNhà phố có vị trí cách Trường Mầm non Úc Châu khoảng 9.9km, cách Trường Mầm non Sakura Montessori Quận 2 - TP HCM khoảng 8.3km. Tọa lạc tại vị trí thuận tiện di chuyển với đầy đủ các tiện ích về y tế, giáo dục và giải trí.'}, 'maxScore': 26.0, 'houseScore': 13.8, 'housePerformance': 53.08, 'buyerInfo': {'id': 'x2', 'group': 1.0, 'age': 30.0, 'is_married': 0.0, 'no_child': 0.0, 'month_income': 70000000.0, 'monthly_amt': 50000000.0, 'avai_amt': 10000000000.0, 'desired_location': 'Quận 3', 'desired_interiorStatus': nan}, 'id': 'x2', 'group': 1.0, 'age': 30.0, 'is_married': 0.0, 'no_child': 0.0, 'month_income': 70000000.0, 'monthly_amt': 50000000.0, 'avai_amt': 10000000000.0, 'desired_location': 'Quận 3', 'desired_interiorStatus': nan, 'meta_url': 'https://rever.vn/mua/nha-pho-duong-3-thang-2-3-tang-dien-tich-45-9m2-phap-ly-so-hong', 'meta_code': 'T10116505', 'address_street': '3 Tháng 2', 'address_ward': 'Phường 11', 'address_district': 'Quận 10', 'address_city': 'Hồ Chí Minh', 'price': 14000000000.0, 'area': 45.9, 'area_site': 45.9, 'area_basebuilt': nan, 'area_netused': 203.4, 'area_yard': nan, 'area_length': nan, 'area_width': nan, 'area_front': nan, 'house_noFloor': 3, 'house_type': 'Nhà phố', 'house_noBasement': 0, 'house_direction': nan, 'in_room_noBed': 3, 'in_room_noBath': 3, 'in_room_noKitchen': nan, 'in_room_noRelax': nan, 'in_room_others': nan, 'in_interiorStatus': 'Nội thất cơ bản', 'prj_name': nan, 'prj_investor': nan, 'prj_status': nan, 'prj_tower': nan, 'legal_status': 'Sổ hồng', 'other_overview': nan, 'other_good_outstandingCharacteristics': nan, 'other_good_locationDesc': 'Nhà phố có vị trí cách Trường Mầm non Úc Châu khoảng 9.9km, cách Trường Mầm non Sakura Montessori Quận 2 - TP HCM khoảng 8.3km. Tọa lạc tại vị trí thuận tiện di chuyển với đầy đủ các tiện ích về y tế, giáo dục và giải trí.', 'other_good_community': 'Khu dân cư văn minh và hiện đại.', 'other_good_education': 'ĐH Bách Khoa, Học viện hành chính quốc gia, ĐH Y khoa Phạm Ngọc Thạch,...', 'overall_info': 'BÁN NHÀ PHỐ ĐƯỜNG 3 THÁNG 2, QUẬN 10\\nDiện tích: 45.9m² (6.5m x 7.2m)\\nDiện tích sử dụng: 203.4m²\\nKết cấu: 3 tầng (1 trệt và 2 lầu), 3 phòng ngủ 3 phòng tắm\\nTình trạng nội thất: Nội thất cơ bản\\nPháp lý: Sổ hồng\\n\\nNhà phố có vị trí cách Trường Mầm non Úc Châu khoảng 9.9km, cách Trường Mầm non Sakura Montessori Quận 2 - TP HCM khoảng 8.3km. Tọa lạc tại vị trí thuận tiện di chuyển với đầy đủ các tiện ích về y tế, giáo dục và giải trí.'}\n",
      "-------------\n",
      "\n",
      "\tCode of group A  | Group condition: isValidInput( buyerInfo.get(\"group\") )  and isValidInput( buyerInfo.get(\"is_married\") )  and isValidInput( buyerInfo.get(\"no_child\") )  and isValidInput(houseInfo.get(\"in_room_noBed\") )\n",
      "{'rule_group': 'A', 'rule_code': 'A1', 'score': 0.7, 'rule_expression': '(getValue(buyerInfo.get(\"group\",  0))  == 1 or (buyerInfo.get(\"is_married\")  == False and buyerInfo.get(\"no_child\") == 0 )) and houseInfo.get(\"in_room_noBed\")  in (1, 2)', 'rule_desc': 'Nếu không có gia đình VÀ không có con (KH nhóm 1) VÀ số phòng ngủ của căn nhà là (1,2)', 'rule_expression_backup': '(getValue(buyerInfo.get(\"group\",  0))  == 1 or (buyerInfo.get(\"is_married\")  == False and buyerInfo.get(\"no_child\") == 0 )) and houseInfo.get(\"no_bedroom\")  in (1, 2)'}\n",
      "score: 0\n",
      "{'rule_group': 'A', 'rule_code': 'A2', 'score': 0.6, 'rule_expression': '(getValue(buyerInfo.get(\"group\",  0))  == 1 or (buyerInfo.get(\"is_married\")  == False and buyerInfo.get(\"no_child\") == 0 )) and houseInfo.get(\"in_room_noBed\")  in (2,3,4)', 'rule_desc': 'Nếu không có gia đình VÀ không có con (KH nhóm 1) VÀ số phòng ngủ của căn nhà là 3', 'rule_expression_backup': '(getValue(buyerInfo.get(\"group\",  0))  == 1 or (buyerInfo.get(\"is_married\")  == False and buyerInfo.get(\"no_child\") == 0 )) and houseInfo.get(\"no_bedroom\")  >= 3'}\n",
      "score: 0\n",
      "{'rule_group': 'A', 'rule_code': 'A3', 'score': 0.8, 'rule_expression': '( getValue(buyerInfo.get(\"group\",  0))  == 2 or buyerInfo.get(\"is_married\")  == True ) and buyerInfo.get(\"no_child\") in ( 0, 1) and houseInfo.get(\"in_room_noBed\")  in (2, 3,4)', 'rule_desc': 'Nếu có gia đình VÀ số con là (0, 1) (KH nhóm 2) VÀ số phòng ngủ của căn nhà là (2,3)', 'rule_expression_backup': '( getValue(buyerInfo.get(\"group\",  0))  == 2 or buyerInfo.get(\"is_married\")  == True ) and buyerInfo.get(\"no_child\") in ( 0, 1) and houseInfo.get(\"no_bedroom\")  in (2, 3)'}\n",
      "score: 0\n",
      "{'rule_group': 'A', 'rule_code': 'A4', 'score': 0.6, 'rule_expression': '( getValue(buyerInfo.get(\"group\",  0))  == 2 or buyerInfo.get(\"is_married\")  == True ) and buyerInfo.get(\"no_child\") in ( 0, 1) and houseInfo.get(\"in_room_noBed\")  == 1', 'rule_desc': 'Nếu có gia đình VÀ số con là (0, 1) (KH nhóm 2) VÀ số phòng ngủ của căn nhà là 1', 'rule_expression_backup': '( getValue(buyerInfo.get(\"group\",  0))  == 2 or buyerInfo.get(\"is_married\")  == True ) and buyerInfo.get(\"no_child\") in ( 0, 1) and houseInfo.get(\"no_bedroom\")  == 1'}\n",
      "score: 0\n",
      "{'rule_group': 'A', 'rule_code': 'A5', 'score': 0.5, 'rule_expression': '( getValue(buyerInfo.get(\"group\",  0))  == 2 or buyerInfo.get(\"is_married\")  == True ) and buyerInfo.get(\"no_child\") == 2\\xa0and houseInfo.get(\"in_room_noBed\")  == 2', 'rule_desc': 'Nếu có gia đình VÀ số con là 2 (KH nhóm 2) VÀ số phòng ngủ của căn nhà là 2', 'rule_expression_backup': '( getValue(buyerInfo.get(\"group\",  0))  == 2 or buyerInfo.get(\"is_married\")  == True ) and buyerInfo.get(\"no_child\") == 2\\xa0and houseInfo.get(\"no_bedroom\")  == 2'}\n",
      "score: 0\n",
      "{'rule_group': 'A', 'rule_code': 'A6', 'score': 1.0, 'rule_expression': '( getValue(buyerInfo.get(\"group\",  0))  == 2 or buyerInfo.get(\"is_married\")  == True )  and buyerInfo.get(\"no_child\") == 2 and houseInfo.get(\"in_room_noBed\")  in ( 3,4,5)', 'rule_desc': 'Nếu có gia đình VÀ số con là 2 (KH nhóm 2) VÀ số phòng ngủ của căn nhà là 3', 'rule_expression_backup': '( getValue(buyerInfo.get(\"group\",  0))  == 2 or buyerInfo.get(\"is_married\")  == True )  and buyerInfo.get(\"no_child\") == 2 and houseInfo.get(\"no_bedroom\")  >= 3'}\n",
      "score: 0\n",
      "{'rule_group': 'A', 'rule_code': 'A7', 'score': 0.6, 'rule_expression': 'getValue(buyerInfo.get(\"group\",  0))  == 4 and houseInfo.get(\"in_room_noBed\")  == 1', 'rule_desc': 'Nếu KH nhóm 4 VÀ số phòng ngủ là 1', 'rule_expression_backup': 'getValue(buyerInfo.get(\"group\",  0))  == 4 and houseInfo.get(\"no_bedroom\")  == 1'}\n",
      "score: 0\n",
      "{'rule_group': 'A', 'rule_code': 'A8', 'score': 1.0, 'rule_expression': 'getValue(buyerInfo.get(\"group\",  0))  == 4 and houseInfo.get(\"in_room_noBed\")  in (2, 3,4)', 'rule_desc': 'Nếu KH nhóm 4 VÀ số phòng ngủ từ 2', 'rule_expression_backup': 'getValue(buyerInfo.get(\"group\",  0))  == 4 and houseInfo.get(\"no_bedroom\")  >= 2'}\n",
      "score: 0\n",
      "\tCode of group B  | Group condition: buyerInfo.get(\"avai_amt\") is not None and buyerInfo.get(\"monthly_amt\") is not None\n",
      "{'rule_group': 'B', 'rule_code': 'B1', 'score': 1.0, 'rule_expression': 'houseInfo.get(\"price\") >= 0.9 * buyerInfo.get(\"avai_amt\") and houseInfo.get(\"price\") <= buyerInfo.get(\"avai_amt\")', 'rule_desc': 'Nếu giá của ngôi nhà bằng khoảng 0.9-1 số tiền người mua hiện có', 'rule_expression_backup': 'houseInfo.get(\"price\") >= 0.8 * buyerInfo.get(\"avai_amt\")'}\n",
      "score: 0\n",
      "{'rule_group': 'B', 'rule_code': 'B2', 'score': 0.8, 'rule_expression': '( buyerInfo.get(\"avai_amt\")  >= 0.75 * houseInfo.get(\"price\") and houseInfo.get(\"price\") > buyerInfo.get(\"avai_amt\") ) and ( (buyerInfo.get(\"avai_amt\") + 12* buyerInfo.get(\"monthly_amt\")) >= houseInfo.get(\"price\"))', 'rule_desc': 'Nếu người mua có sẵn 0.75 giá trị ngôi nhà, và người mua có khả năng trả góp trong 12 tháng', 'rule_expression_backup': nan}\n",
      "score: 0\n",
      "{'rule_group': 'B', 'rule_code': 'B3', 'score': 0.6, 'rule_expression': '( buyerInfo.get(\"avai_amt\")  >= 0.5 * houseInfo.get(\"price\") and houseInfo.get(\"price\") > buyerInfo.get(\"avai_amt\") ) and ( (buyerInfo.get(\"avai_amt\") + 24* buyerInfo.get(\"monthly_amt\")) >= houseInfo.get(\"price\"))', 'rule_desc': 'Nếu người mua có sẵn 0.5 giá trị ngôi nhà, và người mua có khả năng trả góp trong 24 tháng', 'rule_expression_backup': 'houseInfo.get(\"price\") >= 0.5 * buyerInfo.get(\"avai_amt\") and ( (0.5 * buyerInfo.get(\"avai_amt\") + 24* buyerInfo.get(\"monthly_amt\")) >= houseInfo.get(\"price\"))'}\n",
      "score: 0\n",
      "{'rule_group': 'B', 'rule_code': 'B4', 'score': 0.5, 'rule_expression': '( buyerInfo.get(\"avai_amt\")  >= 0.5 * houseInfo.get(\"price\") and houseInfo.get(\"price\") > buyerInfo.get(\"avai_amt\") ) and ( (buyerInfo.get(\"avai_amt\") + 60* buyerInfo.get(\"monthly_amt\")) >= houseInfo.get(\"price\"))', 'rule_desc': 'Nếu người mua có sẵn 0.5 giá trị ngôi nhà, và người mua có khả năng trả góp trong 60 tháng (5 năm)', 'rule_expression_backup': nan}\n",
      "score: 0\n",
      "{'rule_group': 'B', 'rule_code': 'B5', 'score': 1.0, 'rule_expression': 'getValue(buyerInfo.get(\"group\",  0))  == 4 and ( houseInfo.get(\"price\") >= 0.8 * buyerInfo.get(\"avai_amt\") and houseInfo.get(\"price\") <= buyerInfo.get(\"avai_amt\")*1.2 )', 'rule_desc': 'Nếu người mua thuộc nhóm 4, ngôi nhà trong khoảng 0.8-1.2 số tiền sẵn có', 'rule_expression_backup': nan}\n",
      "score: 0\n",
      "{'rule_group': 'B', 'rule_code': 'B6', 'score': 0.0, 'rule_expression': 'getValue(buyerInfo.get(\"group\",  0))  == 4 and ( houseInfo.get(\"price\") < 0.8 * buyerInfo.get(\"avai_amt\") and houseInfo.get(\"price\") > buyerInfo.get(\"avai_amt\")*1.2 )', 'rule_desc': 'Nếu người mua thuộc nhóm 4, ngôi nhà nhỏ hơn 0.8 hoặc lớn hơn 1.2 số tiền sẵn có', 'rule_expression_backup': nan}\n",
      "score: 0\n",
      "\tCode of group C  | Group condition: isValidInput( buyerInfo.get(\"desired_location\") ) and isValidInput( houseInfo.get(\"address_district\") )\n",
      "{'rule_group': 'C', 'rule_code': 'C1', 'score': 1.0, 'rule_expression': 'fn_calculateDistance(houseInfo.get(\"address_district\"), buyerInfo.get(\"desired_location\")) <= 2', 'rule_desc': 'Nếu trong phạm vi 2km', 'rule_expression_backup': nan}\n",
      "score: 0\n",
      "{'rule_group': 'C', 'rule_code': 'C2', 'score': 0.8, 'rule_expression': 'fn_calculateDistance(houseInfo.get(\"address_district\"), buyerInfo.get(\"desired_location\")) <= 4', 'rule_desc': nan, 'rule_expression_backup': nan}\n",
      "score: 0.8\n",
      "{'rule_group': 'C', 'rule_code': 'C3', 'score': 0.5, 'rule_expression': 'fn_calculateDistance(houseInfo.get(\"address_district\"), buyerInfo.get(\"desired_location\")) <= 6', 'rule_desc': nan, 'rule_expression_backup': nan}\n",
      "score: 0.5\n",
      "\tCode of group D  | Group condition: 1==1\n",
      "{'rule_group': 'D', 'rule_code': 'D1', 'score': 1.0, 'rule_expression': 'isGoodLegalStatus(houseInfo.get(\"legal_status\"))', 'rule_desc': 'Có giấy tờ', 'rule_expression_backup': 'houseInfo.get(\"legal_status\") in [\\'Sổ hồng\\', \\'Sổ đỏ\\']'}\n",
      "score: 1.0\n",
      "{'rule_group': 'D', 'rule_code': 'D2', 'score': 0.2, 'rule_expression': 'isGoodLegalStatus(houseInfo.get(\"legal_status\")) is not True and getValue(buyerInfo.get(\"group\",  0)) in (1, 3,4)', 'rule_desc': 'K giấy tờ và người mua có nhóm thuộc (1,3,4)', 'rule_expression_backup': nan}\n",
      "score: 0\n",
      "{'rule_group': 'D', 'rule_code': 'D3', 'score': 0.4, 'rule_expression': 'isGoodLegalStatus(houseInfo.get(\"legal_status\")) is not True and getValue(buyerInfo.get(\"group\",  0)) not in (1, 3,4)', 'rule_desc': 'Các trường hợp k giấy tờ còn lại', 'rule_expression_backup': nan}\n",
      "score: 0\n",
      "REPORT:\n",
      "Total calculated Score:  12.0\n",
      "Max Score from Groups:  26.0\n",
      "{'meta_url': 'https://rever.vn/mua/nha-pho-duong-3-thang-2-3-tang-dien-tich-249-9m2-huong-dong-nam-phap-ly-so-do', 'meta_code': 'T10144445', 'address_street': '3 Tháng 2', 'address_ward': 'Phường 12', 'address_district': 'Quận 10', 'address_city': 'Hồ Chí Minh', 'price': 48000000000.0, 'area': 249.9, 'area_site': 249.9, 'area_basebuilt': 66.0, 'area_netused': 249.9, 'area_yard': nan, 'area_length': nan, 'area_width': nan, 'area_front': nan, 'house_noFloor': 3, 'house_type': 'Nhà phố', 'house_noBasement': 0, 'house_direction': 'Đông Nam', 'in_room_noBed': 6, 'in_room_noBath': 6, 'in_room_noKitchen': nan, 'in_room_noRelax': nan, 'in_room_others': nan, 'in_interiorStatus': 'Nội thất cơ bản', 'prj_name': nan, 'prj_investor': nan, 'prj_status': nan, 'prj_tower': nan, 'legal_status': 'Sổ đỏ', 'other_overview': nan, 'other_good_outstandingCharacteristics': nan, 'other_good_locationDesc': nan, 'other_good_community': nan, 'other_good_education': nan, 'overall_info': 'NHÀ PHỐ 3 THÁNG 2, QUẬN 10\\nDiện tích: 249.9m² ( 5.5m x 12m )\\nDiện tích sử dụng: 249.9m²\\nNội thất cơ bản\\nPháp lý: sổ đỏ\\n\\nNhà phố có vị trí cách Trường Đại học Sài Gòn 1.8 km, cách Trường Cao đẳng Văn hóa Nghệ thuật Thành phố Hồ Chí Minh 1.5 km,...\\nTọa lạc tại vị trí thuận tiện di chuyển với đầy đủ các tiện ích về y tế, giáo dục và giải trí: Phòng khám Đa khoa Thiên Phước 1.4 km, Stix - Banquets & Events 1.7 km, Dottie Nguyễn Trãi Q1 1.6 km'}\n",
      "{'executedRuleGroup': [{'groupCode': 'A', 'groupCondition': 'isValidInput( buyerInfo.get(\"group\") )  and isValidInput( buyerInfo.get(\"is_married\") )  and isValidInput( buyerInfo.get(\"no_child\") )  and isValidInput(houseInfo.get(\"in_room_noBed\") )', 'groupScore': 3.0, 'calRuleScore': 0.0}, {'groupCode': 'B', 'groupCondition': 'buyerInfo.get(\"avai_amt\") is not None and buyerInfo.get(\"monthly_amt\") is not None', 'groupScore': 10.0, 'calRuleScore': 0.0}, {'groupCode': 'C', 'groupCondition': 'isValidInput( buyerInfo.get(\"desired_location\") ) and isValidInput( houseInfo.get(\"address_district\") )', 'groupScore': 5.0, 'rule_group': 'C', 'rule_code': 'C2', 'score': 0.8, 'rule_expression': 'fn_calculateDistance(houseInfo.get(\"address_district\"), buyerInfo.get(\"desired_location\")) <= 4', 'rule_desc': nan, 'rule_expression_backup': nan, 'calRuleScore': 4.0}, {'groupCode': 'D', 'groupCondition': '1==1', 'groupScore': 8.0, 'rule_group': 'D', 'rule_code': 'D1', 'score': 1.0, 'rule_expression': 'isGoodLegalStatus(houseInfo.get(\"legal_status\"))', 'rule_desc': 'Có giấy tờ', 'rule_expression_backup': 'houseInfo.get(\"legal_status\") in [\\'Sổ hồng\\', \\'Sổ đỏ\\']', 'calRuleScore': 8.0}], 'houseInfo': {'meta_url': 'https://rever.vn/mua/nha-pho-duong-3-thang-2-3-tang-dien-tich-249-9m2-huong-dong-nam-phap-ly-so-do', 'meta_code': 'T10144445', 'address_street': '3 Tháng 2', 'address_ward': 'Phường 12', 'address_district': 'Quận 10', 'address_city': 'Hồ Chí Minh', 'price': 48000000000.0, 'area': 249.9, 'area_site': 249.9, 'area_basebuilt': 66.0, 'area_netused': 249.9, 'area_yard': nan, 'area_length': nan, 'area_width': nan, 'area_front': nan, 'house_noFloor': 3, 'house_type': 'Nhà phố', 'house_noBasement': 0, 'house_direction': 'Đông Nam', 'in_room_noBed': 6, 'in_room_noBath': 6, 'in_room_noKitchen': nan, 'in_room_noRelax': nan, 'in_room_others': nan, 'in_interiorStatus': 'Nội thất cơ bản', 'prj_name': nan, 'prj_investor': nan, 'prj_status': nan, 'prj_tower': nan, 'legal_status': 'Sổ đỏ', 'other_overview': nan, 'other_good_outstandingCharacteristics': nan, 'other_good_locationDesc': nan, 'other_good_community': nan, 'other_good_education': nan, 'overall_info': 'NHÀ PHỐ 3 THÁNG 2, QUẬN 10\\nDiện tích: 249.9m² ( 5.5m x 12m )\\nDiện tích sử dụng: 249.9m²\\nNội thất cơ bản\\nPháp lý: sổ đỏ\\n\\nNhà phố có vị trí cách Trường Đại học Sài Gòn 1.8 km, cách Trường Cao đẳng Văn hóa Nghệ thuật Thành phố Hồ Chí Minh 1.5 km,...\\nTọa lạc tại vị trí thuận tiện di chuyển với đầy đủ các tiện ích về y tế, giáo dục và giải trí: Phòng khám Đa khoa Thiên Phước 1.4 km, Stix - Banquets & Events 1.7 km, Dottie Nguyễn Trãi Q1 1.6 km'}, 'maxScore': 26.0, 'houseScore': 12.0, 'housePerformance': 46.15, 'buyerInfo': {'id': 'x2', 'group': 1.0, 'age': 30.0, 'is_married': 0.0, 'no_child': 0.0, 'month_income': 70000000.0, 'monthly_amt': 50000000.0, 'avai_amt': 10000000000.0, 'desired_location': 'Quận 3', 'desired_interiorStatus': nan}, 'id': 'x2', 'group': 1.0, 'age': 30.0, 'is_married': 0.0, 'no_child': 0.0, 'month_income': 70000000.0, 'monthly_amt': 50000000.0, 'avai_amt': 10000000000.0, 'desired_location': 'Quận 3', 'desired_interiorStatus': nan, 'meta_url': 'https://rever.vn/mua/nha-pho-duong-3-thang-2-3-tang-dien-tich-249-9m2-huong-dong-nam-phap-ly-so-do', 'meta_code': 'T10144445', 'address_street': '3 Tháng 2', 'address_ward': 'Phường 12', 'address_district': 'Quận 10', 'address_city': 'Hồ Chí Minh', 'price': 48000000000.0, 'area': 249.9, 'area_site': 249.9, 'area_basebuilt': 66.0, 'area_netused': 249.9, 'area_yard': nan, 'area_length': nan, 'area_width': nan, 'area_front': nan, 'house_noFloor': 3, 'house_type': 'Nhà phố', 'house_noBasement': 0, 'house_direction': 'Đông Nam', 'in_room_noBed': 6, 'in_room_noBath': 6, 'in_room_noKitchen': nan, 'in_room_noRelax': nan, 'in_room_others': nan, 'in_interiorStatus': 'Nội thất cơ bản', 'prj_name': nan, 'prj_investor': nan, 'prj_status': nan, 'prj_tower': nan, 'legal_status': 'Sổ đỏ', 'other_overview': nan, 'other_good_outstandingCharacteristics': nan, 'other_good_locationDesc': nan, 'other_good_community': nan, 'other_good_education': nan, 'overall_info': 'NHÀ PHỐ 3 THÁNG 2, QUẬN 10\\nDiện tích: 249.9m² ( 5.5m x 12m )\\nDiện tích sử dụng: 249.9m²\\nNội thất cơ bản\\nPháp lý: sổ đỏ\\n\\nNhà phố có vị trí cách Trường Đại học Sài Gòn 1.8 km, cách Trường Cao đẳng Văn hóa Nghệ thuật Thành phố Hồ Chí Minh 1.5 km,...\\nTọa lạc tại vị trí thuận tiện di chuyển với đầy đủ các tiện ích về y tế, giáo dục và giải trí: Phòng khám Đa khoa Thiên Phước 1.4 km, Stix - Banquets & Events 1.7 km, Dottie Nguyễn Trãi Q1 1.6 km'}\n",
      "-------------\n",
      "\n",
      "\tCode of group A  | Group condition: isValidInput( buyerInfo.get(\"group\") )  and isValidInput( buyerInfo.get(\"is_married\") )  and isValidInput( buyerInfo.get(\"no_child\") )  and isValidInput(houseInfo.get(\"in_room_noBed\") )\n",
      "{'rule_group': 'A', 'rule_code': 'A1', 'score': 0.7, 'rule_expression': '(getValue(buyerInfo.get(\"group\",  0))  == 1 or (buyerInfo.get(\"is_married\")  == False and buyerInfo.get(\"no_child\") == 0 )) and houseInfo.get(\"in_room_noBed\")  in (1, 2)', 'rule_desc': 'Nếu không có gia đình VÀ không có con (KH nhóm 1) VÀ số phòng ngủ của căn nhà là (1,2)', 'rule_expression_backup': '(getValue(buyerInfo.get(\"group\",  0))  == 1 or (buyerInfo.get(\"is_married\")  == False and buyerInfo.get(\"no_child\") == 0 )) and houseInfo.get(\"no_bedroom\")  in (1, 2)'}\n",
      "score: 0.7\n",
      "{'rule_group': 'A', 'rule_code': 'A2', 'score': 0.6, 'rule_expression': '(getValue(buyerInfo.get(\"group\",  0))  == 1 or (buyerInfo.get(\"is_married\")  == False and buyerInfo.get(\"no_child\") == 0 )) and houseInfo.get(\"in_room_noBed\")  in (2,3,4)', 'rule_desc': 'Nếu không có gia đình VÀ không có con (KH nhóm 1) VÀ số phòng ngủ của căn nhà là 3', 'rule_expression_backup': '(getValue(buyerInfo.get(\"group\",  0))  == 1 or (buyerInfo.get(\"is_married\")  == False and buyerInfo.get(\"no_child\") == 0 )) and houseInfo.get(\"no_bedroom\")  >= 3'}\n",
      "score: 0.6\n",
      "{'rule_group': 'A', 'rule_code': 'A3', 'score': 0.8, 'rule_expression': '( getValue(buyerInfo.get(\"group\",  0))  == 2 or buyerInfo.get(\"is_married\")  == True ) and buyerInfo.get(\"no_child\") in ( 0, 1) and houseInfo.get(\"in_room_noBed\")  in (2, 3,4)', 'rule_desc': 'Nếu có gia đình VÀ số con là (0, 1) (KH nhóm 2) VÀ số phòng ngủ của căn nhà là (2,3)', 'rule_expression_backup': '( getValue(buyerInfo.get(\"group\",  0))  == 2 or buyerInfo.get(\"is_married\")  == True ) and buyerInfo.get(\"no_child\") in ( 0, 1) and houseInfo.get(\"no_bedroom\")  in (2, 3)'}\n",
      "score: 0\n",
      "{'rule_group': 'A', 'rule_code': 'A4', 'score': 0.6, 'rule_expression': '( getValue(buyerInfo.get(\"group\",  0))  == 2 or buyerInfo.get(\"is_married\")  == True ) and buyerInfo.get(\"no_child\") in ( 0, 1) and houseInfo.get(\"in_room_noBed\")  == 1', 'rule_desc': 'Nếu có gia đình VÀ số con là (0, 1) (KH nhóm 2) VÀ số phòng ngủ của căn nhà là 1', 'rule_expression_backup': '( getValue(buyerInfo.get(\"group\",  0))  == 2 or buyerInfo.get(\"is_married\")  == True ) and buyerInfo.get(\"no_child\") in ( 0, 1) and houseInfo.get(\"no_bedroom\")  == 1'}\n",
      "score: 0\n",
      "{'rule_group': 'A', 'rule_code': 'A5', 'score': 0.5, 'rule_expression': '( getValue(buyerInfo.get(\"group\",  0))  == 2 or buyerInfo.get(\"is_married\")  == True ) and buyerInfo.get(\"no_child\") == 2\\xa0and houseInfo.get(\"in_room_noBed\")  == 2', 'rule_desc': 'Nếu có gia đình VÀ số con là 2 (KH nhóm 2) VÀ số phòng ngủ của căn nhà là 2', 'rule_expression_backup': '( getValue(buyerInfo.get(\"group\",  0))  == 2 or buyerInfo.get(\"is_married\")  == True ) and buyerInfo.get(\"no_child\") == 2\\xa0and houseInfo.get(\"no_bedroom\")  == 2'}\n",
      "score: 0\n",
      "{'rule_group': 'A', 'rule_code': 'A6', 'score': 1.0, 'rule_expression': '( getValue(buyerInfo.get(\"group\",  0))  == 2 or buyerInfo.get(\"is_married\")  == True )  and buyerInfo.get(\"no_child\") == 2 and houseInfo.get(\"in_room_noBed\")  in ( 3,4,5)', 'rule_desc': 'Nếu có gia đình VÀ số con là 2 (KH nhóm 2) VÀ số phòng ngủ của căn nhà là 3', 'rule_expression_backup': '( getValue(buyerInfo.get(\"group\",  0))  == 2 or buyerInfo.get(\"is_married\")  == True )  and buyerInfo.get(\"no_child\") == 2 and houseInfo.get(\"no_bedroom\")  >= 3'}\n",
      "score: 0\n",
      "{'rule_group': 'A', 'rule_code': 'A7', 'score': 0.6, 'rule_expression': 'getValue(buyerInfo.get(\"group\",  0))  == 4 and houseInfo.get(\"in_room_noBed\")  == 1', 'rule_desc': 'Nếu KH nhóm 4 VÀ số phòng ngủ là 1', 'rule_expression_backup': 'getValue(buyerInfo.get(\"group\",  0))  == 4 and houseInfo.get(\"no_bedroom\")  == 1'}\n",
      "score: 0\n",
      "{'rule_group': 'A', 'rule_code': 'A8', 'score': 1.0, 'rule_expression': 'getValue(buyerInfo.get(\"group\",  0))  == 4 and houseInfo.get(\"in_room_noBed\")  in (2, 3,4)', 'rule_desc': 'Nếu KH nhóm 4 VÀ số phòng ngủ từ 2', 'rule_expression_backup': 'getValue(buyerInfo.get(\"group\",  0))  == 4 and houseInfo.get(\"no_bedroom\")  >= 2'}\n",
      "score: 0\n",
      "\tCode of group B  | Group condition: buyerInfo.get(\"avai_amt\") is not None and buyerInfo.get(\"monthly_amt\") is not None\n",
      "{'rule_group': 'B', 'rule_code': 'B1', 'score': 1.0, 'rule_expression': 'houseInfo.get(\"price\") >= 0.9 * buyerInfo.get(\"avai_amt\") and houseInfo.get(\"price\") <= buyerInfo.get(\"avai_amt\")', 'rule_desc': 'Nếu giá của ngôi nhà bằng khoảng 0.9-1 số tiền người mua hiện có', 'rule_expression_backup': 'houseInfo.get(\"price\") >= 0.8 * buyerInfo.get(\"avai_amt\")'}\n",
      "score: 0\n",
      "{'rule_group': 'B', 'rule_code': 'B2', 'score': 0.8, 'rule_expression': '( buyerInfo.get(\"avai_amt\")  >= 0.75 * houseInfo.get(\"price\") and houseInfo.get(\"price\") > buyerInfo.get(\"avai_amt\") ) and ( (buyerInfo.get(\"avai_amt\") + 12* buyerInfo.get(\"monthly_amt\")) >= houseInfo.get(\"price\"))', 'rule_desc': 'Nếu người mua có sẵn 0.75 giá trị ngôi nhà, và người mua có khả năng trả góp trong 12 tháng', 'rule_expression_backup': nan}\n",
      "score: 0\n",
      "{'rule_group': 'B', 'rule_code': 'B3', 'score': 0.6, 'rule_expression': '( buyerInfo.get(\"avai_amt\")  >= 0.5 * houseInfo.get(\"price\") and houseInfo.get(\"price\") > buyerInfo.get(\"avai_amt\") ) and ( (buyerInfo.get(\"avai_amt\") + 24* buyerInfo.get(\"monthly_amt\")) >= houseInfo.get(\"price\"))', 'rule_desc': 'Nếu người mua có sẵn 0.5 giá trị ngôi nhà, và người mua có khả năng trả góp trong 24 tháng', 'rule_expression_backup': 'houseInfo.get(\"price\") >= 0.5 * buyerInfo.get(\"avai_amt\") and ( (0.5 * buyerInfo.get(\"avai_amt\") + 24* buyerInfo.get(\"monthly_amt\")) >= houseInfo.get(\"price\"))'}\n",
      "score: 0\n",
      "{'rule_group': 'B', 'rule_code': 'B4', 'score': 0.5, 'rule_expression': '( buyerInfo.get(\"avai_amt\")  >= 0.5 * houseInfo.get(\"price\") and houseInfo.get(\"price\") > buyerInfo.get(\"avai_amt\") ) and ( (buyerInfo.get(\"avai_amt\") + 60* buyerInfo.get(\"monthly_amt\")) >= houseInfo.get(\"price\"))', 'rule_desc': 'Nếu người mua có sẵn 0.5 giá trị ngôi nhà, và người mua có khả năng trả góp trong 60 tháng (5 năm)', 'rule_expression_backup': nan}\n",
      "score: 0\n",
      "{'rule_group': 'B', 'rule_code': 'B5', 'score': 1.0, 'rule_expression': 'getValue(buyerInfo.get(\"group\",  0))  == 4 and ( houseInfo.get(\"price\") >= 0.8 * buyerInfo.get(\"avai_amt\") and houseInfo.get(\"price\") <= buyerInfo.get(\"avai_amt\")*1.2 )', 'rule_desc': 'Nếu người mua thuộc nhóm 4, ngôi nhà trong khoảng 0.8-1.2 số tiền sẵn có', 'rule_expression_backup': nan}\n",
      "score: 0\n",
      "{'rule_group': 'B', 'rule_code': 'B6', 'score': 0.0, 'rule_expression': 'getValue(buyerInfo.get(\"group\",  0))  == 4 and ( houseInfo.get(\"price\") < 0.8 * buyerInfo.get(\"avai_amt\") and houseInfo.get(\"price\") > buyerInfo.get(\"avai_amt\")*1.2 )', 'rule_desc': 'Nếu người mua thuộc nhóm 4, ngôi nhà nhỏ hơn 0.8 hoặc lớn hơn 1.2 số tiền sẵn có', 'rule_expression_backup': nan}\n",
      "score: 0\n",
      "\tCode of group C  | Group condition: isValidInput( buyerInfo.get(\"desired_location\") ) and isValidInput( houseInfo.get(\"address_district\") )\n",
      "{'rule_group': 'C', 'rule_code': 'C1', 'score': 1.0, 'rule_expression': 'fn_calculateDistance(houseInfo.get(\"address_district\"), buyerInfo.get(\"desired_location\")) <= 2', 'rule_desc': 'Nếu trong phạm vi 2km', 'rule_expression_backup': nan}\n",
      "score: 0\n",
      "{'rule_group': 'C', 'rule_code': 'C2', 'score': 0.8, 'rule_expression': 'fn_calculateDistance(houseInfo.get(\"address_district\"), buyerInfo.get(\"desired_location\")) <= 4', 'rule_desc': nan, 'rule_expression_backup': nan}\n",
      "score: 0.8\n",
      "{'rule_group': 'C', 'rule_code': 'C3', 'score': 0.5, 'rule_expression': 'fn_calculateDistance(houseInfo.get(\"address_district\"), buyerInfo.get(\"desired_location\")) <= 6', 'rule_desc': nan, 'rule_expression_backup': nan}\n"
     ]
    },
    {
     "name": "stdout",
     "output_type": "stream",
     "text": [
      "score: 0.5\n",
      "\tCode of group D  | Group condition: 1==1\n",
      "{'rule_group': 'D', 'rule_code': 'D1', 'score': 1.0, 'rule_expression': 'isGoodLegalStatus(houseInfo.get(\"legal_status\"))', 'rule_desc': 'Có giấy tờ', 'rule_expression_backup': 'houseInfo.get(\"legal_status\") in [\\'Sổ hồng\\', \\'Sổ đỏ\\']'}\n",
      "score: 1.0\n",
      "{'rule_group': 'D', 'rule_code': 'D2', 'score': 0.2, 'rule_expression': 'isGoodLegalStatus(houseInfo.get(\"legal_status\")) is not True and getValue(buyerInfo.get(\"group\",  0)) in (1, 3,4)', 'rule_desc': 'K giấy tờ và người mua có nhóm thuộc (1,3,4)', 'rule_expression_backup': nan}\n",
      "score: 0\n",
      "{'rule_group': 'D', 'rule_code': 'D3', 'score': 0.4, 'rule_expression': 'isGoodLegalStatus(houseInfo.get(\"legal_status\")) is not True and getValue(buyerInfo.get(\"group\",  0)) not in (1, 3,4)', 'rule_desc': 'Các trường hợp k giấy tờ còn lại', 'rule_expression_backup': nan}\n",
      "score: 0\n",
      "REPORT:\n",
      "Total calculated Score:  14.1\n",
      "Max Score from Groups:  26.0\n",
      "{'meta_url': 'https://rever.vn/mua/nha-pho-huong-bac-hem-xe-may-thong-thoang-phap-ly-minh-bach-ro-rang', 'meta_code': 'T1080333', 'address_street': 'Tân Phước', 'address_ward': 'Phường 6', 'address_district': 'Quận 10', 'address_city': 'Hồ Chí Minh', 'price': 4500000000.0, 'area': 27.9, 'area_site': 27.9, 'area_basebuilt': 27.9, 'area_netused': 54.8, 'area_yard': nan, 'area_length': nan, 'area_width': nan, 'area_front': nan, 'house_noFloor': 2, 'house_type': 'Nhà phố', 'house_noBasement': 0, 'house_direction': 'Đông Nam', 'in_room_noBed': 2, 'in_room_noBath': 2, 'in_room_noKitchen': nan, 'in_room_noRelax': nan, 'in_room_others': nan, 'in_interiorStatus': 'Không có nội thất', 'prj_name': nan, 'prj_investor': nan, 'prj_status': nan, 'prj_tower': nan, 'legal_status': 'Sổ hồng', 'other_overview': nan, 'other_good_outstandingCharacteristics': 'Nhà phố hướng Bắc, hẻm xe máy rộng rãi. Sổ hồng riêng, pháp lý minh bạch rõ ràng.', 'other_good_locationDesc': 'Khu vực phải nói là không thiếu thứ gì, gần các bệnh viện lớn của Thành phố: BV ĐH Y dược, Hòa Hảo, các trường Đại học lớn ĐH Y dược, ĐH Kinh tế HCM...', 'other_good_community': 'Dân cư văn minh, thân thiện.', 'other_good_education': 'Các trường Đại học lớn ĐH Y dược, ĐH Kinh tế HCM...', 'overall_info': 'BÁN NHÀ PHỐ ĐƯỜNG TÂN PHƯỚC, QUẬN 10\\n- Diện tích đất: 27.9m2 (3mx10m), nở hậu 3.7m.\\n- Diện tích sử dụng: 54.8m2.\\n- Kết cấu: 1 trệt, 1 lầu gồm 2 phòng ngủ và 2 phòng tắm.\\n- Nhà phố hướng Đông Nam, hẻm xe máy rộng rãi.\\nSổ hồng riêng, pháp lý minh bạch rõ ràng.\\n\\nKhu vực phải nói là không thiếu thứ gì, gần các bệnh viện lớn của Thành phố: BV ĐH Y dược, Hòa Hảo, các trường Đại học lớn ĐH Y dược, ĐH Kinh tế HCM...'}\n",
      "{'executedRuleGroup': [{'groupCode': 'A', 'groupCondition': 'isValidInput( buyerInfo.get(\"group\") )  and isValidInput( buyerInfo.get(\"is_married\") )  and isValidInput( buyerInfo.get(\"no_child\") )  and isValidInput(houseInfo.get(\"in_room_noBed\") )', 'groupScore': 3.0, 'rule_group': 'A', 'rule_code': 'A1', 'score': 0.7, 'rule_expression': '(getValue(buyerInfo.get(\"group\",  0))  == 1 or (buyerInfo.get(\"is_married\")  == False and buyerInfo.get(\"no_child\") == 0 )) and houseInfo.get(\"in_room_noBed\")  in (1, 2)', 'rule_desc': 'Nếu không có gia đình VÀ không có con (KH nhóm 1) VÀ số phòng ngủ của căn nhà là (1,2)', 'rule_expression_backup': '(getValue(buyerInfo.get(\"group\",  0))  == 1 or (buyerInfo.get(\"is_married\")  == False and buyerInfo.get(\"no_child\") == 0 )) and houseInfo.get(\"no_bedroom\")  in (1, 2)', 'calRuleScore': 2.0999999999999996}, {'groupCode': 'B', 'groupCondition': 'buyerInfo.get(\"avai_amt\") is not None and buyerInfo.get(\"monthly_amt\") is not None', 'groupScore': 10.0, 'calRuleScore': 0.0}, {'groupCode': 'C', 'groupCondition': 'isValidInput( buyerInfo.get(\"desired_location\") ) and isValidInput( houseInfo.get(\"address_district\") )', 'groupScore': 5.0, 'rule_group': 'C', 'rule_code': 'C2', 'score': 0.8, 'rule_expression': 'fn_calculateDistance(houseInfo.get(\"address_district\"), buyerInfo.get(\"desired_location\")) <= 4', 'rule_desc': nan, 'rule_expression_backup': nan, 'calRuleScore': 4.0}, {'groupCode': 'D', 'groupCondition': '1==1', 'groupScore': 8.0, 'rule_group': 'D', 'rule_code': 'D1', 'score': 1.0, 'rule_expression': 'isGoodLegalStatus(houseInfo.get(\"legal_status\"))', 'rule_desc': 'Có giấy tờ', 'rule_expression_backup': 'houseInfo.get(\"legal_status\") in [\\'Sổ hồng\\', \\'Sổ đỏ\\']', 'calRuleScore': 8.0}], 'houseInfo': {'meta_url': 'https://rever.vn/mua/nha-pho-huong-bac-hem-xe-may-thong-thoang-phap-ly-minh-bach-ro-rang', 'meta_code': 'T1080333', 'address_street': 'Tân Phước', 'address_ward': 'Phường 6', 'address_district': 'Quận 10', 'address_city': 'Hồ Chí Minh', 'price': 4500000000.0, 'area': 27.9, 'area_site': 27.9, 'area_basebuilt': 27.9, 'area_netused': 54.8, 'area_yard': nan, 'area_length': nan, 'area_width': nan, 'area_front': nan, 'house_noFloor': 2, 'house_type': 'Nhà phố', 'house_noBasement': 0, 'house_direction': 'Đông Nam', 'in_room_noBed': 2, 'in_room_noBath': 2, 'in_room_noKitchen': nan, 'in_room_noRelax': nan, 'in_room_others': nan, 'in_interiorStatus': 'Không có nội thất', 'prj_name': nan, 'prj_investor': nan, 'prj_status': nan, 'prj_tower': nan, 'legal_status': 'Sổ hồng', 'other_overview': nan, 'other_good_outstandingCharacteristics': 'Nhà phố hướng Bắc, hẻm xe máy rộng rãi. Sổ hồng riêng, pháp lý minh bạch rõ ràng.', 'other_good_locationDesc': 'Khu vực phải nói là không thiếu thứ gì, gần các bệnh viện lớn của Thành phố: BV ĐH Y dược, Hòa Hảo, các trường Đại học lớn ĐH Y dược, ĐH Kinh tế HCM...', 'other_good_community': 'Dân cư văn minh, thân thiện.', 'other_good_education': 'Các trường Đại học lớn ĐH Y dược, ĐH Kinh tế HCM...', 'overall_info': 'BÁN NHÀ PHỐ ĐƯỜNG TÂN PHƯỚC, QUẬN 10\\n- Diện tích đất: 27.9m2 (3mx10m), nở hậu 3.7m.\\n- Diện tích sử dụng: 54.8m2.\\n- Kết cấu: 1 trệt, 1 lầu gồm 2 phòng ngủ và 2 phòng tắm.\\n- Nhà phố hướng Đông Nam, hẻm xe máy rộng rãi.\\nSổ hồng riêng, pháp lý minh bạch rõ ràng.\\n\\nKhu vực phải nói là không thiếu thứ gì, gần các bệnh viện lớn của Thành phố: BV ĐH Y dược, Hòa Hảo, các trường Đại học lớn ĐH Y dược, ĐH Kinh tế HCM...'}, 'maxScore': 26.0, 'houseScore': 14.1, 'housePerformance': 54.23, 'buyerInfo': {'id': 'x2', 'group': 1.0, 'age': 30.0, 'is_married': 0.0, 'no_child': 0.0, 'month_income': 70000000.0, 'monthly_amt': 50000000.0, 'avai_amt': 10000000000.0, 'desired_location': 'Quận 3', 'desired_interiorStatus': nan}, 'id': 'x2', 'group': 1.0, 'age': 30.0, 'is_married': 0.0, 'no_child': 0.0, 'month_income': 70000000.0, 'monthly_amt': 50000000.0, 'avai_amt': 10000000000.0, 'desired_location': 'Quận 3', 'desired_interiorStatus': nan, 'meta_url': 'https://rever.vn/mua/nha-pho-huong-bac-hem-xe-may-thong-thoang-phap-ly-minh-bach-ro-rang', 'meta_code': 'T1080333', 'address_street': 'Tân Phước', 'address_ward': 'Phường 6', 'address_district': 'Quận 10', 'address_city': 'Hồ Chí Minh', 'price': 4500000000.0, 'area': 27.9, 'area_site': 27.9, 'area_basebuilt': 27.9, 'area_netused': 54.8, 'area_yard': nan, 'area_length': nan, 'area_width': nan, 'area_front': nan, 'house_noFloor': 2, 'house_type': 'Nhà phố', 'house_noBasement': 0, 'house_direction': 'Đông Nam', 'in_room_noBed': 2, 'in_room_noBath': 2, 'in_room_noKitchen': nan, 'in_room_noRelax': nan, 'in_room_others': nan, 'in_interiorStatus': 'Không có nội thất', 'prj_name': nan, 'prj_investor': nan, 'prj_status': nan, 'prj_tower': nan, 'legal_status': 'Sổ hồng', 'other_overview': nan, 'other_good_outstandingCharacteristics': 'Nhà phố hướng Bắc, hẻm xe máy rộng rãi. Sổ hồng riêng, pháp lý minh bạch rõ ràng.', 'other_good_locationDesc': 'Khu vực phải nói là không thiếu thứ gì, gần các bệnh viện lớn của Thành phố: BV ĐH Y dược, Hòa Hảo, các trường Đại học lớn ĐH Y dược, ĐH Kinh tế HCM...', 'other_good_community': 'Dân cư văn minh, thân thiện.', 'other_good_education': 'Các trường Đại học lớn ĐH Y dược, ĐH Kinh tế HCM...', 'overall_info': 'BÁN NHÀ PHỐ ĐƯỜNG TÂN PHƯỚC, QUẬN 10\\n- Diện tích đất: 27.9m2 (3mx10m), nở hậu 3.7m.\\n- Diện tích sử dụng: 54.8m2.\\n- Kết cấu: 1 trệt, 1 lầu gồm 2 phòng ngủ và 2 phòng tắm.\\n- Nhà phố hướng Đông Nam, hẻm xe máy rộng rãi.\\nSổ hồng riêng, pháp lý minh bạch rõ ràng.\\n\\nKhu vực phải nói là không thiếu thứ gì, gần các bệnh viện lớn của Thành phố: BV ĐH Y dược, Hòa Hảo, các trường Đại học lớn ĐH Y dược, ĐH Kinh tế HCM...'}\n",
      "-------------\n",
      "\n",
      "\tCode of group A  | Group condition: isValidInput( buyerInfo.get(\"group\") )  and isValidInput( buyerInfo.get(\"is_married\") )  and isValidInput( buyerInfo.get(\"no_child\") )  and isValidInput(houseInfo.get(\"in_room_noBed\") )\n",
      "{'rule_group': 'A', 'rule_code': 'A1', 'score': 0.7, 'rule_expression': '(getValue(buyerInfo.get(\"group\",  0))  == 1 or (buyerInfo.get(\"is_married\")  == False and buyerInfo.get(\"no_child\") == 0 )) and houseInfo.get(\"in_room_noBed\")  in (1, 2)', 'rule_desc': 'Nếu không có gia đình VÀ không có con (KH nhóm 1) VÀ số phòng ngủ của căn nhà là (1,2)', 'rule_expression_backup': '(getValue(buyerInfo.get(\"group\",  0))  == 1 or (buyerInfo.get(\"is_married\")  == False and buyerInfo.get(\"no_child\") == 0 )) and houseInfo.get(\"no_bedroom\")  in (1, 2)'}\n",
      "score: 0\n",
      "{'rule_group': 'A', 'rule_code': 'A2', 'score': 0.6, 'rule_expression': '(getValue(buyerInfo.get(\"group\",  0))  == 1 or (buyerInfo.get(\"is_married\")  == False and buyerInfo.get(\"no_child\") == 0 )) and houseInfo.get(\"in_room_noBed\")  in (2,3,4)', 'rule_desc': 'Nếu không có gia đình VÀ không có con (KH nhóm 1) VÀ số phòng ngủ của căn nhà là 3', 'rule_expression_backup': '(getValue(buyerInfo.get(\"group\",  0))  == 1 or (buyerInfo.get(\"is_married\")  == False and buyerInfo.get(\"no_child\") == 0 )) and houseInfo.get(\"no_bedroom\")  >= 3'}\n",
      "score: 0.6\n",
      "{'rule_group': 'A', 'rule_code': 'A3', 'score': 0.8, 'rule_expression': '( getValue(buyerInfo.get(\"group\",  0))  == 2 or buyerInfo.get(\"is_married\")  == True ) and buyerInfo.get(\"no_child\") in ( 0, 1) and houseInfo.get(\"in_room_noBed\")  in (2, 3,4)', 'rule_desc': 'Nếu có gia đình VÀ số con là (0, 1) (KH nhóm 2) VÀ số phòng ngủ của căn nhà là (2,3)', 'rule_expression_backup': '( getValue(buyerInfo.get(\"group\",  0))  == 2 or buyerInfo.get(\"is_married\")  == True ) and buyerInfo.get(\"no_child\") in ( 0, 1) and houseInfo.get(\"no_bedroom\")  in (2, 3)'}\n",
      "score: 0\n",
      "{'rule_group': 'A', 'rule_code': 'A4', 'score': 0.6, 'rule_expression': '( getValue(buyerInfo.get(\"group\",  0))  == 2 or buyerInfo.get(\"is_married\")  == True ) and buyerInfo.get(\"no_child\") in ( 0, 1) and houseInfo.get(\"in_room_noBed\")  == 1', 'rule_desc': 'Nếu có gia đình VÀ số con là (0, 1) (KH nhóm 2) VÀ số phòng ngủ của căn nhà là 1', 'rule_expression_backup': '( getValue(buyerInfo.get(\"group\",  0))  == 2 or buyerInfo.get(\"is_married\")  == True ) and buyerInfo.get(\"no_child\") in ( 0, 1) and houseInfo.get(\"no_bedroom\")  == 1'}\n",
      "score: 0\n",
      "{'rule_group': 'A', 'rule_code': 'A5', 'score': 0.5, 'rule_expression': '( getValue(buyerInfo.get(\"group\",  0))  == 2 or buyerInfo.get(\"is_married\")  == True ) and buyerInfo.get(\"no_child\") == 2\\xa0and houseInfo.get(\"in_room_noBed\")  == 2', 'rule_desc': 'Nếu có gia đình VÀ số con là 2 (KH nhóm 2) VÀ số phòng ngủ của căn nhà là 2', 'rule_expression_backup': '( getValue(buyerInfo.get(\"group\",  0))  == 2 or buyerInfo.get(\"is_married\")  == True ) and buyerInfo.get(\"no_child\") == 2\\xa0and houseInfo.get(\"no_bedroom\")  == 2'}\n",
      "score: 0\n",
      "{'rule_group': 'A', 'rule_code': 'A6', 'score': 1.0, 'rule_expression': '( getValue(buyerInfo.get(\"group\",  0))  == 2 or buyerInfo.get(\"is_married\")  == True )  and buyerInfo.get(\"no_child\") == 2 and houseInfo.get(\"in_room_noBed\")  in ( 3,4,5)', 'rule_desc': 'Nếu có gia đình VÀ số con là 2 (KH nhóm 2) VÀ số phòng ngủ của căn nhà là 3', 'rule_expression_backup': '( getValue(buyerInfo.get(\"group\",  0))  == 2 or buyerInfo.get(\"is_married\")  == True )  and buyerInfo.get(\"no_child\") == 2 and houseInfo.get(\"no_bedroom\")  >= 3'}\n",
      "score: 0\n",
      "{'rule_group': 'A', 'rule_code': 'A7', 'score': 0.6, 'rule_expression': 'getValue(buyerInfo.get(\"group\",  0))  == 4 and houseInfo.get(\"in_room_noBed\")  == 1', 'rule_desc': 'Nếu KH nhóm 4 VÀ số phòng ngủ là 1', 'rule_expression_backup': 'getValue(buyerInfo.get(\"group\",  0))  == 4 and houseInfo.get(\"no_bedroom\")  == 1'}\n",
      "score: 0\n",
      "{'rule_group': 'A', 'rule_code': 'A8', 'score': 1.0, 'rule_expression': 'getValue(buyerInfo.get(\"group\",  0))  == 4 and houseInfo.get(\"in_room_noBed\")  in (2, 3,4)', 'rule_desc': 'Nếu KH nhóm 4 VÀ số phòng ngủ từ 2', 'rule_expression_backup': 'getValue(buyerInfo.get(\"group\",  0))  == 4 and houseInfo.get(\"no_bedroom\")  >= 2'}\n",
      "score: 0\n",
      "\tCode of group B  | Group condition: buyerInfo.get(\"avai_amt\") is not None and buyerInfo.get(\"monthly_amt\") is not None\n",
      "{'rule_group': 'B', 'rule_code': 'B1', 'score': 1.0, 'rule_expression': 'houseInfo.get(\"price\") >= 0.9 * buyerInfo.get(\"avai_amt\") and houseInfo.get(\"price\") <= buyerInfo.get(\"avai_amt\")', 'rule_desc': 'Nếu giá của ngôi nhà bằng khoảng 0.9-1 số tiền người mua hiện có', 'rule_expression_backup': 'houseInfo.get(\"price\") >= 0.8 * buyerInfo.get(\"avai_amt\")'}\n",
      "score: 0\n",
      "{'rule_group': 'B', 'rule_code': 'B2', 'score': 0.8, 'rule_expression': '( buyerInfo.get(\"avai_amt\")  >= 0.75 * houseInfo.get(\"price\") and houseInfo.get(\"price\") > buyerInfo.get(\"avai_amt\") ) and ( (buyerInfo.get(\"avai_amt\") + 12* buyerInfo.get(\"monthly_amt\")) >= houseInfo.get(\"price\"))', 'rule_desc': 'Nếu người mua có sẵn 0.75 giá trị ngôi nhà, và người mua có khả năng trả góp trong 12 tháng', 'rule_expression_backup': nan}\n",
      "score: 0\n",
      "{'rule_group': 'B', 'rule_code': 'B3', 'score': 0.6, 'rule_expression': '( buyerInfo.get(\"avai_amt\")  >= 0.5 * houseInfo.get(\"price\") and houseInfo.get(\"price\") > buyerInfo.get(\"avai_amt\") ) and ( (buyerInfo.get(\"avai_amt\") + 24* buyerInfo.get(\"monthly_amt\")) >= houseInfo.get(\"price\"))', 'rule_desc': 'Nếu người mua có sẵn 0.5 giá trị ngôi nhà, và người mua có khả năng trả góp trong 24 tháng', 'rule_expression_backup': 'houseInfo.get(\"price\") >= 0.5 * buyerInfo.get(\"avai_amt\") and ( (0.5 * buyerInfo.get(\"avai_amt\") + 24* buyerInfo.get(\"monthly_amt\")) >= houseInfo.get(\"price\"))'}\n",
      "score: 0\n",
      "{'rule_group': 'B', 'rule_code': 'B4', 'score': 0.5, 'rule_expression': '( buyerInfo.get(\"avai_amt\")  >= 0.5 * houseInfo.get(\"price\") and houseInfo.get(\"price\") > buyerInfo.get(\"avai_amt\") ) and ( (buyerInfo.get(\"avai_amt\") + 60* buyerInfo.get(\"monthly_amt\")) >= houseInfo.get(\"price\"))', 'rule_desc': 'Nếu người mua có sẵn 0.5 giá trị ngôi nhà, và người mua có khả năng trả góp trong 60 tháng (5 năm)', 'rule_expression_backup': nan}\n",
      "score: 0\n",
      "{'rule_group': 'B', 'rule_code': 'B5', 'score': 1.0, 'rule_expression': 'getValue(buyerInfo.get(\"group\",  0))  == 4 and ( houseInfo.get(\"price\") >= 0.8 * buyerInfo.get(\"avai_amt\") and houseInfo.get(\"price\") <= buyerInfo.get(\"avai_amt\")*1.2 )', 'rule_desc': 'Nếu người mua thuộc nhóm 4, ngôi nhà trong khoảng 0.8-1.2 số tiền sẵn có', 'rule_expression_backup': nan}\n",
      "score: 0\n",
      "{'rule_group': 'B', 'rule_code': 'B6', 'score': 0.0, 'rule_expression': 'getValue(buyerInfo.get(\"group\",  0))  == 4 and ( houseInfo.get(\"price\") < 0.8 * buyerInfo.get(\"avai_amt\") and houseInfo.get(\"price\") > buyerInfo.get(\"avai_amt\")*1.2 )', 'rule_desc': 'Nếu người mua thuộc nhóm 4, ngôi nhà nhỏ hơn 0.8 hoặc lớn hơn 1.2 số tiền sẵn có', 'rule_expression_backup': nan}\n",
      "score: 0\n",
      "\tCode of group C  | Group condition: isValidInput( buyerInfo.get(\"desired_location\") ) and isValidInput( houseInfo.get(\"address_district\") )\n",
      "{'rule_group': 'C', 'rule_code': 'C1', 'score': 1.0, 'rule_expression': 'fn_calculateDistance(houseInfo.get(\"address_district\"), buyerInfo.get(\"desired_location\")) <= 2', 'rule_desc': 'Nếu trong phạm vi 2km', 'rule_expression_backup': nan}\n",
      "score: 0\n",
      "{'rule_group': 'C', 'rule_code': 'C2', 'score': 0.8, 'rule_expression': 'fn_calculateDistance(houseInfo.get(\"address_district\"), buyerInfo.get(\"desired_location\")) <= 4', 'rule_desc': nan, 'rule_expression_backup': nan}\n",
      "score: 0.8\n",
      "{'rule_group': 'C', 'rule_code': 'C3', 'score': 0.5, 'rule_expression': 'fn_calculateDistance(houseInfo.get(\"address_district\"), buyerInfo.get(\"desired_location\")) <= 6', 'rule_desc': nan, 'rule_expression_backup': nan}\n",
      "score: 0.5\n",
      "\tCode of group D  | Group condition: 1==1\n",
      "{'rule_group': 'D', 'rule_code': 'D1', 'score': 1.0, 'rule_expression': 'isGoodLegalStatus(houseInfo.get(\"legal_status\"))', 'rule_desc': 'Có giấy tờ', 'rule_expression_backup': 'houseInfo.get(\"legal_status\") in [\\'Sổ hồng\\', \\'Sổ đỏ\\']'}\n",
      "score: 1.0\n",
      "{'rule_group': 'D', 'rule_code': 'D2', 'score': 0.2, 'rule_expression': 'isGoodLegalStatus(houseInfo.get(\"legal_status\")) is not True and getValue(buyerInfo.get(\"group\",  0)) in (1, 3,4)', 'rule_desc': 'K giấy tờ và người mua có nhóm thuộc (1,3,4)', 'rule_expression_backup': nan}\n",
      "score: 0\n",
      "{'rule_group': 'D', 'rule_code': 'D3', 'score': 0.4, 'rule_expression': 'isGoodLegalStatus(houseInfo.get(\"legal_status\")) is not True and getValue(buyerInfo.get(\"group\",  0)) not in (1, 3,4)', 'rule_desc': 'Các trường hợp k giấy tờ còn lại', 'rule_expression_backup': nan}\n",
      "score: 0\n",
      "REPORT:\n",
      "Total calculated Score:  13.8\n",
      "Max Score from Groups:  26.0\n",
      "{'meta_url': 'https://rever.vn/mua/nha-pho-doan-van-bo-1-tret-2-lau-va-san-thuong-khong-noi-that', 'meta_code': 'T04109706', 'address_street': 'Đoàn Văn Bơ', 'address_ward': 'Phường 18', 'address_district': 'Quận 4', 'address_city': 'Hồ Chí Minh', 'price': 6000000000.0, 'area': 86.7, 'area_site': 86.7, 'area_basebuilt': nan, 'area_netused': 348.0, 'area_yard': nan, 'area_length': nan, 'area_width': nan, 'area_front': nan, 'house_noFloor': 3, 'house_type': 'Nhà phố', 'house_noBasement': 0, 'house_direction': nan, 'in_room_noBed': 4, 'in_room_noBath': 5, 'in_room_noKitchen': nan, 'in_room_noRelax': nan, 'in_room_others': nan, 'in_interiorStatus': 'Không có nội thất', 'prj_name': nan, 'prj_investor': nan, 'prj_status': nan, 'prj_tower': nan, 'legal_status': 'Sổ hồng', 'other_overview': nan, 'other_good_outstandingCharacteristics': 'Trước nhà có đường tráng nhựa rộng rãi và sạch sẽ.\\nNhà có sổ hồng riêng, pháp lý minh bạch rõ ràng. Bàn giao không có nội thất.', 'other_good_locationDesc': 'Vị trí : 3 phút tới trường THCS Tăng Bạt Hổ, 3 tới trường mầm non Ban Mai, 3 phút tới Căn hộ Cao Cấp Charmington Iris, 4 phút tới Chợ Kho 11, 5 phút tới Chung cư Riva Park, 6 phút tới trường THCS Khánh Hội và trường Tiểu học Nguyễn Thái Bình', 'other_good_community': 'Khu dân cư văn minh, an ninh, dân trí cao.', 'other_good_education': 'Nhà cách trường Trung học Kỹ thuật Hải quân 130m, THCS Khánh Hội A 650m, ĐH Nguyễn Tất Thành 900, Trung tâm Dạy nghề Quận 4 1,3km và ĐH Luật Tp.HCM 1,9km.', 'overall_info': 'BÁN NHÀ PHỐ ĐƯỜNG ĐOÀN VĂN BƠ, QUẬN 4\\n- Diện tích: 86.7m2 (5m x 18m)\\n- Diện tích sử dụng: 348m2\\n- Kết Cấu : 1 Trệt 2 Lầu 2 Sân thượng 4 phòng ngủ và 5WC (mỗi phòng đều có nhà vệ sinh riêng), 1 phòng khách 1 bếp, nhà có giếng trời phong thủy thích hợp làm ăn kinh doanh\\n- Trước nhà có đường tráng nhựa rộng rãi và sạch sẽ.\\nNhà có sổ hồng riêng, pháp lý minh bạch rõ ràng. Bàn giao không có nội thất. \\n\\nVị trí : 3 phút tới trường THCS Tăng Bạt Hổ, 3 tới trường mầm non Ban Mai, 3 phút tới Căn hộ Cao Cấp Charmington Iris, 4 phút tới Chợ Kho 11, 5 phút tới Chung cư Riva Park, 6 phút tới trường THCS Khánh Hội và trường Tiểu học Nguyễn Thái Bình'}\n",
      "{'executedRuleGroup': [{'groupCode': 'A', 'groupCondition': 'isValidInput( buyerInfo.get(\"group\") )  and isValidInput( buyerInfo.get(\"is_married\") )  and isValidInput( buyerInfo.get(\"no_child\") )  and isValidInput(houseInfo.get(\"in_room_noBed\") )', 'groupScore': 3.0, 'rule_group': 'A', 'rule_code': 'A2', 'score': 0.6, 'rule_expression': '(getValue(buyerInfo.get(\"group\",  0))  == 1 or (buyerInfo.get(\"is_married\")  == False and buyerInfo.get(\"no_child\") == 0 )) and houseInfo.get(\"in_room_noBed\")  in (2,3,4)', 'rule_desc': 'Nếu không có gia đình VÀ không có con (KH nhóm 1) VÀ số phòng ngủ của căn nhà là 3', 'rule_expression_backup': '(getValue(buyerInfo.get(\"group\",  0))  == 1 or (buyerInfo.get(\"is_married\")  == False and buyerInfo.get(\"no_child\") == 0 )) and houseInfo.get(\"no_bedroom\")  >= 3', 'calRuleScore': 1.7999999999999998}, {'groupCode': 'B', 'groupCondition': 'buyerInfo.get(\"avai_amt\") is not None and buyerInfo.get(\"monthly_amt\") is not None', 'groupScore': 10.0, 'calRuleScore': 0.0}, {'groupCode': 'C', 'groupCondition': 'isValidInput( buyerInfo.get(\"desired_location\") ) and isValidInput( houseInfo.get(\"address_district\") )', 'groupScore': 5.0, 'rule_group': 'C', 'rule_code': 'C2', 'score': 0.8, 'rule_expression': 'fn_calculateDistance(houseInfo.get(\"address_district\"), buyerInfo.get(\"desired_location\")) <= 4', 'rule_desc': nan, 'rule_expression_backup': nan, 'calRuleScore': 4.0}, {'groupCode': 'D', 'groupCondition': '1==1', 'groupScore': 8.0, 'rule_group': 'D', 'rule_code': 'D1', 'score': 1.0, 'rule_expression': 'isGoodLegalStatus(houseInfo.get(\"legal_status\"))', 'rule_desc': 'Có giấy tờ', 'rule_expression_backup': 'houseInfo.get(\"legal_status\") in [\\'Sổ hồng\\', \\'Sổ đỏ\\']', 'calRuleScore': 8.0}], 'houseInfo': {'meta_url': 'https://rever.vn/mua/nha-pho-doan-van-bo-1-tret-2-lau-va-san-thuong-khong-noi-that', 'meta_code': 'T04109706', 'address_street': 'Đoàn Văn Bơ', 'address_ward': 'Phường 18', 'address_district': 'Quận 4', 'address_city': 'Hồ Chí Minh', 'price': 6000000000.0, 'area': 86.7, 'area_site': 86.7, 'area_basebuilt': nan, 'area_netused': 348.0, 'area_yard': nan, 'area_length': nan, 'area_width': nan, 'area_front': nan, 'house_noFloor': 3, 'house_type': 'Nhà phố', 'house_noBasement': 0, 'house_direction': nan, 'in_room_noBed': 4, 'in_room_noBath': 5, 'in_room_noKitchen': nan, 'in_room_noRelax': nan, 'in_room_others': nan, 'in_interiorStatus': 'Không có nội thất', 'prj_name': nan, 'prj_investor': nan, 'prj_status': nan, 'prj_tower': nan, 'legal_status': 'Sổ hồng', 'other_overview': nan, 'other_good_outstandingCharacteristics': 'Trước nhà có đường tráng nhựa rộng rãi và sạch sẽ.\\nNhà có sổ hồng riêng, pháp lý minh bạch rõ ràng. Bàn giao không có nội thất.', 'other_good_locationDesc': 'Vị trí : 3 phút tới trường THCS Tăng Bạt Hổ, 3 tới trường mầm non Ban Mai, 3 phút tới Căn hộ Cao Cấp Charmington Iris, 4 phút tới Chợ Kho 11, 5 phút tới Chung cư Riva Park, 6 phút tới trường THCS Khánh Hội và trường Tiểu học Nguyễn Thái Bình', 'other_good_community': 'Khu dân cư văn minh, an ninh, dân trí cao.', 'other_good_education': 'Nhà cách trường Trung học Kỹ thuật Hải quân 130m, THCS Khánh Hội A 650m, ĐH Nguyễn Tất Thành 900, Trung tâm Dạy nghề Quận 4 1,3km và ĐH Luật Tp.HCM 1,9km.', 'overall_info': 'BÁN NHÀ PHỐ ĐƯỜNG ĐOÀN VĂN BƠ, QUẬN 4\\n- Diện tích: 86.7m2 (5m x 18m)\\n- Diện tích sử dụng: 348m2\\n- Kết Cấu : 1 Trệt 2 Lầu 2 Sân thượng 4 phòng ngủ và 5WC (mỗi phòng đều có nhà vệ sinh riêng), 1 phòng khách 1 bếp, nhà có giếng trời phong thủy thích hợp làm ăn kinh doanh\\n- Trước nhà có đường tráng nhựa rộng rãi và sạch sẽ.\\nNhà có sổ hồng riêng, pháp lý minh bạch rõ ràng. Bàn giao không có nội thất. \\n\\nVị trí : 3 phút tới trường THCS Tăng Bạt Hổ, 3 tới trường mầm non Ban Mai, 3 phút tới Căn hộ Cao Cấp Charmington Iris, 4 phút tới Chợ Kho 11, 5 phút tới Chung cư Riva Park, 6 phút tới trường THCS Khánh Hội và trường Tiểu học Nguyễn Thái Bình'}, 'maxScore': 26.0, 'houseScore': 13.8, 'housePerformance': 53.08, 'buyerInfo': {'id': 'x2', 'group': 1.0, 'age': 30.0, 'is_married': 0.0, 'no_child': 0.0, 'month_income': 70000000.0, 'monthly_amt': 50000000.0, 'avai_amt': 10000000000.0, 'desired_location': 'Quận 3', 'desired_interiorStatus': nan}, 'id': 'x2', 'group': 1.0, 'age': 30.0, 'is_married': 0.0, 'no_child': 0.0, 'month_income': 70000000.0, 'monthly_amt': 50000000.0, 'avai_amt': 10000000000.0, 'desired_location': 'Quận 3', 'desired_interiorStatus': nan, 'meta_url': 'https://rever.vn/mua/nha-pho-doan-van-bo-1-tret-2-lau-va-san-thuong-khong-noi-that', 'meta_code': 'T04109706', 'address_street': 'Đoàn Văn Bơ', 'address_ward': 'Phường 18', 'address_district': 'Quận 4', 'address_city': 'Hồ Chí Minh', 'price': 6000000000.0, 'area': 86.7, 'area_site': 86.7, 'area_basebuilt': nan, 'area_netused': 348.0, 'area_yard': nan, 'area_length': nan, 'area_width': nan, 'area_front': nan, 'house_noFloor': 3, 'house_type': 'Nhà phố', 'house_noBasement': 0, 'house_direction': nan, 'in_room_noBed': 4, 'in_room_noBath': 5, 'in_room_noKitchen': nan, 'in_room_noRelax': nan, 'in_room_others': nan, 'in_interiorStatus': 'Không có nội thất', 'prj_name': nan, 'prj_investor': nan, 'prj_status': nan, 'prj_tower': nan, 'legal_status': 'Sổ hồng', 'other_overview': nan, 'other_good_outstandingCharacteristics': 'Trước nhà có đường tráng nhựa rộng rãi và sạch sẽ.\\nNhà có sổ hồng riêng, pháp lý minh bạch rõ ràng. Bàn giao không có nội thất.', 'other_good_locationDesc': 'Vị trí : 3 phút tới trường THCS Tăng Bạt Hổ, 3 tới trường mầm non Ban Mai, 3 phút tới Căn hộ Cao Cấp Charmington Iris, 4 phút tới Chợ Kho 11, 5 phút tới Chung cư Riva Park, 6 phút tới trường THCS Khánh Hội và trường Tiểu học Nguyễn Thái Bình', 'other_good_community': 'Khu dân cư văn minh, an ninh, dân trí cao.', 'other_good_education': 'Nhà cách trường Trung học Kỹ thuật Hải quân 130m, THCS Khánh Hội A 650m, ĐH Nguyễn Tất Thành 900, Trung tâm Dạy nghề Quận 4 1,3km và ĐH Luật Tp.HCM 1,9km.', 'overall_info': 'BÁN NHÀ PHỐ ĐƯỜNG ĐOÀN VĂN BƠ, QUẬN 4\\n- Diện tích: 86.7m2 (5m x 18m)\\n- Diện tích sử dụng: 348m2\\n- Kết Cấu : 1 Trệt 2 Lầu 2 Sân thượng 4 phòng ngủ và 5WC (mỗi phòng đều có nhà vệ sinh riêng), 1 phòng khách 1 bếp, nhà có giếng trời phong thủy thích hợp làm ăn kinh doanh\\n- Trước nhà có đường tráng nhựa rộng rãi và sạch sẽ.\\nNhà có sổ hồng riêng, pháp lý minh bạch rõ ràng. Bàn giao không có nội thất. \\n\\nVị trí : 3 phút tới trường THCS Tăng Bạt Hổ, 3 tới trường mầm non Ban Mai, 3 phút tới Căn hộ Cao Cấp Charmington Iris, 4 phút tới Chợ Kho 11, 5 phút tới Chung cư Riva Park, 6 phút tới trường THCS Khánh Hội và trường Tiểu học Nguyễn Thái Bình'}\n",
      "-------------\n",
      "\n",
      "\tCode of group A  | Group condition: isValidInput( buyerInfo.get(\"group\") )  and isValidInput( buyerInfo.get(\"is_married\") )  and isValidInput( buyerInfo.get(\"no_child\") )  and isValidInput(houseInfo.get(\"in_room_noBed\") )\n",
      "{'rule_group': 'A', 'rule_code': 'A1', 'score': 0.7, 'rule_expression': '(getValue(buyerInfo.get(\"group\",  0))  == 1 or (buyerInfo.get(\"is_married\")  == False and buyerInfo.get(\"no_child\") == 0 )) and houseInfo.get(\"in_room_noBed\")  in (1, 2)', 'rule_desc': 'Nếu không có gia đình VÀ không có con (KH nhóm 1) VÀ số phòng ngủ của căn nhà là (1,2)', 'rule_expression_backup': '(getValue(buyerInfo.get(\"group\",  0))  == 1 or (buyerInfo.get(\"is_married\")  == False and buyerInfo.get(\"no_child\") == 0 )) and houseInfo.get(\"no_bedroom\")  in (1, 2)'}\n",
      "score: 0\n",
      "{'rule_group': 'A', 'rule_code': 'A2', 'score': 0.6, 'rule_expression': '(getValue(buyerInfo.get(\"group\",  0))  == 1 or (buyerInfo.get(\"is_married\")  == False and buyerInfo.get(\"no_child\") == 0 )) and houseInfo.get(\"in_room_noBed\")  in (2,3,4)', 'rule_desc': 'Nếu không có gia đình VÀ không có con (KH nhóm 1) VÀ số phòng ngủ của căn nhà là 3', 'rule_expression_backup': '(getValue(buyerInfo.get(\"group\",  0))  == 1 or (buyerInfo.get(\"is_married\")  == False and buyerInfo.get(\"no_child\") == 0 )) and houseInfo.get(\"no_bedroom\")  >= 3'}\n",
      "score: 0.6\n",
      "{'rule_group': 'A', 'rule_code': 'A3', 'score': 0.8, 'rule_expression': '( getValue(buyerInfo.get(\"group\",  0))  == 2 or buyerInfo.get(\"is_married\")  == True ) and buyerInfo.get(\"no_child\") in ( 0, 1) and houseInfo.get(\"in_room_noBed\")  in (2, 3,4)', 'rule_desc': 'Nếu có gia đình VÀ số con là (0, 1) (KH nhóm 2) VÀ số phòng ngủ của căn nhà là (2,3)', 'rule_expression_backup': '( getValue(buyerInfo.get(\"group\",  0))  == 2 or buyerInfo.get(\"is_married\")  == True ) and buyerInfo.get(\"no_child\") in ( 0, 1) and houseInfo.get(\"no_bedroom\")  in (2, 3)'}\n",
      "score: 0\n",
      "{'rule_group': 'A', 'rule_code': 'A4', 'score': 0.6, 'rule_expression': '( getValue(buyerInfo.get(\"group\",  0))  == 2 or buyerInfo.get(\"is_married\")  == True ) and buyerInfo.get(\"no_child\") in ( 0, 1) and houseInfo.get(\"in_room_noBed\")  == 1', 'rule_desc': 'Nếu có gia đình VÀ số con là (0, 1) (KH nhóm 2) VÀ số phòng ngủ của căn nhà là 1', 'rule_expression_backup': '( getValue(buyerInfo.get(\"group\",  0))  == 2 or buyerInfo.get(\"is_married\")  == True ) and buyerInfo.get(\"no_child\") in ( 0, 1) and houseInfo.get(\"no_bedroom\")  == 1'}\n",
      "score: 0\n",
      "{'rule_group': 'A', 'rule_code': 'A5', 'score': 0.5, 'rule_expression': '( getValue(buyerInfo.get(\"group\",  0))  == 2 or buyerInfo.get(\"is_married\")  == True ) and buyerInfo.get(\"no_child\") == 2\\xa0and houseInfo.get(\"in_room_noBed\")  == 2', 'rule_desc': 'Nếu có gia đình VÀ số con là 2 (KH nhóm 2) VÀ số phòng ngủ của căn nhà là 2', 'rule_expression_backup': '( getValue(buyerInfo.get(\"group\",  0))  == 2 or buyerInfo.get(\"is_married\")  == True ) and buyerInfo.get(\"no_child\") == 2\\xa0and houseInfo.get(\"no_bedroom\")  == 2'}\n",
      "score: 0\n",
      "{'rule_group': 'A', 'rule_code': 'A6', 'score': 1.0, 'rule_expression': '( getValue(buyerInfo.get(\"group\",  0))  == 2 or buyerInfo.get(\"is_married\")  == True )  and buyerInfo.get(\"no_child\") == 2 and houseInfo.get(\"in_room_noBed\")  in ( 3,4,5)', 'rule_desc': 'Nếu có gia đình VÀ số con là 2 (KH nhóm 2) VÀ số phòng ngủ của căn nhà là 3', 'rule_expression_backup': '( getValue(buyerInfo.get(\"group\",  0))  == 2 or buyerInfo.get(\"is_married\")  == True )  and buyerInfo.get(\"no_child\") == 2 and houseInfo.get(\"no_bedroom\")  >= 3'}\n",
      "score: 0\n",
      "{'rule_group': 'A', 'rule_code': 'A7', 'score': 0.6, 'rule_expression': 'getValue(buyerInfo.get(\"group\",  0))  == 4 and houseInfo.get(\"in_room_noBed\")  == 1', 'rule_desc': 'Nếu KH nhóm 4 VÀ số phòng ngủ là 1', 'rule_expression_backup': 'getValue(buyerInfo.get(\"group\",  0))  == 4 and houseInfo.get(\"no_bedroom\")  == 1'}\n",
      "score: 0\n",
      "{'rule_group': 'A', 'rule_code': 'A8', 'score': 1.0, 'rule_expression': 'getValue(buyerInfo.get(\"group\",  0))  == 4 and houseInfo.get(\"in_room_noBed\")  in (2, 3,4)', 'rule_desc': 'Nếu KH nhóm 4 VÀ số phòng ngủ từ 2', 'rule_expression_backup': 'getValue(buyerInfo.get(\"group\",  0))  == 4 and houseInfo.get(\"no_bedroom\")  >= 2'}\n",
      "score: 0\n",
      "\tCode of group B  | Group condition: buyerInfo.get(\"avai_amt\") is not None and buyerInfo.get(\"monthly_amt\") is not None\n",
      "{'rule_group': 'B', 'rule_code': 'B1', 'score': 1.0, 'rule_expression': 'houseInfo.get(\"price\") >= 0.9 * buyerInfo.get(\"avai_amt\") and houseInfo.get(\"price\") <= buyerInfo.get(\"avai_amt\")', 'rule_desc': 'Nếu giá của ngôi nhà bằng khoảng 0.9-1 số tiền người mua hiện có', 'rule_expression_backup': 'houseInfo.get(\"price\") >= 0.8 * buyerInfo.get(\"avai_amt\")'}\n",
      "score: 0\n",
      "{'rule_group': 'B', 'rule_code': 'B2', 'score': 0.8, 'rule_expression': '( buyerInfo.get(\"avai_amt\")  >= 0.75 * houseInfo.get(\"price\") and houseInfo.get(\"price\") > buyerInfo.get(\"avai_amt\") ) and ( (buyerInfo.get(\"avai_amt\") + 12* buyerInfo.get(\"monthly_amt\")) >= houseInfo.get(\"price\"))', 'rule_desc': 'Nếu người mua có sẵn 0.75 giá trị ngôi nhà, và người mua có khả năng trả góp trong 12 tháng', 'rule_expression_backup': nan}\n",
      "score: 0\n",
      "{'rule_group': 'B', 'rule_code': 'B3', 'score': 0.6, 'rule_expression': '( buyerInfo.get(\"avai_amt\")  >= 0.5 * houseInfo.get(\"price\") and houseInfo.get(\"price\") > buyerInfo.get(\"avai_amt\") ) and ( (buyerInfo.get(\"avai_amt\") + 24* buyerInfo.get(\"monthly_amt\")) >= houseInfo.get(\"price\"))', 'rule_desc': 'Nếu người mua có sẵn 0.5 giá trị ngôi nhà, và người mua có khả năng trả góp trong 24 tháng', 'rule_expression_backup': 'houseInfo.get(\"price\") >= 0.5 * buyerInfo.get(\"avai_amt\") and ( (0.5 * buyerInfo.get(\"avai_amt\") + 24* buyerInfo.get(\"monthly_amt\")) >= houseInfo.get(\"price\"))'}\n",
      "score: 0\n",
      "{'rule_group': 'B', 'rule_code': 'B4', 'score': 0.5, 'rule_expression': '( buyerInfo.get(\"avai_amt\")  >= 0.5 * houseInfo.get(\"price\") and houseInfo.get(\"price\") > buyerInfo.get(\"avai_amt\") ) and ( (buyerInfo.get(\"avai_amt\") + 60* buyerInfo.get(\"monthly_amt\")) >= houseInfo.get(\"price\"))', 'rule_desc': 'Nếu người mua có sẵn 0.5 giá trị ngôi nhà, và người mua có khả năng trả góp trong 60 tháng (5 năm)', 'rule_expression_backup': nan}\n",
      "score: 0\n",
      "{'rule_group': 'B', 'rule_code': 'B5', 'score': 1.0, 'rule_expression': 'getValue(buyerInfo.get(\"group\",  0))  == 4 and ( houseInfo.get(\"price\") >= 0.8 * buyerInfo.get(\"avai_amt\") and houseInfo.get(\"price\") <= buyerInfo.get(\"avai_amt\")*1.2 )', 'rule_desc': 'Nếu người mua thuộc nhóm 4, ngôi nhà trong khoảng 0.8-1.2 số tiền sẵn có', 'rule_expression_backup': nan}\n",
      "score: 0\n",
      "{'rule_group': 'B', 'rule_code': 'B6', 'score': 0.0, 'rule_expression': 'getValue(buyerInfo.get(\"group\",  0))  == 4 and ( houseInfo.get(\"price\") < 0.8 * buyerInfo.get(\"avai_amt\") and houseInfo.get(\"price\") > buyerInfo.get(\"avai_amt\")*1.2 )', 'rule_desc': 'Nếu người mua thuộc nhóm 4, ngôi nhà nhỏ hơn 0.8 hoặc lớn hơn 1.2 số tiền sẵn có', 'rule_expression_backup': nan}\n",
      "score: 0\n",
      "\tCode of group C  | Group condition: isValidInput( buyerInfo.get(\"desired_location\") ) and isValidInput( houseInfo.get(\"address_district\") )\n",
      "{'rule_group': 'C', 'rule_code': 'C1', 'score': 1.0, 'rule_expression': 'fn_calculateDistance(houseInfo.get(\"address_district\"), buyerInfo.get(\"desired_location\")) <= 2', 'rule_desc': 'Nếu trong phạm vi 2km', 'rule_expression_backup': nan}\n",
      "score: 0\n",
      "{'rule_group': 'C', 'rule_code': 'C2', 'score': 0.8, 'rule_expression': 'fn_calculateDistance(houseInfo.get(\"address_district\"), buyerInfo.get(\"desired_location\")) <= 4', 'rule_desc': nan, 'rule_expression_backup': nan}\n",
      "score: 0.8\n",
      "{'rule_group': 'C', 'rule_code': 'C3', 'score': 0.5, 'rule_expression': 'fn_calculateDistance(houseInfo.get(\"address_district\"), buyerInfo.get(\"desired_location\")) <= 6', 'rule_desc': nan, 'rule_expression_backup': nan}\n",
      "score: 0.5\n",
      "\tCode of group D  | Group condition: 1==1\n",
      "{'rule_group': 'D', 'rule_code': 'D1', 'score': 1.0, 'rule_expression': 'isGoodLegalStatus(houseInfo.get(\"legal_status\"))', 'rule_desc': 'Có giấy tờ', 'rule_expression_backup': 'houseInfo.get(\"legal_status\") in [\\'Sổ hồng\\', \\'Sổ đỏ\\']'}\n",
      "score: 1.0\n",
      "{'rule_group': 'D', 'rule_code': 'D2', 'score': 0.2, 'rule_expression': 'isGoodLegalStatus(houseInfo.get(\"legal_status\")) is not True and getValue(buyerInfo.get(\"group\",  0)) in (1, 3,4)', 'rule_desc': 'K giấy tờ và người mua có nhóm thuộc (1,3,4)', 'rule_expression_backup': nan}\n",
      "score: 0\n",
      "{'rule_group': 'D', 'rule_code': 'D3', 'score': 0.4, 'rule_expression': 'isGoodLegalStatus(houseInfo.get(\"legal_status\")) is not True and getValue(buyerInfo.get(\"group\",  0)) not in (1, 3,4)', 'rule_desc': 'Các trường hợp k giấy tờ còn lại', 'rule_expression_backup': nan}\n",
      "score: 0\n",
      "REPORT:\n",
      "Total calculated Score:  13.8\n",
      "Max Score from Groups:  26.0\n",
      "{'meta_url': 'https://rever.vn/mua/nha-pho-duong-phan-dang-luu-3-tang-dien-tich-48m2-huong-dong-nam-phap-ly-so-hong', 'meta_code': 'TPN145945', 'address_street': 'Phan Đăng Lưu', 'address_ward': 'Phường 1', 'address_district': 'Phú Nhuận', 'address_city': 'Hồ Chí Minh', 'price': 6600000000.0, 'area': 48.0, 'area_site': 48.0, 'area_basebuilt': 122.0, 'area_netused': 46.0, 'area_yard': nan, 'area_length': nan, 'area_width': nan, 'area_front': nan, 'house_noFloor': 3, 'house_type': 'Nhà phố', 'house_noBasement': 0, 'house_direction': 'Đông Nam', 'in_room_noBed': 3, 'in_room_noBath': 3, 'in_room_noKitchen': nan, 'in_room_noRelax': nan, 'in_room_others': nan, 'in_interiorStatus': 'Đầy đủ nội thất', 'prj_name': nan, 'prj_investor': nan, 'prj_status': nan, 'prj_tower': nan, 'legal_status': 'Sổ hồng', 'other_overview': nan, 'other_good_outstandingCharacteristics': nan, 'other_good_locationDesc': nan, 'other_good_community': nan, 'other_good_education': nan, 'overall_info': 'BÁN NHÀ PHỐ ĐƯỜNG PHAN ĐĂNG LƯU, PHÚ NHUẬN\\nDiện tích: 48m² (12m x 3m)\\nDiện tích sử dụng: 46m²\\nKết cấu: 3 tầng (trệt + lầu), 3 phòng ngủ 3 phòng tắm\\nHướng nhà phố: Đông Nam\\nTình trạng nội thất: Đầy đủ nội thất\\nPháp lý: Sổ hồng\\n\\nNhà phố có vị trí cách Trường Mầm non Úc Châu khoảng 8.9km, cách Trường Mầm non Sakura Montessori Quận 2 - TP HCM khoảng 7.2km. Di chuyển tới VShape Fitness & Yoga Center Quận 2 khoảng 9.1km, F5 Gym And Fitness Center khoảng 8.1km. Tọa lạc tại vị trí thuận tiện di chuyển với đầy đủ các tiện ích về y tế, giáo dục và giải trí.'}\n",
      "{'executedRuleGroup': [{'groupCode': 'A', 'groupCondition': 'isValidInput( buyerInfo.get(\"group\") )  and isValidInput( buyerInfo.get(\"is_married\") )  and isValidInput( buyerInfo.get(\"no_child\") )  and isValidInput(houseInfo.get(\"in_room_noBed\") )', 'groupScore': 3.0, 'rule_group': 'A', 'rule_code': 'A2', 'score': 0.6, 'rule_expression': '(getValue(buyerInfo.get(\"group\",  0))  == 1 or (buyerInfo.get(\"is_married\")  == False and buyerInfo.get(\"no_child\") == 0 )) and houseInfo.get(\"in_room_noBed\")  in (2,3,4)', 'rule_desc': 'Nếu không có gia đình VÀ không có con (KH nhóm 1) VÀ số phòng ngủ của căn nhà là 3', 'rule_expression_backup': '(getValue(buyerInfo.get(\"group\",  0))  == 1 or (buyerInfo.get(\"is_married\")  == False and buyerInfo.get(\"no_child\") == 0 )) and houseInfo.get(\"no_bedroom\")  >= 3', 'calRuleScore': 1.7999999999999998}, {'groupCode': 'B', 'groupCondition': 'buyerInfo.get(\"avai_amt\") is not None and buyerInfo.get(\"monthly_amt\") is not None', 'groupScore': 10.0, 'calRuleScore': 0.0}, {'groupCode': 'C', 'groupCondition': 'isValidInput( buyerInfo.get(\"desired_location\") ) and isValidInput( houseInfo.get(\"address_district\") )', 'groupScore': 5.0, 'rule_group': 'C', 'rule_code': 'C2', 'score': 0.8, 'rule_expression': 'fn_calculateDistance(houseInfo.get(\"address_district\"), buyerInfo.get(\"desired_location\")) <= 4', 'rule_desc': nan, 'rule_expression_backup': nan, 'calRuleScore': 4.0}, {'groupCode': 'D', 'groupCondition': '1==1', 'groupScore': 8.0, 'rule_group': 'D', 'rule_code': 'D1', 'score': 1.0, 'rule_expression': 'isGoodLegalStatus(houseInfo.get(\"legal_status\"))', 'rule_desc': 'Có giấy tờ', 'rule_expression_backup': 'houseInfo.get(\"legal_status\") in [\\'Sổ hồng\\', \\'Sổ đỏ\\']', 'calRuleScore': 8.0}], 'houseInfo': {'meta_url': 'https://rever.vn/mua/nha-pho-duong-phan-dang-luu-3-tang-dien-tich-48m2-huong-dong-nam-phap-ly-so-hong', 'meta_code': 'TPN145945', 'address_street': 'Phan Đăng Lưu', 'address_ward': 'Phường 1', 'address_district': 'Phú Nhuận', 'address_city': 'Hồ Chí Minh', 'price': 6600000000.0, 'area': 48.0, 'area_site': 48.0, 'area_basebuilt': 122.0, 'area_netused': 46.0, 'area_yard': nan, 'area_length': nan, 'area_width': nan, 'area_front': nan, 'house_noFloor': 3, 'house_type': 'Nhà phố', 'house_noBasement': 0, 'house_direction': 'Đông Nam', 'in_room_noBed': 3, 'in_room_noBath': 3, 'in_room_noKitchen': nan, 'in_room_noRelax': nan, 'in_room_others': nan, 'in_interiorStatus': 'Đầy đủ nội thất', 'prj_name': nan, 'prj_investor': nan, 'prj_status': nan, 'prj_tower': nan, 'legal_status': 'Sổ hồng', 'other_overview': nan, 'other_good_outstandingCharacteristics': nan, 'other_good_locationDesc': nan, 'other_good_community': nan, 'other_good_education': nan, 'overall_info': 'BÁN NHÀ PHỐ ĐƯỜNG PHAN ĐĂNG LƯU, PHÚ NHUẬN\\nDiện tích: 48m² (12m x 3m)\\nDiện tích sử dụng: 46m²\\nKết cấu: 3 tầng (trệt + lầu), 3 phòng ngủ 3 phòng tắm\\nHướng nhà phố: Đông Nam\\nTình trạng nội thất: Đầy đủ nội thất\\nPháp lý: Sổ hồng\\n\\nNhà phố có vị trí cách Trường Mầm non Úc Châu khoảng 8.9km, cách Trường Mầm non Sakura Montessori Quận 2 - TP HCM khoảng 7.2km. Di chuyển tới VShape Fitness & Yoga Center Quận 2 khoảng 9.1km, F5 Gym And Fitness Center khoảng 8.1km. Tọa lạc tại vị trí thuận tiện di chuyển với đầy đủ các tiện ích về y tế, giáo dục và giải trí.'}, 'maxScore': 26.0, 'houseScore': 13.8, 'housePerformance': 53.08, 'buyerInfo': {'id': 'x2', 'group': 1.0, 'age': 30.0, 'is_married': 0.0, 'no_child': 0.0, 'month_income': 70000000.0, 'monthly_amt': 50000000.0, 'avai_amt': 10000000000.0, 'desired_location': 'Quận 3', 'desired_interiorStatus': nan}, 'id': 'x2', 'group': 1.0, 'age': 30.0, 'is_married': 0.0, 'no_child': 0.0, 'month_income': 70000000.0, 'monthly_amt': 50000000.0, 'avai_amt': 10000000000.0, 'desired_location': 'Quận 3', 'desired_interiorStatus': nan, 'meta_url': 'https://rever.vn/mua/nha-pho-duong-phan-dang-luu-3-tang-dien-tich-48m2-huong-dong-nam-phap-ly-so-hong', 'meta_code': 'TPN145945', 'address_street': 'Phan Đăng Lưu', 'address_ward': 'Phường 1', 'address_district': 'Phú Nhuận', 'address_city': 'Hồ Chí Minh', 'price': 6600000000.0, 'area': 48.0, 'area_site': 48.0, 'area_basebuilt': 122.0, 'area_netused': 46.0, 'area_yard': nan, 'area_length': nan, 'area_width': nan, 'area_front': nan, 'house_noFloor': 3, 'house_type': 'Nhà phố', 'house_noBasement': 0, 'house_direction': 'Đông Nam', 'in_room_noBed': 3, 'in_room_noBath': 3, 'in_room_noKitchen': nan, 'in_room_noRelax': nan, 'in_room_others': nan, 'in_interiorStatus': 'Đầy đủ nội thất', 'prj_name': nan, 'prj_investor': nan, 'prj_status': nan, 'prj_tower': nan, 'legal_status': 'Sổ hồng', 'other_overview': nan, 'other_good_outstandingCharacteristics': nan, 'other_good_locationDesc': nan, 'other_good_community': nan, 'other_good_education': nan, 'overall_info': 'BÁN NHÀ PHỐ ĐƯỜNG PHAN ĐĂNG LƯU, PHÚ NHUẬN\\nDiện tích: 48m² (12m x 3m)\\nDiện tích sử dụng: 46m²\\nKết cấu: 3 tầng (trệt + lầu), 3 phòng ngủ 3 phòng tắm\\nHướng nhà phố: Đông Nam\\nTình trạng nội thất: Đầy đủ nội thất\\nPháp lý: Sổ hồng\\n\\nNhà phố có vị trí cách Trường Mầm non Úc Châu khoảng 8.9km, cách Trường Mầm non Sakura Montessori Quận 2 - TP HCM khoảng 7.2km. Di chuyển tới VShape Fitness & Yoga Center Quận 2 khoảng 9.1km, F5 Gym And Fitness Center khoảng 8.1km. Tọa lạc tại vị trí thuận tiện di chuyển với đầy đủ các tiện ích về y tế, giáo dục và giải trí.'}\n",
      "-------------\n",
      "\n",
      "\tCode of group A  | Group condition: isValidInput( buyerInfo.get(\"group\") )  and isValidInput( buyerInfo.get(\"is_married\") )  and isValidInput( buyerInfo.get(\"no_child\") )  and isValidInput(houseInfo.get(\"in_room_noBed\") )\n",
      "{'rule_group': 'A', 'rule_code': 'A1', 'score': 0.7, 'rule_expression': '(getValue(buyerInfo.get(\"group\",  0))  == 1 or (buyerInfo.get(\"is_married\")  == False and buyerInfo.get(\"no_child\") == 0 )) and houseInfo.get(\"in_room_noBed\")  in (1, 2)', 'rule_desc': 'Nếu không có gia đình VÀ không có con (KH nhóm 1) VÀ số phòng ngủ của căn nhà là (1,2)', 'rule_expression_backup': '(getValue(buyerInfo.get(\"group\",  0))  == 1 or (buyerInfo.get(\"is_married\")  == False and buyerInfo.get(\"no_child\") == 0 )) and houseInfo.get(\"no_bedroom\")  in (1, 2)'}\n",
      "score: 0.7\n",
      "{'rule_group': 'A', 'rule_code': 'A2', 'score': 0.6, 'rule_expression': '(getValue(buyerInfo.get(\"group\",  0))  == 1 or (buyerInfo.get(\"is_married\")  == False and buyerInfo.get(\"no_child\") == 0 )) and houseInfo.get(\"in_room_noBed\")  in (2,3,4)', 'rule_desc': 'Nếu không có gia đình VÀ không có con (KH nhóm 1) VÀ số phòng ngủ của căn nhà là 3', 'rule_expression_backup': '(getValue(buyerInfo.get(\"group\",  0))  == 1 or (buyerInfo.get(\"is_married\")  == False and buyerInfo.get(\"no_child\") == 0 )) and houseInfo.get(\"no_bedroom\")  >= 3'}\n",
      "score: 0.6\n",
      "{'rule_group': 'A', 'rule_code': 'A3', 'score': 0.8, 'rule_expression': '( getValue(buyerInfo.get(\"group\",  0))  == 2 or buyerInfo.get(\"is_married\")  == True ) and buyerInfo.get(\"no_child\") in ( 0, 1) and houseInfo.get(\"in_room_noBed\")  in (2, 3,4)', 'rule_desc': 'Nếu có gia đình VÀ số con là (0, 1) (KH nhóm 2) VÀ số phòng ngủ của căn nhà là (2,3)', 'rule_expression_backup': '( getValue(buyerInfo.get(\"group\",  0))  == 2 or buyerInfo.get(\"is_married\")  == True ) and buyerInfo.get(\"no_child\") in ( 0, 1) and houseInfo.get(\"no_bedroom\")  in (2, 3)'}\n",
      "score: 0\n",
      "{'rule_group': 'A', 'rule_code': 'A4', 'score': 0.6, 'rule_expression': '( getValue(buyerInfo.get(\"group\",  0))  == 2 or buyerInfo.get(\"is_married\")  == True ) and buyerInfo.get(\"no_child\") in ( 0, 1) and houseInfo.get(\"in_room_noBed\")  == 1', 'rule_desc': 'Nếu có gia đình VÀ số con là (0, 1) (KH nhóm 2) VÀ số phòng ngủ của căn nhà là 1', 'rule_expression_backup': '( getValue(buyerInfo.get(\"group\",  0))  == 2 or buyerInfo.get(\"is_married\")  == True ) and buyerInfo.get(\"no_child\") in ( 0, 1) and houseInfo.get(\"no_bedroom\")  == 1'}\n",
      "score: 0\n",
      "{'rule_group': 'A', 'rule_code': 'A5', 'score': 0.5, 'rule_expression': '( getValue(buyerInfo.get(\"group\",  0))  == 2 or buyerInfo.get(\"is_married\")  == True ) and buyerInfo.get(\"no_child\") == 2\\xa0and houseInfo.get(\"in_room_noBed\")  == 2', 'rule_desc': 'Nếu có gia đình VÀ số con là 2 (KH nhóm 2) VÀ số phòng ngủ của căn nhà là 2', 'rule_expression_backup': '( getValue(buyerInfo.get(\"group\",  0))  == 2 or buyerInfo.get(\"is_married\")  == True ) and buyerInfo.get(\"no_child\") == 2\\xa0and houseInfo.get(\"no_bedroom\")  == 2'}\n",
      "score: 0\n",
      "{'rule_group': 'A', 'rule_code': 'A6', 'score': 1.0, 'rule_expression': '( getValue(buyerInfo.get(\"group\",  0))  == 2 or buyerInfo.get(\"is_married\")  == True )  and buyerInfo.get(\"no_child\") == 2 and houseInfo.get(\"in_room_noBed\")  in ( 3,4,5)', 'rule_desc': 'Nếu có gia đình VÀ số con là 2 (KH nhóm 2) VÀ số phòng ngủ của căn nhà là 3', 'rule_expression_backup': '( getValue(buyerInfo.get(\"group\",  0))  == 2 or buyerInfo.get(\"is_married\")  == True )  and buyerInfo.get(\"no_child\") == 2 and houseInfo.get(\"no_bedroom\")  >= 3'}\n",
      "score: 0\n",
      "{'rule_group': 'A', 'rule_code': 'A7', 'score': 0.6, 'rule_expression': 'getValue(buyerInfo.get(\"group\",  0))  == 4 and houseInfo.get(\"in_room_noBed\")  == 1', 'rule_desc': 'Nếu KH nhóm 4 VÀ số phòng ngủ là 1', 'rule_expression_backup': 'getValue(buyerInfo.get(\"group\",  0))  == 4 and houseInfo.get(\"no_bedroom\")  == 1'}\n",
      "score: 0\n",
      "{'rule_group': 'A', 'rule_code': 'A8', 'score': 1.0, 'rule_expression': 'getValue(buyerInfo.get(\"group\",  0))  == 4 and houseInfo.get(\"in_room_noBed\")  in (2, 3,4)', 'rule_desc': 'Nếu KH nhóm 4 VÀ số phòng ngủ từ 2', 'rule_expression_backup': 'getValue(buyerInfo.get(\"group\",  0))  == 4 and houseInfo.get(\"no_bedroom\")  >= 2'}\n",
      "score: 0\n",
      "\tCode of group B  | Group condition: buyerInfo.get(\"avai_amt\") is not None and buyerInfo.get(\"monthly_amt\") is not None\n",
      "{'rule_group': 'B', 'rule_code': 'B1', 'score': 1.0, 'rule_expression': 'houseInfo.get(\"price\") >= 0.9 * buyerInfo.get(\"avai_amt\") and houseInfo.get(\"price\") <= buyerInfo.get(\"avai_amt\")', 'rule_desc': 'Nếu giá của ngôi nhà bằng khoảng 0.9-1 số tiền người mua hiện có', 'rule_expression_backup': 'houseInfo.get(\"price\") >= 0.8 * buyerInfo.get(\"avai_amt\")'}\n",
      "score: 0\n",
      "{'rule_group': 'B', 'rule_code': 'B2', 'score': 0.8, 'rule_expression': '( buyerInfo.get(\"avai_amt\")  >= 0.75 * houseInfo.get(\"price\") and houseInfo.get(\"price\") > buyerInfo.get(\"avai_amt\") ) and ( (buyerInfo.get(\"avai_amt\") + 12* buyerInfo.get(\"monthly_amt\")) >= houseInfo.get(\"price\"))', 'rule_desc': 'Nếu người mua có sẵn 0.75 giá trị ngôi nhà, và người mua có khả năng trả góp trong 12 tháng', 'rule_expression_backup': nan}\n",
      "score: 0\n",
      "{'rule_group': 'B', 'rule_code': 'B3', 'score': 0.6, 'rule_expression': '( buyerInfo.get(\"avai_amt\")  >= 0.5 * houseInfo.get(\"price\") and houseInfo.get(\"price\") > buyerInfo.get(\"avai_amt\") ) and ( (buyerInfo.get(\"avai_amt\") + 24* buyerInfo.get(\"monthly_amt\")) >= houseInfo.get(\"price\"))', 'rule_desc': 'Nếu người mua có sẵn 0.5 giá trị ngôi nhà, và người mua có khả năng trả góp trong 24 tháng', 'rule_expression_backup': 'houseInfo.get(\"price\") >= 0.5 * buyerInfo.get(\"avai_amt\") and ( (0.5 * buyerInfo.get(\"avai_amt\") + 24* buyerInfo.get(\"monthly_amt\")) >= houseInfo.get(\"price\"))'}\n",
      "score: 0\n",
      "{'rule_group': 'B', 'rule_code': 'B4', 'score': 0.5, 'rule_expression': '( buyerInfo.get(\"avai_amt\")  >= 0.5 * houseInfo.get(\"price\") and houseInfo.get(\"price\") > buyerInfo.get(\"avai_amt\") ) and ( (buyerInfo.get(\"avai_amt\") + 60* buyerInfo.get(\"monthly_amt\")) >= houseInfo.get(\"price\"))', 'rule_desc': 'Nếu người mua có sẵn 0.5 giá trị ngôi nhà, và người mua có khả năng trả góp trong 60 tháng (5 năm)', 'rule_expression_backup': nan}\n",
      "score: 0\n",
      "{'rule_group': 'B', 'rule_code': 'B5', 'score': 1.0, 'rule_expression': 'getValue(buyerInfo.get(\"group\",  0))  == 4 and ( houseInfo.get(\"price\") >= 0.8 * buyerInfo.get(\"avai_amt\") and houseInfo.get(\"price\") <= buyerInfo.get(\"avai_amt\")*1.2 )', 'rule_desc': 'Nếu người mua thuộc nhóm 4, ngôi nhà trong khoảng 0.8-1.2 số tiền sẵn có', 'rule_expression_backup': nan}\n",
      "score: 0\n",
      "{'rule_group': 'B', 'rule_code': 'B6', 'score': 0.0, 'rule_expression': 'getValue(buyerInfo.get(\"group\",  0))  == 4 and ( houseInfo.get(\"price\") < 0.8 * buyerInfo.get(\"avai_amt\") and houseInfo.get(\"price\") > buyerInfo.get(\"avai_amt\")*1.2 )', 'rule_desc': 'Nếu người mua thuộc nhóm 4, ngôi nhà nhỏ hơn 0.8 hoặc lớn hơn 1.2 số tiền sẵn có', 'rule_expression_backup': nan}\n",
      "score: 0\n",
      "\tCode of group C  | Group condition: isValidInput( buyerInfo.get(\"desired_location\") ) and isValidInput( houseInfo.get(\"address_district\") )\n",
      "{'rule_group': 'C', 'rule_code': 'C1', 'score': 1.0, 'rule_expression': 'fn_calculateDistance(houseInfo.get(\"address_district\"), buyerInfo.get(\"desired_location\")) <= 2', 'rule_desc': 'Nếu trong phạm vi 2km', 'rule_expression_backup': nan}\n",
      "score: 0\n",
      "{'rule_group': 'C', 'rule_code': 'C2', 'score': 0.8, 'rule_expression': 'fn_calculateDistance(houseInfo.get(\"address_district\"), buyerInfo.get(\"desired_location\")) <= 4', 'rule_desc': nan, 'rule_expression_backup': nan}\n",
      "score: 0\n",
      "{'rule_group': 'C', 'rule_code': 'C3', 'score': 0.5, 'rule_expression': 'fn_calculateDistance(houseInfo.get(\"address_district\"), buyerInfo.get(\"desired_location\")) <= 6', 'rule_desc': nan, 'rule_expression_backup': nan}\n",
      "score: 0.5\n",
      "\tCode of group D  | Group condition: 1==1\n",
      "{'rule_group': 'D', 'rule_code': 'D1', 'score': 1.0, 'rule_expression': 'isGoodLegalStatus(houseInfo.get(\"legal_status\"))', 'rule_desc': 'Có giấy tờ', 'rule_expression_backup': 'houseInfo.get(\"legal_status\") in [\\'Sổ hồng\\', \\'Sổ đỏ\\']'}\n",
      "score: 1.0\n",
      "{'rule_group': 'D', 'rule_code': 'D2', 'score': 0.2, 'rule_expression': 'isGoodLegalStatus(houseInfo.get(\"legal_status\")) is not True and getValue(buyerInfo.get(\"group\",  0)) in (1, 3,4)', 'rule_desc': 'K giấy tờ và người mua có nhóm thuộc (1,3,4)', 'rule_expression_backup': nan}\n",
      "score: 0\n",
      "{'rule_group': 'D', 'rule_code': 'D3', 'score': 0.4, 'rule_expression': 'isGoodLegalStatus(houseInfo.get(\"legal_status\")) is not True and getValue(buyerInfo.get(\"group\",  0)) not in (1, 3,4)', 'rule_desc': 'Các trường hợp k giấy tờ còn lại', 'rule_expression_backup': nan}\n",
      "score: 0\n",
      "REPORT:\n",
      "Total calculated Score:  12.6\n",
      "Max Score from Groups:  26.0\n",
      "{'meta_url': 'https://rever.vn/mua/nha-pho-thiet-ke-2-tang-dien-tich-dat-20-7m2-rong-thoang', 'meta_code': 'T02113847', 'address_street': 'Số 65', 'address_ward': 'Thảo Điền', 'address_district': 'Quận 2', 'address_city': 'Hồ Chí Minh', 'price': 3650000000.0, 'area': 20.7, 'area_site': 20.7, 'area_basebuilt': nan, 'area_netused': 32.0, 'area_yard': nan, 'area_length': nan, 'area_width': nan, 'area_front': nan, 'house_noFloor': 2, 'house_type': 'Nhà phố', 'house_noBasement': 0, 'house_direction': nan, 'in_room_noBed': 2, 'in_room_noBath': 3, 'in_room_noKitchen': nan, 'in_room_noRelax': nan, 'in_room_others': nan, 'in_interiorStatus': 'Nội thất cơ bản', 'prj_name': nan, 'prj_investor': nan, 'prj_status': nan, 'prj_tower': nan, 'legal_status': 'Sổ hồng', 'other_overview': nan, 'other_good_outstandingCharacteristics': 'Nhà phố có đường trước nhà rộng và thông thoáng. Sổ hồng riêng, pháp lý minh bạch rõ ràng bàn giao ngay cho khách có thiện chí.', 'other_good_locationDesc': 'Nhà phố tọa lạc tại đường số 65, phường Thảo Điền, Quận 2, giao thông thuận lợi. Nhà nằm gần kề sông Sài Gòn và tuyến đường huyết mạch Xa Lộ Hà Nội, tiện cho việc đi lại của cư dân di chuyển vào các quận trung tâm: Quận 1, Quận 3, Bình Thạnh hoặc về Quận 9, Thủ Đức,...', 'other_good_community': 'Cộng đồng dân cư gồm các gia đình đã hình thành, giới trí thức, người nước ngoài,...', 'other_good_education': 'Nhà cách: trường Quốc tế Anh 750m; Tiểu học Huỳnh Văn Ngỡi 800m; Cao đẳng Hàng hải 2 650m; Đại học Văn hóa TP.HCM 1km; Trường Mầm Non Song ngữ Kidzone Campus 1 1,2km.', 'overall_info': 'BÁN NHÀ PHỐ ĐƯỜNG SỐ 65, QUẬN 2\\n- Diện tích đất: 20.7m2 (3m x 7m).\\n- Diện tích sử dụng: 32m2.\\n- Kết cấu: 2 tầng gồm 2 phòng ngủ và 3 phòng tắm. Nhà có nội thất cơ bản.\\n- Nhà phố có đường trước nhà rộng và thông thoáng.\\nNhà có sổ hồng riêng, pháp lý minh bạch rõ ràng bàn giao ngay cho khách có thiện chí.\\n\\nNhà phố tọa lạc tại đường số 65, phường Thảo Điền, Quận 2, giao thông thuận lợi. Nhà nằm gần kề sông Sài Gòn và tuyến đường huyết mạch Xa Lộ Hà Nội, tiện cho việc đi lại của cư dân di chuyển vào các quận trung tâm: Quận 1, Quận 3, Bình Thạnh hoặc về Quận 9, Thủ Đức,...'}\n",
      "{'executedRuleGroup': [{'groupCode': 'A', 'groupCondition': 'isValidInput( buyerInfo.get(\"group\") )  and isValidInput( buyerInfo.get(\"is_married\") )  and isValidInput( buyerInfo.get(\"no_child\") )  and isValidInput(houseInfo.get(\"in_room_noBed\") )', 'groupScore': 3.0, 'rule_group': 'A', 'rule_code': 'A1', 'score': 0.7, 'rule_expression': '(getValue(buyerInfo.get(\"group\",  0))  == 1 or (buyerInfo.get(\"is_married\")  == False and buyerInfo.get(\"no_child\") == 0 )) and houseInfo.get(\"in_room_noBed\")  in (1, 2)', 'rule_desc': 'Nếu không có gia đình VÀ không có con (KH nhóm 1) VÀ số phòng ngủ của căn nhà là (1,2)', 'rule_expression_backup': '(getValue(buyerInfo.get(\"group\",  0))  == 1 or (buyerInfo.get(\"is_married\")  == False and buyerInfo.get(\"no_child\") == 0 )) and houseInfo.get(\"no_bedroom\")  in (1, 2)', 'calRuleScore': 2.0999999999999996}, {'groupCode': 'B', 'groupCondition': 'buyerInfo.get(\"avai_amt\") is not None and buyerInfo.get(\"monthly_amt\") is not None', 'groupScore': 10.0, 'calRuleScore': 0.0}, {'groupCode': 'C', 'groupCondition': 'isValidInput( buyerInfo.get(\"desired_location\") ) and isValidInput( houseInfo.get(\"address_district\") )', 'groupScore': 5.0, 'rule_group': 'C', 'rule_code': 'C3', 'score': 0.5, 'rule_expression': 'fn_calculateDistance(houseInfo.get(\"address_district\"), buyerInfo.get(\"desired_location\")) <= 6', 'rule_desc': nan, 'rule_expression_backup': nan, 'calRuleScore': 2.5}, {'groupCode': 'D', 'groupCondition': '1==1', 'groupScore': 8.0, 'rule_group': 'D', 'rule_code': 'D1', 'score': 1.0, 'rule_expression': 'isGoodLegalStatus(houseInfo.get(\"legal_status\"))', 'rule_desc': 'Có giấy tờ', 'rule_expression_backup': 'houseInfo.get(\"legal_status\") in [\\'Sổ hồng\\', \\'Sổ đỏ\\']', 'calRuleScore': 8.0}], 'houseInfo': {'meta_url': 'https://rever.vn/mua/nha-pho-thiet-ke-2-tang-dien-tich-dat-20-7m2-rong-thoang', 'meta_code': 'T02113847', 'address_street': 'Số 65', 'address_ward': 'Thảo Điền', 'address_district': 'Quận 2', 'address_city': 'Hồ Chí Minh', 'price': 3650000000.0, 'area': 20.7, 'area_site': 20.7, 'area_basebuilt': nan, 'area_netused': 32.0, 'area_yard': nan, 'area_length': nan, 'area_width': nan, 'area_front': nan, 'house_noFloor': 2, 'house_type': 'Nhà phố', 'house_noBasement': 0, 'house_direction': nan, 'in_room_noBed': 2, 'in_room_noBath': 3, 'in_room_noKitchen': nan, 'in_room_noRelax': nan, 'in_room_others': nan, 'in_interiorStatus': 'Nội thất cơ bản', 'prj_name': nan, 'prj_investor': nan, 'prj_status': nan, 'prj_tower': nan, 'legal_status': 'Sổ hồng', 'other_overview': nan, 'other_good_outstandingCharacteristics': 'Nhà phố có đường trước nhà rộng và thông thoáng. Sổ hồng riêng, pháp lý minh bạch rõ ràng bàn giao ngay cho khách có thiện chí.', 'other_good_locationDesc': 'Nhà phố tọa lạc tại đường số 65, phường Thảo Điền, Quận 2, giao thông thuận lợi. Nhà nằm gần kề sông Sài Gòn và tuyến đường huyết mạch Xa Lộ Hà Nội, tiện cho việc đi lại của cư dân di chuyển vào các quận trung tâm: Quận 1, Quận 3, Bình Thạnh hoặc về Quận 9, Thủ Đức,...', 'other_good_community': 'Cộng đồng dân cư gồm các gia đình đã hình thành, giới trí thức, người nước ngoài,...', 'other_good_education': 'Nhà cách: trường Quốc tế Anh 750m; Tiểu học Huỳnh Văn Ngỡi 800m; Cao đẳng Hàng hải 2 650m; Đại học Văn hóa TP.HCM 1km; Trường Mầm Non Song ngữ Kidzone Campus 1 1,2km.', 'overall_info': 'BÁN NHÀ PHỐ ĐƯỜNG SỐ 65, QUẬN 2\\n- Diện tích đất: 20.7m2 (3m x 7m).\\n- Diện tích sử dụng: 32m2.\\n- Kết cấu: 2 tầng gồm 2 phòng ngủ và 3 phòng tắm. Nhà có nội thất cơ bản.\\n- Nhà phố có đường trước nhà rộng và thông thoáng.\\nNhà có sổ hồng riêng, pháp lý minh bạch rõ ràng bàn giao ngay cho khách có thiện chí.\\n\\nNhà phố tọa lạc tại đường số 65, phường Thảo Điền, Quận 2, giao thông thuận lợi. Nhà nằm gần kề sông Sài Gòn và tuyến đường huyết mạch Xa Lộ Hà Nội, tiện cho việc đi lại của cư dân di chuyển vào các quận trung tâm: Quận 1, Quận 3, Bình Thạnh hoặc về Quận 9, Thủ Đức,...'}, 'maxScore': 26.0, 'houseScore': 12.6, 'housePerformance': 48.46, 'buyerInfo': {'id': 'x2', 'group': 1.0, 'age': 30.0, 'is_married': 0.0, 'no_child': 0.0, 'month_income': 70000000.0, 'monthly_amt': 50000000.0, 'avai_amt': 10000000000.0, 'desired_location': 'Quận 3', 'desired_interiorStatus': nan}, 'id': 'x2', 'group': 1.0, 'age': 30.0, 'is_married': 0.0, 'no_child': 0.0, 'month_income': 70000000.0, 'monthly_amt': 50000000.0, 'avai_amt': 10000000000.0, 'desired_location': 'Quận 3', 'desired_interiorStatus': nan, 'meta_url': 'https://rever.vn/mua/nha-pho-thiet-ke-2-tang-dien-tich-dat-20-7m2-rong-thoang', 'meta_code': 'T02113847', 'address_street': 'Số 65', 'address_ward': 'Thảo Điền', 'address_district': 'Quận 2', 'address_city': 'Hồ Chí Minh', 'price': 3650000000.0, 'area': 20.7, 'area_site': 20.7, 'area_basebuilt': nan, 'area_netused': 32.0, 'area_yard': nan, 'area_length': nan, 'area_width': nan, 'area_front': nan, 'house_noFloor': 2, 'house_type': 'Nhà phố', 'house_noBasement': 0, 'house_direction': nan, 'in_room_noBed': 2, 'in_room_noBath': 3, 'in_room_noKitchen': nan, 'in_room_noRelax': nan, 'in_room_others': nan, 'in_interiorStatus': 'Nội thất cơ bản', 'prj_name': nan, 'prj_investor': nan, 'prj_status': nan, 'prj_tower': nan, 'legal_status': 'Sổ hồng', 'other_overview': nan, 'other_good_outstandingCharacteristics': 'Nhà phố có đường trước nhà rộng và thông thoáng. Sổ hồng riêng, pháp lý minh bạch rõ ràng bàn giao ngay cho khách có thiện chí.', 'other_good_locationDesc': 'Nhà phố tọa lạc tại đường số 65, phường Thảo Điền, Quận 2, giao thông thuận lợi. Nhà nằm gần kề sông Sài Gòn và tuyến đường huyết mạch Xa Lộ Hà Nội, tiện cho việc đi lại của cư dân di chuyển vào các quận trung tâm: Quận 1, Quận 3, Bình Thạnh hoặc về Quận 9, Thủ Đức,...', 'other_good_community': 'Cộng đồng dân cư gồm các gia đình đã hình thành, giới trí thức, người nước ngoài,...', 'other_good_education': 'Nhà cách: trường Quốc tế Anh 750m; Tiểu học Huỳnh Văn Ngỡi 800m; Cao đẳng Hàng hải 2 650m; Đại học Văn hóa TP.HCM 1km; Trường Mầm Non Song ngữ Kidzone Campus 1 1,2km.', 'overall_info': 'BÁN NHÀ PHỐ ĐƯỜNG SỐ 65, QUẬN 2\\n- Diện tích đất: 20.7m2 (3m x 7m).\\n- Diện tích sử dụng: 32m2.\\n- Kết cấu: 2 tầng gồm 2 phòng ngủ và 3 phòng tắm. Nhà có nội thất cơ bản.\\n- Nhà phố có đường trước nhà rộng và thông thoáng.\\nNhà có sổ hồng riêng, pháp lý minh bạch rõ ràng bàn giao ngay cho khách có thiện chí.\\n\\nNhà phố tọa lạc tại đường số 65, phường Thảo Điền, Quận 2, giao thông thuận lợi. Nhà nằm gần kề sông Sài Gòn và tuyến đường huyết mạch Xa Lộ Hà Nội, tiện cho việc đi lại của cư dân di chuyển vào các quận trung tâm: Quận 1, Quận 3, Bình Thạnh hoặc về Quận 9, Thủ Đức,...'}\n",
      "-------------\n",
      "\n",
      "\tCode of group A  | Group condition: isValidInput( buyerInfo.get(\"group\") )  and isValidInput( buyerInfo.get(\"is_married\") )  and isValidInput( buyerInfo.get(\"no_child\") )  and isValidInput(houseInfo.get(\"in_room_noBed\") )\n",
      "{'rule_group': 'A', 'rule_code': 'A1', 'score': 0.7, 'rule_expression': '(getValue(buyerInfo.get(\"group\",  0))  == 1 or (buyerInfo.get(\"is_married\")  == False and buyerInfo.get(\"no_child\") == 0 )) and houseInfo.get(\"in_room_noBed\")  in (1, 2)', 'rule_desc': 'Nếu không có gia đình VÀ không có con (KH nhóm 1) VÀ số phòng ngủ của căn nhà là (1,2)', 'rule_expression_backup': '(getValue(buyerInfo.get(\"group\",  0))  == 1 or (buyerInfo.get(\"is_married\")  == False and buyerInfo.get(\"no_child\") == 0 )) and houseInfo.get(\"no_bedroom\")  in (1, 2)'}\n",
      "score: 0\n",
      "{'rule_group': 'A', 'rule_code': 'A2', 'score': 0.6, 'rule_expression': '(getValue(buyerInfo.get(\"group\",  0))  == 1 or (buyerInfo.get(\"is_married\")  == False and buyerInfo.get(\"no_child\") == 0 )) and houseInfo.get(\"in_room_noBed\")  in (2,3,4)', 'rule_desc': 'Nếu không có gia đình VÀ không có con (KH nhóm 1) VÀ số phòng ngủ của căn nhà là 3', 'rule_expression_backup': '(getValue(buyerInfo.get(\"group\",  0))  == 1 or (buyerInfo.get(\"is_married\")  == False and buyerInfo.get(\"no_child\") == 0 )) and houseInfo.get(\"no_bedroom\")  >= 3'}\n",
      "score: 0\n",
      "{'rule_group': 'A', 'rule_code': 'A3', 'score': 0.8, 'rule_expression': '( getValue(buyerInfo.get(\"group\",  0))  == 2 or buyerInfo.get(\"is_married\")  == True ) and buyerInfo.get(\"no_child\") in ( 0, 1) and houseInfo.get(\"in_room_noBed\")  in (2, 3,4)', 'rule_desc': 'Nếu có gia đình VÀ số con là (0, 1) (KH nhóm 2) VÀ số phòng ngủ của căn nhà là (2,3)', 'rule_expression_backup': '( getValue(buyerInfo.get(\"group\",  0))  == 2 or buyerInfo.get(\"is_married\")  == True ) and buyerInfo.get(\"no_child\") in ( 0, 1) and houseInfo.get(\"no_bedroom\")  in (2, 3)'}\n",
      "score: 0\n",
      "{'rule_group': 'A', 'rule_code': 'A4', 'score': 0.6, 'rule_expression': '( getValue(buyerInfo.get(\"group\",  0))  == 2 or buyerInfo.get(\"is_married\")  == True ) and buyerInfo.get(\"no_child\") in ( 0, 1) and houseInfo.get(\"in_room_noBed\")  == 1', 'rule_desc': 'Nếu có gia đình VÀ số con là (0, 1) (KH nhóm 2) VÀ số phòng ngủ của căn nhà là 1', 'rule_expression_backup': '( getValue(buyerInfo.get(\"group\",  0))  == 2 or buyerInfo.get(\"is_married\")  == True ) and buyerInfo.get(\"no_child\") in ( 0, 1) and houseInfo.get(\"no_bedroom\")  == 1'}\n",
      "score: 0\n",
      "{'rule_group': 'A', 'rule_code': 'A5', 'score': 0.5, 'rule_expression': '( getValue(buyerInfo.get(\"group\",  0))  == 2 or buyerInfo.get(\"is_married\")  == True ) and buyerInfo.get(\"no_child\") == 2\\xa0and houseInfo.get(\"in_room_noBed\")  == 2', 'rule_desc': 'Nếu có gia đình VÀ số con là 2 (KH nhóm 2) VÀ số phòng ngủ của căn nhà là 2', 'rule_expression_backup': '( getValue(buyerInfo.get(\"group\",  0))  == 2 or buyerInfo.get(\"is_married\")  == True ) and buyerInfo.get(\"no_child\") == 2\\xa0and houseInfo.get(\"no_bedroom\")  == 2'}\n",
      "score: 0\n",
      "{'rule_group': 'A', 'rule_code': 'A6', 'score': 1.0, 'rule_expression': '( getValue(buyerInfo.get(\"group\",  0))  == 2 or buyerInfo.get(\"is_married\")  == True )  and buyerInfo.get(\"no_child\") == 2 and houseInfo.get(\"in_room_noBed\")  in ( 3,4,5)', 'rule_desc': 'Nếu có gia đình VÀ số con là 2 (KH nhóm 2) VÀ số phòng ngủ của căn nhà là 3', 'rule_expression_backup': '( getValue(buyerInfo.get(\"group\",  0))  == 2 or buyerInfo.get(\"is_married\")  == True )  and buyerInfo.get(\"no_child\") == 2 and houseInfo.get(\"no_bedroom\")  >= 3'}\n",
      "score: 0\n",
      "{'rule_group': 'A', 'rule_code': 'A7', 'score': 0.6, 'rule_expression': 'getValue(buyerInfo.get(\"group\",  0))  == 4 and houseInfo.get(\"in_room_noBed\")  == 1', 'rule_desc': 'Nếu KH nhóm 4 VÀ số phòng ngủ là 1', 'rule_expression_backup': 'getValue(buyerInfo.get(\"group\",  0))  == 4 and houseInfo.get(\"no_bedroom\")  == 1'}\n",
      "score: 0\n",
      "{'rule_group': 'A', 'rule_code': 'A8', 'score': 1.0, 'rule_expression': 'getValue(buyerInfo.get(\"group\",  0))  == 4 and houseInfo.get(\"in_room_noBed\")  in (2, 3,4)', 'rule_desc': 'Nếu KH nhóm 4 VÀ số phòng ngủ từ 2', 'rule_expression_backup': 'getValue(buyerInfo.get(\"group\",  0))  == 4 and houseInfo.get(\"no_bedroom\")  >= 2'}\n",
      "score: 0\n",
      "\tCode of group B  | Group condition: buyerInfo.get(\"avai_amt\") is not None and buyerInfo.get(\"monthly_amt\") is not None\n",
      "{'rule_group': 'B', 'rule_code': 'B1', 'score': 1.0, 'rule_expression': 'houseInfo.get(\"price\") >= 0.9 * buyerInfo.get(\"avai_amt\") and houseInfo.get(\"price\") <= buyerInfo.get(\"avai_amt\")', 'rule_desc': 'Nếu giá của ngôi nhà bằng khoảng 0.9-1 số tiền người mua hiện có', 'rule_expression_backup': 'houseInfo.get(\"price\") >= 0.8 * buyerInfo.get(\"avai_amt\")'}\n",
      "score: 0\n",
      "{'rule_group': 'B', 'rule_code': 'B2', 'score': 0.8, 'rule_expression': '( buyerInfo.get(\"avai_amt\")  >= 0.75 * houseInfo.get(\"price\") and houseInfo.get(\"price\") > buyerInfo.get(\"avai_amt\") ) and ( (buyerInfo.get(\"avai_amt\") + 12* buyerInfo.get(\"monthly_amt\")) >= houseInfo.get(\"price\"))', 'rule_desc': 'Nếu người mua có sẵn 0.75 giá trị ngôi nhà, và người mua có khả năng trả góp trong 12 tháng', 'rule_expression_backup': nan}\n",
      "score: 0\n",
      "{'rule_group': 'B', 'rule_code': 'B3', 'score': 0.6, 'rule_expression': '( buyerInfo.get(\"avai_amt\")  >= 0.5 * houseInfo.get(\"price\") and houseInfo.get(\"price\") > buyerInfo.get(\"avai_amt\") ) and ( (buyerInfo.get(\"avai_amt\") + 24* buyerInfo.get(\"monthly_amt\")) >= houseInfo.get(\"price\"))', 'rule_desc': 'Nếu người mua có sẵn 0.5 giá trị ngôi nhà, và người mua có khả năng trả góp trong 24 tháng', 'rule_expression_backup': 'houseInfo.get(\"price\") >= 0.5 * buyerInfo.get(\"avai_amt\") and ( (0.5 * buyerInfo.get(\"avai_amt\") + 24* buyerInfo.get(\"monthly_amt\")) >= houseInfo.get(\"price\"))'}\n",
      "score: 0\n",
      "{'rule_group': 'B', 'rule_code': 'B4', 'score': 0.5, 'rule_expression': '( buyerInfo.get(\"avai_amt\")  >= 0.5 * houseInfo.get(\"price\") and houseInfo.get(\"price\") > buyerInfo.get(\"avai_amt\") ) and ( (buyerInfo.get(\"avai_amt\") + 60* buyerInfo.get(\"monthly_amt\")) >= houseInfo.get(\"price\"))', 'rule_desc': 'Nếu người mua có sẵn 0.5 giá trị ngôi nhà, và người mua có khả năng trả góp trong 60 tháng (5 năm)', 'rule_expression_backup': nan}\n",
      "score: 0\n",
      "{'rule_group': 'B', 'rule_code': 'B5', 'score': 1.0, 'rule_expression': 'getValue(buyerInfo.get(\"group\",  0))  == 4 and ( houseInfo.get(\"price\") >= 0.8 * buyerInfo.get(\"avai_amt\") and houseInfo.get(\"price\") <= buyerInfo.get(\"avai_amt\")*1.2 )', 'rule_desc': 'Nếu người mua thuộc nhóm 4, ngôi nhà trong khoảng 0.8-1.2 số tiền sẵn có', 'rule_expression_backup': nan}\n",
      "score: 0\n",
      "{'rule_group': 'B', 'rule_code': 'B6', 'score': 0.0, 'rule_expression': 'getValue(buyerInfo.get(\"group\",  0))  == 4 and ( houseInfo.get(\"price\") < 0.8 * buyerInfo.get(\"avai_amt\") and houseInfo.get(\"price\") > buyerInfo.get(\"avai_amt\")*1.2 )', 'rule_desc': 'Nếu người mua thuộc nhóm 4, ngôi nhà nhỏ hơn 0.8 hoặc lớn hơn 1.2 số tiền sẵn có', 'rule_expression_backup': nan}\n",
      "score: 0\n",
      "\tCode of group C  | Group condition: isValidInput( buyerInfo.get(\"desired_location\") ) and isValidInput( houseInfo.get(\"address_district\") )\n",
      "{'rule_group': 'C', 'rule_code': 'C1', 'score': 1.0, 'rule_expression': 'fn_calculateDistance(houseInfo.get(\"address_district\"), buyerInfo.get(\"desired_location\")) <= 2', 'rule_desc': 'Nếu trong phạm vi 2km', 'rule_expression_backup': nan}\n",
      "score: 0\n",
      "{'rule_group': 'C', 'rule_code': 'C2', 'score': 0.8, 'rule_expression': 'fn_calculateDistance(houseInfo.get(\"address_district\"), buyerInfo.get(\"desired_location\")) <= 4', 'rule_desc': nan, 'rule_expression_backup': nan}\n",
      "score: 0.8\n",
      "{'rule_group': 'C', 'rule_code': 'C3', 'score': 0.5, 'rule_expression': 'fn_calculateDistance(houseInfo.get(\"address_district\"), buyerInfo.get(\"desired_location\")) <= 6', 'rule_desc': nan, 'rule_expression_backup': nan}\n",
      "score: 0.5\n",
      "\tCode of group D  | Group condition: 1==1\n",
      "{'rule_group': 'D', 'rule_code': 'D1', 'score': 1.0, 'rule_expression': 'isGoodLegalStatus(houseInfo.get(\"legal_status\"))', 'rule_desc': 'Có giấy tờ', 'rule_expression_backup': 'houseInfo.get(\"legal_status\") in [\\'Sổ hồng\\', \\'Sổ đỏ\\']'}\n",
      "score: 1.0\n",
      "{'rule_group': 'D', 'rule_code': 'D2', 'score': 0.2, 'rule_expression': 'isGoodLegalStatus(houseInfo.get(\"legal_status\")) is not True and getValue(buyerInfo.get(\"group\",  0)) in (1, 3,4)', 'rule_desc': 'K giấy tờ và người mua có nhóm thuộc (1,3,4)', 'rule_expression_backup': nan}\n",
      "score: 0\n",
      "{'rule_group': 'D', 'rule_code': 'D3', 'score': 0.4, 'rule_expression': 'isGoodLegalStatus(houseInfo.get(\"legal_status\")) is not True and getValue(buyerInfo.get(\"group\",  0)) not in (1, 3,4)', 'rule_desc': 'Các trường hợp k giấy tờ còn lại', 'rule_expression_backup': nan}\n",
      "score: 0\n",
      "REPORT:\n",
      "Total calculated Score:  12.0\n",
      "Max Score from Groups:  26.0\n",
      "{'meta_url': 'https://rever.vn/mua/nha-pho-co-1-tret-4-lau-va-san-thuong-khu-dan-cu-hien-huu', 'meta_code': 'T1090076', 'address_street': 'Tô Hiến Thành', 'address_ward': 'Phường 14', 'address_district': 'Quận 10', 'address_city': 'Hồ Chí Minh', 'price': 16160000000.0, 'area': 87.4, 'area_site': 87.4, 'area_basebuilt': nan, 'area_netused': 174.7, 'area_yard': nan, 'area_length': nan, 'area_width': nan, 'area_front': nan, 'house_noFloor': 5, 'house_type': 'Nhà phố', 'house_noBasement': 0, 'house_direction': 'Tây Bắc', 'in_room_noBed': 5, 'in_room_noBath': 4, 'in_room_noKitchen': nan, 'in_room_noRelax': nan, 'in_room_others': nan, 'in_interiorStatus': 'Đầy đủ nội thất', 'prj_name': nan, 'prj_investor': nan, 'prj_status': nan, 'prj_tower': nan, 'legal_status': 'Sổ hồng', 'other_overview': nan, 'other_good_outstandingCharacteristics': 'Nhà hướng Tây Bắc, đường rộng rãi thông thoáng. Sổ hồng riêng, pháp lý minh bạch rõ ràng, bàn giao kèm nội thất đầy đủ.', 'other_good_locationDesc': 'Vị trí vàng đắc địa, trong vòng bán kính 300m là các ngân hàng, thẩm mỹ viện, nhà hàng, khách sạn đẳng cấp sang trọng, showroom ô tô, thời trang hàng hiệu, cafe-bar. Con đường kinh doanh sầm uất, sang trọng bậc nhất Quận 10, phù hợp để kinh doanh nhiều ngành nghề, cho thuê giá cực cao.', 'other_good_community': 'Cộng đồng dân cư văn minh, hiện đại, trí thức.', 'other_good_education': 'TH Nguyễn Huệ, Trường Quốc tế Việt Úc, Trường Quốc tế Tây Úc, THCS - THPT Vạn Hạnh, Trường Phổ thông quốc tế TiS, Học viện Hành chính quốc gia,...', 'overall_info': 'BÁN NHÀ PHỐ ĐƯỜNG TÔ HIẾN THÀNH, QUẬN 10\\n- Diện tích đất: 87.4m2 (3.5mx 25.4m).\\n- Diện tích sử dụng: 174.7m2.\\n- Kết cấu: 1 trệt, 4 lầu và sân thượng gồm 5 phòng ngủ và 4 phòng tắm.\\n- Nhà hướng Tây Bắc, đường rộng rãi thông thoáng.\\nSổ hồng riêng, pháp lý minh bạch rõ ràng, bàn giao kèm nội thất đầy đủ.\\n\\nVị trí vàng đắc địa, trong vòng bán kính 300m là các ngân hàng, thẩm mỹ viện, nhà hàng, khách sạn đẳng cấp sang trọng, showroom ô tô, thời trang hàng hiệu, cafe-bar. Con đường kinh doanh sầm uất, sang trọng bậc nhất Quận 10, phù hợp để kinh doanh nhiều ngành nghề, cho thuê giá cực cao.'}\n",
      "{'executedRuleGroup': [{'groupCode': 'A', 'groupCondition': 'isValidInput( buyerInfo.get(\"group\") )  and isValidInput( buyerInfo.get(\"is_married\") )  and isValidInput( buyerInfo.get(\"no_child\") )  and isValidInput(houseInfo.get(\"in_room_noBed\") )', 'groupScore': 3.0, 'calRuleScore': 0.0}, {'groupCode': 'B', 'groupCondition': 'buyerInfo.get(\"avai_amt\") is not None and buyerInfo.get(\"monthly_amt\") is not None', 'groupScore': 10.0, 'calRuleScore': 0.0}, {'groupCode': 'C', 'groupCondition': 'isValidInput( buyerInfo.get(\"desired_location\") ) and isValidInput( houseInfo.get(\"address_district\") )', 'groupScore': 5.0, 'rule_group': 'C', 'rule_code': 'C2', 'score': 0.8, 'rule_expression': 'fn_calculateDistance(houseInfo.get(\"address_district\"), buyerInfo.get(\"desired_location\")) <= 4', 'rule_desc': nan, 'rule_expression_backup': nan, 'calRuleScore': 4.0}, {'groupCode': 'D', 'groupCondition': '1==1', 'groupScore': 8.0, 'rule_group': 'D', 'rule_code': 'D1', 'score': 1.0, 'rule_expression': 'isGoodLegalStatus(houseInfo.get(\"legal_status\"))', 'rule_desc': 'Có giấy tờ', 'rule_expression_backup': 'houseInfo.get(\"legal_status\") in [\\'Sổ hồng\\', \\'Sổ đỏ\\']', 'calRuleScore': 8.0}], 'houseInfo': {'meta_url': 'https://rever.vn/mua/nha-pho-co-1-tret-4-lau-va-san-thuong-khu-dan-cu-hien-huu', 'meta_code': 'T1090076', 'address_street': 'Tô Hiến Thành', 'address_ward': 'Phường 14', 'address_district': 'Quận 10', 'address_city': 'Hồ Chí Minh', 'price': 16160000000.0, 'area': 87.4, 'area_site': 87.4, 'area_basebuilt': nan, 'area_netused': 174.7, 'area_yard': nan, 'area_length': nan, 'area_width': nan, 'area_front': nan, 'house_noFloor': 5, 'house_type': 'Nhà phố', 'house_noBasement': 0, 'house_direction': 'Tây Bắc', 'in_room_noBed': 5, 'in_room_noBath': 4, 'in_room_noKitchen': nan, 'in_room_noRelax': nan, 'in_room_others': nan, 'in_interiorStatus': 'Đầy đủ nội thất', 'prj_name': nan, 'prj_investor': nan, 'prj_status': nan, 'prj_tower': nan, 'legal_status': 'Sổ hồng', 'other_overview': nan, 'other_good_outstandingCharacteristics': 'Nhà hướng Tây Bắc, đường rộng rãi thông thoáng. Sổ hồng riêng, pháp lý minh bạch rõ ràng, bàn giao kèm nội thất đầy đủ.', 'other_good_locationDesc': 'Vị trí vàng đắc địa, trong vòng bán kính 300m là các ngân hàng, thẩm mỹ viện, nhà hàng, khách sạn đẳng cấp sang trọng, showroom ô tô, thời trang hàng hiệu, cafe-bar. Con đường kinh doanh sầm uất, sang trọng bậc nhất Quận 10, phù hợp để kinh doanh nhiều ngành nghề, cho thuê giá cực cao.', 'other_good_community': 'Cộng đồng dân cư văn minh, hiện đại, trí thức.', 'other_good_education': 'TH Nguyễn Huệ, Trường Quốc tế Việt Úc, Trường Quốc tế Tây Úc, THCS - THPT Vạn Hạnh, Trường Phổ thông quốc tế TiS, Học viện Hành chính quốc gia,...', 'overall_info': 'BÁN NHÀ PHỐ ĐƯỜNG TÔ HIẾN THÀNH, QUẬN 10\\n- Diện tích đất: 87.4m2 (3.5mx 25.4m).\\n- Diện tích sử dụng: 174.7m2.\\n- Kết cấu: 1 trệt, 4 lầu và sân thượng gồm 5 phòng ngủ và 4 phòng tắm.\\n- Nhà hướng Tây Bắc, đường rộng rãi thông thoáng.\\nSổ hồng riêng, pháp lý minh bạch rõ ràng, bàn giao kèm nội thất đầy đủ.\\n\\nVị trí vàng đắc địa, trong vòng bán kính 300m là các ngân hàng, thẩm mỹ viện, nhà hàng, khách sạn đẳng cấp sang trọng, showroom ô tô, thời trang hàng hiệu, cafe-bar. Con đường kinh doanh sầm uất, sang trọng bậc nhất Quận 10, phù hợp để kinh doanh nhiều ngành nghề, cho thuê giá cực cao.'}, 'maxScore': 26.0, 'houseScore': 12.0, 'housePerformance': 46.15, 'buyerInfo': {'id': 'x2', 'group': 1.0, 'age': 30.0, 'is_married': 0.0, 'no_child': 0.0, 'month_income': 70000000.0, 'monthly_amt': 50000000.0, 'avai_amt': 10000000000.0, 'desired_location': 'Quận 3', 'desired_interiorStatus': nan}, 'id': 'x2', 'group': 1.0, 'age': 30.0, 'is_married': 0.0, 'no_child': 0.0, 'month_income': 70000000.0, 'monthly_amt': 50000000.0, 'avai_amt': 10000000000.0, 'desired_location': 'Quận 3', 'desired_interiorStatus': nan, 'meta_url': 'https://rever.vn/mua/nha-pho-co-1-tret-4-lau-va-san-thuong-khu-dan-cu-hien-huu', 'meta_code': 'T1090076', 'address_street': 'Tô Hiến Thành', 'address_ward': 'Phường 14', 'address_district': 'Quận 10', 'address_city': 'Hồ Chí Minh', 'price': 16160000000.0, 'area': 87.4, 'area_site': 87.4, 'area_basebuilt': nan, 'area_netused': 174.7, 'area_yard': nan, 'area_length': nan, 'area_width': nan, 'area_front': nan, 'house_noFloor': 5, 'house_type': 'Nhà phố', 'house_noBasement': 0, 'house_direction': 'Tây Bắc', 'in_room_noBed': 5, 'in_room_noBath': 4, 'in_room_noKitchen': nan, 'in_room_noRelax': nan, 'in_room_others': nan, 'in_interiorStatus': 'Đầy đủ nội thất', 'prj_name': nan, 'prj_investor': nan, 'prj_status': nan, 'prj_tower': nan, 'legal_status': 'Sổ hồng', 'other_overview': nan, 'other_good_outstandingCharacteristics': 'Nhà hướng Tây Bắc, đường rộng rãi thông thoáng. Sổ hồng riêng, pháp lý minh bạch rõ ràng, bàn giao kèm nội thất đầy đủ.', 'other_good_locationDesc': 'Vị trí vàng đắc địa, trong vòng bán kính 300m là các ngân hàng, thẩm mỹ viện, nhà hàng, khách sạn đẳng cấp sang trọng, showroom ô tô, thời trang hàng hiệu, cafe-bar. Con đường kinh doanh sầm uất, sang trọng bậc nhất Quận 10, phù hợp để kinh doanh nhiều ngành nghề, cho thuê giá cực cao.', 'other_good_community': 'Cộng đồng dân cư văn minh, hiện đại, trí thức.', 'other_good_education': 'TH Nguyễn Huệ, Trường Quốc tế Việt Úc, Trường Quốc tế Tây Úc, THCS - THPT Vạn Hạnh, Trường Phổ thông quốc tế TiS, Học viện Hành chính quốc gia,...', 'overall_info': 'BÁN NHÀ PHỐ ĐƯỜNG TÔ HIẾN THÀNH, QUẬN 10\\n- Diện tích đất: 87.4m2 (3.5mx 25.4m).\\n- Diện tích sử dụng: 174.7m2.\\n- Kết cấu: 1 trệt, 4 lầu và sân thượng gồm 5 phòng ngủ và 4 phòng tắm.\\n- Nhà hướng Tây Bắc, đường rộng rãi thông thoáng.\\nSổ hồng riêng, pháp lý minh bạch rõ ràng, bàn giao kèm nội thất đầy đủ.\\n\\nVị trí vàng đắc địa, trong vòng bán kính 300m là các ngân hàng, thẩm mỹ viện, nhà hàng, khách sạn đẳng cấp sang trọng, showroom ô tô, thời trang hàng hiệu, cafe-bar. Con đường kinh doanh sầm uất, sang trọng bậc nhất Quận 10, phù hợp để kinh doanh nhiều ngành nghề, cho thuê giá cực cao.'}\n",
      "-------------\n",
      "\n",
      "\tCode of group A  | Group condition: isValidInput( buyerInfo.get(\"group\") )  and isValidInput( buyerInfo.get(\"is_married\") )  and isValidInput( buyerInfo.get(\"no_child\") )  and isValidInput(houseInfo.get(\"in_room_noBed\") )\n",
      "{'rule_group': 'A', 'rule_code': 'A1', 'score': 0.7, 'rule_expression': '(getValue(buyerInfo.get(\"group\",  0))  == 1 or (buyerInfo.get(\"is_married\")  == False and buyerInfo.get(\"no_child\") == 0 )) and houseInfo.get(\"in_room_noBed\")  in (1, 2)', 'rule_desc': 'Nếu không có gia đình VÀ không có con (KH nhóm 1) VÀ số phòng ngủ của căn nhà là (1,2)', 'rule_expression_backup': '(getValue(buyerInfo.get(\"group\",  0))  == 1 or (buyerInfo.get(\"is_married\")  == False and buyerInfo.get(\"no_child\") == 0 )) and houseInfo.get(\"no_bedroom\")  in (1, 2)'}\n",
      "score: 0\n",
      "{'rule_group': 'A', 'rule_code': 'A2', 'score': 0.6, 'rule_expression': '(getValue(buyerInfo.get(\"group\",  0))  == 1 or (buyerInfo.get(\"is_married\")  == False and buyerInfo.get(\"no_child\") == 0 )) and houseInfo.get(\"in_room_noBed\")  in (2,3,4)', 'rule_desc': 'Nếu không có gia đình VÀ không có con (KH nhóm 1) VÀ số phòng ngủ của căn nhà là 3', 'rule_expression_backup': '(getValue(buyerInfo.get(\"group\",  0))  == 1 or (buyerInfo.get(\"is_married\")  == False and buyerInfo.get(\"no_child\") == 0 )) and houseInfo.get(\"no_bedroom\")  >= 3'}\n",
      "score: 0.6\n",
      "{'rule_group': 'A', 'rule_code': 'A3', 'score': 0.8, 'rule_expression': '( getValue(buyerInfo.get(\"group\",  0))  == 2 or buyerInfo.get(\"is_married\")  == True ) and buyerInfo.get(\"no_child\") in ( 0, 1) and houseInfo.get(\"in_room_noBed\")  in (2, 3,4)', 'rule_desc': 'Nếu có gia đình VÀ số con là (0, 1) (KH nhóm 2) VÀ số phòng ngủ của căn nhà là (2,3)', 'rule_expression_backup': '( getValue(buyerInfo.get(\"group\",  0))  == 2 or buyerInfo.get(\"is_married\")  == True ) and buyerInfo.get(\"no_child\") in ( 0, 1) and houseInfo.get(\"no_bedroom\")  in (2, 3)'}\n",
      "score: 0\n",
      "{'rule_group': 'A', 'rule_code': 'A4', 'score': 0.6, 'rule_expression': '( getValue(buyerInfo.get(\"group\",  0))  == 2 or buyerInfo.get(\"is_married\")  == True ) and buyerInfo.get(\"no_child\") in ( 0, 1) and houseInfo.get(\"in_room_noBed\")  == 1', 'rule_desc': 'Nếu có gia đình VÀ số con là (0, 1) (KH nhóm 2) VÀ số phòng ngủ của căn nhà là 1', 'rule_expression_backup': '( getValue(buyerInfo.get(\"group\",  0))  == 2 or buyerInfo.get(\"is_married\")  == True ) and buyerInfo.get(\"no_child\") in ( 0, 1) and houseInfo.get(\"no_bedroom\")  == 1'}\n",
      "score: 0\n",
      "{'rule_group': 'A', 'rule_code': 'A5', 'score': 0.5, 'rule_expression': '( getValue(buyerInfo.get(\"group\",  0))  == 2 or buyerInfo.get(\"is_married\")  == True ) and buyerInfo.get(\"no_child\") == 2\\xa0and houseInfo.get(\"in_room_noBed\")  == 2', 'rule_desc': 'Nếu có gia đình VÀ số con là 2 (KH nhóm 2) VÀ số phòng ngủ của căn nhà là 2', 'rule_expression_backup': '( getValue(buyerInfo.get(\"group\",  0))  == 2 or buyerInfo.get(\"is_married\")  == True ) and buyerInfo.get(\"no_child\") == 2\\xa0and houseInfo.get(\"no_bedroom\")  == 2'}\n",
      "score: 0\n",
      "{'rule_group': 'A', 'rule_code': 'A6', 'score': 1.0, 'rule_expression': '( getValue(buyerInfo.get(\"group\",  0))  == 2 or buyerInfo.get(\"is_married\")  == True )  and buyerInfo.get(\"no_child\") == 2 and houseInfo.get(\"in_room_noBed\")  in ( 3,4,5)', 'rule_desc': 'Nếu có gia đình VÀ số con là 2 (KH nhóm 2) VÀ số phòng ngủ của căn nhà là 3', 'rule_expression_backup': '( getValue(buyerInfo.get(\"group\",  0))  == 2 or buyerInfo.get(\"is_married\")  == True )  and buyerInfo.get(\"no_child\") == 2 and houseInfo.get(\"no_bedroom\")  >= 3'}\n",
      "score: 0\n",
      "{'rule_group': 'A', 'rule_code': 'A7', 'score': 0.6, 'rule_expression': 'getValue(buyerInfo.get(\"group\",  0))  == 4 and houseInfo.get(\"in_room_noBed\")  == 1', 'rule_desc': 'Nếu KH nhóm 4 VÀ số phòng ngủ là 1', 'rule_expression_backup': 'getValue(buyerInfo.get(\"group\",  0))  == 4 and houseInfo.get(\"no_bedroom\")  == 1'}\n",
      "score: 0\n",
      "{'rule_group': 'A', 'rule_code': 'A8', 'score': 1.0, 'rule_expression': 'getValue(buyerInfo.get(\"group\",  0))  == 4 and houseInfo.get(\"in_room_noBed\")  in (2, 3,4)', 'rule_desc': 'Nếu KH nhóm 4 VÀ số phòng ngủ từ 2', 'rule_expression_backup': 'getValue(buyerInfo.get(\"group\",  0))  == 4 and houseInfo.get(\"no_bedroom\")  >= 2'}\n",
      "score: 0\n",
      "\tCode of group B  | Group condition: buyerInfo.get(\"avai_amt\") is not None and buyerInfo.get(\"monthly_amt\") is not None\n",
      "{'rule_group': 'B', 'rule_code': 'B1', 'score': 1.0, 'rule_expression': 'houseInfo.get(\"price\") >= 0.9 * buyerInfo.get(\"avai_amt\") and houseInfo.get(\"price\") <= buyerInfo.get(\"avai_amt\")', 'rule_desc': 'Nếu giá của ngôi nhà bằng khoảng 0.9-1 số tiền người mua hiện có', 'rule_expression_backup': 'houseInfo.get(\"price\") >= 0.8 * buyerInfo.get(\"avai_amt\")'}\n",
      "score: 0\n",
      "{'rule_group': 'B', 'rule_code': 'B2', 'score': 0.8, 'rule_expression': '( buyerInfo.get(\"avai_amt\")  >= 0.75 * houseInfo.get(\"price\") and houseInfo.get(\"price\") > buyerInfo.get(\"avai_amt\") ) and ( (buyerInfo.get(\"avai_amt\") + 12* buyerInfo.get(\"monthly_amt\")) >= houseInfo.get(\"price\"))', 'rule_desc': 'Nếu người mua có sẵn 0.75 giá trị ngôi nhà, và người mua có khả năng trả góp trong 12 tháng', 'rule_expression_backup': nan}\n",
      "score: 0\n",
      "{'rule_group': 'B', 'rule_code': 'B3', 'score': 0.6, 'rule_expression': '( buyerInfo.get(\"avai_amt\")  >= 0.5 * houseInfo.get(\"price\") and houseInfo.get(\"price\") > buyerInfo.get(\"avai_amt\") ) and ( (buyerInfo.get(\"avai_amt\") + 24* buyerInfo.get(\"monthly_amt\")) >= houseInfo.get(\"price\"))', 'rule_desc': 'Nếu người mua có sẵn 0.5 giá trị ngôi nhà, và người mua có khả năng trả góp trong 24 tháng', 'rule_expression_backup': 'houseInfo.get(\"price\") >= 0.5 * buyerInfo.get(\"avai_amt\") and ( (0.5 * buyerInfo.get(\"avai_amt\") + 24* buyerInfo.get(\"monthly_amt\")) >= houseInfo.get(\"price\"))'}\n",
      "score: 0\n",
      "{'rule_group': 'B', 'rule_code': 'B4', 'score': 0.5, 'rule_expression': '( buyerInfo.get(\"avai_amt\")  >= 0.5 * houseInfo.get(\"price\") and houseInfo.get(\"price\") > buyerInfo.get(\"avai_amt\") ) and ( (buyerInfo.get(\"avai_amt\") + 60* buyerInfo.get(\"monthly_amt\")) >= houseInfo.get(\"price\"))', 'rule_desc': 'Nếu người mua có sẵn 0.5 giá trị ngôi nhà, và người mua có khả năng trả góp trong 60 tháng (5 năm)', 'rule_expression_backup': nan}\n",
      "score: 0\n",
      "{'rule_group': 'B', 'rule_code': 'B5', 'score': 1.0, 'rule_expression': 'getValue(buyerInfo.get(\"group\",  0))  == 4 and ( houseInfo.get(\"price\") >= 0.8 * buyerInfo.get(\"avai_amt\") and houseInfo.get(\"price\") <= buyerInfo.get(\"avai_amt\")*1.2 )', 'rule_desc': 'Nếu người mua thuộc nhóm 4, ngôi nhà trong khoảng 0.8-1.2 số tiền sẵn có', 'rule_expression_backup': nan}\n",
      "score: 0\n",
      "{'rule_group': 'B', 'rule_code': 'B6', 'score': 0.0, 'rule_expression': 'getValue(buyerInfo.get(\"group\",  0))  == 4 and ( houseInfo.get(\"price\") < 0.8 * buyerInfo.get(\"avai_amt\") and houseInfo.get(\"price\") > buyerInfo.get(\"avai_amt\")*1.2 )', 'rule_desc': 'Nếu người mua thuộc nhóm 4, ngôi nhà nhỏ hơn 0.8 hoặc lớn hơn 1.2 số tiền sẵn có', 'rule_expression_backup': nan}\n",
      "score: 0\n",
      "\tCode of group C  | Group condition: isValidInput( buyerInfo.get(\"desired_location\") ) and isValidInput( houseInfo.get(\"address_district\") )\n",
      "{'rule_group': 'C', 'rule_code': 'C1', 'score': 1.0, 'rule_expression': 'fn_calculateDistance(houseInfo.get(\"address_district\"), buyerInfo.get(\"desired_location\")) <= 2', 'rule_desc': 'Nếu trong phạm vi 2km', 'rule_expression_backup': nan}\n",
      "score: 0\n",
      "{'rule_group': 'C', 'rule_code': 'C2', 'score': 0.8, 'rule_expression': 'fn_calculateDistance(houseInfo.get(\"address_district\"), buyerInfo.get(\"desired_location\")) <= 4', 'rule_desc': nan, 'rule_expression_backup': nan}\n",
      "score: 0\n",
      "{'rule_group': 'C', 'rule_code': 'C3', 'score': 0.5, 'rule_expression': 'fn_calculateDistance(houseInfo.get(\"address_district\"), buyerInfo.get(\"desired_location\")) <= 6', 'rule_desc': nan, 'rule_expression_backup': nan}\n",
      "score: 0.5\n",
      "\tCode of group D  | Group condition: 1==1\n",
      "{'rule_group': 'D', 'rule_code': 'D1', 'score': 1.0, 'rule_expression': 'isGoodLegalStatus(houseInfo.get(\"legal_status\"))', 'rule_desc': 'Có giấy tờ', 'rule_expression_backup': 'houseInfo.get(\"legal_status\") in [\\'Sổ hồng\\', \\'Sổ đỏ\\']'}\n",
      "score: 1.0\n",
      "{'rule_group': 'D', 'rule_code': 'D2', 'score': 0.2, 'rule_expression': 'isGoodLegalStatus(houseInfo.get(\"legal_status\")) is not True and getValue(buyerInfo.get(\"group\",  0)) in (1, 3,4)', 'rule_desc': 'K giấy tờ và người mua có nhóm thuộc (1,3,4)', 'rule_expression_backup': nan}\n",
      "score: 0\n",
      "{'rule_group': 'D', 'rule_code': 'D3', 'score': 0.4, 'rule_expression': 'isGoodLegalStatus(houseInfo.get(\"legal_status\")) is not True and getValue(buyerInfo.get(\"group\",  0)) not in (1, 3,4)', 'rule_desc': 'Các trường hợp k giấy tờ còn lại', 'rule_expression_backup': nan}\n",
      "score: 0\n",
      "REPORT:\n",
      "Total calculated Score:  12.3\n",
      "Max Score from Groups:  26.0\n",
      "{'meta_url': 'https://rever.vn/mua/nha-pho-duong-ben-binh-dong-1-tang-dien-tich-86-9m2-phap-ly-so-hong', 'meta_code': 'T08145838', 'address_street': 'Bến Bình Đông', 'address_ward': 'Phường 14', 'address_district': 'Quận 8', 'address_city': 'Hồ Chí Minh', 'price': 4950000000.0, 'area': 86.9, 'area_site': 86.9, 'area_basebuilt': nan, 'area_netused': 57.6, 'area_yard': nan, 'area_length': nan, 'area_width': nan, 'area_front': nan, 'house_noFloor': 1, 'house_type': 'Nhà phố', 'house_noBasement': 0, 'house_direction': 'Đông Nam', 'in_room_noBed': 3, 'in_room_noBath': 1, 'in_room_noKitchen': nan, 'in_room_noRelax': nan, 'in_room_others': nan, 'in_interiorStatus': 'Nội thất cơ bản', 'prj_name': nan, 'prj_investor': nan, 'prj_status': nan, 'prj_tower': nan, 'legal_status': 'Sổ hồng', 'other_overview': nan, 'other_good_outstandingCharacteristics': nan, 'other_good_locationDesc': nan, 'other_good_community': nan, 'other_good_education': nan, 'overall_info': 'BÁN NHÀ PHỐ ĐƯỜNG BẾN BÌNH ĐÔNG, QUẬN 8\\nDiện tích: 86.9m² (25m x 3.5m), có sân trước nhà. \\nDiện tích sử dụng: 57.6m²\\nKết cấu: 1 trệt, 3 phòng ngủ 1 phòng tắm\\nTình trạng nội thất: Nội thất cơ bản\\nPháp lý: Sổ hồng\\n\\nNhà phố có vị trí cách Trường Đại học Sài Gòn khoảng 4.7km, cách Trường Đại học Sư phạm Thể dục Thể thao Thành phố Hồ Chí Minh khoảng 2.5km. Di chuyển tới Advance Fitness & Gym Tôn Dật Tiên khoảng 8.0km, The New Gym khoảng 8.2km. Tọa lạc tại vị trí thuận tiện di chuyển với đầy đủ các tiện ích về y tế, giáo dục và giải trí.'}\n",
      "{'executedRuleGroup': [{'groupCode': 'A', 'groupCondition': 'isValidInput( buyerInfo.get(\"group\") )  and isValidInput( buyerInfo.get(\"is_married\") )  and isValidInput( buyerInfo.get(\"no_child\") )  and isValidInput(houseInfo.get(\"in_room_noBed\") )', 'groupScore': 3.0, 'rule_group': 'A', 'rule_code': 'A2', 'score': 0.6, 'rule_expression': '(getValue(buyerInfo.get(\"group\",  0))  == 1 or (buyerInfo.get(\"is_married\")  == False and buyerInfo.get(\"no_child\") == 0 )) and houseInfo.get(\"in_room_noBed\")  in (2,3,4)', 'rule_desc': 'Nếu không có gia đình VÀ không có con (KH nhóm 1) VÀ số phòng ngủ của căn nhà là 3', 'rule_expression_backup': '(getValue(buyerInfo.get(\"group\",  0))  == 1 or (buyerInfo.get(\"is_married\")  == False and buyerInfo.get(\"no_child\") == 0 )) and houseInfo.get(\"no_bedroom\")  >= 3', 'calRuleScore': 1.7999999999999998}, {'groupCode': 'B', 'groupCondition': 'buyerInfo.get(\"avai_amt\") is not None and buyerInfo.get(\"monthly_amt\") is not None', 'groupScore': 10.0, 'calRuleScore': 0.0}, {'groupCode': 'C', 'groupCondition': 'isValidInput( buyerInfo.get(\"desired_location\") ) and isValidInput( houseInfo.get(\"address_district\") )', 'groupScore': 5.0, 'rule_group': 'C', 'rule_code': 'C3', 'score': 0.5, 'rule_expression': 'fn_calculateDistance(houseInfo.get(\"address_district\"), buyerInfo.get(\"desired_location\")) <= 6', 'rule_desc': nan, 'rule_expression_backup': nan, 'calRuleScore': 2.5}, {'groupCode': 'D', 'groupCondition': '1==1', 'groupScore': 8.0, 'rule_group': 'D', 'rule_code': 'D1', 'score': 1.0, 'rule_expression': 'isGoodLegalStatus(houseInfo.get(\"legal_status\"))', 'rule_desc': 'Có giấy tờ', 'rule_expression_backup': 'houseInfo.get(\"legal_status\") in [\\'Sổ hồng\\', \\'Sổ đỏ\\']', 'calRuleScore': 8.0}], 'houseInfo': {'meta_url': 'https://rever.vn/mua/nha-pho-duong-ben-binh-dong-1-tang-dien-tich-86-9m2-phap-ly-so-hong', 'meta_code': 'T08145838', 'address_street': 'Bến Bình Đông', 'address_ward': 'Phường 14', 'address_district': 'Quận 8', 'address_city': 'Hồ Chí Minh', 'price': 4950000000.0, 'area': 86.9, 'area_site': 86.9, 'area_basebuilt': nan, 'area_netused': 57.6, 'area_yard': nan, 'area_length': nan, 'area_width': nan, 'area_front': nan, 'house_noFloor': 1, 'house_type': 'Nhà phố', 'house_noBasement': 0, 'house_direction': 'Đông Nam', 'in_room_noBed': 3, 'in_room_noBath': 1, 'in_room_noKitchen': nan, 'in_room_noRelax': nan, 'in_room_others': nan, 'in_interiorStatus': 'Nội thất cơ bản', 'prj_name': nan, 'prj_investor': nan, 'prj_status': nan, 'prj_tower': nan, 'legal_status': 'Sổ hồng', 'other_overview': nan, 'other_good_outstandingCharacteristics': nan, 'other_good_locationDesc': nan, 'other_good_community': nan, 'other_good_education': nan, 'overall_info': 'BÁN NHÀ PHỐ ĐƯỜNG BẾN BÌNH ĐÔNG, QUẬN 8\\nDiện tích: 86.9m² (25m x 3.5m), có sân trước nhà. \\nDiện tích sử dụng: 57.6m²\\nKết cấu: 1 trệt, 3 phòng ngủ 1 phòng tắm\\nTình trạng nội thất: Nội thất cơ bản\\nPháp lý: Sổ hồng\\n\\nNhà phố có vị trí cách Trường Đại học Sài Gòn khoảng 4.7km, cách Trường Đại học Sư phạm Thể dục Thể thao Thành phố Hồ Chí Minh khoảng 2.5km. Di chuyển tới Advance Fitness & Gym Tôn Dật Tiên khoảng 8.0km, The New Gym khoảng 8.2km. Tọa lạc tại vị trí thuận tiện di chuyển với đầy đủ các tiện ích về y tế, giáo dục và giải trí.'}, 'maxScore': 26.0, 'houseScore': 12.3, 'housePerformance': 47.31, 'buyerInfo': {'id': 'x2', 'group': 1.0, 'age': 30.0, 'is_married': 0.0, 'no_child': 0.0, 'month_income': 70000000.0, 'monthly_amt': 50000000.0, 'avai_amt': 10000000000.0, 'desired_location': 'Quận 3', 'desired_interiorStatus': nan}, 'id': 'x2', 'group': 1.0, 'age': 30.0, 'is_married': 0.0, 'no_child': 0.0, 'month_income': 70000000.0, 'monthly_amt': 50000000.0, 'avai_amt': 10000000000.0, 'desired_location': 'Quận 3', 'desired_interiorStatus': nan, 'meta_url': 'https://rever.vn/mua/nha-pho-duong-ben-binh-dong-1-tang-dien-tich-86-9m2-phap-ly-so-hong', 'meta_code': 'T08145838', 'address_street': 'Bến Bình Đông', 'address_ward': 'Phường 14', 'address_district': 'Quận 8', 'address_city': 'Hồ Chí Minh', 'price': 4950000000.0, 'area': 86.9, 'area_site': 86.9, 'area_basebuilt': nan, 'area_netused': 57.6, 'area_yard': nan, 'area_length': nan, 'area_width': nan, 'area_front': nan, 'house_noFloor': 1, 'house_type': 'Nhà phố', 'house_noBasement': 0, 'house_direction': 'Đông Nam', 'in_room_noBed': 3, 'in_room_noBath': 1, 'in_room_noKitchen': nan, 'in_room_noRelax': nan, 'in_room_others': nan, 'in_interiorStatus': 'Nội thất cơ bản', 'prj_name': nan, 'prj_investor': nan, 'prj_status': nan, 'prj_tower': nan, 'legal_status': 'Sổ hồng', 'other_overview': nan, 'other_good_outstandingCharacteristics': nan, 'other_good_locationDesc': nan, 'other_good_community': nan, 'other_good_education': nan, 'overall_info': 'BÁN NHÀ PHỐ ĐƯỜNG BẾN BÌNH ĐÔNG, QUẬN 8\\nDiện tích: 86.9m² (25m x 3.5m), có sân trước nhà. \\nDiện tích sử dụng: 57.6m²\\nKết cấu: 1 trệt, 3 phòng ngủ 1 phòng tắm\\nTình trạng nội thất: Nội thất cơ bản\\nPháp lý: Sổ hồng\\n\\nNhà phố có vị trí cách Trường Đại học Sài Gòn khoảng 4.7km, cách Trường Đại học Sư phạm Thể dục Thể thao Thành phố Hồ Chí Minh khoảng 2.5km. Di chuyển tới Advance Fitness & Gym Tôn Dật Tiên khoảng 8.0km, The New Gym khoảng 8.2km. Tọa lạc tại vị trí thuận tiện di chuyển với đầy đủ các tiện ích về y tế, giáo dục và giải trí.'}\n",
      "-------------\n",
      "\n",
      "\tCode of group A  | Group condition: isValidInput( buyerInfo.get(\"group\") )  and isValidInput( buyerInfo.get(\"is_married\") )  and isValidInput( buyerInfo.get(\"no_child\") )  and isValidInput(houseInfo.get(\"in_room_noBed\") )\n",
      "{'rule_group': 'A', 'rule_code': 'A1', 'score': 0.7, 'rule_expression': '(getValue(buyerInfo.get(\"group\",  0))  == 1 or (buyerInfo.get(\"is_married\")  == False and buyerInfo.get(\"no_child\") == 0 )) and houseInfo.get(\"in_room_noBed\")  in (1, 2)', 'rule_desc': 'Nếu không có gia đình VÀ không có con (KH nhóm 1) VÀ số phòng ngủ của căn nhà là (1,2)', 'rule_expression_backup': '(getValue(buyerInfo.get(\"group\",  0))  == 1 or (buyerInfo.get(\"is_married\")  == False and buyerInfo.get(\"no_child\") == 0 )) and houseInfo.get(\"no_bedroom\")  in (1, 2)'}\n",
      "score: 0.7\n",
      "{'rule_group': 'A', 'rule_code': 'A2', 'score': 0.6, 'rule_expression': '(getValue(buyerInfo.get(\"group\",  0))  == 1 or (buyerInfo.get(\"is_married\")  == False and buyerInfo.get(\"no_child\") == 0 )) and houseInfo.get(\"in_room_noBed\")  in (2,3,4)', 'rule_desc': 'Nếu không có gia đình VÀ không có con (KH nhóm 1) VÀ số phòng ngủ của căn nhà là 3', 'rule_expression_backup': '(getValue(buyerInfo.get(\"group\",  0))  == 1 or (buyerInfo.get(\"is_married\")  == False and buyerInfo.get(\"no_child\") == 0 )) and houseInfo.get(\"no_bedroom\")  >= 3'}\n",
      "score: 0.6\n",
      "{'rule_group': 'A', 'rule_code': 'A3', 'score': 0.8, 'rule_expression': '( getValue(buyerInfo.get(\"group\",  0))  == 2 or buyerInfo.get(\"is_married\")  == True ) and buyerInfo.get(\"no_child\") in ( 0, 1) and houseInfo.get(\"in_room_noBed\")  in (2, 3,4)', 'rule_desc': 'Nếu có gia đình VÀ số con là (0, 1) (KH nhóm 2) VÀ số phòng ngủ của căn nhà là (2,3)', 'rule_expression_backup': '( getValue(buyerInfo.get(\"group\",  0))  == 2 or buyerInfo.get(\"is_married\")  == True ) and buyerInfo.get(\"no_child\") in ( 0, 1) and houseInfo.get(\"no_bedroom\")  in (2, 3)'}\n",
      "score: 0\n",
      "{'rule_group': 'A', 'rule_code': 'A4', 'score': 0.6, 'rule_expression': '( getValue(buyerInfo.get(\"group\",  0))  == 2 or buyerInfo.get(\"is_married\")  == True ) and buyerInfo.get(\"no_child\") in ( 0, 1) and houseInfo.get(\"in_room_noBed\")  == 1', 'rule_desc': 'Nếu có gia đình VÀ số con là (0, 1) (KH nhóm 2) VÀ số phòng ngủ của căn nhà là 1', 'rule_expression_backup': '( getValue(buyerInfo.get(\"group\",  0))  == 2 or buyerInfo.get(\"is_married\")  == True ) and buyerInfo.get(\"no_child\") in ( 0, 1) and houseInfo.get(\"no_bedroom\")  == 1'}\n",
      "score: 0\n",
      "{'rule_group': 'A', 'rule_code': 'A5', 'score': 0.5, 'rule_expression': '( getValue(buyerInfo.get(\"group\",  0))  == 2 or buyerInfo.get(\"is_married\")  == True ) and buyerInfo.get(\"no_child\") == 2\\xa0and houseInfo.get(\"in_room_noBed\")  == 2', 'rule_desc': 'Nếu có gia đình VÀ số con là 2 (KH nhóm 2) VÀ số phòng ngủ của căn nhà là 2', 'rule_expression_backup': '( getValue(buyerInfo.get(\"group\",  0))  == 2 or buyerInfo.get(\"is_married\")  == True ) and buyerInfo.get(\"no_child\") == 2\\xa0and houseInfo.get(\"no_bedroom\")  == 2'}\n",
      "score: 0\n",
      "{'rule_group': 'A', 'rule_code': 'A6', 'score': 1.0, 'rule_expression': '( getValue(buyerInfo.get(\"group\",  0))  == 2 or buyerInfo.get(\"is_married\")  == True )  and buyerInfo.get(\"no_child\") == 2 and houseInfo.get(\"in_room_noBed\")  in ( 3,4,5)', 'rule_desc': 'Nếu có gia đình VÀ số con là 2 (KH nhóm 2) VÀ số phòng ngủ của căn nhà là 3', 'rule_expression_backup': '( getValue(buyerInfo.get(\"group\",  0))  == 2 or buyerInfo.get(\"is_married\")  == True )  and buyerInfo.get(\"no_child\") == 2 and houseInfo.get(\"no_bedroom\")  >= 3'}\n",
      "score: 0\n",
      "{'rule_group': 'A', 'rule_code': 'A7', 'score': 0.6, 'rule_expression': 'getValue(buyerInfo.get(\"group\",  0))  == 4 and houseInfo.get(\"in_room_noBed\")  == 1', 'rule_desc': 'Nếu KH nhóm 4 VÀ số phòng ngủ là 1', 'rule_expression_backup': 'getValue(buyerInfo.get(\"group\",  0))  == 4 and houseInfo.get(\"no_bedroom\")  == 1'}\n",
      "score: 0\n",
      "{'rule_group': 'A', 'rule_code': 'A8', 'score': 1.0, 'rule_expression': 'getValue(buyerInfo.get(\"group\",  0))  == 4 and houseInfo.get(\"in_room_noBed\")  in (2, 3,4)', 'rule_desc': 'Nếu KH nhóm 4 VÀ số phòng ngủ từ 2', 'rule_expression_backup': 'getValue(buyerInfo.get(\"group\",  0))  == 4 and houseInfo.get(\"no_bedroom\")  >= 2'}\n",
      "score: 0\n",
      "\tCode of group B  | Group condition: buyerInfo.get(\"avai_amt\") is not None and buyerInfo.get(\"monthly_amt\") is not None\n",
      "{'rule_group': 'B', 'rule_code': 'B1', 'score': 1.0, 'rule_expression': 'houseInfo.get(\"price\") >= 0.9 * buyerInfo.get(\"avai_amt\") and houseInfo.get(\"price\") <= buyerInfo.get(\"avai_amt\")', 'rule_desc': 'Nếu giá của ngôi nhà bằng khoảng 0.9-1 số tiền người mua hiện có', 'rule_expression_backup': 'houseInfo.get(\"price\") >= 0.8 * buyerInfo.get(\"avai_amt\")'}\n",
      "score: 0\n",
      "{'rule_group': 'B', 'rule_code': 'B2', 'score': 0.8, 'rule_expression': '( buyerInfo.get(\"avai_amt\")  >= 0.75 * houseInfo.get(\"price\") and houseInfo.get(\"price\") > buyerInfo.get(\"avai_amt\") ) and ( (buyerInfo.get(\"avai_amt\") + 12* buyerInfo.get(\"monthly_amt\")) >= houseInfo.get(\"price\"))', 'rule_desc': 'Nếu người mua có sẵn 0.75 giá trị ngôi nhà, và người mua có khả năng trả góp trong 12 tháng', 'rule_expression_backup': nan}\n",
      "score: 0\n",
      "{'rule_group': 'B', 'rule_code': 'B3', 'score': 0.6, 'rule_expression': '( buyerInfo.get(\"avai_amt\")  >= 0.5 * houseInfo.get(\"price\") and houseInfo.get(\"price\") > buyerInfo.get(\"avai_amt\") ) and ( (buyerInfo.get(\"avai_amt\") + 24* buyerInfo.get(\"monthly_amt\")) >= houseInfo.get(\"price\"))', 'rule_desc': 'Nếu người mua có sẵn 0.5 giá trị ngôi nhà, và người mua có khả năng trả góp trong 24 tháng', 'rule_expression_backup': 'houseInfo.get(\"price\") >= 0.5 * buyerInfo.get(\"avai_amt\") and ( (0.5 * buyerInfo.get(\"avai_amt\") + 24* buyerInfo.get(\"monthly_amt\")) >= houseInfo.get(\"price\"))'}\n",
      "score: 0\n",
      "{'rule_group': 'B', 'rule_code': 'B4', 'score': 0.5, 'rule_expression': '( buyerInfo.get(\"avai_amt\")  >= 0.5 * houseInfo.get(\"price\") and houseInfo.get(\"price\") > buyerInfo.get(\"avai_amt\") ) and ( (buyerInfo.get(\"avai_amt\") + 60* buyerInfo.get(\"monthly_amt\")) >= houseInfo.get(\"price\"))', 'rule_desc': 'Nếu người mua có sẵn 0.5 giá trị ngôi nhà, và người mua có khả năng trả góp trong 60 tháng (5 năm)', 'rule_expression_backup': nan}\n",
      "score: 0\n",
      "{'rule_group': 'B', 'rule_code': 'B5', 'score': 1.0, 'rule_expression': 'getValue(buyerInfo.get(\"group\",  0))  == 4 and ( houseInfo.get(\"price\") >= 0.8 * buyerInfo.get(\"avai_amt\") and houseInfo.get(\"price\") <= buyerInfo.get(\"avai_amt\")*1.2 )', 'rule_desc': 'Nếu người mua thuộc nhóm 4, ngôi nhà trong khoảng 0.8-1.2 số tiền sẵn có', 'rule_expression_backup': nan}\n",
      "score: 0\n",
      "{'rule_group': 'B', 'rule_code': 'B6', 'score': 0.0, 'rule_expression': 'getValue(buyerInfo.get(\"group\",  0))  == 4 and ( houseInfo.get(\"price\") < 0.8 * buyerInfo.get(\"avai_amt\") and houseInfo.get(\"price\") > buyerInfo.get(\"avai_amt\")*1.2 )', 'rule_desc': 'Nếu người mua thuộc nhóm 4, ngôi nhà nhỏ hơn 0.8 hoặc lớn hơn 1.2 số tiền sẵn có', 'rule_expression_backup': nan}\n",
      "score: 0\n",
      "\tCode of group C  | Group condition: isValidInput( buyerInfo.get(\"desired_location\") ) and isValidInput( houseInfo.get(\"address_district\") )\n",
      "{'rule_group': 'C', 'rule_code': 'C1', 'score': 1.0, 'rule_expression': 'fn_calculateDistance(houseInfo.get(\"address_district\"), buyerInfo.get(\"desired_location\")) <= 2', 'rule_desc': 'Nếu trong phạm vi 2km', 'rule_expression_backup': nan}\n",
      "score: 0\n",
      "{'rule_group': 'C', 'rule_code': 'C2', 'score': 0.8, 'rule_expression': 'fn_calculateDistance(houseInfo.get(\"address_district\"), buyerInfo.get(\"desired_location\")) <= 4', 'rule_desc': nan, 'rule_expression_backup': nan}\n",
      "score: 0.8\n",
      "{'rule_group': 'C', 'rule_code': 'C3', 'score': 0.5, 'rule_expression': 'fn_calculateDistance(houseInfo.get(\"address_district\"), buyerInfo.get(\"desired_location\")) <= 6', 'rule_desc': nan, 'rule_expression_backup': nan}\n",
      "score: 0.5\n",
      "\tCode of group D  | Group condition: 1==1\n",
      "{'rule_group': 'D', 'rule_code': 'D1', 'score': 1.0, 'rule_expression': 'isGoodLegalStatus(houseInfo.get(\"legal_status\"))', 'rule_desc': 'Có giấy tờ', 'rule_expression_backup': 'houseInfo.get(\"legal_status\") in [\\'Sổ hồng\\', \\'Sổ đỏ\\']'}\n",
      "score: 1.0\n",
      "{'rule_group': 'D', 'rule_code': 'D2', 'score': 0.2, 'rule_expression': 'isGoodLegalStatus(houseInfo.get(\"legal_status\")) is not True and getValue(buyerInfo.get(\"group\",  0)) in (1, 3,4)', 'rule_desc': 'K giấy tờ và người mua có nhóm thuộc (1,3,4)', 'rule_expression_backup': nan}\n",
      "score: 0\n",
      "{'rule_group': 'D', 'rule_code': 'D3', 'score': 0.4, 'rule_expression': 'isGoodLegalStatus(houseInfo.get(\"legal_status\")) is not True and getValue(buyerInfo.get(\"group\",  0)) not in (1, 3,4)', 'rule_desc': 'Các trường hợp k giấy tờ còn lại', 'rule_expression_backup': nan}\n",
      "score: 0\n",
      "REPORT:\n",
      "Total calculated Score:  14.1\n",
      "Max Score from Groups:  26.0\n",
      "{'meta_url': 'https://rever.vn/mua/nha-pho-duong-tran-phu-2-tang-dien-tich-29-6m2-huong-dong-phap-ly-so-hong', 'meta_code': 'T05145909', 'address_street': 'Trần Phú', 'address_ward': 'Phường 9', 'address_district': 'Quận 5', 'address_city': 'Hồ Chí Minh', 'price': 3700000000.0, 'area': 29.6, 'area_site': 29.6, 'area_basebuilt': 29.6, 'area_netused': 29.6, 'area_yard': nan, 'area_length': nan, 'area_width': nan, 'area_front': nan, 'house_noFloor': 2, 'house_type': 'Nhà phố', 'house_noBasement': 0, 'house_direction': 'Đông', 'in_room_noBed': 2, 'in_room_noBath': 2, 'in_room_noKitchen': nan, 'in_room_noRelax': nan, 'in_room_others': nan, 'in_interiorStatus': 'Nội thất cơ bản', 'prj_name': nan, 'prj_investor': nan, 'prj_status': nan, 'prj_tower': nan, 'legal_status': 'Sổ hồng', 'other_overview': nan, 'other_good_outstandingCharacteristics': nan, 'other_good_locationDesc': nan, 'other_good_community': nan, 'other_good_education': nan, 'overall_info': 'NHÀ PHỐ TRẦN PHÚ, QUẬN 5\\nDiện tích: 29.6m² ( 10m x 3m )\\nDiện tích sử dụng: 29.6m²\\nKết cấu: 2 tầng (trệt +lầu) 2 phòng ngủ 2 phòng tắm\\nHướng đông\\nNội thất cơ bản\\nPháp lý: sổ hồng\\n\\nNhà phố có vị trí cách Trường Đại học Sài Gòn 0.8 km, cách Trường Đại học Sư phạm Thể dục Thể thao Thành phố Hồ Chí Minh 1.4 km,...\\nTọa lạc tại vị trí thuận tiện di chuyển với đầy đủ các tiện ích về y tế, giáo dục và giải trí: Bệnh viện Chợ Rẫy 1.6 km, Hoàng Yến Buffet 2.0 km, Dottie Nguyễn Trãi Q1 2.0 km'}\n",
      "{'executedRuleGroup': [{'groupCode': 'A', 'groupCondition': 'isValidInput( buyerInfo.get(\"group\") )  and isValidInput( buyerInfo.get(\"is_married\") )  and isValidInput( buyerInfo.get(\"no_child\") )  and isValidInput(houseInfo.get(\"in_room_noBed\") )', 'groupScore': 3.0, 'rule_group': 'A', 'rule_code': 'A1', 'score': 0.7, 'rule_expression': '(getValue(buyerInfo.get(\"group\",  0))  == 1 or (buyerInfo.get(\"is_married\")  == False and buyerInfo.get(\"no_child\") == 0 )) and houseInfo.get(\"in_room_noBed\")  in (1, 2)', 'rule_desc': 'Nếu không có gia đình VÀ không có con (KH nhóm 1) VÀ số phòng ngủ của căn nhà là (1,2)', 'rule_expression_backup': '(getValue(buyerInfo.get(\"group\",  0))  == 1 or (buyerInfo.get(\"is_married\")  == False and buyerInfo.get(\"no_child\") == 0 )) and houseInfo.get(\"no_bedroom\")  in (1, 2)', 'calRuleScore': 2.0999999999999996}, {'groupCode': 'B', 'groupCondition': 'buyerInfo.get(\"avai_amt\") is not None and buyerInfo.get(\"monthly_amt\") is not None', 'groupScore': 10.0, 'calRuleScore': 0.0}, {'groupCode': 'C', 'groupCondition': 'isValidInput( buyerInfo.get(\"desired_location\") ) and isValidInput( houseInfo.get(\"address_district\") )', 'groupScore': 5.0, 'rule_group': 'C', 'rule_code': 'C2', 'score': 0.8, 'rule_expression': 'fn_calculateDistance(houseInfo.get(\"address_district\"), buyerInfo.get(\"desired_location\")) <= 4', 'rule_desc': nan, 'rule_expression_backup': nan, 'calRuleScore': 4.0}, {'groupCode': 'D', 'groupCondition': '1==1', 'groupScore': 8.0, 'rule_group': 'D', 'rule_code': 'D1', 'score': 1.0, 'rule_expression': 'isGoodLegalStatus(houseInfo.get(\"legal_status\"))', 'rule_desc': 'Có giấy tờ', 'rule_expression_backup': 'houseInfo.get(\"legal_status\") in [\\'Sổ hồng\\', \\'Sổ đỏ\\']', 'calRuleScore': 8.0}], 'houseInfo': {'meta_url': 'https://rever.vn/mua/nha-pho-duong-tran-phu-2-tang-dien-tich-29-6m2-huong-dong-phap-ly-so-hong', 'meta_code': 'T05145909', 'address_street': 'Trần Phú', 'address_ward': 'Phường 9', 'address_district': 'Quận 5', 'address_city': 'Hồ Chí Minh', 'price': 3700000000.0, 'area': 29.6, 'area_site': 29.6, 'area_basebuilt': 29.6, 'area_netused': 29.6, 'area_yard': nan, 'area_length': nan, 'area_width': nan, 'area_front': nan, 'house_noFloor': 2, 'house_type': 'Nhà phố', 'house_noBasement': 0, 'house_direction': 'Đông', 'in_room_noBed': 2, 'in_room_noBath': 2, 'in_room_noKitchen': nan, 'in_room_noRelax': nan, 'in_room_others': nan, 'in_interiorStatus': 'Nội thất cơ bản', 'prj_name': nan, 'prj_investor': nan, 'prj_status': nan, 'prj_tower': nan, 'legal_status': 'Sổ hồng', 'other_overview': nan, 'other_good_outstandingCharacteristics': nan, 'other_good_locationDesc': nan, 'other_good_community': nan, 'other_good_education': nan, 'overall_info': 'NHÀ PHỐ TRẦN PHÚ, QUẬN 5\\nDiện tích: 29.6m² ( 10m x 3m )\\nDiện tích sử dụng: 29.6m²\\nKết cấu: 2 tầng (trệt +lầu) 2 phòng ngủ 2 phòng tắm\\nHướng đông\\nNội thất cơ bản\\nPháp lý: sổ hồng\\n\\nNhà phố có vị trí cách Trường Đại học Sài Gòn 0.8 km, cách Trường Đại học Sư phạm Thể dục Thể thao Thành phố Hồ Chí Minh 1.4 km,...\\nTọa lạc tại vị trí thuận tiện di chuyển với đầy đủ các tiện ích về y tế, giáo dục và giải trí: Bệnh viện Chợ Rẫy 1.6 km, Hoàng Yến Buffet 2.0 km, Dottie Nguyễn Trãi Q1 2.0 km'}, 'maxScore': 26.0, 'houseScore': 14.1, 'housePerformance': 54.23, 'buyerInfo': {'id': 'x2', 'group': 1.0, 'age': 30.0, 'is_married': 0.0, 'no_child': 0.0, 'month_income': 70000000.0, 'monthly_amt': 50000000.0, 'avai_amt': 10000000000.0, 'desired_location': 'Quận 3', 'desired_interiorStatus': nan}, 'id': 'x2', 'group': 1.0, 'age': 30.0, 'is_married': 0.0, 'no_child': 0.0, 'month_income': 70000000.0, 'monthly_amt': 50000000.0, 'avai_amt': 10000000000.0, 'desired_location': 'Quận 3', 'desired_interiorStatus': nan, 'meta_url': 'https://rever.vn/mua/nha-pho-duong-tran-phu-2-tang-dien-tich-29-6m2-huong-dong-phap-ly-so-hong', 'meta_code': 'T05145909', 'address_street': 'Trần Phú', 'address_ward': 'Phường 9', 'address_district': 'Quận 5', 'address_city': 'Hồ Chí Minh', 'price': 3700000000.0, 'area': 29.6, 'area_site': 29.6, 'area_basebuilt': 29.6, 'area_netused': 29.6, 'area_yard': nan, 'area_length': nan, 'area_width': nan, 'area_front': nan, 'house_noFloor': 2, 'house_type': 'Nhà phố', 'house_noBasement': 0, 'house_direction': 'Đông', 'in_room_noBed': 2, 'in_room_noBath': 2, 'in_room_noKitchen': nan, 'in_room_noRelax': nan, 'in_room_others': nan, 'in_interiorStatus': 'Nội thất cơ bản', 'prj_name': nan, 'prj_investor': nan, 'prj_status': nan, 'prj_tower': nan, 'legal_status': 'Sổ hồng', 'other_overview': nan, 'other_good_outstandingCharacteristics': nan, 'other_good_locationDesc': nan, 'other_good_community': nan, 'other_good_education': nan, 'overall_info': 'NHÀ PHỐ TRẦN PHÚ, QUẬN 5\\nDiện tích: 29.6m² ( 10m x 3m )\\nDiện tích sử dụng: 29.6m²\\nKết cấu: 2 tầng (trệt +lầu) 2 phòng ngủ 2 phòng tắm\\nHướng đông\\nNội thất cơ bản\\nPháp lý: sổ hồng\\n\\nNhà phố có vị trí cách Trường Đại học Sài Gòn 0.8 km, cách Trường Đại học Sư phạm Thể dục Thể thao Thành phố Hồ Chí Minh 1.4 km,...\\nTọa lạc tại vị trí thuận tiện di chuyển với đầy đủ các tiện ích về y tế, giáo dục và giải trí: Bệnh viện Chợ Rẫy 1.6 km, Hoàng Yến Buffet 2.0 km, Dottie Nguyễn Trãi Q1 2.0 km'}\n",
      "-------------\n",
      "\n",
      "\tCode of group A  | Group condition: isValidInput( buyerInfo.get(\"group\") )  and isValidInput( buyerInfo.get(\"is_married\") )  and isValidInput( buyerInfo.get(\"no_child\") )  and isValidInput(houseInfo.get(\"in_room_noBed\") )\n",
      "{'rule_group': 'A', 'rule_code': 'A1', 'score': 0.7, 'rule_expression': '(getValue(buyerInfo.get(\"group\",  0))  == 1 or (buyerInfo.get(\"is_married\")  == False and buyerInfo.get(\"no_child\") == 0 )) and houseInfo.get(\"in_room_noBed\")  in (1, 2)', 'rule_desc': 'Nếu không có gia đình VÀ không có con (KH nhóm 1) VÀ số phòng ngủ của căn nhà là (1,2)', 'rule_expression_backup': '(getValue(buyerInfo.get(\"group\",  0))  == 1 or (buyerInfo.get(\"is_married\")  == False and buyerInfo.get(\"no_child\") == 0 )) and houseInfo.get(\"no_bedroom\")  in (1, 2)'}\n",
      "score: 0\n",
      "{'rule_group': 'A', 'rule_code': 'A2', 'score': 0.6, 'rule_expression': '(getValue(buyerInfo.get(\"group\",  0))  == 1 or (buyerInfo.get(\"is_married\")  == False and buyerInfo.get(\"no_child\") == 0 )) and houseInfo.get(\"in_room_noBed\")  in (2,3,4)', 'rule_desc': 'Nếu không có gia đình VÀ không có con (KH nhóm 1) VÀ số phòng ngủ của căn nhà là 3', 'rule_expression_backup': '(getValue(buyerInfo.get(\"group\",  0))  == 1 or (buyerInfo.get(\"is_married\")  == False and buyerInfo.get(\"no_child\") == 0 )) and houseInfo.get(\"no_bedroom\")  >= 3'}\n",
      "score: 0.6\n",
      "{'rule_group': 'A', 'rule_code': 'A3', 'score': 0.8, 'rule_expression': '( getValue(buyerInfo.get(\"group\",  0))  == 2 or buyerInfo.get(\"is_married\")  == True ) and buyerInfo.get(\"no_child\") in ( 0, 1) and houseInfo.get(\"in_room_noBed\")  in (2, 3,4)', 'rule_desc': 'Nếu có gia đình VÀ số con là (0, 1) (KH nhóm 2) VÀ số phòng ngủ của căn nhà là (2,3)', 'rule_expression_backup': '( getValue(buyerInfo.get(\"group\",  0))  == 2 or buyerInfo.get(\"is_married\")  == True ) and buyerInfo.get(\"no_child\") in ( 0, 1) and houseInfo.get(\"no_bedroom\")  in (2, 3)'}\n",
      "score: 0\n",
      "{'rule_group': 'A', 'rule_code': 'A4', 'score': 0.6, 'rule_expression': '( getValue(buyerInfo.get(\"group\",  0))  == 2 or buyerInfo.get(\"is_married\")  == True ) and buyerInfo.get(\"no_child\") in ( 0, 1) and houseInfo.get(\"in_room_noBed\")  == 1', 'rule_desc': 'Nếu có gia đình VÀ số con là (0, 1) (KH nhóm 2) VÀ số phòng ngủ của căn nhà là 1', 'rule_expression_backup': '( getValue(buyerInfo.get(\"group\",  0))  == 2 or buyerInfo.get(\"is_married\")  == True ) and buyerInfo.get(\"no_child\") in ( 0, 1) and houseInfo.get(\"no_bedroom\")  == 1'}\n",
      "score: 0\n",
      "{'rule_group': 'A', 'rule_code': 'A5', 'score': 0.5, 'rule_expression': '( getValue(buyerInfo.get(\"group\",  0))  == 2 or buyerInfo.get(\"is_married\")  == True ) and buyerInfo.get(\"no_child\") == 2\\xa0and houseInfo.get(\"in_room_noBed\")  == 2', 'rule_desc': 'Nếu có gia đình VÀ số con là 2 (KH nhóm 2) VÀ số phòng ngủ của căn nhà là 2', 'rule_expression_backup': '( getValue(buyerInfo.get(\"group\",  0))  == 2 or buyerInfo.get(\"is_married\")  == True ) and buyerInfo.get(\"no_child\") == 2\\xa0and houseInfo.get(\"no_bedroom\")  == 2'}\n",
      "score: 0\n",
      "{'rule_group': 'A', 'rule_code': 'A6', 'score': 1.0, 'rule_expression': '( getValue(buyerInfo.get(\"group\",  0))  == 2 or buyerInfo.get(\"is_married\")  == True )  and buyerInfo.get(\"no_child\") == 2 and houseInfo.get(\"in_room_noBed\")  in ( 3,4,5)', 'rule_desc': 'Nếu có gia đình VÀ số con là 2 (KH nhóm 2) VÀ số phòng ngủ của căn nhà là 3', 'rule_expression_backup': '( getValue(buyerInfo.get(\"group\",  0))  == 2 or buyerInfo.get(\"is_married\")  == True )  and buyerInfo.get(\"no_child\") == 2 and houseInfo.get(\"no_bedroom\")  >= 3'}\n",
      "score: 0\n",
      "{'rule_group': 'A', 'rule_code': 'A7', 'score': 0.6, 'rule_expression': 'getValue(buyerInfo.get(\"group\",  0))  == 4 and houseInfo.get(\"in_room_noBed\")  == 1', 'rule_desc': 'Nếu KH nhóm 4 VÀ số phòng ngủ là 1', 'rule_expression_backup': 'getValue(buyerInfo.get(\"group\",  0))  == 4 and houseInfo.get(\"no_bedroom\")  == 1'}\n",
      "score: 0\n",
      "{'rule_group': 'A', 'rule_code': 'A8', 'score': 1.0, 'rule_expression': 'getValue(buyerInfo.get(\"group\",  0))  == 4 and houseInfo.get(\"in_room_noBed\")  in (2, 3,4)', 'rule_desc': 'Nếu KH nhóm 4 VÀ số phòng ngủ từ 2', 'rule_expression_backup': 'getValue(buyerInfo.get(\"group\",  0))  == 4 and houseInfo.get(\"no_bedroom\")  >= 2'}\n",
      "score: 0\n",
      "\tCode of group B  | Group condition: buyerInfo.get(\"avai_amt\") is not None and buyerInfo.get(\"monthly_amt\") is not None\n",
      "{'rule_group': 'B', 'rule_code': 'B1', 'score': 1.0, 'rule_expression': 'houseInfo.get(\"price\") >= 0.9 * buyerInfo.get(\"avai_amt\") and houseInfo.get(\"price\") <= buyerInfo.get(\"avai_amt\")', 'rule_desc': 'Nếu giá của ngôi nhà bằng khoảng 0.9-1 số tiền người mua hiện có', 'rule_expression_backup': 'houseInfo.get(\"price\") >= 0.8 * buyerInfo.get(\"avai_amt\")'}\n",
      "score: 0\n",
      "{'rule_group': 'B', 'rule_code': 'B2', 'score': 0.8, 'rule_expression': '( buyerInfo.get(\"avai_amt\")  >= 0.75 * houseInfo.get(\"price\") and houseInfo.get(\"price\") > buyerInfo.get(\"avai_amt\") ) and ( (buyerInfo.get(\"avai_amt\") + 12* buyerInfo.get(\"monthly_amt\")) >= houseInfo.get(\"price\"))', 'rule_desc': 'Nếu người mua có sẵn 0.75 giá trị ngôi nhà, và người mua có khả năng trả góp trong 12 tháng', 'rule_expression_backup': nan}\n",
      "score: 0\n",
      "{'rule_group': 'B', 'rule_code': 'B3', 'score': 0.6, 'rule_expression': '( buyerInfo.get(\"avai_amt\")  >= 0.5 * houseInfo.get(\"price\") and houseInfo.get(\"price\") > buyerInfo.get(\"avai_amt\") ) and ( (buyerInfo.get(\"avai_amt\") + 24* buyerInfo.get(\"monthly_amt\")) >= houseInfo.get(\"price\"))', 'rule_desc': 'Nếu người mua có sẵn 0.5 giá trị ngôi nhà, và người mua có khả năng trả góp trong 24 tháng', 'rule_expression_backup': 'houseInfo.get(\"price\") >= 0.5 * buyerInfo.get(\"avai_amt\") and ( (0.5 * buyerInfo.get(\"avai_amt\") + 24* buyerInfo.get(\"monthly_amt\")) >= houseInfo.get(\"price\"))'}\n",
      "score: 0\n",
      "{'rule_group': 'B', 'rule_code': 'B4', 'score': 0.5, 'rule_expression': '( buyerInfo.get(\"avai_amt\")  >= 0.5 * houseInfo.get(\"price\") and houseInfo.get(\"price\") > buyerInfo.get(\"avai_amt\") ) and ( (buyerInfo.get(\"avai_amt\") + 60* buyerInfo.get(\"monthly_amt\")) >= houseInfo.get(\"price\"))', 'rule_desc': 'Nếu người mua có sẵn 0.5 giá trị ngôi nhà, và người mua có khả năng trả góp trong 60 tháng (5 năm)', 'rule_expression_backup': nan}\n",
      "score: 0\n",
      "{'rule_group': 'B', 'rule_code': 'B5', 'score': 1.0, 'rule_expression': 'getValue(buyerInfo.get(\"group\",  0))  == 4 and ( houseInfo.get(\"price\") >= 0.8 * buyerInfo.get(\"avai_amt\") and houseInfo.get(\"price\") <= buyerInfo.get(\"avai_amt\")*1.2 )', 'rule_desc': 'Nếu người mua thuộc nhóm 4, ngôi nhà trong khoảng 0.8-1.2 số tiền sẵn có', 'rule_expression_backup': nan}\n",
      "score: 0\n",
      "{'rule_group': 'B', 'rule_code': 'B6', 'score': 0.0, 'rule_expression': 'getValue(buyerInfo.get(\"group\",  0))  == 4 and ( houseInfo.get(\"price\") < 0.8 * buyerInfo.get(\"avai_amt\") and houseInfo.get(\"price\") > buyerInfo.get(\"avai_amt\")*1.2 )', 'rule_desc': 'Nếu người mua thuộc nhóm 4, ngôi nhà nhỏ hơn 0.8 hoặc lớn hơn 1.2 số tiền sẵn có', 'rule_expression_backup': nan}\n",
      "score: 0\n",
      "\tCode of group C  | Group condition: isValidInput( buyerInfo.get(\"desired_location\") ) and isValidInput( houseInfo.get(\"address_district\") )\n",
      "{'rule_group': 'C', 'rule_code': 'C1', 'score': 1.0, 'rule_expression': 'fn_calculateDistance(houseInfo.get(\"address_district\"), buyerInfo.get(\"desired_location\")) <= 2', 'rule_desc': 'Nếu trong phạm vi 2km', 'rule_expression_backup': nan}\n",
      "score: 0\n",
      "{'rule_group': 'C', 'rule_code': 'C2', 'score': 0.8, 'rule_expression': 'fn_calculateDistance(houseInfo.get(\"address_district\"), buyerInfo.get(\"desired_location\")) <= 4', 'rule_desc': nan, 'rule_expression_backup': nan}\n",
      "score: 0.8\n",
      "{'rule_group': 'C', 'rule_code': 'C3', 'score': 0.5, 'rule_expression': 'fn_calculateDistance(houseInfo.get(\"address_district\"), buyerInfo.get(\"desired_location\")) <= 6', 'rule_desc': nan, 'rule_expression_backup': nan}\n",
      "score: 0.5\n",
      "\tCode of group D  | Group condition: 1==1\n",
      "{'rule_group': 'D', 'rule_code': 'D1', 'score': 1.0, 'rule_expression': 'isGoodLegalStatus(houseInfo.get(\"legal_status\"))', 'rule_desc': 'Có giấy tờ', 'rule_expression_backup': 'houseInfo.get(\"legal_status\") in [\\'Sổ hồng\\', \\'Sổ đỏ\\']'}\n",
      "score: 1.0\n",
      "{'rule_group': 'D', 'rule_code': 'D2', 'score': 0.2, 'rule_expression': 'isGoodLegalStatus(houseInfo.get(\"legal_status\")) is not True and getValue(buyerInfo.get(\"group\",  0)) in (1, 3,4)', 'rule_desc': 'K giấy tờ và người mua có nhóm thuộc (1,3,4)', 'rule_expression_backup': nan}\n",
      "score: 0\n",
      "{'rule_group': 'D', 'rule_code': 'D3', 'score': 0.4, 'rule_expression': 'isGoodLegalStatus(houseInfo.get(\"legal_status\")) is not True and getValue(buyerInfo.get(\"group\",  0)) not in (1, 3,4)', 'rule_desc': 'Các trường hợp k giấy tờ còn lại', 'rule_expression_backup': nan}\n",
      "score: 0\n",
      "REPORT:\n",
      "Total calculated Score:  13.8\n",
      "Max Score from Groups:  26.0\n",
      "{'meta_url': 'https://rever.vn/mua/nha-pho-thiet-ke-1-tret-1-lung-2-lau-va-san-thuong-cua-huong-bac-mat-me', 'meta_code': 'T04107483', 'address_street': 'Đoàn Văn Bơ', 'address_ward': 'Phường 16', 'address_district': 'Quận 4', 'address_city': 'Hồ Chí Minh', 'price': 4800000000.0, 'area': 32.0, 'area_site': 32.0, 'area_basebuilt': 31.9, 'area_netused': 120.0, 'area_yard': nan, 'area_length': nan, 'area_width': nan, 'area_front': nan, 'house_noFloor': 3, 'house_type': 'Nhà phố', 'house_noBasement': 0, 'house_direction': 'Bắc', 'in_room_noBed': 3, 'in_room_noBath': 3, 'in_room_noKitchen': nan, 'in_room_noRelax': nan, 'in_room_others': nan, 'in_interiorStatus': 'Nội thất cơ bản', 'prj_name': nan, 'prj_investor': nan, 'prj_status': nan, 'prj_tower': nan, 'legal_status': 'Sổ hồng', 'other_overview': nan, 'other_good_outstandingCharacteristics': 'Nhà có cửa hướng Bắc, đường rộng và thông thoáng. Sổ hồng riêng, pháp lý minh bạch rõ ràng bàn giao ngay cho khách có thiện chí.', 'other_good_locationDesc': 'Vị trí nhà hẻm Quận 4 gần Chợ 200 Xóm Chiếu với nhiều hàng quán nhộn nhịp, cách 200m là Nhà thờ Xóm Chiếu. Xung quanh nhà đã hiện hữu đầy đủ tiện ích - dịch vụ cần thiết cho cuộc sống.', 'other_good_community': 'Cộng đồng dân cư văn minh, hiện đại, thân thiện.', 'other_good_education': 'TH Đinh Bộ Lĩnh, TH Nguyễn Trường Tộ, THCS Quang Trung, THPT Nguyễn Trãi, ĐH Nguyễn Tất Thành, ĐH Luật TP.HCM', 'overall_info': 'BÁN NHÀ PHỐ ĐƯỜNG ĐOÀN VĂN BƠ, QUẬN 4\\n- Diện tích 32m2 (5.8m x 5.5m)\\n- Diện tích sử dụng: 120m2. \\n- Kết cấu căn nhà gồm: 1 trệt, 1 lửng, 2 lầu và sân thượng gồm 3 phòng ngủ và 3 phòng tắm. Nhà có nội thất cơ bản.\\n- Nhà có cửa hướng Bắc, đường rộng và thông thoáng.\\nSổ hồng riêng, pháp lý minh bạch rõ ràng bàn giao ngay cho khách có thiện chí.\\n\\nVị trí nhà hẻm Quận 4 gần Chợ 200 Xóm Chiếu với nhiều hàng quán nhộn nhịp, cách 200m là Nhà thờ Xóm Chiếu. Xung quanh nhà đã hiện hữu đầy đủ tiện ích - dịch vụ cần thiết cho cuộc sống.'}\n",
      "{'executedRuleGroup': [{'groupCode': 'A', 'groupCondition': 'isValidInput( buyerInfo.get(\"group\") )  and isValidInput( buyerInfo.get(\"is_married\") )  and isValidInput( buyerInfo.get(\"no_child\") )  and isValidInput(houseInfo.get(\"in_room_noBed\") )', 'groupScore': 3.0, 'rule_group': 'A', 'rule_code': 'A2', 'score': 0.6, 'rule_expression': '(getValue(buyerInfo.get(\"group\",  0))  == 1 or (buyerInfo.get(\"is_married\")  == False and buyerInfo.get(\"no_child\") == 0 )) and houseInfo.get(\"in_room_noBed\")  in (2,3,4)', 'rule_desc': 'Nếu không có gia đình VÀ không có con (KH nhóm 1) VÀ số phòng ngủ của căn nhà là 3', 'rule_expression_backup': '(getValue(buyerInfo.get(\"group\",  0))  == 1 or (buyerInfo.get(\"is_married\")  == False and buyerInfo.get(\"no_child\") == 0 )) and houseInfo.get(\"no_bedroom\")  >= 3', 'calRuleScore': 1.7999999999999998}, {'groupCode': 'B', 'groupCondition': 'buyerInfo.get(\"avai_amt\") is not None and buyerInfo.get(\"monthly_amt\") is not None', 'groupScore': 10.0, 'calRuleScore': 0.0}, {'groupCode': 'C', 'groupCondition': 'isValidInput( buyerInfo.get(\"desired_location\") ) and isValidInput( houseInfo.get(\"address_district\") )', 'groupScore': 5.0, 'rule_group': 'C', 'rule_code': 'C2', 'score': 0.8, 'rule_expression': 'fn_calculateDistance(houseInfo.get(\"address_district\"), buyerInfo.get(\"desired_location\")) <= 4', 'rule_desc': nan, 'rule_expression_backup': nan, 'calRuleScore': 4.0}, {'groupCode': 'D', 'groupCondition': '1==1', 'groupScore': 8.0, 'rule_group': 'D', 'rule_code': 'D1', 'score': 1.0, 'rule_expression': 'isGoodLegalStatus(houseInfo.get(\"legal_status\"))', 'rule_desc': 'Có giấy tờ', 'rule_expression_backup': 'houseInfo.get(\"legal_status\") in [\\'Sổ hồng\\', \\'Sổ đỏ\\']', 'calRuleScore': 8.0}], 'houseInfo': {'meta_url': 'https://rever.vn/mua/nha-pho-thiet-ke-1-tret-1-lung-2-lau-va-san-thuong-cua-huong-bac-mat-me', 'meta_code': 'T04107483', 'address_street': 'Đoàn Văn Bơ', 'address_ward': 'Phường 16', 'address_district': 'Quận 4', 'address_city': 'Hồ Chí Minh', 'price': 4800000000.0, 'area': 32.0, 'area_site': 32.0, 'area_basebuilt': 31.9, 'area_netused': 120.0, 'area_yard': nan, 'area_length': nan, 'area_width': nan, 'area_front': nan, 'house_noFloor': 3, 'house_type': 'Nhà phố', 'house_noBasement': 0, 'house_direction': 'Bắc', 'in_room_noBed': 3, 'in_room_noBath': 3, 'in_room_noKitchen': nan, 'in_room_noRelax': nan, 'in_room_others': nan, 'in_interiorStatus': 'Nội thất cơ bản', 'prj_name': nan, 'prj_investor': nan, 'prj_status': nan, 'prj_tower': nan, 'legal_status': 'Sổ hồng', 'other_overview': nan, 'other_good_outstandingCharacteristics': 'Nhà có cửa hướng Bắc, đường rộng và thông thoáng. Sổ hồng riêng, pháp lý minh bạch rõ ràng bàn giao ngay cho khách có thiện chí.', 'other_good_locationDesc': 'Vị trí nhà hẻm Quận 4 gần Chợ 200 Xóm Chiếu với nhiều hàng quán nhộn nhịp, cách 200m là Nhà thờ Xóm Chiếu. Xung quanh nhà đã hiện hữu đầy đủ tiện ích - dịch vụ cần thiết cho cuộc sống.', 'other_good_community': 'Cộng đồng dân cư văn minh, hiện đại, thân thiện.', 'other_good_education': 'TH Đinh Bộ Lĩnh, TH Nguyễn Trường Tộ, THCS Quang Trung, THPT Nguyễn Trãi, ĐH Nguyễn Tất Thành, ĐH Luật TP.HCM', 'overall_info': 'BÁN NHÀ PHỐ ĐƯỜNG ĐOÀN VĂN BƠ, QUẬN 4\\n- Diện tích 32m2 (5.8m x 5.5m)\\n- Diện tích sử dụng: 120m2. \\n- Kết cấu căn nhà gồm: 1 trệt, 1 lửng, 2 lầu và sân thượng gồm 3 phòng ngủ và 3 phòng tắm. Nhà có nội thất cơ bản.\\n- Nhà có cửa hướng Bắc, đường rộng và thông thoáng.\\nSổ hồng riêng, pháp lý minh bạch rõ ràng bàn giao ngay cho khách có thiện chí.\\n\\nVị trí nhà hẻm Quận 4 gần Chợ 200 Xóm Chiếu với nhiều hàng quán nhộn nhịp, cách 200m là Nhà thờ Xóm Chiếu. Xung quanh nhà đã hiện hữu đầy đủ tiện ích - dịch vụ cần thiết cho cuộc sống.'}, 'maxScore': 26.0, 'houseScore': 13.8, 'housePerformance': 53.08, 'buyerInfo': {'id': 'x2', 'group': 1.0, 'age': 30.0, 'is_married': 0.0, 'no_child': 0.0, 'month_income': 70000000.0, 'monthly_amt': 50000000.0, 'avai_amt': 10000000000.0, 'desired_location': 'Quận 3', 'desired_interiorStatus': nan}, 'id': 'x2', 'group': 1.0, 'age': 30.0, 'is_married': 0.0, 'no_child': 0.0, 'month_income': 70000000.0, 'monthly_amt': 50000000.0, 'avai_amt': 10000000000.0, 'desired_location': 'Quận 3', 'desired_interiorStatus': nan, 'meta_url': 'https://rever.vn/mua/nha-pho-thiet-ke-1-tret-1-lung-2-lau-va-san-thuong-cua-huong-bac-mat-me', 'meta_code': 'T04107483', 'address_street': 'Đoàn Văn Bơ', 'address_ward': 'Phường 16', 'address_district': 'Quận 4', 'address_city': 'Hồ Chí Minh', 'price': 4800000000.0, 'area': 32.0, 'area_site': 32.0, 'area_basebuilt': 31.9, 'area_netused': 120.0, 'area_yard': nan, 'area_length': nan, 'area_width': nan, 'area_front': nan, 'house_noFloor': 3, 'house_type': 'Nhà phố', 'house_noBasement': 0, 'house_direction': 'Bắc', 'in_room_noBed': 3, 'in_room_noBath': 3, 'in_room_noKitchen': nan, 'in_room_noRelax': nan, 'in_room_others': nan, 'in_interiorStatus': 'Nội thất cơ bản', 'prj_name': nan, 'prj_investor': nan, 'prj_status': nan, 'prj_tower': nan, 'legal_status': 'Sổ hồng', 'other_overview': nan, 'other_good_outstandingCharacteristics': 'Nhà có cửa hướng Bắc, đường rộng và thông thoáng. Sổ hồng riêng, pháp lý minh bạch rõ ràng bàn giao ngay cho khách có thiện chí.', 'other_good_locationDesc': 'Vị trí nhà hẻm Quận 4 gần Chợ 200 Xóm Chiếu với nhiều hàng quán nhộn nhịp, cách 200m là Nhà thờ Xóm Chiếu. Xung quanh nhà đã hiện hữu đầy đủ tiện ích - dịch vụ cần thiết cho cuộc sống.', 'other_good_community': 'Cộng đồng dân cư văn minh, hiện đại, thân thiện.', 'other_good_education': 'TH Đinh Bộ Lĩnh, TH Nguyễn Trường Tộ, THCS Quang Trung, THPT Nguyễn Trãi, ĐH Nguyễn Tất Thành, ĐH Luật TP.HCM', 'overall_info': 'BÁN NHÀ PHỐ ĐƯỜNG ĐOÀN VĂN BƠ, QUẬN 4\\n- Diện tích 32m2 (5.8m x 5.5m)\\n- Diện tích sử dụng: 120m2. \\n- Kết cấu căn nhà gồm: 1 trệt, 1 lửng, 2 lầu và sân thượng gồm 3 phòng ngủ và 3 phòng tắm. Nhà có nội thất cơ bản.\\n- Nhà có cửa hướng Bắc, đường rộng và thông thoáng.\\nSổ hồng riêng, pháp lý minh bạch rõ ràng bàn giao ngay cho khách có thiện chí.\\n\\nVị trí nhà hẻm Quận 4 gần Chợ 200 Xóm Chiếu với nhiều hàng quán nhộn nhịp, cách 200m là Nhà thờ Xóm Chiếu. Xung quanh nhà đã hiện hữu đầy đủ tiện ích - dịch vụ cần thiết cho cuộc sống.'}\n",
      "-------------\n",
      "\n",
      "\tCode of group A  | Group condition: isValidInput( buyerInfo.get(\"group\") )  and isValidInput( buyerInfo.get(\"is_married\") )  and isValidInput( buyerInfo.get(\"no_child\") )  and isValidInput(houseInfo.get(\"in_room_noBed\") )\n",
      "{'rule_group': 'A', 'rule_code': 'A1', 'score': 0.7, 'rule_expression': '(getValue(buyerInfo.get(\"group\",  0))  == 1 or (buyerInfo.get(\"is_married\")  == False and buyerInfo.get(\"no_child\") == 0 )) and houseInfo.get(\"in_room_noBed\")  in (1, 2)', 'rule_desc': 'Nếu không có gia đình VÀ không có con (KH nhóm 1) VÀ số phòng ngủ của căn nhà là (1,2)', 'rule_expression_backup': '(getValue(buyerInfo.get(\"group\",  0))  == 1 or (buyerInfo.get(\"is_married\")  == False and buyerInfo.get(\"no_child\") == 0 )) and houseInfo.get(\"no_bedroom\")  in (1, 2)'}\n",
      "score: 0\n",
      "{'rule_group': 'A', 'rule_code': 'A2', 'score': 0.6, 'rule_expression': '(getValue(buyerInfo.get(\"group\",  0))  == 1 or (buyerInfo.get(\"is_married\")  == False and buyerInfo.get(\"no_child\") == 0 )) and houseInfo.get(\"in_room_noBed\")  in (2,3,4)', 'rule_desc': 'Nếu không có gia đình VÀ không có con (KH nhóm 1) VÀ số phòng ngủ của căn nhà là 3', 'rule_expression_backup': '(getValue(buyerInfo.get(\"group\",  0))  == 1 or (buyerInfo.get(\"is_married\")  == False and buyerInfo.get(\"no_child\") == 0 )) and houseInfo.get(\"no_bedroom\")  >= 3'}\n",
      "score: 0.6\n",
      "{'rule_group': 'A', 'rule_code': 'A3', 'score': 0.8, 'rule_expression': '( getValue(buyerInfo.get(\"group\",  0))  == 2 or buyerInfo.get(\"is_married\")  == True ) and buyerInfo.get(\"no_child\") in ( 0, 1) and houseInfo.get(\"in_room_noBed\")  in (2, 3,4)', 'rule_desc': 'Nếu có gia đình VÀ số con là (0, 1) (KH nhóm 2) VÀ số phòng ngủ của căn nhà là (2,3)', 'rule_expression_backup': '( getValue(buyerInfo.get(\"group\",  0))  == 2 or buyerInfo.get(\"is_married\")  == True ) and buyerInfo.get(\"no_child\") in ( 0, 1) and houseInfo.get(\"no_bedroom\")  in (2, 3)'}\n",
      "score: 0\n",
      "{'rule_group': 'A', 'rule_code': 'A4', 'score': 0.6, 'rule_expression': '( getValue(buyerInfo.get(\"group\",  0))  == 2 or buyerInfo.get(\"is_married\")  == True ) and buyerInfo.get(\"no_child\") in ( 0, 1) and houseInfo.get(\"in_room_noBed\")  == 1', 'rule_desc': 'Nếu có gia đình VÀ số con là (0, 1) (KH nhóm 2) VÀ số phòng ngủ của căn nhà là 1', 'rule_expression_backup': '( getValue(buyerInfo.get(\"group\",  0))  == 2 or buyerInfo.get(\"is_married\")  == True ) and buyerInfo.get(\"no_child\") in ( 0, 1) and houseInfo.get(\"no_bedroom\")  == 1'}\n",
      "score: 0\n",
      "{'rule_group': 'A', 'rule_code': 'A5', 'score': 0.5, 'rule_expression': '( getValue(buyerInfo.get(\"group\",  0))  == 2 or buyerInfo.get(\"is_married\")  == True ) and buyerInfo.get(\"no_child\") == 2\\xa0and houseInfo.get(\"in_room_noBed\")  == 2', 'rule_desc': 'Nếu có gia đình VÀ số con là 2 (KH nhóm 2) VÀ số phòng ngủ của căn nhà là 2', 'rule_expression_backup': '( getValue(buyerInfo.get(\"group\",  0))  == 2 or buyerInfo.get(\"is_married\")  == True ) and buyerInfo.get(\"no_child\") == 2\\xa0and houseInfo.get(\"no_bedroom\")  == 2'}\n",
      "score: 0\n",
      "{'rule_group': 'A', 'rule_code': 'A6', 'score': 1.0, 'rule_expression': '( getValue(buyerInfo.get(\"group\",  0))  == 2 or buyerInfo.get(\"is_married\")  == True )  and buyerInfo.get(\"no_child\") == 2 and houseInfo.get(\"in_room_noBed\")  in ( 3,4,5)', 'rule_desc': 'Nếu có gia đình VÀ số con là 2 (KH nhóm 2) VÀ số phòng ngủ của căn nhà là 3', 'rule_expression_backup': '( getValue(buyerInfo.get(\"group\",  0))  == 2 or buyerInfo.get(\"is_married\")  == True )  and buyerInfo.get(\"no_child\") == 2 and houseInfo.get(\"no_bedroom\")  >= 3'}\n",
      "score: 0\n",
      "{'rule_group': 'A', 'rule_code': 'A7', 'score': 0.6, 'rule_expression': 'getValue(buyerInfo.get(\"group\",  0))  == 4 and houseInfo.get(\"in_room_noBed\")  == 1', 'rule_desc': 'Nếu KH nhóm 4 VÀ số phòng ngủ là 1', 'rule_expression_backup': 'getValue(buyerInfo.get(\"group\",  0))  == 4 and houseInfo.get(\"no_bedroom\")  == 1'}\n",
      "score: 0\n",
      "{'rule_group': 'A', 'rule_code': 'A8', 'score': 1.0, 'rule_expression': 'getValue(buyerInfo.get(\"group\",  0))  == 4 and houseInfo.get(\"in_room_noBed\")  in (2, 3,4)', 'rule_desc': 'Nếu KH nhóm 4 VÀ số phòng ngủ từ 2', 'rule_expression_backup': 'getValue(buyerInfo.get(\"group\",  0))  == 4 and houseInfo.get(\"no_bedroom\")  >= 2'}\n",
      "score: 0\n",
      "\tCode of group B  | Group condition: buyerInfo.get(\"avai_amt\") is not None and buyerInfo.get(\"monthly_amt\") is not None\n",
      "{'rule_group': 'B', 'rule_code': 'B1', 'score': 1.0, 'rule_expression': 'houseInfo.get(\"price\") >= 0.9 * buyerInfo.get(\"avai_amt\") and houseInfo.get(\"price\") <= buyerInfo.get(\"avai_amt\")', 'rule_desc': 'Nếu giá của ngôi nhà bằng khoảng 0.9-1 số tiền người mua hiện có', 'rule_expression_backup': 'houseInfo.get(\"price\") >= 0.8 * buyerInfo.get(\"avai_amt\")'}\n",
      "score: 0\n",
      "{'rule_group': 'B', 'rule_code': 'B2', 'score': 0.8, 'rule_expression': '( buyerInfo.get(\"avai_amt\")  >= 0.75 * houseInfo.get(\"price\") and houseInfo.get(\"price\") > buyerInfo.get(\"avai_amt\") ) and ( (buyerInfo.get(\"avai_amt\") + 12* buyerInfo.get(\"monthly_amt\")) >= houseInfo.get(\"price\"))', 'rule_desc': 'Nếu người mua có sẵn 0.75 giá trị ngôi nhà, và người mua có khả năng trả góp trong 12 tháng', 'rule_expression_backup': nan}\n",
      "score: 0\n",
      "{'rule_group': 'B', 'rule_code': 'B3', 'score': 0.6, 'rule_expression': '( buyerInfo.get(\"avai_amt\")  >= 0.5 * houseInfo.get(\"price\") and houseInfo.get(\"price\") > buyerInfo.get(\"avai_amt\") ) and ( (buyerInfo.get(\"avai_amt\") + 24* buyerInfo.get(\"monthly_amt\")) >= houseInfo.get(\"price\"))', 'rule_desc': 'Nếu người mua có sẵn 0.5 giá trị ngôi nhà, và người mua có khả năng trả góp trong 24 tháng', 'rule_expression_backup': 'houseInfo.get(\"price\") >= 0.5 * buyerInfo.get(\"avai_amt\") and ( (0.5 * buyerInfo.get(\"avai_amt\") + 24* buyerInfo.get(\"monthly_amt\")) >= houseInfo.get(\"price\"))'}\n",
      "score: 0\n",
      "{'rule_group': 'B', 'rule_code': 'B4', 'score': 0.5, 'rule_expression': '( buyerInfo.get(\"avai_amt\")  >= 0.5 * houseInfo.get(\"price\") and houseInfo.get(\"price\") > buyerInfo.get(\"avai_amt\") ) and ( (buyerInfo.get(\"avai_amt\") + 60* buyerInfo.get(\"monthly_amt\")) >= houseInfo.get(\"price\"))', 'rule_desc': 'Nếu người mua có sẵn 0.5 giá trị ngôi nhà, và người mua có khả năng trả góp trong 60 tháng (5 năm)', 'rule_expression_backup': nan}\n",
      "score: 0\n",
      "{'rule_group': 'B', 'rule_code': 'B5', 'score': 1.0, 'rule_expression': 'getValue(buyerInfo.get(\"group\",  0))  == 4 and ( houseInfo.get(\"price\") >= 0.8 * buyerInfo.get(\"avai_amt\") and houseInfo.get(\"price\") <= buyerInfo.get(\"avai_amt\")*1.2 )', 'rule_desc': 'Nếu người mua thuộc nhóm 4, ngôi nhà trong khoảng 0.8-1.2 số tiền sẵn có', 'rule_expression_backup': nan}\n",
      "score: 0\n",
      "{'rule_group': 'B', 'rule_code': 'B6', 'score': 0.0, 'rule_expression': 'getValue(buyerInfo.get(\"group\",  0))  == 4 and ( houseInfo.get(\"price\") < 0.8 * buyerInfo.get(\"avai_amt\") and houseInfo.get(\"price\") > buyerInfo.get(\"avai_amt\")*1.2 )', 'rule_desc': 'Nếu người mua thuộc nhóm 4, ngôi nhà nhỏ hơn 0.8 hoặc lớn hơn 1.2 số tiền sẵn có', 'rule_expression_backup': nan}\n",
      "score: 0\n",
      "\tCode of group C  | Group condition: isValidInput( buyerInfo.get(\"desired_location\") ) and isValidInput( houseInfo.get(\"address_district\") )\n",
      "{'rule_group': 'C', 'rule_code': 'C1', 'score': 1.0, 'rule_expression': 'fn_calculateDistance(houseInfo.get(\"address_district\"), buyerInfo.get(\"desired_location\")) <= 2', 'rule_desc': 'Nếu trong phạm vi 2km', 'rule_expression_backup': nan}\n",
      "score: 1.0\n",
      "{'rule_group': 'C', 'rule_code': 'C2', 'score': 0.8, 'rule_expression': 'fn_calculateDistance(houseInfo.get(\"address_district\"), buyerInfo.get(\"desired_location\")) <= 4', 'rule_desc': nan, 'rule_expression_backup': nan}\n",
      "score: 0.8\n",
      "{'rule_group': 'C', 'rule_code': 'C3', 'score': 0.5, 'rule_expression': 'fn_calculateDistance(houseInfo.get(\"address_district\"), buyerInfo.get(\"desired_location\")) <= 6', 'rule_desc': nan, 'rule_expression_backup': nan}\n",
      "score: 0.5\n",
      "\tCode of group D  | Group condition: 1==1\n",
      "{'rule_group': 'D', 'rule_code': 'D1', 'score': 1.0, 'rule_expression': 'isGoodLegalStatus(houseInfo.get(\"legal_status\"))', 'rule_desc': 'Có giấy tờ', 'rule_expression_backup': 'houseInfo.get(\"legal_status\") in [\\'Sổ hồng\\', \\'Sổ đỏ\\']'}\n",
      "score: 1.0\n",
      "{'rule_group': 'D', 'rule_code': 'D2', 'score': 0.2, 'rule_expression': 'isGoodLegalStatus(houseInfo.get(\"legal_status\")) is not True and getValue(buyerInfo.get(\"group\",  0)) in (1, 3,4)', 'rule_desc': 'K giấy tờ và người mua có nhóm thuộc (1,3,4)', 'rule_expression_backup': nan}\n",
      "score: 0\n",
      "{'rule_group': 'D', 'rule_code': 'D3', 'score': 0.4, 'rule_expression': 'isGoodLegalStatus(houseInfo.get(\"legal_status\")) is not True and getValue(buyerInfo.get(\"group\",  0)) not in (1, 3,4)', 'rule_desc': 'Các trường hợp k giấy tờ còn lại', 'rule_expression_backup': nan}\n",
      "score: 0\n",
      "REPORT:\n",
      "Total calculated Score:  14.8\n",
      "Max Score from Groups:  26.0\n",
      "{'meta_url': 'https://rever.vn/mua/nha-pho-duong-ho-hao-hon-2-tang-dien-tich-38-6m2-huong-dong-bac-phap-ly-so-hong', 'meta_code': 'T01145841', 'address_street': 'Hồ Hảo Hớn', 'address_ward': 'Cô Giang', 'address_district': 'Quận 1', 'address_city': 'Hồ Chí Minh', 'price': 6300000000.0, 'area': 38.6, 'area_site': 38.6, 'area_basebuilt': 48.36, 'area_netused': 38.6, 'area_yard': nan, 'area_length': nan, 'area_width': nan, 'area_front': nan, 'house_noFloor': 2, 'house_type': 'Nhà phố', 'house_noBasement': 0, 'house_direction': 'Đông Bắc', 'in_room_noBed': 3, 'in_room_noBath': 2, 'in_room_noKitchen': nan, 'in_room_noRelax': nan, 'in_room_others': nan, 'in_interiorStatus': 'Đầy đủ nội thất', 'prj_name': nan, 'prj_investor': nan, 'prj_status': nan, 'prj_tower': nan, 'legal_status': 'Sổ hồng', 'other_overview': nan, 'other_good_outstandingCharacteristics': nan, 'other_good_locationDesc': nan, 'other_good_community': nan, 'other_good_education': nan, 'overall_info': 'NHÀ PHỐ HỒ HẢO HỚN, QUẬN 1\\nDiện tích: 38.6m² ( 3.2m x 10.2m )\\nDiện tích sử dụng: 38.6m²\\nKết cấu: 2 tầng (trệt +lầu) 3 phòng ngủ 2 phòng tắm\\nHướng đông bắc\\nĐầy đủ nội thất\\nPháp lý: sổ hồng\\n\\nNhà phố ngay trung tâm quận 1 TPHCM \\nThuận tiện di chuyển kết nối giao thông\\n - 5 phút đến chợ Bến Thành, phố đi bộ Nguyễn Huệ, bến Bạch Đằng\\n - 10 phút đến quận 4, quận Bình Thạnh, quận 8,...\\nKhu dân cư hiện hữu an ninh, văn minh, lịch sự\\nĐầy đủ các tiện ích xung quanh: chợ, bệnh viện, trường học, trung tâm thương mại, ngân hàng'}\n",
      "{'executedRuleGroup': [{'groupCode': 'A', 'groupCondition': 'isValidInput( buyerInfo.get(\"group\") )  and isValidInput( buyerInfo.get(\"is_married\") )  and isValidInput( buyerInfo.get(\"no_child\") )  and isValidInput(houseInfo.get(\"in_room_noBed\") )', 'groupScore': 3.0, 'rule_group': 'A', 'rule_code': 'A2', 'score': 0.6, 'rule_expression': '(getValue(buyerInfo.get(\"group\",  0))  == 1 or (buyerInfo.get(\"is_married\")  == False and buyerInfo.get(\"no_child\") == 0 )) and houseInfo.get(\"in_room_noBed\")  in (2,3,4)', 'rule_desc': 'Nếu không có gia đình VÀ không có con (KH nhóm 1) VÀ số phòng ngủ của căn nhà là 3', 'rule_expression_backup': '(getValue(buyerInfo.get(\"group\",  0))  == 1 or (buyerInfo.get(\"is_married\")  == False and buyerInfo.get(\"no_child\") == 0 )) and houseInfo.get(\"no_bedroom\")  >= 3', 'calRuleScore': 1.7999999999999998}, {'groupCode': 'B', 'groupCondition': 'buyerInfo.get(\"avai_amt\") is not None and buyerInfo.get(\"monthly_amt\") is not None', 'groupScore': 10.0, 'calRuleScore': 0.0}, {'groupCode': 'C', 'groupCondition': 'isValidInput( buyerInfo.get(\"desired_location\") ) and isValidInput( houseInfo.get(\"address_district\") )', 'groupScore': 5.0, 'rule_group': 'C', 'rule_code': 'C1', 'score': 1.0, 'rule_expression': 'fn_calculateDistance(houseInfo.get(\"address_district\"), buyerInfo.get(\"desired_location\")) <= 2', 'rule_desc': 'Nếu trong phạm vi 2km', 'rule_expression_backup': nan, 'calRuleScore': 5.0}, {'groupCode': 'D', 'groupCondition': '1==1', 'groupScore': 8.0, 'rule_group': 'D', 'rule_code': 'D1', 'score': 1.0, 'rule_expression': 'isGoodLegalStatus(houseInfo.get(\"legal_status\"))', 'rule_desc': 'Có giấy tờ', 'rule_expression_backup': 'houseInfo.get(\"legal_status\") in [\\'Sổ hồng\\', \\'Sổ đỏ\\']', 'calRuleScore': 8.0}], 'houseInfo': {'meta_url': 'https://rever.vn/mua/nha-pho-duong-ho-hao-hon-2-tang-dien-tich-38-6m2-huong-dong-bac-phap-ly-so-hong', 'meta_code': 'T01145841', 'address_street': 'Hồ Hảo Hớn', 'address_ward': 'Cô Giang', 'address_district': 'Quận 1', 'address_city': 'Hồ Chí Minh', 'price': 6300000000.0, 'area': 38.6, 'area_site': 38.6, 'area_basebuilt': 48.36, 'area_netused': 38.6, 'area_yard': nan, 'area_length': nan, 'area_width': nan, 'area_front': nan, 'house_noFloor': 2, 'house_type': 'Nhà phố', 'house_noBasement': 0, 'house_direction': 'Đông Bắc', 'in_room_noBed': 3, 'in_room_noBath': 2, 'in_room_noKitchen': nan, 'in_room_noRelax': nan, 'in_room_others': nan, 'in_interiorStatus': 'Đầy đủ nội thất', 'prj_name': nan, 'prj_investor': nan, 'prj_status': nan, 'prj_tower': nan, 'legal_status': 'Sổ hồng', 'other_overview': nan, 'other_good_outstandingCharacteristics': nan, 'other_good_locationDesc': nan, 'other_good_community': nan, 'other_good_education': nan, 'overall_info': 'NHÀ PHỐ HỒ HẢO HỚN, QUẬN 1\\nDiện tích: 38.6m² ( 3.2m x 10.2m )\\nDiện tích sử dụng: 38.6m²\\nKết cấu: 2 tầng (trệt +lầu) 3 phòng ngủ 2 phòng tắm\\nHướng đông bắc\\nĐầy đủ nội thất\\nPháp lý: sổ hồng\\n\\nNhà phố ngay trung tâm quận 1 TPHCM \\nThuận tiện di chuyển kết nối giao thông\\n - 5 phút đến chợ Bến Thành, phố đi bộ Nguyễn Huệ, bến Bạch Đằng\\n - 10 phút đến quận 4, quận Bình Thạnh, quận 8,...\\nKhu dân cư hiện hữu an ninh, văn minh, lịch sự\\nĐầy đủ các tiện ích xung quanh: chợ, bệnh viện, trường học, trung tâm thương mại, ngân hàng'}, 'maxScore': 26.0, 'houseScore': 14.8, 'housePerformance': 56.92, 'buyerInfo': {'id': 'x2', 'group': 1.0, 'age': 30.0, 'is_married': 0.0, 'no_child': 0.0, 'month_income': 70000000.0, 'monthly_amt': 50000000.0, 'avai_amt': 10000000000.0, 'desired_location': 'Quận 3', 'desired_interiorStatus': nan}, 'id': 'x2', 'group': 1.0, 'age': 30.0, 'is_married': 0.0, 'no_child': 0.0, 'month_income': 70000000.0, 'monthly_amt': 50000000.0, 'avai_amt': 10000000000.0, 'desired_location': 'Quận 3', 'desired_interiorStatus': nan, 'meta_url': 'https://rever.vn/mua/nha-pho-duong-ho-hao-hon-2-tang-dien-tich-38-6m2-huong-dong-bac-phap-ly-so-hong', 'meta_code': 'T01145841', 'address_street': 'Hồ Hảo Hớn', 'address_ward': 'Cô Giang', 'address_district': 'Quận 1', 'address_city': 'Hồ Chí Minh', 'price': 6300000000.0, 'area': 38.6, 'area_site': 38.6, 'area_basebuilt': 48.36, 'area_netused': 38.6, 'area_yard': nan, 'area_length': nan, 'area_width': nan, 'area_front': nan, 'house_noFloor': 2, 'house_type': 'Nhà phố', 'house_noBasement': 0, 'house_direction': 'Đông Bắc', 'in_room_noBed': 3, 'in_room_noBath': 2, 'in_room_noKitchen': nan, 'in_room_noRelax': nan, 'in_room_others': nan, 'in_interiorStatus': 'Đầy đủ nội thất', 'prj_name': nan, 'prj_investor': nan, 'prj_status': nan, 'prj_tower': nan, 'legal_status': 'Sổ hồng', 'other_overview': nan, 'other_good_outstandingCharacteristics': nan, 'other_good_locationDesc': nan, 'other_good_community': nan, 'other_good_education': nan, 'overall_info': 'NHÀ PHỐ HỒ HẢO HỚN, QUẬN 1\\nDiện tích: 38.6m² ( 3.2m x 10.2m )\\nDiện tích sử dụng: 38.6m²\\nKết cấu: 2 tầng (trệt +lầu) 3 phòng ngủ 2 phòng tắm\\nHướng đông bắc\\nĐầy đủ nội thất\\nPháp lý: sổ hồng\\n\\nNhà phố ngay trung tâm quận 1 TPHCM \\nThuận tiện di chuyển kết nối giao thông\\n - 5 phút đến chợ Bến Thành, phố đi bộ Nguyễn Huệ, bến Bạch Đằng\\n - 10 phút đến quận 4, quận Bình Thạnh, quận 8,...\\nKhu dân cư hiện hữu an ninh, văn minh, lịch sự\\nĐầy đủ các tiện ích xung quanh: chợ, bệnh viện, trường học, trung tâm thương mại, ngân hàng'}\n",
      "-------------\n",
      "\n"
     ]
    }
   ],
   "source": [
    "### version 2\n",
    "def calculateSingleRuleScore(buyerInfo, houseInfo, ruleInfo, **kwargs):\n",
    "    ### get-set key-value from parent function\n",
    "    for key, value in kwargs.items():\n",
    "        locals()[key] = value\n",
    "    ruleScore = ruleInfo.get(\"score\")\n",
    "    ### execute rule\n",
    "    ruleExpression = unicodedata.normalize('NFKD', ruleInfo.get(\"rule_expression\")).strip() \n",
    "    exprValue = eval(ruleExpression)\n",
    "    if exprValue > 0:\n",
    "        return ruleScore\n",
    "    else:\n",
    "        return 0\n",
    "    \n",
    "def calculateScoreOfHouse(buyerInfo, houseInfo, ruleDf, ruleGroupList, isDebugRule=0):\n",
    "    pre_defined_kwargs = {}\n",
    "    _calRuleGroup = []\n",
    "    for ruleGroup in ruleGroupList:\n",
    "        groupCondition = unicodedata.normalize('NFKD', ruleGroup.get(\"conditions\")).strip()\n",
    "        groupScore= float(ruleGroup.get(\"group_point\"))\n",
    "        groupCode= ruleGroup.get(\"rule_group\")\n",
    "        ruleGroupCode =  ruleGroup.get(\"rule_group\")\n",
    "        groupRes={'groupCode': groupCode, 'groupCondition': groupCondition, 'groupScore': groupScore}\n",
    "        if isDebugRule==1:\n",
    "            print(\"\\tCode of group\", ruleGroupCode, \" | Group condition:\", groupCondition)\n",
    "        if eval(groupCondition) is False:\n",
    "            if isDebugRule==1:\n",
    "                print(\"Break rule code: \", ruleGroupCode)\n",
    "        else:\n",
    "            curRule= {}\n",
    "            curScore= 0\n",
    "            filteredRuleList = ruleDf[ruleDf['rule_group'] == ruleGroupCode].to_dict('records')\n",
    "            ### iterate each rule in Group, if condition matches and higher score, set this rule as result for group\n",
    "            for r in filteredRuleList:\n",
    "                if isDebugRule==1:\n",
    "                    print(r)\n",
    "                _score = calculateSingleRuleScore(buyerInfo, houseInfo, r, **pre_defined_kwargs)\n",
    "                if isDebugRule==1:\n",
    "                    print('score:', _score)\n",
    "                if _score > 0 and _score > curScore:\n",
    "                    curRule= r\n",
    "                    curScore=_score\n",
    "            groupRes.update(curRule)            \n",
    "            groupRes.update({'calRuleScore': curScore*groupScore})\n",
    "            _calRuleGroup.append(groupRes)\n",
    "    # calculate total score\n",
    "    _maxScore= 0\n",
    "    _totalScore=0\n",
    "    for c in _calRuleGroup:\n",
    "        _maxScore+= c.get(\"groupScore\", 0)\n",
    "        _totalScore+= c.get(\"calRuleScore\", 0)\n",
    "    if isDebugRule==1:\n",
    "        print('REPORT:')\n",
    "        print('Total calculated Score: ',_totalScore)\n",
    "        print('Max Score from Groups: ', _maxScore)\n",
    "    _housePerf= 0.0\n",
    "    if _maxScore != 0:\n",
    "        _housePerf=round(_totalScore*100/_maxScore, 2)\n",
    "    _res= {'executedRuleGroup': _calRuleGroup, 'houseInfo': houseInfo,\n",
    "           'maxScore': _maxScore, 'houseScore': _totalScore, 'housePerformance':_housePerf,\n",
    "           'buyerInfo': buyerInfo}\n",
    "    _res.update(buyerInfo)\n",
    "    _res.update(houseInfo)\n",
    "    return _res\n",
    "\n",
    "loadData()\n",
    "\n",
    "c=18\n",
    "print('Customer info: ', buyers[c],'\\n-------------------')\n",
    "for i in range(0,22):\n",
    "    _houseEvaluation= calculateScoreOfHouse(buyers[c], houses[i], rulesDf, ruleGroups, isDebugRule= 1)\n",
    "    print(houses[i])\n",
    "    print(_houseEvaluation)\n",
    "    print('-------------\\n')"
   ]
  },
  {
   "cell_type": "markdown",
   "id": "87e8c90f",
   "metadata": {
    "papermill": {
     "duration": 0.028989,
     "end_time": "2024-06-28T08:37:50.766163",
     "exception": false,
     "start_time": "2024-06-28T08:37:50.737174",
     "status": "completed"
    },
    "tags": []
   },
   "source": [
    "Hàm executeCase: duyệt từng BĐS và xác định mực độ phù hợp của các BĐS"
   ]
  },
  {
   "cell_type": "code",
   "execution_count": 7,
   "id": "20493407",
   "metadata": {
    "execution": {
     "iopub.execute_input": "2024-06-28T08:37:50.829169Z",
     "iopub.status.busy": "2024-06-28T08:37:50.828168Z",
     "iopub.status.idle": "2024-06-28T08:37:50.842342Z",
     "shell.execute_reply": "2024-06-28T08:37:50.839314Z"
    },
    "papermill": {
     "duration": 0.053192,
     "end_time": "2024-06-28T08:37:50.848364",
     "exception": false,
     "start_time": "2024-06-28T08:37:50.795172",
     "status": "completed"
    },
    "tags": []
   },
   "outputs": [],
   "source": [
    "def executeCase(custNo=0, outputFileLocation=curDir + '\\\\testOutput\\\\cust_6'):\n",
    "    csv_file = outputFileLocation + '.csv'\n",
    "    xlsx_file = outputFileLocation + '.xlsx'\n",
    "    \n",
    "    if os.path.exists(csv_file):\n",
    "        os.remove(csv_file)\n",
    "    if os.path.exists(xlsx_file):\n",
    "        os.remove(xlsx_file)\n",
    "    \n",
    "    _housePerformanceList=[] \n",
    "    for i in houses:\n",
    "        _houseEvaluation= calculateScoreOfHouse(buyers[custNo], i, rulesDf, ruleGroups, isDebugRule= 0)\n",
    "        _housePerformanceList.append(_houseEvaluation)\n",
    "    _housePrfmDf= pd.DataFrame.from_dict(_housePerformanceList)\n",
    "    _housePrfmDf.to_csv(outputFileLocation +'.csv', index=False, quotechar= '\"' )\n",
    "    _housePrfmDf.to_excel(outputFileLocation+'.xlsx')\n",
    "    return _housePerformanceList\n"
   ]
  },
  {
   "cell_type": "markdown",
   "id": "af7a0895",
   "metadata": {
    "papermill": {
     "duration": 0.028062,
     "end_time": "2024-06-28T08:37:50.905401",
     "exception": false,
     "start_time": "2024-06-28T08:37:50.877339",
     "status": "completed"
    },
    "tags": []
   },
   "source": [
    "## Execute Test case"
   ]
  },
  {
   "cell_type": "markdown",
   "id": "cdc66a08",
   "metadata": {
    "papermill": {
     "duration": 0.03002,
     "end_time": "2024-06-28T08:37:50.964001",
     "exception": false,
     "start_time": "2024-06-28T08:37:50.933981",
     "status": "completed"
    },
    "tags": []
   },
   "source": [
    "## Hướng dẫn\n",
    "1. Các function đã được định nghĩa  \n",
    "1. Tất cả dữ liệu, bộ rule, và dữ liệu về KH được lưu trong file --> update dựa trên file excel này  \n",
    "1. Chạy các test case KH bằng hàm executeCase với tham số là số thứ tự KH tương ứng trong excel và vị trí file output"
   ]
  },
  {
   "cell_type": "markdown",
   "id": "4d983c09",
   "metadata": {
    "papermill": {
     "duration": 0.029006,
     "end_time": "2024-06-28T08:37:51.027005",
     "exception": false,
     "start_time": "2024-06-28T08:37:50.997999",
     "status": "completed"
    },
    "tags": []
   },
   "source": [
    "### Test case for Complex rules"
   ]
  },
  {
   "cell_type": "code",
   "execution_count": 8,
   "id": "56a9c736",
   "metadata": {
    "execution": {
     "iopub.execute_input": "2024-06-28T08:37:51.089568Z",
     "iopub.status.busy": "2024-06-28T08:37:51.089437Z",
     "iopub.status.idle": "2024-06-28T08:37:51.101068Z",
     "shell.execute_reply": "2024-06-28T08:37:51.098290Z"
    },
    "papermill": {
     "duration": 0.049055,
     "end_time": "2024-06-28T08:37:51.106050",
     "exception": false,
     "start_time": "2024-06-28T08:37:51.056995",
     "status": "completed"
    },
    "tags": []
   },
   "outputs": [],
   "source": [
    "# loadData()\n",
    "# # Done case X1\n",
    "# print(buyers[15])\n",
    "# case_a1= executeCase(custNo= 15, outputFileLocation=curDir + '\\\\testOutput\\\\cust_x1')"
   ]
  },
  {
   "cell_type": "markdown",
   "id": "1bad89b8",
   "metadata": {
    "papermill": {
     "duration": 0.032995,
     "end_time": "2024-06-28T08:37:51.166061",
     "exception": false,
     "start_time": "2024-06-28T08:37:51.133066",
     "status": "completed"
    },
    "tags": []
   },
   "source": [
    "### Test case for No_Bed_Room rules"
   ]
  },
  {
   "cell_type": "code",
   "execution_count": 9,
   "id": "655f1015",
   "metadata": {
    "execution": {
     "iopub.execute_input": "2024-06-28T08:37:51.232543Z",
     "iopub.status.busy": "2024-06-28T08:37:51.230555Z",
     "iopub.status.idle": "2024-06-28T08:37:51.242476Z",
     "shell.execute_reply": "2024-06-28T08:37:51.238409Z"
    },
    "papermill": {
     "duration": 0.052327,
     "end_time": "2024-06-28T08:37:51.248388",
     "exception": false,
     "start_time": "2024-06-28T08:37:51.196061",
     "status": "completed"
    },
    "tags": []
   },
   "outputs": [],
   "source": [
    "# loadData()\n",
    "# print(buyers[4])\n",
    "# case_a1= executeCase(custNo= 4, outputFileLocation='testOutput\\\\cust_a1')\n",
    "# print(buyers[5])\n",
    "# case_a2= executeCase(custNo= 5, outputFileLocation='testOutput\\\\cust_a2')\n",
    "# print(buyers[6])\n",
    "# case_a3= executeCase(custNo= 6, outputFileLocation='testOutput\\\\cust_a3')\n"
   ]
  },
  {
   "cell_type": "markdown",
   "id": "e5a5e5dd",
   "metadata": {
    "papermill": {
     "duration": 0.035108,
     "end_time": "2024-06-28T08:37:51.309493",
     "exception": false,
     "start_time": "2024-06-28T08:37:51.274385",
     "status": "completed"
    },
    "tags": []
   },
   "source": [
    "### Test case for LOCATION rules"
   ]
  },
  {
   "cell_type": "code",
   "execution_count": 10,
   "id": "ac25f8b6",
   "metadata": {
    "execution": {
     "iopub.execute_input": "2024-06-28T08:37:51.384722Z",
     "iopub.status.busy": "2024-06-28T08:37:51.382722Z",
     "iopub.status.idle": "2024-06-28T08:37:51.394138Z",
     "shell.execute_reply": "2024-06-28T08:37:51.391104Z"
    },
    "papermill": {
     "duration": 0.05466,
     "end_time": "2024-06-28T08:37:51.400161",
     "exception": false,
     "start_time": "2024-06-28T08:37:51.345501",
     "status": "completed"
    },
    "tags": []
   },
   "outputs": [],
   "source": [
    "# loadData()\n",
    "# print(buyers[11])\n",
    "# case_c1= executeCase(custNo= 11, outputFileLocation='testOutput\\\\cust_c1')\n",
    "# print(buyers[12])\n",
    "# case_c2= executeCase(custNo= 12, outputFileLocation='testOutput\\\\cust_c2')\n",
    "# print(buyers[13])\n",
    "# case_c3= executeCase(custNo= 13, outputFileLocation='testOutput\\\\cust_c3')\n"
   ]
  },
  {
   "cell_type": "markdown",
   "id": "39c163d7",
   "metadata": {
    "papermill": {
     "duration": 0.026001,
     "end_time": "2024-06-28T08:37:51.453156",
     "exception": false,
     "start_time": "2024-06-28T08:37:51.427155",
     "status": "completed"
    },
    "tags": []
   },
   "source": [
    "### Test case for PAPER rules"
   ]
  },
  {
   "cell_type": "code",
   "execution_count": 11,
   "id": "e7b7e3d0",
   "metadata": {
    "execution": {
     "iopub.execute_input": "2024-06-28T08:37:51.514710Z",
     "iopub.status.busy": "2024-06-28T08:37:51.513701Z",
     "iopub.status.idle": "2024-06-28T08:37:51.523239Z",
     "shell.execute_reply": "2024-06-28T08:37:51.521194Z"
    },
    "papermill": {
     "duration": 0.046104,
     "end_time": "2024-06-28T08:37:51.529236",
     "exception": false,
     "start_time": "2024-06-28T08:37:51.483132",
     "status": "completed"
    },
    "tags": []
   },
   "outputs": [],
   "source": [
    "# loadData()\n",
    "# print(buyers[14])\n",
    "# case_d1= executeCase(custNo= 14, outputFileLocation='testOutput\\\\cust_d1')"
   ]
  },
  {
   "cell_type": "markdown",
   "id": "e5c967aa",
   "metadata": {
    "papermill": {
     "duration": 0.026001,
     "end_time": "2024-06-28T08:37:51.582241",
     "exception": false,
     "start_time": "2024-06-28T08:37:51.556240",
     "status": "completed"
    },
    "tags": []
   },
   "source": [
    "### Test case for FIN rules"
   ]
  },
  {
   "cell_type": "code",
   "execution_count": 12,
   "id": "85281fa4",
   "metadata": {
    "execution": {
     "iopub.execute_input": "2024-06-28T08:37:51.647254Z",
     "iopub.status.busy": "2024-06-28T08:37:51.645266Z",
     "iopub.status.idle": "2024-06-28T08:37:51.656446Z",
     "shell.execute_reply": "2024-06-28T08:37:51.654401Z"
    },
    "papermill": {
     "duration": 0.051189,
     "end_time": "2024-06-28T08:37:51.663443",
     "exception": false,
     "start_time": "2024-06-28T08:37:51.612254",
     "status": "completed"
    },
    "tags": []
   },
   "outputs": [],
   "source": [
    "# loadData()\n",
    "# print(buyers[7])\n",
    "# case_b1= executeCase(custNo= 7, outputFileLocation='testOutput\\\\cust_b1')\n",
    "# print(buyers[8])\n",
    "# case_b2= executeCase(custNo= 8, outputFileLocation='testOutput\\\\cust_b2')\n",
    "# print(buyers[9])\n",
    "# case_b3= executeCase(custNo= 9, outputFileLocation='testOutput\\\\cust_b3')\n",
    "# print(buyers[10])\n",
    "# case_b4= executeCase(custNo= 10, outputFileLocation='testOutput\\\\cust_b4')\n"
   ]
  },
  {
   "cell_type": "code",
   "execution_count": 13,
   "id": "205dbfbb",
   "metadata": {
    "execution": {
     "iopub.execute_input": "2024-06-28T08:37:51.723459Z",
     "iopub.status.busy": "2024-06-28T08:37:51.721455Z",
     "iopub.status.idle": "2024-06-28T08:37:51.733407Z",
     "shell.execute_reply": "2024-06-28T08:37:51.731354Z"
    },
    "papermill": {
     "duration": 0.048961,
     "end_time": "2024-06-28T08:37:51.738409",
     "exception": false,
     "start_time": "2024-06-28T08:37:51.689448",
     "status": "completed"
    },
    "tags": []
   },
   "outputs": [],
   "source": [
    "# loadData()\n",
    "# print(buyers[15])\n",
    "# case_x1 = executeCase(custNo=15, outputFileLocation='testOutput\\\\cust_x1')\n",
    "# print(buyers[16])\n",
    "# case_x2 = executeCase(custNo=16, outputFileLocation='testOutput\\\\cust_x2')"
   ]
  },
  {
   "cell_type": "markdown",
   "id": "0a10622a",
   "metadata": {
    "papermill": {
     "duration": 0.028997,
     "end_time": "2024-06-28T08:37:51.798394",
     "exception": false,
     "start_time": "2024-06-28T08:37:51.769397",
     "status": "completed"
    },
    "tags": []
   },
   "source": [
    "Create csv and xlsx for x2"
   ]
  },
  {
   "cell_type": "code",
   "execution_count": 14,
   "id": "b303e29d",
   "metadata": {
    "execution": {
     "iopub.execute_input": "2024-06-28T08:37:51.861383Z",
     "iopub.status.busy": "2024-06-28T08:37:51.859381Z",
     "iopub.status.idle": "2024-06-28T08:37:51.869642Z",
     "shell.execute_reply": "2024-06-28T08:37:51.867591Z"
    },
    "papermill": {
     "duration": 0.04923,
     "end_time": "2024-06-28T08:37:51.877617",
     "exception": false,
     "start_time": "2024-06-28T08:37:51.828387",
     "status": "completed"
    },
    "tags": []
   },
   "outputs": [],
   "source": [
    "# loadData()\n",
    "# print(buyers[18])\n",
    "# case_x2 = executeCase(custNo=18, outputFileLocation=curDir + '\\\\testOutput\\\\cust_x2')"
   ]
  },
  {
   "cell_type": "markdown",
   "id": "be6129b3",
   "metadata": {
    "papermill": {
     "duration": 0.034982,
     "end_time": "2024-06-28T08:37:51.948237",
     "exception": false,
     "start_time": "2024-06-28T08:37:51.913255",
     "status": "completed"
    },
    "tags": []
   },
   "source": [
    "Create csv and xlsx for x2"
   ]
  },
  {
   "cell_type": "code",
   "execution_count": 15,
   "id": "87b54f2b",
   "metadata": {
    "execution": {
     "iopub.execute_input": "2024-06-28T08:37:52.041235Z",
     "iopub.status.busy": "2024-06-28T08:37:52.039234Z",
     "iopub.status.idle": "2024-06-28T08:37:52.053387Z",
     "shell.execute_reply": "2024-06-28T08:37:52.049323Z"
    },
    "papermill": {
     "duration": 0.078097,
     "end_time": "2024-06-28T08:37:52.062350",
     "exception": false,
     "start_time": "2024-06-28T08:37:51.984253",
     "status": "completed"
    },
    "tags": []
   },
   "outputs": [],
   "source": [
    "# loadData()\n",
    "# print(buyers[18])\n",
    "# case_x2 = executeCase(custNo=18, outputFileLocation=curDir + '\\\\testOutput\\\\cust_x2')"
   ]
  },
  {
   "cell_type": "markdown",
   "id": "586d7726",
   "metadata": {
    "papermill": {
     "duration": 0.052402,
     "end_time": "2024-06-28T08:37:52.154762",
     "exception": false,
     "start_time": "2024-06-28T08:37:52.102360",
     "status": "completed"
    },
    "tags": []
   },
   "source": [
    "Create csv and xlsx for x2"
   ]
  },
  {
   "cell_type": "code",
   "execution_count": 16,
   "id": "f9375dfe",
   "metadata": {
    "execution": {
     "iopub.execute_input": "2024-06-28T08:37:52.232786Z",
     "iopub.status.busy": "2024-06-28T08:37:52.230794Z",
     "iopub.status.idle": "2024-06-28T08:37:52.241658Z",
     "shell.execute_reply": "2024-06-28T08:37:52.238628Z"
    },
    "papermill": {
     "duration": 0.056879,
     "end_time": "2024-06-28T08:37:52.248652",
     "exception": false,
     "start_time": "2024-06-28T08:37:52.191773",
     "status": "completed"
    },
    "tags": []
   },
   "outputs": [],
   "source": [
    "# loadData()\n",
    "# print(buyers[18])\n",
    "# case_x2 = executeCase(custNo=18, outputFileLocation=curDir + '\\\\testOutput\\\\cust_x2')"
   ]
  },
  {
   "cell_type": "markdown",
   "id": "8086eb1d",
   "metadata": {
    "papermill": {
     "duration": 0.039724,
     "end_time": "2024-06-28T08:37:52.322382",
     "exception": false,
     "start_time": "2024-06-28T08:37:52.282658",
     "status": "completed"
    },
    "tags": []
   },
   "source": [
    "Create csv and xlsx for x2"
   ]
  },
  {
   "cell_type": "code",
   "execution_count": 17,
   "id": "3cb34ec5",
   "metadata": {
    "execution": {
     "iopub.execute_input": "2024-06-28T08:37:52.393404Z",
     "iopub.status.busy": "2024-06-28T08:37:52.391388Z",
     "iopub.status.idle": "2024-06-28T08:37:52.405582Z",
     "shell.execute_reply": "2024-06-28T08:37:52.402551Z"
    },
    "papermill": {
     "duration": 0.061214,
     "end_time": "2024-06-28T08:37:52.414598",
     "exception": false,
     "start_time": "2024-06-28T08:37:52.353384",
     "status": "completed"
    },
    "tags": []
   },
   "outputs": [],
   "source": [
    "# loadData()\n",
    "# print(buyers[18])\n",
    "# case_x2 = executeCase(custNo=18, outputFileLocation=curDir + '\\\\testOutput\\\\cust_x2')"
   ]
  },
  {
   "cell_type": "markdown",
   "id": "f32935a6",
   "metadata": {
    "papermill": {
     "duration": 0.026712,
     "end_time": "2024-06-28T08:37:52.476422",
     "exception": false,
     "start_time": "2024-06-28T08:37:52.449710",
     "status": "completed"
    },
    "tags": []
   },
   "source": [
    "Create csv and xlsx for x2"
   ]
  },
  {
   "cell_type": "code",
   "execution_count": 18,
   "id": "ab0532f1",
   "metadata": {
    "execution": {
     "iopub.execute_input": "2024-06-28T08:37:52.546415Z",
     "iopub.status.busy": "2024-06-28T08:37:52.545378Z",
     "iopub.status.idle": "2024-06-28T08:37:52.555477Z",
     "shell.execute_reply": "2024-06-28T08:37:52.552430Z"
    },
    "papermill": {
     "duration": 0.05606,
     "end_time": "2024-06-28T08:37:52.561453",
     "exception": false,
     "start_time": "2024-06-28T08:37:52.505393",
     "status": "completed"
    },
    "tags": []
   },
   "outputs": [],
   "source": [
    "# loadData()\n",
    "# print(buyers[18])\n",
    "# case_x2 = executeCase(custNo=18, outputFileLocation=curDir + '\\\\testOutput\\\\cust_x2')"
   ]
  },
  {
   "cell_type": "markdown",
   "id": "cb53e871",
   "metadata": {
    "papermill": {
     "duration": 0.031976,
     "end_time": "2024-06-28T08:37:52.632861",
     "exception": false,
     "start_time": "2024-06-28T08:37:52.600885",
     "status": "completed"
    },
    "tags": []
   },
   "source": [
    "Create csv and xlsx for x3"
   ]
  },
  {
   "cell_type": "code",
   "execution_count": 19,
   "id": "ee2f310d",
   "metadata": {
    "execution": {
     "iopub.execute_input": "2024-06-28T08:37:52.696858Z",
     "iopub.status.busy": "2024-06-28T08:37:52.693863Z",
     "iopub.status.idle": "2024-06-28T08:37:52.704565Z",
     "shell.execute_reply": "2024-06-28T08:37:52.702526Z"
    },
    "papermill": {
     "duration": 0.045669,
     "end_time": "2024-06-28T08:37:52.709554",
     "exception": false,
     "start_time": "2024-06-28T08:37:52.663885",
     "status": "completed"
    },
    "tags": []
   },
   "outputs": [],
   "source": [
    "# loadData()\n",
    "# print(buyers[19])\n",
    "# case_x3 = executeCase(custNo=19, outputFileLocation=curDir + '\\\\testOutput\\\\cust_x3')"
   ]
  },
  {
   "cell_type": "markdown",
   "id": "fe935506",
   "metadata": {
    "papermill": {
     "duration": 0.030464,
     "end_time": "2024-06-28T08:37:52.768012",
     "exception": false,
     "start_time": "2024-06-28T08:37:52.737548",
     "status": "completed"
    },
    "tags": []
   },
   "source": [
    "Create csv and xlsx for x3"
   ]
  },
  {
   "cell_type": "code",
   "execution_count": 20,
   "id": "a0b1c6a4",
   "metadata": {
    "execution": {
     "iopub.execute_input": "2024-06-28T08:37:52.830027Z",
     "iopub.status.busy": "2024-06-28T08:37:52.828015Z",
     "iopub.status.idle": "2024-06-28T08:37:52.838567Z",
     "shell.execute_reply": "2024-06-28T08:37:52.835510Z"
    },
    "papermill": {
     "duration": 0.048523,
     "end_time": "2024-06-28T08:37:52.845540",
     "exception": false,
     "start_time": "2024-06-28T08:37:52.797017",
     "status": "completed"
    },
    "tags": []
   },
   "outputs": [],
   "source": [
    "# loadData()\n",
    "# print(buyers[19])\n",
    "# case_x3 = executeCase(custNo=19, outputFileLocation=curDir + '\\\\testOutput\\\\cust_x3')"
   ]
  },
  {
   "cell_type": "markdown",
   "id": "2d2d7f55",
   "metadata": {
    "papermill": {
     "duration": 0.02785,
     "end_time": "2024-06-28T08:37:52.902171",
     "exception": false,
     "start_time": "2024-06-28T08:37:52.874321",
     "status": "completed"
    },
    "tags": []
   },
   "source": [
    "Create csv and xlsx for x3"
   ]
  },
  {
   "cell_type": "code",
   "execution_count": 21,
   "id": "0b55f3e7",
   "metadata": {
    "execution": {
     "iopub.execute_input": "2024-06-28T08:37:52.970195Z",
     "iopub.status.busy": "2024-06-28T08:37:52.969199Z",
     "iopub.status.idle": "2024-06-28T08:37:52.982236Z",
     "shell.execute_reply": "2024-06-28T08:37:52.979186Z"
    },
    "papermill": {
     "duration": 0.049031,
     "end_time": "2024-06-28T08:37:52.986226",
     "exception": false,
     "start_time": "2024-06-28T08:37:52.937195",
     "status": "completed"
    },
    "tags": []
   },
   "outputs": [],
   "source": [
    "# loadData()\n",
    "# print(buyers[19])\n",
    "# case_x3 = executeCase(custNo=19, outputFileLocation=curDir + '\\\\testOutput\\\\cust_x3')"
   ]
  },
  {
   "cell_type": "markdown",
   "id": "c5c5991f",
   "metadata": {
    "papermill": {
     "duration": 0.030748,
     "end_time": "2024-06-28T08:37:53.049876",
     "exception": false,
     "start_time": "2024-06-28T08:37:53.019128",
     "status": "completed"
    },
    "tags": []
   },
   "source": [
    "Create csv and xlsx for x3"
   ]
  },
  {
   "cell_type": "code",
   "execution_count": 22,
   "id": "6aa8e095",
   "metadata": {
    "execution": {
     "iopub.execute_input": "2024-06-28T08:37:53.108884Z",
     "iopub.status.busy": "2024-06-28T08:37:53.106909Z",
     "iopub.status.idle": "2024-06-28T08:37:53.117484Z",
     "shell.execute_reply": "2024-06-28T08:37:53.115431Z"
    },
    "papermill": {
     "duration": 0.043591,
     "end_time": "2024-06-28T08:37:53.122474",
     "exception": false,
     "start_time": "2024-06-28T08:37:53.078883",
     "status": "completed"
    },
    "tags": []
   },
   "outputs": [],
   "source": [
    "# loadData()\n",
    "# print(buyers[19])\n",
    "# case_x3 = executeCase(custNo=19, outputFileLocation=curDir + '\\\\testOutput\\\\cust_x3')"
   ]
  },
  {
   "cell_type": "markdown",
   "id": "66c1561b",
   "metadata": {
    "papermill": {
     "duration": 0.027986,
     "end_time": "2024-06-28T08:37:53.178463",
     "exception": false,
     "start_time": "2024-06-28T08:37:53.150477",
     "status": "completed"
    },
    "tags": []
   },
   "source": [
    "Create csv and xlsx for x3"
   ]
  },
  {
   "cell_type": "code",
   "execution_count": 23,
   "id": "1cf7989c",
   "metadata": {
    "execution": {
     "iopub.execute_input": "2024-06-28T08:37:53.237476Z",
     "iopub.status.busy": "2024-06-28T08:37:53.236484Z",
     "iopub.status.idle": "2024-06-28T08:37:53.248188Z",
     "shell.execute_reply": "2024-06-28T08:37:53.245141Z"
    },
    "papermill": {
     "duration": 0.045716,
     "end_time": "2024-06-28T08:37:53.252189",
     "exception": false,
     "start_time": "2024-06-28T08:37:53.206473",
     "status": "completed"
    },
    "tags": []
   },
   "outputs": [],
   "source": [
    "# loadData()\n",
    "# print(buyers[19])\n",
    "# case_x3 = executeCase(custNo=19, outputFileLocation=curDir + '\\\\testOutput\\\\cust_x3')"
   ]
  },
  {
   "cell_type": "markdown",
   "id": "b8da7437",
   "metadata": {
    "papermill": {
     "duration": 0.030024,
     "end_time": "2024-06-28T08:37:53.311187",
     "exception": false,
     "start_time": "2024-06-28T08:37:53.281163",
     "status": "completed"
    },
    "tags": []
   },
   "source": [
    "Create csv and xlsx for x1"
   ]
  },
  {
   "cell_type": "code",
   "execution_count": 24,
   "id": "27e3db90",
   "metadata": {
    "execution": {
     "iopub.execute_input": "2024-06-28T08:37:53.391187Z",
     "iopub.status.busy": "2024-06-28T08:37:53.388176Z",
     "iopub.status.idle": "2024-06-28T08:37:53.400875Z",
     "shell.execute_reply": "2024-06-28T08:37:53.398847Z"
    },
    "papermill": {
     "duration": 0.062694,
     "end_time": "2024-06-28T08:37:53.406876",
     "exception": false,
     "start_time": "2024-06-28T08:37:53.344182",
     "status": "completed"
    },
    "tags": []
   },
   "outputs": [],
   "source": [
    "# loadData()\n",
    "# print(buyers[17])\n",
    "# case_x1 = executeCase(custNo=17, outputFileLocation=curDir + '\\\\testOutput\\\\cust_x1')"
   ]
  },
  {
   "cell_type": "markdown",
   "id": "b2fdb308",
   "metadata": {
    "papermill": {
     "duration": 0.032996,
     "end_time": "2024-06-28T08:37:53.480887",
     "exception": false,
     "start_time": "2024-06-28T08:37:53.447891",
     "status": "completed"
    },
    "tags": []
   },
   "source": [
    "Create csv and xlsx for x1"
   ]
  },
  {
   "cell_type": "code",
   "execution_count": 25,
   "id": "be9e4b27",
   "metadata": {
    "execution": {
     "iopub.execute_input": "2024-06-28T08:37:53.546897Z",
     "iopub.status.busy": "2024-06-28T08:37:53.545884Z",
     "iopub.status.idle": "2024-06-28T08:37:53.554671Z",
     "shell.execute_reply": "2024-06-28T08:37:53.552647Z"
    },
    "papermill": {
     "duration": 0.051818,
     "end_time": "2024-06-28T08:37:53.560688",
     "exception": false,
     "start_time": "2024-06-28T08:37:53.508870",
     "status": "completed"
    },
    "tags": []
   },
   "outputs": [],
   "source": [
    "# loadData()\n",
    "# print(buyers[17])\n",
    "# case_x1 = executeCase(custNo=17, outputFileLocation=curDir + '\\\\testOutput\\\\cust_x1')"
   ]
  },
  {
   "cell_type": "markdown",
   "id": "8fc57a9c",
   "metadata": {
    "papermill": {
     "duration": 0.030755,
     "end_time": "2024-06-28T08:37:53.620444",
     "exception": false,
     "start_time": "2024-06-28T08:37:53.589689",
     "status": "completed"
    },
    "tags": []
   },
   "source": [
    "Create csv and xlsx for x1"
   ]
  },
  {
   "cell_type": "code",
   "execution_count": 26,
   "id": "dfa17a11",
   "metadata": {
    "execution": {
     "iopub.execute_input": "2024-06-28T08:37:53.682608Z",
     "iopub.status.busy": "2024-06-28T08:37:53.680443Z",
     "iopub.status.idle": "2024-06-28T08:37:53.689867Z",
     "shell.execute_reply": "2024-06-28T08:37:53.687332Z"
    },
    "papermill": {
     "duration": 0.047813,
     "end_time": "2024-06-28T08:37:53.697263",
     "exception": false,
     "start_time": "2024-06-28T08:37:53.649450",
     "status": "completed"
    },
    "tags": []
   },
   "outputs": [],
   "source": [
    "# loadData()\n",
    "# print(buyers[17])\n",
    "# case_x1 = executeCase(custNo=17, outputFileLocation=curDir + '\\\\testOutput\\\\cust_x1')"
   ]
  },
  {
   "cell_type": "markdown",
   "id": "d2af8ec5",
   "metadata": {
    "papermill": {
     "duration": 0.030996,
     "end_time": "2024-06-28T08:37:53.759347",
     "exception": false,
     "start_time": "2024-06-28T08:37:53.728351",
     "status": "completed"
    },
    "tags": []
   },
   "source": [
    "Create csv and xlsx for x2"
   ]
  },
  {
   "cell_type": "code",
   "execution_count": 27,
   "id": "caece1ea",
   "metadata": {
    "execution": {
     "iopub.execute_input": "2024-06-28T08:37:53.823335Z",
     "iopub.status.busy": "2024-06-28T08:37:53.821344Z",
     "iopub.status.idle": "2024-06-28T08:37:53.832262Z",
     "shell.execute_reply": "2024-06-28T08:37:53.830201Z"
    },
    "papermill": {
     "duration": 0.048926,
     "end_time": "2024-06-28T08:37:53.837264",
     "exception": false,
     "start_time": "2024-06-28T08:37:53.788338",
     "status": "completed"
    },
    "tags": []
   },
   "outputs": [],
   "source": [
    "# loadData()\n",
    "# print(buyers[18])\n",
    "# case_x2 = executeCase(custNo=18, outputFileLocation=curDir + '\\\\testOutput\\\\cust_x2')"
   ]
  },
  {
   "cell_type": "markdown",
   "id": "b6338ee3",
   "metadata": {
    "papermill": {
     "duration": 0.029008,
     "end_time": "2024-06-28T08:37:53.896276",
     "exception": false,
     "start_time": "2024-06-28T08:37:53.867268",
     "status": "completed"
    },
    "tags": []
   },
   "source": [
    "Create csv and xlsx for x1"
   ]
  },
  {
   "cell_type": "code",
   "execution_count": 28,
   "id": "70cd7d34",
   "metadata": {
    "execution": {
     "iopub.execute_input": "2024-06-28T08:37:53.957867Z",
     "iopub.status.busy": "2024-06-28T08:37:53.956869Z",
     "iopub.status.idle": "2024-06-28T08:37:53.970159Z",
     "shell.execute_reply": "2024-06-28T08:37:53.967092Z"
    },
    "papermill": {
     "duration": 0.051328,
     "end_time": "2024-06-28T08:37:53.976192",
     "exception": false,
     "start_time": "2024-06-28T08:37:53.924864",
     "status": "completed"
    },
    "tags": []
   },
   "outputs": [],
   "source": [
    "# loadData()\n",
    "# print(buyers[17])\n",
    "# case_x1 = executeCase(custNo=17, outputFileLocation=curDir + '\\\\testOutput\\\\cust_x1')"
   ]
  },
  {
   "cell_type": "markdown",
   "id": "20f66258",
   "metadata": {
    "papermill": {
     "duration": 0.02902,
     "end_time": "2024-06-28T08:37:54.036135",
     "exception": false,
     "start_time": "2024-06-28T08:37:54.007115",
     "status": "completed"
    },
    "tags": []
   },
   "source": [
    "Create csv and xlsx for x1"
   ]
  },
  {
   "cell_type": "code",
   "execution_count": 29,
   "id": "f79a6bda",
   "metadata": {
    "execution": {
     "iopub.execute_input": "2024-06-28T08:37:54.101115Z",
     "iopub.status.busy": "2024-06-28T08:37:54.100120Z",
     "iopub.status.idle": "2024-06-28T08:37:54.111141Z",
     "shell.execute_reply": "2024-06-28T08:37:54.108113Z"
    },
    "papermill": {
     "duration": 0.047038,
     "end_time": "2024-06-28T08:37:54.116152",
     "exception": false,
     "start_time": "2024-06-28T08:37:54.069114",
     "status": "completed"
    },
    "tags": []
   },
   "outputs": [],
   "source": [
    "# loadData()\n",
    "# print(buyers[17])\n",
    "# case_x1 = executeCase(custNo=17, outputFileLocation=curDir + '\\\\testOutput\\\\cust_x1')"
   ]
  },
  {
   "cell_type": "markdown",
   "id": "2ced8827",
   "metadata": {
    "papermill": {
     "duration": 0.027978,
     "end_time": "2024-06-28T08:37:54.172049",
     "exception": false,
     "start_time": "2024-06-28T08:37:54.144071",
     "status": "completed"
    },
    "tags": []
   },
   "source": [
    "Create csv and xlsx for x1"
   ]
  },
  {
   "cell_type": "code",
   "execution_count": 30,
   "id": "ab8f24dc",
   "metadata": {
    "execution": {
     "iopub.execute_input": "2024-06-28T08:37:54.231054Z",
     "iopub.status.busy": "2024-06-28T08:37:54.231054Z",
     "iopub.status.idle": "2024-06-28T08:37:54.238980Z",
     "shell.execute_reply": "2024-06-28T08:37:54.236941Z"
    },
    "papermill": {
     "duration": 0.04494,
     "end_time": "2024-06-28T08:37:54.244987",
     "exception": false,
     "start_time": "2024-06-28T08:37:54.200047",
     "status": "completed"
    },
    "tags": []
   },
   "outputs": [],
   "source": [
    "# loadData()\n",
    "# print(buyers[17])\n",
    "# case_x1 = executeCase(custNo=17, outputFileLocation=curDir + '\\\\testOutput\\\\cust_x1')"
   ]
  },
  {
   "cell_type": "markdown",
   "id": "02c9b007",
   "metadata": {
    "papermill": {
     "duration": 0.031049,
     "end_time": "2024-06-28T08:37:54.304016",
     "exception": false,
     "start_time": "2024-06-28T08:37:54.272967",
     "status": "completed"
    },
    "tags": []
   },
   "source": [
    "Create csv and xlsx for x1"
   ]
  },
  {
   "cell_type": "code",
   "execution_count": 31,
   "id": "37fef333",
   "metadata": {
    "execution": {
     "iopub.execute_input": "2024-06-28T08:37:54.368995Z",
     "iopub.status.busy": "2024-06-28T08:37:54.367998Z",
     "iopub.status.idle": "2024-06-28T08:38:17.981623Z",
     "shell.execute_reply": "2024-06-28T08:38:17.980579Z"
    },
    "papermill": {
     "duration": 23.653615,
     "end_time": "2024-06-28T08:38:17.987600",
     "exception": false,
     "start_time": "2024-06-28T08:37:54.333985",
     "status": "completed"
    },
    "tags": []
   },
   "outputs": [
    {
     "name": "stdout",
     "output_type": "stream",
     "text": [
      "{'id': 'x1', 'group': 2.0, 'age': 30.0, 'is_married': 1.0, 'no_child': 2.0, 'month_income': 30000000.0, 'monthly_amt': 50000000.0, 'avai_amt': 20000000000.0, 'desired_location': 'Thủ Đức', 'desired_interiorStatus': nan}\n"
     ]
    }
   ],
   "source": [
    "loadData()\n",
    "print(buyers[17])\n",
    "case_x1 = executeCase(custNo=17, outputFileLocation=curDir + '\\\\testOutput\\\\cust_x1')"
   ]
  }
 ],
 "metadata": {
  "kernelspec": {
   "display_name": "Python 3 (ipykernel)",
   "language": "python",
   "name": "python3"
  },
  "language_info": {
   "codemirror_mode": {
    "name": "ipython",
    "version": 3
   },
   "file_extension": ".py",
   "mimetype": "text/x-python",
   "name": "python",
   "nbconvert_exporter": "python",
   "pygments_lexer": "ipython3",
   "version": "3.11.5"
  },
  "papermill": {
   "default_parameters": {},
   "duration": 40.251672,
   "end_time": "2024-06-28T08:38:18.800156",
   "environment_variables": {},
   "exception": null,
   "input_path": "D:\\DATN\\model\\callRule.ipynb",
   "output_path": "D:\\DATN\\model\\outputCall.ipynb",
   "parameters": {},
   "start_time": "2024-06-28T08:37:38.548484",
   "version": "2.5.0"
  }
 },
 "nbformat": 4,
 "nbformat_minor": 5
}