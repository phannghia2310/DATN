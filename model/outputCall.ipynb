{
 "cells": [
  {
   "cell_type": "code",
   "execution_count": 1,
   "id": "2e4c25e9",
   "metadata": {
    "execution": {
     "iopub.execute_input": "2024-06-15T07:04:43.180718Z",
     "iopub.status.busy": "2024-06-15T07:04:43.180718Z",
     "iopub.status.idle": "2024-06-15T07:04:44.016934Z",
     "shell.execute_reply": "2024-06-15T07:04:44.016934Z"
    },
    "papermill": {
     "duration": 0.837057,
     "end_time": "2024-06-15T07:04:44.016934",
     "exception": false,
     "start_time": "2024-06-15T07:04:43.179877",
     "status": "completed"
    },
    "tags": []
   },
   "outputs": [],
   "source": [
    "import pandas as pd\n",
    "import unicodedata\n",
    "import os\n",
    "import numpy as np\n",
    "import math"
   ]
  },
  {
   "cell_type": "code",
   "execution_count": 2,
   "id": "b7e86f9e",
   "metadata": {
    "execution": {
     "iopub.execute_input": "2024-06-15T07:04:44.030811Z",
     "iopub.status.busy": "2024-06-15T07:04:44.030811Z",
     "iopub.status.idle": "2024-06-15T07:04:44.038518Z",
     "shell.execute_reply": "2024-06-15T07:04:44.038518Z"
    },
    "papermill": {
     "duration": 0.021584,
     "end_time": "2024-06-15T07:04:44.038518",
     "exception": false,
     "start_time": "2024-06-15T07:04:44.016934",
     "status": "completed"
    },
    "tags": []
   },
   "outputs": [],
   "source": [
    "curDir= os.path.abspath(os.getcwd())\n",
    "\n",
    "if 'd:\\\\DATN\\\\model' not in curDir:\n",
    "    curDir = 'd:\\\\DATN\\\\model'\n",
    "\n",
    "# print(curDir)"
   ]
  },
  {
   "cell_type": "markdown",
   "id": "f1cee78d",
   "metadata": {
    "papermill": {
     "duration": 0.000698,
     "end_time": "2024-06-15T07:04:44.047510",
     "exception": false,
     "start_time": "2024-06-15T07:04:44.046812",
     "status": "completed"
    },
    "tags": []
   },
   "source": [
    "Function loadData để tải các dữ liệu cần thiết từ file data.xls bao gồm các sheet: \n",
    "1. ruleGroups: tập hợp các nhóm luật, bao gồm điểm nhóm, mã nhóm, điều kiện\n",
    "1. rules: các luật cụ thể của từng nhóm luật, bao gồm trọng số điểm, mã luật, điều kiện \n",
    "1. buyers: danh sách KH, và test case yêu cầu tương ứng\n",
    "1. distance: khoảng cách giữa các quận "
   ]
  },
  {
   "cell_type": "code",
   "execution_count": 3,
   "id": "b7f66def",
   "metadata": {
    "execution": {
     "iopub.execute_input": "2024-06-15T07:04:44.064969Z",
     "iopub.status.busy": "2024-06-15T07:04:44.064969Z",
     "iopub.status.idle": "2024-06-15T07:04:45.029869Z",
     "shell.execute_reply": "2024-06-15T07:04:45.028855Z"
    },
    "papermill": {
     "duration": 0.985356,
     "end_time": "2024-06-15T07:04:45.032866",
     "exception": false,
     "start_time": "2024-06-15T07:04:44.047510",
     "status": "completed"
    },
    "tags": []
   },
   "outputs": [],
   "source": [
    "### Load data\n",
    "### Sử dụng để load dữ liệu bất động sản, dữ liệu các bộ rule, và dữ liệu KH\n",
    "def loadData(isDebug=0):\n",
    "    ruleFile= curDir + '\\\\data.xlsx'\n",
    "    ### Load rules\n",
    "    global rulesDf\n",
    "    rulesDf= pd.read_excel(ruleFile, sheet_name = 'rules').apply(lambda x: x.str.strip() if x.dtype == \"object\" else x)\n",
    "    if isDebug==1:\n",
    "        print(\"Read rule list, total is: \",len(rulesDf))\n",
    "    ### Load rule group\n",
    "    global ruleGroupsDf\n",
    "    ruleGroupsDf= pd.read_excel(ruleFile, sheet_name = 'ruleGroups').apply(lambda x: x.str.strip() if x.dtype == \"object\" else x)\n",
    "    if isDebug==1:\n",
    "        print(\"\\nRead Rule groups, total is: \",len(ruleGroupsDf))\n",
    "        print(ruleGroupsDf.head(1))\n",
    "    ### Load buyer\n",
    "    global buyersDf\n",
    "    buyersDf= pd.read_excel(ruleFile, sheet_name = 'buyers').apply(lambda x: x.str.strip() if x.dtype == \"object\" else x)\n",
    "    if isDebug==1:\n",
    "        print(\"\\nBuyer: \", len(buyersDf))\n",
    "        print(buyersDf.head(1))\n",
    "    ### load houses\n",
    "    global housesDf\n",
    "    housesDf= pd.read_excel(curDir +'\\\\houseAll.xls', sheet_name = 'house').apply(lambda x: x.str.strip() if x.dtype == \"object\" else x) # full data\n",
    "    if isDebug==1:\n",
    "        print(\"\\nHouse: \",len(housesDf))\n",
    "        print(housesDf.head(1))\n",
    "    ### Load distance between district\n",
    "    global distancesDf\n",
    "    distancesDf= pd.read_excel(ruleFile, sheet_name = 'distance').apply(lambda x: x.str.strip() if x.dtype == \"object\" else x)\n",
    "    if isDebug==1:\n",
    "        print('-----------------------\\n')\n",
    "    ### change DataFrame to Dictionary\n",
    "    global rules\n",
    "    rules= rulesDf.to_dict('records')\n",
    "    if isDebug==1:\n",
    "        print(\"Rule no 0: \", rules[0])\n",
    "    global ruleGroups\n",
    "    ruleGroups= ruleGroupsDf.to_dict('records')\n",
    "    if isDebug==1:\n",
    "        print(\"Rule group no 0: \", ruleGroups[0])\n",
    "    global houses\n",
    "    houses= housesDf.to_dict('records')\n",
    "    if isDebug==1:\n",
    "        print(\"House no 0: \", houses[0])\n",
    "    global buyers\n",
    "    buyers= buyersDf.to_dict('records')\n",
    "    if isDebug==1:\n",
    "        print(\"Buyer no 0: \", buyers[0])\n",
    "\n",
    "loadData(isDebug=0)    "
   ]
  },
  {
   "cell_type": "markdown",
   "id": "3b161f1c",
   "metadata": {
    "papermill": {
     "duration": 0.007005,
     "end_time": "2024-06-15T07:04:45.047872",
     "exception": false,
     "start_time": "2024-06-15T07:04:45.040867",
     "status": "completed"
    },
    "tags": []
   },
   "source": [
    "# 0. Common Functions"
   ]
  },
  {
   "cell_type": "code",
   "execution_count": 4,
   "id": "5138826e",
   "metadata": {
    "execution": {
     "iopub.execute_input": "2024-06-15T07:04:45.062890Z",
     "iopub.status.busy": "2024-06-15T07:04:45.061888Z",
     "iopub.status.idle": "2024-06-15T07:04:45.070938Z",
     "shell.execute_reply": "2024-06-15T07:04:45.070938Z"
    },
    "papermill": {
     "duration": 0.019071,
     "end_time": "2024-06-15T07:04:45.072955",
     "exception": false,
     "start_time": "2024-06-15T07:04:45.053884",
     "status": "completed"
    },
    "tags": []
   },
   "outputs": [],
   "source": [
    "def isValidInput(x):\n",
    "    if x is None or pd.isna(x) or str(x).strip()=='': #np.isnan(x) \n",
    "        return False\n",
    "    else:\n",
    "        return True\n",
    "\n",
    "def isNotNoneInput(x):\n",
    "    if x is None or np.isnan(x) or str(x).strip()=='':\n",
    "        return False\n",
    "    else:\n",
    "        return True\n",
    "    \n",
    "def isGoodLegalStatus(x):\n",
    "    if x is None or pd.isna(x) or str(x).strip()=='': #np.isnan(x) \n",
    "        return False\n",
    "    if x in ['Sổ hồng', 'Sổ đỏ']:\n",
    "        return True    \n",
    "    return False\n",
    "\n",
    "def getValue(x, d=0):\n",
    "    if math.isnan(x):\n",
    "        return d\n",
    "    return x\n",
    "# def isNumber(x):\n",
    "#     if isValidInput(x) and"
   ]
  },
  {
   "cell_type": "markdown",
   "id": "e599b7a3",
   "metadata": {
    "papermill": {
     "duration": 0.006,
     "end_time": "2024-06-15T07:04:45.084945",
     "exception": false,
     "start_time": "2024-06-15T07:04:45.078945",
     "status": "completed"
    },
    "tags": []
   },
   "source": [
    "# 2. Hàm để tính toán điểm"
   ]
  },
  {
   "cell_type": "code",
   "execution_count": 5,
   "id": "a7e9d37d",
   "metadata": {
    "execution": {
     "iopub.execute_input": "2024-06-15T07:04:45.098957Z",
     "iopub.status.busy": "2024-06-15T07:04:45.098957Z",
     "iopub.status.idle": "2024-06-15T07:04:45.104685Z",
     "shell.execute_reply": "2024-06-15T07:04:45.103674Z"
    },
    "papermill": {
     "duration": 0.01574,
     "end_time": "2024-06-15T07:04:45.106684",
     "exception": false,
     "start_time": "2024-06-15T07:04:45.090944",
     "status": "completed"
    },
    "tags": []
   },
   "outputs": [],
   "source": [
    "# Hàm tính toán khoảng cách dựa trên 2 quận\n",
    "def fn_calculateDistance(srcPlace, tgtPlace):\n",
    "    res = distancesDf[ (distancesDf.district_name == srcPlace) & (distancesDf.district_name_2 == tgtPlace) ]\n",
    "#     print(res)\n",
    "    if len(res) == 0:\n",
    "        return  10000000\n",
    "    return round(res.iloc[0][\"fn_calculate_distance\"], 2)\n",
    "\n",
    "# fn_calculateDistance('bình thạnh', 'quận 2')\n",
    "# fn_calculateDistance('Bình Thạnh', 'Quận 2')"
   ]
  },
  {
   "cell_type": "markdown",
   "id": "a480a5e9",
   "metadata": {
    "papermill": {
     "duration": 0.005999,
     "end_time": "2024-06-15T07:04:45.119688",
     "exception": false,
     "start_time": "2024-06-15T07:04:45.113689",
     "status": "completed"
    },
    "tags": []
   },
   "source": [
    "1. Hàm calculateSingleRuleScore: dựa trên thông tin KH, thông tin BĐS, và 1 luật dẫn cụ thể để xác định ngôi nhà có thoả điều kiện của luật dẫn cho khách hàng hay không \n",
    "1. Hàm calculateScoreOfHouse: đối với mỗi khách hàng và BĐS\n",
    "- Duyệt từng nhóm luật và xác định nhóm luật có được thực thi không \n",
    "- Ứng với từng luật tính toán mức độ phù hợp của BĐS với KH\n",
    "- Tổng hợp kết quả mức độ phù hợp của BĐS"
   ]
  },
  {
   "cell_type": "code",
   "execution_count": 6,
   "id": "916f4c19",
   "metadata": {
    "execution": {
     "iopub.execute_input": "2024-06-15T07:04:45.132686Z",
     "iopub.status.busy": "2024-06-15T07:04:45.132686Z",
     "iopub.status.idle": "2024-06-15T07:04:45.593234Z",
     "shell.execute_reply": "2024-06-15T07:04:45.592224Z"
    },
    "papermill": {
     "duration": 0.470556,
     "end_time": "2024-06-15T07:04:45.596237",
     "exception": false,
     "start_time": "2024-06-15T07:04:45.125681",
     "status": "completed"
    },
    "tags": []
   },
   "outputs": [
    {
     "name": "stdout",
     "output_type": "stream",
     "text": [
      "Customer info:  {'id': 'C1', 'group': 2.0, 'age': 40.0, 'is_married': 1.0, 'no_child': 2.0, 'month_income': 50000000.0, 'monthly_amt': 40000000.0, 'avai_amt': 1500000000.0, 'desired_location': 'Quận 7', 'desired_interiorStatus': nan} \n",
      "-------------------\n",
      "\tCode of group A  | Group condition: isValidInput( buyerInfo.get(\"group\") )  and isValidInput( buyerInfo.get(\"is_married\") )  and isValidInput( buyerInfo.get(\"no_child\") )  and isValidInput(houseInfo.get(\"no_bedroom\") )\n",
      "Break rule code:  A\n",
      "\tCode of group B  | Group condition: buyerInfo.get(\"avai_amt\") is not None and buyerInfo.get(\"monthly_amt\") is not None\n",
      "{'rule_group': 'B', 'rule_code': 'B1', 'score': 1.0, 'rule_expression': 'houseInfo.get(\"price\") >= 0.9 * buyerInfo.get(\"avai_amt\") and houseInfo.get(\"price\") <= buyerInfo.get(\"avai_amt\")', 'rule_desc': 'Nếu giá của ngôi nhà bằng khoảng 0.9-1 số tiền người mua hiện có', 'rule_expression_backup': 'houseInfo.get(\"price\") >= 0.8 * buyerInfo.get(\"avai_amt\")'}\n",
      "0\n",
      "{'rule_group': 'B', 'rule_code': 'B2', 'score': 0.8, 'rule_expression': '( buyerInfo.get(\"avai_amt\")  >= 0.75 * houseInfo.get(\"price\") and houseInfo.get(\"price\") > buyerInfo.get(\"avai_amt\") ) and ( (buyerInfo.get(\"avai_amt\") + 12* buyerInfo.get(\"monthly_amt\")) >= houseInfo.get(\"price\"))', 'rule_desc': 'Nếu người mua có sẵn 0.75 giá trị ngôi nhà, và người mua có khả năng trả góp trong 12 tháng', 'rule_expression_backup': nan}\n",
      "0\n",
      "{'rule_group': 'B', 'rule_code': 'B3', 'score': 0.6, 'rule_expression': '( buyerInfo.get(\"avai_amt\")  >= 0.5 * houseInfo.get(\"price\") and houseInfo.get(\"price\") > buyerInfo.get(\"avai_amt\") ) and ( (buyerInfo.get(\"avai_amt\") + 24* buyerInfo.get(\"monthly_amt\")) >= houseInfo.get(\"price\"))', 'rule_desc': 'Nếu người mua có sẵn 0.5 giá trị ngôi nhà, và người mua có khả năng trả góp trong 24 tháng', 'rule_expression_backup': 'houseInfo.get(\"price\") >= 0.5 * buyerInfo.get(\"avai_amt\") and ( (0.5 * buyerInfo.get(\"avai_amt\") + 24* buyerInfo.get(\"monthly_amt\")) >= houseInfo.get(\"price\"))'}\n",
      "0\n",
      "{'rule_group': 'B', 'rule_code': 'B4', 'score': 0.5, 'rule_expression': '( buyerInfo.get(\"avai_amt\")  >= 0.5 * houseInfo.get(\"price\") and houseInfo.get(\"price\") > buyerInfo.get(\"avai_amt\") ) and ( (buyerInfo.get(\"avai_amt\") + 60* buyerInfo.get(\"monthly_amt\")) >= houseInfo.get(\"price\"))', 'rule_desc': 'Nếu người mua có sẵn 0.5 giá trị ngôi nhà, và người mua có khả năng trả góp trong 60 tháng (5 năm)', 'rule_expression_backup': nan}\n",
      "0\n",
      "{'rule_group': 'B', 'rule_code': 'B5', 'score': 1.0, 'rule_expression': 'getValue(buyerInfo.get(\"group\",  0))  == 4 and ( houseInfo.get(\"price\") >= 0.8 * buyerInfo.get(\"avai_amt\") and houseInfo.get(\"price\") <= buyerInfo.get(\"avai_amt\")*1.2 )', 'rule_desc': 'Nếu người mua thuộc nhóm 4, ngôi nhà trong khoảng 0.8-1.2 số tiền sẵn có', 'rule_expression_backup': nan}\n",
      "0\n",
      "{'rule_group': 'B', 'rule_code': 'B6', 'score': 0.0, 'rule_expression': 'getValue(buyerInfo.get(\"group\",  0))  == 4 and ( houseInfo.get(\"price\") < 0.8 * buyerInfo.get(\"avai_amt\") and houseInfo.get(\"price\") > buyerInfo.get(\"avai_amt\")*1.2 )', 'rule_desc': 'Nếu người mua thuộc nhóm 4, ngôi nhà nhỏ hơn 0.8 hoặc lớn hơn 1.2 số tiền sẵn có', 'rule_expression_backup': nan}\n",
      "0\n",
      "\tCode of group C  | Group condition: isValidInput( buyerInfo.get(\"desired_location\") ) and isValidInput( houseInfo.get(\"address_district\") )\n",
      "{'rule_group': 'C', 'rule_code': 'C1', 'score': 1.0, 'rule_expression': 'fn_calculateDistance(houseInfo.get(\"address_district\"), buyerInfo.get(\"desired_location\")) <= 2', 'rule_desc': 'Nếu trong phạm vi 2km', 'rule_expression_backup': nan}\n",
      "0\n",
      "{'rule_group': 'C', 'rule_code': 'C2', 'score': 0.8, 'rule_expression': 'fn_calculateDistance(houseInfo.get(\"address_district\"), buyerInfo.get(\"desired_location\")) <= 4', 'rule_desc': nan, 'rule_expression_backup': nan}\n",
      "0\n",
      "{'rule_group': 'C', 'rule_code': 'C3', 'score': 0.5, 'rule_expression': 'fn_calculateDistance(houseInfo.get(\"address_district\"), buyerInfo.get(\"desired_location\")) <= 6', 'rule_desc': nan, 'rule_expression_backup': nan}\n",
      "0\n",
      "\tCode of group D  | Group condition: 1==1\n",
      "{'rule_group': 'D', 'rule_code': 'D1', 'score': 1.0, 'rule_expression': 'isGoodLegalStatus(houseInfo.get(\"legal_status\"))', 'rule_desc': 'Có giấy tờ', 'rule_expression_backup': 'houseInfo.get(\"legal_status\") in [\\'Sổ hồng\\', \\'Sổ đỏ\\']'}\n",
      "1.0\n",
      "{'rule_group': 'D', 'rule_code': 'D2', 'score': 0.2, 'rule_expression': 'isGoodLegalStatus(houseInfo.get(\"legal_status\")) is not True and getValue(buyerInfo.get(\"group\",  0)) in (1, 3,4)', 'rule_desc': 'K giấy tờ và người mua có nhóm thuộc (1,3,4)', 'rule_expression_backup': nan}\n",
      "0\n",
      "{'rule_group': 'D', 'rule_code': 'D3', 'score': 0.4, 'rule_expression': 'isGoodLegalStatus(houseInfo.get(\"legal_status\")) is not True and getValue(buyerInfo.get(\"group\",  0)) not in (1, 3,4)', 'rule_desc': 'Các trường hợp k giấy tờ còn lại', 'rule_expression_backup': nan}\n",
      "0\n",
      "REPORT:\n",
      "Total calculated Score:  8.0\n",
      "Max Score from Groups:  23.0\n",
      "-------------\n",
      "\n"
     ]
    }
   ],
   "source": [
    "### version 2\n",
    "def calculateSingleRuleScore(buyerInfo, houseInfo, ruleInfo, **kwargs):\n",
    "    ### get-set key-value from parent function\n",
    "    for key, value in kwargs.items():\n",
    "        locals()[key] = value\n",
    "    ruleScore = ruleInfo.get(\"score\")\n",
    "    ### execute rule\n",
    "    ruleExpression = unicodedata.normalize('NFKD', ruleInfo.get(\"rule_expression\")).strip() \n",
    "    exprValue = eval(ruleExpression)\n",
    "    # print(f'exprValue: {ruleScore}')\n",
    "    if exprValue > 0:\n",
    "        return ruleScore\n",
    "    else:\n",
    "        return 0\n",
    "    \n",
    "def calculateScoreOfHouse(buyerInfo, houseInfo, ruleDf, ruleGroupList, isDebugRule=0):\n",
    "    pre_defined_kwargs = {}\n",
    "    _calRuleGroup = []\n",
    "    for ruleGroup in ruleGroupList:\n",
    "        groupCondition = unicodedata.normalize('NFKD', ruleGroup.get(\"conditions\")).strip()\n",
    "        groupScore= float(ruleGroup.get(\"group_point\"))\n",
    "        groupCode= ruleGroup.get(\"rule_group\")\n",
    "        ruleGroupCode =  ruleGroup.get(\"rule_group\")\n",
    "        groupRes={'groupCode': groupCode, 'groupCondition': groupCondition, 'groupScore': groupScore}\n",
    "        if isDebugRule==1:\n",
    "            print(\"\\tCode of group\", ruleGroupCode, \" | Group condition:\", groupCondition)\n",
    "        if eval(groupCondition) is False:\n",
    "            if isDebugRule==1:\n",
    "                print(\"Break rule code: \", ruleGroupCode)\n",
    "        else:\n",
    "            curRule= {}\n",
    "            curScore= 0\n",
    "            filteredRuleList = ruleDf[ruleDf['rule_group'] == ruleGroupCode].to_dict('records')\n",
    "            ### iterate each rule in Group, if condition matches and higher score, set this rule as result for group\n",
    "            for r in filteredRuleList:\n",
    "                if isDebugRule==1:\n",
    "                    print(r)\n",
    "                _score = calculateSingleRuleScore(buyerInfo, houseInfo, r, **pre_defined_kwargs)\n",
    "                if isDebugRule==1:\n",
    "                    print(_score)\n",
    "                if _score > 0 and _score > curScore:\n",
    "                    curRule= r\n",
    "                    curScore=_score\n",
    "            groupRes.update(curRule)            \n",
    "            groupRes.update({'calRuleScore': curScore*groupScore})\n",
    "            _calRuleGroup.append(groupRes)\n",
    "    # calculate total score\n",
    "    _maxScore= 0\n",
    "    _totalScore=0\n",
    "    for c in _calRuleGroup:\n",
    "        _maxScore+= c.get(\"groupScore\", 0)\n",
    "        _totalScore+= c.get(\"calRuleScore\", 0)\n",
    "    if isDebugRule==1:\n",
    "        print('REPORT:')\n",
    "        print('Total calculated Score: ',_totalScore)\n",
    "        print('Max Score from Groups: ', _maxScore)\n",
    "    _housePerf= 0.0\n",
    "    if _maxScore != 0:\n",
    "        _housePerf=round(_totalScore*100/_maxScore, 2)\n",
    "    _res= {'executedRuleGroup': _calRuleGroup, 'houseInfo': houseInfo,\n",
    "           'maxScore': _maxScore, 'houseScore': _totalScore, 'housePerformance':_housePerf,\n",
    "           'buyerInfo': buyerInfo}\n",
    "    _res.update(buyerInfo)\n",
    "    _res.update(houseInfo)\n",
    "    return _res\n",
    "\n",
    "loadData()\n",
    "\n",
    "c=11\n",
    "print('Customer info: ', buyers[c],'\\n-------------------')\n",
    "for i in range(0,1):\n",
    "    _houseEvaluation= calculateScoreOfHouse(buyers[c], houses[i], rulesDf, ruleGroups, isDebugRule= 1)\n",
    "    # print(_houseEvaluation)\n",
    "    print('-------------\\n')"
   ]
  },
  {
   "cell_type": "markdown",
   "id": "87e8c90f",
   "metadata": {
    "papermill": {
     "duration": 0.007002,
     "end_time": "2024-06-15T07:04:45.609234",
     "exception": false,
     "start_time": "2024-06-15T07:04:45.602232",
     "status": "completed"
    },
    "tags": []
   },
   "source": [
    "Hàm executeCase: duyệt từng BĐS và xác định mực độ phù hợp của các BĐS"
   ]
  },
  {
   "cell_type": "code",
   "execution_count": 7,
   "id": "20493407",
   "metadata": {
    "execution": {
     "iopub.execute_input": "2024-06-15T07:04:45.623235Z",
     "iopub.status.busy": "2024-06-15T07:04:45.622236Z",
     "iopub.status.idle": "2024-06-15T07:04:45.627947Z",
     "shell.execute_reply": "2024-06-15T07:04:45.627947Z"
    },
    "papermill": {
     "duration": 0.015721,
     "end_time": "2024-06-15T07:04:45.630958",
     "exception": false,
     "start_time": "2024-06-15T07:04:45.615237",
     "status": "completed"
    },
    "tags": []
   },
   "outputs": [],
   "source": [
    "def executeCase(custNo=0, outputFileLocation=curDir + '\\\\testOutput\\\\cust_6'):\n",
    "    csv_file = outputFileLocation + '.csv'\n",
    "    xlsx_file = outputFileLocation + '.xlsx'\n",
    "    \n",
    "    if os.path.exists(csv_file):\n",
    "        os.remove(csv_file)\n",
    "    if os.path.exists(xlsx_file):\n",
    "        os.remove(xlsx_file)\n",
    "    \n",
    "    _housePerformanceList=[] \n",
    "    for i in houses:\n",
    "        _houseEvaluation= calculateScoreOfHouse(buyers[custNo], i, rulesDf, ruleGroups, isDebugRule= 0)\n",
    "        _housePerformanceList.append(_houseEvaluation)\n",
    "    _housePrfmDf= pd.DataFrame.from_dict(_housePerformanceList)\n",
    "    _housePrfmDf.to_csv(outputFileLocation +'.csv', index=False, quotechar= '\"' )\n",
    "    _housePrfmDf.to_excel(outputFileLocation+'.xlsx')\n",
    "    return _housePerformanceList\n"
   ]
  },
  {
   "cell_type": "markdown",
   "id": "af7a0895",
   "metadata": {
    "papermill": {
     "duration": 0.007,
     "end_time": "2024-06-15T07:04:45.644956",
     "exception": false,
     "start_time": "2024-06-15T07:04:45.637956",
     "status": "completed"
    },
    "tags": []
   },
   "source": [
    "## Execute Test case"
   ]
  },
  {
   "cell_type": "markdown",
   "id": "cdc66a08",
   "metadata": {
    "papermill": {
     "duration": 0.005998,
     "end_time": "2024-06-15T07:04:45.657960",
     "exception": false,
     "start_time": "2024-06-15T07:04:45.651962",
     "status": "completed"
    },
    "tags": []
   },
   "source": [
    "## Hướng dẫn\n",
    "1. Các function đã được định nghĩa  \n",
    "1. Tất cả dữ liệu, bộ rule, và dữ liệu về KH được lưu trong file --> update dựa trên file excel này  \n",
    "1. Chạy các test case KH bằng hàm executeCase với tham số là số thứ tự KH tương ứng trong excel và vị trí file output"
   ]
  },
  {
   "cell_type": "markdown",
   "id": "4d983c09",
   "metadata": {
    "papermill": {
     "duration": 0.005524,
     "end_time": "2024-06-15T07:04:45.670494",
     "exception": false,
     "start_time": "2024-06-15T07:04:45.664970",
     "status": "completed"
    },
    "tags": []
   },
   "source": [
    "### Test case for Complex rules"
   ]
  },
  {
   "cell_type": "code",
   "execution_count": 8,
   "id": "56a9c736",
   "metadata": {
    "execution": {
     "iopub.execute_input": "2024-06-15T07:04:45.688491Z",
     "iopub.status.busy": "2024-06-15T07:04:45.688491Z",
     "iopub.status.idle": "2024-06-15T07:04:45.693242Z",
     "shell.execute_reply": "2024-06-15T07:04:45.692229Z"
    },
    "papermill": {
     "duration": 0.018759,
     "end_time": "2024-06-15T07:04:45.696249",
     "exception": false,
     "start_time": "2024-06-15T07:04:45.677490",
     "status": "completed"
    },
    "tags": []
   },
   "outputs": [],
   "source": [
    "# loadData()\n",
    "# # Done case X1\n",
    "# print(buyers[15])\n",
    "# case_a1= executeCase(custNo= 15, outputFileLocation=curDir + '\\\\testOutput\\\\cust_x1')"
   ]
  },
  {
   "cell_type": "markdown",
   "id": "1bad89b8",
   "metadata": {
    "papermill": {
     "duration": 0.010003,
     "end_time": "2024-06-15T07:04:45.716244",
     "exception": false,
     "start_time": "2024-06-15T07:04:45.706241",
     "status": "completed"
    },
    "tags": []
   },
   "source": [
    "### Test case for No_Bed_Room rules"
   ]
  },
  {
   "cell_type": "code",
   "execution_count": 9,
   "id": "655f1015",
   "metadata": {
    "execution": {
     "iopub.execute_input": "2024-06-15T07:04:45.735242Z",
     "iopub.status.busy": "2024-06-15T07:04:45.735242Z",
     "iopub.status.idle": "2024-06-15T07:04:45.739988Z",
     "shell.execute_reply": "2024-06-15T07:04:45.738973Z"
    },
    "papermill": {
     "duration": 0.018752,
     "end_time": "2024-06-15T07:04:45.742991",
     "exception": false,
     "start_time": "2024-06-15T07:04:45.724239",
     "status": "completed"
    },
    "tags": []
   },
   "outputs": [],
   "source": [
    "# loadData()\n",
    "# print(buyers[4])\n",
    "# case_a1= executeCase(custNo= 4, outputFileLocation='testOutput\\\\cust_a1')\n",
    "# print(buyers[5])\n",
    "# case_a2= executeCase(custNo= 5, outputFileLocation='testOutput\\\\cust_a2')\n",
    "# print(buyers[6])\n",
    "# case_a3= executeCase(custNo= 6, outputFileLocation='testOutput\\\\cust_a3')\n"
   ]
  },
  {
   "cell_type": "markdown",
   "id": "e5a5e5dd",
   "metadata": {
    "papermill": {
     "duration": 0.005998,
     "end_time": "2024-06-15T07:04:45.759008",
     "exception": false,
     "start_time": "2024-06-15T07:04:45.753010",
     "status": "completed"
    },
    "tags": []
   },
   "source": [
    "### Test case for LOCATION rules"
   ]
  },
  {
   "cell_type": "code",
   "execution_count": 10,
   "id": "ac25f8b6",
   "metadata": {
    "execution": {
     "iopub.execute_input": "2024-06-15T07:04:45.774538Z",
     "iopub.status.busy": "2024-06-15T07:04:45.773541Z",
     "iopub.status.idle": "2024-06-15T07:04:45.777310Z",
     "shell.execute_reply": "2024-06-15T07:04:45.777310Z"
    },
    "papermill": {
     "duration": 0.0148,
     "end_time": "2024-06-15T07:04:45.781327",
     "exception": false,
     "start_time": "2024-06-15T07:04:45.766527",
     "status": "completed"
    },
    "tags": []
   },
   "outputs": [],
   "source": [
    "# loadData()\n",
    "# print(buyers[11])\n",
    "# case_c1= executeCase(custNo= 11, outputFileLocation='testOutput\\\\cust_c1')\n",
    "# print(buyers[12])\n",
    "# case_c2= executeCase(custNo= 12, outputFileLocation='testOutput\\\\cust_c2')\n",
    "# print(buyers[13])\n",
    "# case_c3= executeCase(custNo= 13, outputFileLocation='testOutput\\\\cust_c3')\n"
   ]
  },
  {
   "cell_type": "markdown",
   "id": "39c163d7",
   "metadata": {
    "papermill": {
     "duration": 0.006001,
     "end_time": "2024-06-15T07:04:45.793320",
     "exception": false,
     "start_time": "2024-06-15T07:04:45.787319",
     "status": "completed"
    },
    "tags": []
   },
   "source": [
    "### Test case for PAPER rules"
   ]
  },
  {
   "cell_type": "code",
   "execution_count": 11,
   "id": "e7b7e3d0",
   "metadata": {
    "execution": {
     "iopub.execute_input": "2024-06-15T07:04:45.808321Z",
     "iopub.status.busy": "2024-06-15T07:04:45.807322Z",
     "iopub.status.idle": "2024-06-15T07:04:45.811315Z",
     "shell.execute_reply": "2024-06-15T07:04:45.811315Z"
    },
    "papermill": {
     "duration": 0.014009,
     "end_time": "2024-06-15T07:04:45.814326",
     "exception": false,
     "start_time": "2024-06-15T07:04:45.800317",
     "status": "completed"
    },
    "tags": []
   },
   "outputs": [],
   "source": [
    "# loadData()\n",
    "# print(buyers[14])\n",
    "# case_d1= executeCase(custNo= 14, outputFileLocation='testOutput\\\\cust_d1')"
   ]
  },
  {
   "cell_type": "markdown",
   "id": "e5c967aa",
   "metadata": {
    "papermill": {
     "duration": 0.006003,
     "end_time": "2024-06-15T07:04:45.826325",
     "exception": false,
     "start_time": "2024-06-15T07:04:45.820322",
     "status": "completed"
    },
    "tags": []
   },
   "source": [
    "### Test case for FIN rules"
   ]
  },
  {
   "cell_type": "code",
   "execution_count": 12,
   "id": "85281fa4",
   "metadata": {
    "execution": {
     "iopub.execute_input": "2024-06-15T07:04:45.839325Z",
     "iopub.status.busy": "2024-06-15T07:04:45.839325Z",
     "iopub.status.idle": "2024-06-15T07:04:45.843213Z",
     "shell.execute_reply": "2024-06-15T07:04:45.843213Z"
    },
    "papermill": {
     "duration": 0.013899,
     "end_time": "2024-06-15T07:04:45.846225",
     "exception": false,
     "start_time": "2024-06-15T07:04:45.832326",
     "status": "completed"
    },
    "tags": []
   },
   "outputs": [],
   "source": [
    "# loadData()\n",
    "# print(buyers[7])\n",
    "# case_b1= executeCase(custNo= 7, outputFileLocation='testOutput\\\\cust_b1')\n",
    "# print(buyers[8])\n",
    "# case_b2= executeCase(custNo= 8, outputFileLocation='testOutput\\\\cust_b2')\n",
    "# print(buyers[9])\n",
    "# case_b3= executeCase(custNo= 9, outputFileLocation='testOutput\\\\cust_b3')\n",
    "# print(buyers[10])\n",
    "# case_b4= executeCase(custNo= 10, outputFileLocation='testOutput\\\\cust_b4')\n"
   ]
  },
  {
   "cell_type": "code",
   "execution_count": 13,
   "id": "205dbfbb",
   "metadata": {
    "execution": {
     "iopub.execute_input": "2024-06-15T07:04:45.860235Z",
     "iopub.status.busy": "2024-06-15T07:04:45.860235Z",
     "iopub.status.idle": "2024-06-15T07:04:45.864925Z",
     "shell.execute_reply": "2024-06-15T07:04:45.863913Z"
    },
    "papermill": {
     "duration": 0.014225,
     "end_time": "2024-06-15T07:04:45.867451",
     "exception": false,
     "start_time": "2024-06-15T07:04:45.853226",
     "status": "completed"
    },
    "tags": []
   },
   "outputs": [],
   "source": [
    "# loadData()\n",
    "# print(buyers[15])\n",
    "# case_x1 = executeCase(custNo=15, outputFileLocation='testOutput\\\\cust_x1')\n",
    "# print(buyers[16])\n",
    "# case_x2 = executeCase(custNo=16, outputFileLocation='testOutput\\\\cust_x2')"
   ]
  },
  {
   "cell_type": "markdown",
   "id": "c6044cdb",
   "metadata": {
    "papermill": {
     "duration": 0.007003,
     "end_time": "2024-06-15T07:04:45.880454",
     "exception": false,
     "start_time": "2024-06-15T07:04:45.873451",
     "status": "completed"
    },
    "tags": []
   },
   "source": [
    "Create csv and xlsx for x1"
   ]
  },
  {
   "cell_type": "code",
   "execution_count": 14,
   "id": "3392b3c0",
   "metadata": {
    "execution": {
     "iopub.execute_input": "2024-06-15T07:04:45.894460Z",
     "iopub.status.busy": "2024-06-15T07:04:45.893457Z",
     "iopub.status.idle": "2024-06-15T07:04:45.898175Z",
     "shell.execute_reply": "2024-06-15T07:04:45.897153Z"
    },
    "papermill": {
     "duration": 0.013721,
     "end_time": "2024-06-15T07:04:45.900170",
     "exception": false,
     "start_time": "2024-06-15T07:04:45.886449",
     "status": "completed"
    },
    "tags": []
   },
   "outputs": [],
   "source": [
    "# loadData()\n",
    "# print(buyers[17])\n",
    "# case_x1 = executeCase(custNo=17, outputFileLocation=curDir + '\\\\testOutput\\\\cust_x1')"
   ]
  },
  {
   "cell_type": "markdown",
   "id": "784c0917",
   "metadata": {
    "papermill": {
     "duration": 0.006003,
     "end_time": "2024-06-15T07:04:45.912168",
     "exception": false,
     "start_time": "2024-06-15T07:04:45.906165",
     "status": "completed"
    },
    "tags": []
   },
   "source": [
    "Create csv and xlsx for x2"
   ]
  },
  {
   "cell_type": "code",
   "execution_count": 15,
   "id": "fe6664b7",
   "metadata": {
    "execution": {
     "iopub.execute_input": "2024-06-15T07:04:45.984707Z",
     "iopub.status.busy": "2024-06-15T07:04:45.983705Z",
     "iopub.status.idle": "2024-06-15T07:04:45.988233Z",
     "shell.execute_reply": "2024-06-15T07:04:45.988233Z"
    },
    "papermill": {
     "duration": 0.073075,
     "end_time": "2024-06-15T07:04:45.991240",
     "exception": false,
     "start_time": "2024-06-15T07:04:45.918165",
     "status": "completed"
    },
    "tags": []
   },
   "outputs": [],
   "source": [
    "# loadData()\n",
    "# print(buyers[18])\n",
    "# case_x2 = executeCase(custNo=18, outputFileLocation=curDir + '\\\\testOutput\\\\cust_x2')"
   ]
  },
  {
   "cell_type": "markdown",
   "id": "ddad0a6b",
   "metadata": {
    "papermill": {
     "duration": 0.005993,
     "end_time": "2024-06-15T07:04:46.003240",
     "exception": false,
     "start_time": "2024-06-15T07:04:45.997247",
     "status": "completed"
    },
    "tags": []
   },
   "source": [
    "Create csv and xlsx for x2"
   ]
  },
  {
   "cell_type": "code",
   "execution_count": 16,
   "id": "bd47f1cb",
   "metadata": {
    "execution": {
     "iopub.execute_input": "2024-06-15T07:04:46.018246Z",
     "iopub.status.busy": "2024-06-15T07:04:46.018246Z",
     "iopub.status.idle": "2024-06-15T07:04:55.778778Z",
     "shell.execute_reply": "2024-06-15T07:04:55.778778Z"
    },
    "papermill": {
     "duration": 9.769539,
     "end_time": "2024-06-15T07:04:55.778778",
     "exception": false,
     "start_time": "2024-06-15T07:04:46.009239",
     "status": "completed"
    },
    "tags": []
   },
   "outputs": [
    {
     "name": "stdout",
     "output_type": "stream",
     "text": [
      "{'id': 'x2', 'group': 1.0, 'age': 30.0, 'is_married': 0.0, 'no_child': 0.0, 'month_income': 30000000.0, 'monthly_amt': 40000000.0, 'avai_amt': 3000000000.0, 'desired_location': 'Quận 10', 'desired_interiorStatus': nan}\n"
     ]
    }
   ],
   "source": [
    "loadData()\n",
    "print(buyers[18])\n",
    "case_x2 = executeCase(custNo=18, outputFileLocation=curDir + '\\\\testOutput\\\\cust_x2')"
   ]
  }
 ],
 "metadata": {
  "kernelspec": {
   "display_name": "Python 3 (ipykernel)",
   "language": "python",
   "name": "python3"
  },
  "language_info": {
   "codemirror_mode": {
    "name": "ipython",
    "version": 3
   },
   "file_extension": ".py",
   "mimetype": "text/x-python",
   "name": "python",
   "nbconvert_exporter": "python",
   "pygments_lexer": "ipython3",
   "version": "3.11.5"
  },
  "papermill": {
   "default_parameters": {},
   "duration": 16.723883,
   "end_time": "2024-06-15T07:04:56.219114",
   "environment_variables": {},
   "exception": null,
   "input_path": "D:\\DATN\\model\\callRule.ipynb",
   "output_path": "D:\\DATN\\model\\outputCall.ipynb",
   "parameters": {},
   "start_time": "2024-06-15T07:04:39.495231",
   "version": "2.5.0"
  }
 },
 "nbformat": 4,
 "nbformat_minor": 5
}