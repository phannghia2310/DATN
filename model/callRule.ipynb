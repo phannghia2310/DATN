{
 "cells": [
  {
   "cell_type": "code",
   "execution_count": 46,
   "id": "2e4c25e9",
   "metadata": {
    "execution": {
     "iopub.execute_input": "2024-05-21T09:19:55.517672Z",
     "iopub.status.busy": "2024-05-21T09:19:55.516674Z",
     "iopub.status.idle": "2024-05-21T09:19:56.331777Z",
     "shell.execute_reply": "2024-05-21T09:19:56.330763Z"
    },
    "papermill": {
     "duration": 0.828103,
     "end_time": "2024-05-21T09:19:56.334775",
     "exception": false,
     "start_time": "2024-05-21T09:19:55.506672",
     "status": "completed"
    },
    "tags": []
   },
   "outputs": [],
   "source": [
    "import pandas as pd\n",
    "import unicodedata\n",
    "import os\n",
    "import numpy as np\n",
    "import math"
   ]
  },
  {
   "cell_type": "code",
   "execution_count": 47,
   "id": "b7e86f9e",
   "metadata": {
    "execution": {
     "iopub.execute_input": "2024-05-21T09:19:56.347774Z",
     "iopub.status.busy": "2024-05-21T09:19:56.346776Z",
     "iopub.status.idle": "2024-05-21T09:19:56.352834Z",
     "shell.execute_reply": "2024-05-21T09:19:56.352834Z"
    },
    "papermill": {
     "duration": 0.015068,
     "end_time": "2024-05-21T09:19:56.354845",
     "exception": false,
     "start_time": "2024-05-21T09:19:56.339777",
     "status": "completed"
    },
    "tags": []
   },
   "outputs": [],
   "source": [
    "curDir= os.path.abspath(os.getcwd())\n",
    "\n",
    "if 'd:\\\\DATN\\\\model' not in curDir:\n",
    "    curDir = 'd:\\\\DATN\\\\model'\n",
    "\n",
    "# print(curDir)"
   ]
  },
  {
   "cell_type": "markdown",
   "id": "f1cee78d",
   "metadata": {
    "papermill": {
     "duration": 0.004998,
     "end_time": "2024-05-21T09:19:56.365844",
     "exception": false,
     "start_time": "2024-05-21T09:19:56.360846",
     "status": "completed"
    },
    "tags": []
   },
   "source": [
    "Function loadData để tải các dữ liệu cần thiết từ file data.xls bao gồm các sheet: \n",
    "1. ruleGroups: tập hợp các nhóm luật, bao gồm điểm nhóm, mã nhóm, điều kiện\n",
    "1. rules: các luật cụ thể của từng nhóm luật, bao gồm trọng số điểm, mã luật, điều kiện \n",
    "1. buyers: danh sách KH, và test case yêu cầu tương ứng\n",
    "1. distance: khoảng cách giữa các quận "
   ]
  },
  {
   "cell_type": "code",
   "execution_count": 48,
   "id": "b7f66def",
   "metadata": {
    "execution": {
     "iopub.execute_input": "2024-05-21T09:19:56.379848Z",
     "iopub.status.busy": "2024-05-21T09:19:56.378850Z",
     "iopub.status.idle": "2024-05-21T09:19:57.362308Z",
     "shell.execute_reply": "2024-05-21T09:19:57.361285Z"
    },
    "papermill": {
     "duration": 0.992462,
     "end_time": "2024-05-21T09:19:57.365309",
     "exception": false,
     "start_time": "2024-05-21T09:19:56.372847",
     "status": "completed"
    },
    "tags": []
   },
   "outputs": [],
   "source": [
    "### Load data\n",
    "### Sử dụng để load dữ liệu bất động sản, dữ liệu các bộ rule, và dữ liệu KH\n",
    "def loadData(isDebug=0):\n",
    "    ruleFile= curDir + '\\\\data.xlsx'\n",
    "    ### Load rules\n",
    "    global rulesDf\n",
    "    rulesDf= pd.read_excel(ruleFile, sheet_name = 'rules').apply(lambda x: x.str.strip() if x.dtype == \"object\" else x)\n",
    "    if isDebug==1:\n",
    "        print(\"Read rule list, total is: \",len(rulesDf))\n",
    "    ### Load rule group\n",
    "    global ruleGroupsDf\n",
    "    ruleGroupsDf= pd.read_excel(ruleFile, sheet_name = 'ruleGroups').apply(lambda x: x.str.strip() if x.dtype == \"object\" else x)\n",
    "    if isDebug==1:\n",
    "        print(\"\\nRead Rule groups, total is: \",len(ruleGroupsDf))\n",
    "        print(ruleGroupsDf.head(1))\n",
    "    ### Load buyer\n",
    "    global buyersDf\n",
    "    buyersDf= pd.read_excel(ruleFile, sheet_name = 'buyers').apply(lambda x: x.str.strip() if x.dtype == \"object\" else x)\n",
    "    if isDebug==1:\n",
    "        print(\"\\nBuyer: \", len(buyersDf))\n",
    "        print(buyersDf.head(1))\n",
    "    ### load houses\n",
    "    global housesDf\n",
    "    housesDf= pd.read_excel(curDir +'\\\\houseAll.xls', sheet_name = 'house').apply(lambda x: x.str.strip() if x.dtype == \"object\" else x) # full data\n",
    "    if isDebug==1:\n",
    "        print(\"\\nHouse: \",len(housesDf))\n",
    "        print(housesDf.head(1))\n",
    "    ### Load distance between district\n",
    "    global distancesDf\n",
    "    distancesDf= pd.read_excel(ruleFile, sheet_name = 'distance').apply(lambda x: x.str.strip() if x.dtype == \"object\" else x)\n",
    "    if isDebug==1:\n",
    "        print('-----------------------\\n')\n",
    "    ### change DataFrame to Dictionary\n",
    "    global rules\n",
    "    rules= rulesDf.to_dict('records')\n",
    "    if isDebug==1:\n",
    "        print(\"Rule no 0: \", rules[0])\n",
    "    global ruleGroups\n",
    "    ruleGroups= ruleGroupsDf.to_dict('records')\n",
    "    if isDebug==1:\n",
    "        print(\"Rule group no 0: \", ruleGroups[0])\n",
    "    global houses\n",
    "    houses= housesDf.to_dict('records')\n",
    "    if isDebug==1:\n",
    "        print(\"House no 0: \", houses[0])\n",
    "    global buyers\n",
    "    buyers= buyersDf.to_dict('records')\n",
    "    if isDebug==1:\n",
    "        print(\"Buyer no 0: \", buyers[0])\n",
    "\n",
    "loadData(isDebug=0)    "
   ]
  },
  {
   "cell_type": "markdown",
   "id": "3b161f1c",
   "metadata": {
    "papermill": {
     "duration": 0.008001,
     "end_time": "2024-05-21T09:19:57.379311",
     "exception": false,
     "start_time": "2024-05-21T09:19:57.371310",
     "status": "completed"
    },
    "tags": []
   },
   "source": [
    "# 0. Common Functions"
   ]
  },
  {
   "cell_type": "code",
   "execution_count": 49,
   "id": "5138826e",
   "metadata": {
    "execution": {
     "iopub.execute_input": "2024-05-21T09:19:57.391314Z",
     "iopub.status.busy": "2024-05-21T09:19:57.391314Z",
     "iopub.status.idle": "2024-05-21T09:19:57.396520Z",
     "shell.execute_reply": "2024-05-21T09:19:57.396520Z"
    },
    "papermill": {
     "duration": 0.014222,
     "end_time": "2024-05-21T09:19:57.398532",
     "exception": false,
     "start_time": "2024-05-21T09:19:57.384310",
     "status": "completed"
    },
    "tags": []
   },
   "outputs": [],
   "source": [
    "def isValidInput(x):\n",
    "    if x is None or pd.isna(x) or str(x).strip()=='': #np.isnan(x) \n",
    "        return False\n",
    "    else:\n",
    "        return True\n",
    "\n",
    "def isNotNoneInput(x):\n",
    "    if x is None or np.isnan(x) or str(x).strip()=='':\n",
    "        return False\n",
    "    else:\n",
    "        return True\n",
    "    \n",
    "def isGoodLegalStatus(x):\n",
    "    if x is None or pd.isna(x) or str(x).strip()=='': #np.isnan(x) \n",
    "        return False\n",
    "    if x in ['Sổ hồng', 'Sổ đỏ']:\n",
    "        return True    \n",
    "    return False\n",
    "\n",
    "def getValue(x, d=0):\n",
    "    if math.isnan(x):\n",
    "        return d\n",
    "    return x\n",
    "# def isNumber(x):\n",
    "#     if isValidInput(x) and"
   ]
  },
  {
   "cell_type": "markdown",
   "id": "e599b7a3",
   "metadata": {
    "papermill": {
     "duration": 0.007,
     "end_time": "2024-05-21T09:19:57.412533",
     "exception": false,
     "start_time": "2024-05-21T09:19:57.405533",
     "status": "completed"
    },
    "tags": []
   },
   "source": [
    "# 2. Hàm để tính toán điểm"
   ]
  },
  {
   "cell_type": "code",
   "execution_count": 50,
   "id": "a7e9d37d",
   "metadata": {
    "execution": {
     "iopub.execute_input": "2024-05-21T09:19:57.425532Z",
     "iopub.status.busy": "2024-05-21T09:19:57.425532Z",
     "iopub.status.idle": "2024-05-21T09:19:57.431102Z",
     "shell.execute_reply": "2024-05-21T09:19:57.430092Z"
    },
    "papermill": {
     "duration": 0.015575,
     "end_time": "2024-05-21T09:19:57.433105",
     "exception": false,
     "start_time": "2024-05-21T09:19:57.417530",
     "status": "completed"
    },
    "tags": []
   },
   "outputs": [],
   "source": [
    "# Hàm tính toán khoảng cách dựa trên 2 quận\n",
    "def fn_calculateDistance(srcPlace, tgtPlace):\n",
    "    res = distancesDf[ (distancesDf.district_name == srcPlace) & (distancesDf.district_name_2 == tgtPlace) ]\n",
    "#     print(res)\n",
    "    if len(res) == 0:\n",
    "        return  10000000\n",
    "    return round(res.iloc[0][\"fn_calculate_distance\"], 2)\n",
    "\n",
    "# fn_calculateDistance('bình thạnh', 'quận 2')\n",
    "# fn_calculateDistance('Bình Thạnh', 'Quận 2')"
   ]
  },
  {
   "cell_type": "markdown",
   "id": "a480a5e9",
   "metadata": {
    "papermill": {
     "duration": 0.004999,
     "end_time": "2024-05-21T09:19:57.443103",
     "exception": false,
     "start_time": "2024-05-21T09:19:57.438104",
     "status": "completed"
    },
    "tags": []
   },
   "source": [
    "1. Hàm calculateSingleRuleScore: dựa trên thông tin KH, thông tin BĐS, và 1 luật dẫn cụ thể để xác định ngôi nhà có thoả điều kiện của luật dẫn cho khách hàng hay không \n",
    "1. Hàm calculateScoreOfHouse: đối với mỗi khách hàng và BĐS\n",
    "- Duyệt từng nhóm luật và xác định nhóm luật có được thực thi không \n",
    "- Ứng với từng luật tính toán mức độ phù hợp của BĐS với KH\n",
    "- Tổng hợp kết quả mức độ phù hợp của BĐS"
   ]
  },
  {
   "cell_type": "code",
   "execution_count": 58,
   "id": "916f4c19",
   "metadata": {
    "execution": {
     "iopub.execute_input": "2024-05-21T09:19:57.467103Z",
     "iopub.status.busy": "2024-05-21T09:19:57.466105Z",
     "iopub.status.idle": "2024-05-21T09:19:58.127807Z",
     "shell.execute_reply": "2024-05-21T09:19:58.126785Z"
    },
    "papermill": {
     "duration": 0.682705,
     "end_time": "2024-05-21T09:19:58.130806",
     "exception": false,
     "start_time": "2024-05-21T09:19:57.448101",
     "status": "completed"
    },
    "tags": []
   },
   "outputs": [
    {
     "name": "stdout",
     "output_type": "stream",
     "text": [
      "Customer info:  {'id': 'D', 'group': 4.0, 'age': 50.0, 'is_married': 1.0, 'no_child': 2.0, 'month_income': 30000000.0, 'monthly_amt': 30000000.0, 'avai_amt': 4000000000.0, 'desired_location': 'Tân Bình', 'desired_interiorStatus': nan} \n",
      "-------------------\n",
      "\tCode of group A  | Group condition: isValidInput(buyerInfo.get(\"group\")) and isValidInput( buyerInfo.get(\"is_married\")) and isValidInput( buyerInfo.get(\"no_child\")) and isValidInput(houseInfo.get(\"in_room_noBed\"))\n",
      "{'rule_group': 'A', 'rule_code': 'A1', 'score': 0.7, 'rule_expression': '(getValue(buyerInfo.get(\"group\",  0))  == 1 or (buyerInfo.get(\"is_married\")  == False and buyerInfo.get(\"no_child\") == 0 )) and houseInfo.get(\"in_room_noBed\")  in (1, 2)', 'rule_desc': 'Nếu không có gia đình VÀ không có con (KH nhóm 1) VÀ số phòng ngủ của căn nhà là (1,2)', 'rule_expression_backup': '(getValue(buyerInfo.get(\"group\",  0))  == 1 or (buyerInfo.get(\"is_married\")  == False and buyerInfo.get(\"no_child\") == 0 )) and houseInfo.get(\"no_bedroom\")  in (1, 2)'}\n",
      "0\n",
      "{'rule_group': 'A', 'rule_code': 'A2', 'score': 0.6, 'rule_expression': '(getValue(buyerInfo.get(\"group\",  0))  == 1 or (buyerInfo.get(\"is_married\")  == False and buyerInfo.get(\"no_child\") == 0 )) and houseInfo.get(\"in_room_noBed\")  in (2,3,4)', 'rule_desc': 'Nếu không có gia đình VÀ không có con (KH nhóm 1) VÀ số phòng ngủ của căn nhà là 3', 'rule_expression_backup': '(getValue(buyerInfo.get(\"group\",  0))  == 1 or (buyerInfo.get(\"is_married\")  == False and buyerInfo.get(\"no_child\") == 0 )) and houseInfo.get(\"no_bedroom\")  >= 3'}\n",
      "0\n",
      "{'rule_group': 'A', 'rule_code': 'A3', 'score': 0.8, 'rule_expression': '( getValue(buyerInfo.get(\"group\",  0))  == 2 or buyerInfo.get(\"is_married\")  == True ) and buyerInfo.get(\"no_child\") in ( 0, 1) and houseInfo.get(\"in_room_noBed\")  in (2, 3,4)', 'rule_desc': 'Nếu có gia đình VÀ số con là (0, 1) (KH nhóm 2) VÀ số phòng ngủ của căn nhà là (2,3)', 'rule_expression_backup': '( getValue(buyerInfo.get(\"group\",  0))  == 2 or buyerInfo.get(\"is_married\")  == True ) and buyerInfo.get(\"no_child\") in ( 0, 1) and houseInfo.get(\"no_bedroom\")  in (2, 3)'}\n",
      "0\n",
      "{'rule_group': 'A', 'rule_code': 'A4', 'score': 0.6, 'rule_expression': '( getValue(buyerInfo.get(\"group\",  0))  == 2 or buyerInfo.get(\"is_married\")  == True ) and buyerInfo.get(\"no_child\") in ( 0, 1) and houseInfo.get(\"in_room_noBed\")  == 1', 'rule_desc': 'Nếu có gia đình VÀ số con là (0, 1) (KH nhóm 2) VÀ số phòng ngủ của căn nhà là 1', 'rule_expression_backup': '( getValue(buyerInfo.get(\"group\",  0))  == 2 or buyerInfo.get(\"is_married\")  == True ) and buyerInfo.get(\"no_child\") in ( 0, 1) and houseInfo.get(\"no_bedroom\")  == 1'}\n",
      "0\n",
      "{'rule_group': 'A', 'rule_code': 'A5', 'score': 0.5, 'rule_expression': '( getValue(buyerInfo.get(\"group\",  0))  == 2 or buyerInfo.get(\"is_married\")  == True ) and buyerInfo.get(\"no_child\") == 2\\xa0and houseInfo.get(\"in_room_noBed\")  == 2', 'rule_desc': 'Nếu có gia đình VÀ số con là 2 (KH nhóm 2) VÀ số phòng ngủ của căn nhà là 2', 'rule_expression_backup': '( getValue(buyerInfo.get(\"group\",  0))  == 2 or buyerInfo.get(\"is_married\")  == True ) and buyerInfo.get(\"no_child\") == 2\\xa0and houseInfo.get(\"no_bedroom\")  == 2'}\n",
      "0\n",
      "{'rule_group': 'A', 'rule_code': 'A6', 'score': 1.0, 'rule_expression': '( getValue(buyerInfo.get(\"group\",  0))  == 2 or buyerInfo.get(\"is_married\")  == True )  and buyerInfo.get(\"no_child\") == 2 and houseInfo.get(\"in_room_noBed\")  in ( 3,4,5)', 'rule_desc': 'Nếu có gia đình VÀ số con là 2 (KH nhóm 2) VÀ số phòng ngủ của căn nhà là 3', 'rule_expression_backup': '( getValue(buyerInfo.get(\"group\",  0))  == 2 or buyerInfo.get(\"is_married\")  == True )  and buyerInfo.get(\"no_child\") == 2 and houseInfo.get(\"no_bedroom\")  >= 3'}\n",
      "0\n",
      "{'rule_group': 'A', 'rule_code': 'A7', 'score': 0.6, 'rule_expression': 'getValue(buyerInfo.get(\"group\",  0))  == 4 and houseInfo.get(\"in_room_noBed\")  == 1', 'rule_desc': 'Nếu KH nhóm 4 VÀ số phòng ngủ là 1', 'rule_expression_backup': 'getValue(buyerInfo.get(\"group\",  0))  == 4 and houseInfo.get(\"no_bedroom\")  == 1'}\n",
      "0\n",
      "{'rule_group': 'A', 'rule_code': 'A8', 'score': 1.0, 'rule_expression': 'getValue(buyerInfo.get(\"group\",  0))  == 4 and houseInfo.get(\"in_room_noBed\")  in (2, 3,4)', 'rule_desc': 'Nếu KH nhóm 4 VÀ số phòng ngủ từ 2', 'rule_expression_backup': 'getValue(buyerInfo.get(\"group\",  0))  == 4 and houseInfo.get(\"no_bedroom\")  >= 2'}\n",
      "0\n",
      "\tCode of group B  | Group condition: isNotNoneInput(buyerInfo.get(\"avai_amt\")) and isNotNoneInput(buyerInfo.get(\"monthly_amt\"))\n",
      "{'rule_group': 'B', 'rule_code': 'B1', 'score': 1.0, 'rule_expression': 'houseInfo.get(\"price\") >= 0.9 * buyerInfo.get(\"avai_amt\") and houseInfo.get(\"price\") <= buyerInfo.get(\"avai_amt\")', 'rule_desc': 'Nếu giá của ngôi nhà bằng khoảng 0.9-1 số tiền người mua hiện có', 'rule_expression_backup': 'houseInfo.get(\"price\") >= 0.8 * buyerInfo.get(\"avai_amt\")'}\n",
      "0\n",
      "{'rule_group': 'B', 'rule_code': 'B2', 'score': 0.8, 'rule_expression': '( buyerInfo.get(\"avai_amt\")  >= 0.75 * houseInfo.get(\"price\") and houseInfo.get(\"price\") > buyerInfo.get(\"avai_amt\") ) and ( (buyerInfo.get(\"avai_amt\") + 12* buyerInfo.get(\"monthly_amt\")) >= houseInfo.get(\"price\"))', 'rule_desc': 'Nếu người mua có sẵn 0.75 giá trị ngôi nhà, và người mua có khả năng trả góp trong 12 tháng', 'rule_expression_backup': nan}\n",
      "0\n",
      "{'rule_group': 'B', 'rule_code': 'B3', 'score': 0.6, 'rule_expression': '( buyerInfo.get(\"avai_amt\")  >= 0.5 * houseInfo.get(\"price\") and houseInfo.get(\"price\") > buyerInfo.get(\"avai_amt\") ) and ( (buyerInfo.get(\"avai_amt\") + 24* buyerInfo.get(\"monthly_amt\")) >= houseInfo.get(\"price\"))', 'rule_desc': 'Nếu người mua có sẵn 0.5 giá trị ngôi nhà, và người mua có khả năng trả góp trong 24 tháng', 'rule_expression_backup': 'houseInfo.get(\"price\") >= 0.5 * buyerInfo.get(\"avai_amt\") and ( (0.5 * buyerInfo.get(\"avai_amt\") + 24* buyerInfo.get(\"monthly_amt\")) >= houseInfo.get(\"price\"))'}\n",
      "0\n",
      "{'rule_group': 'B', 'rule_code': 'B4', 'score': 0.5, 'rule_expression': '( buyerInfo.get(\"avai_amt\")  >= 0.5 * houseInfo.get(\"price\") and houseInfo.get(\"price\") > buyerInfo.get(\"avai_amt\") ) and ( (buyerInfo.get(\"avai_amt\") + 60* buyerInfo.get(\"monthly_amt\")) >= houseInfo.get(\"price\"))', 'rule_desc': 'Nếu người mua có sẵn 0.5 giá trị ngôi nhà, và người mua có khả năng trả góp trong 60 tháng (5 năm)', 'rule_expression_backup': nan}\n",
      "0\n",
      "{'rule_group': 'B', 'rule_code': 'B5', 'score': 1.0, 'rule_expression': 'getValue(buyerInfo.get(\"group\",  0))  == 4 and ( houseInfo.get(\"price\") >= 0.8 * buyerInfo.get(\"avai_amt\") and houseInfo.get(\"price\") <= buyerInfo.get(\"avai_amt\")*1.2 )', 'rule_desc': 'Nếu người mua thuộc nhóm 4, ngôi nhà trong khoảng 0.8-1.2 số tiền sẵn có', 'rule_expression_backup': nan}\n",
      "0\n",
      "{'rule_group': 'B', 'rule_code': 'B6', 'score': 0.0, 'rule_expression': 'getValue(buyerInfo.get(\"group\",  0))  == 4 and ( houseInfo.get(\"price\") < 0.8 * buyerInfo.get(\"avai_amt\") and houseInfo.get(\"price\") > buyerInfo.get(\"avai_amt\")*1.2 )', 'rule_desc': 'Nếu người mua thuộc nhóm 4, ngôi nhà nhỏ hơn 0.8 hoặc lớn hơn 1.2 số tiền sẵn có', 'rule_expression_backup': nan}\n",
      "0\n",
      "\tCode of group C  | Group condition: isValidInput( buyerInfo.get(\"desired_location\") ) and isValidInput( houseInfo.get(\"address_district\") )\n",
      "{'rule_group': 'C', 'rule_code': 'C1', 'score': 1.0, 'rule_expression': 'fn_calculateDistance(houseInfo.get(\"address_district\"), buyerInfo.get(\"desired_location\")) <= 2', 'rule_desc': 'Nếu trong phạm vi 2km', 'rule_expression_backup': nan}\n",
      "0\n",
      "{'rule_group': 'C', 'rule_code': 'C2', 'score': 0.8, 'rule_expression': 'fn_calculateDistance(houseInfo.get(\"address_district\"), buyerInfo.get(\"desired_location\")) <= 4', 'rule_desc': nan, 'rule_expression_backup': nan}\n",
      "0\n",
      "{'rule_group': 'C', 'rule_code': 'C3', 'score': 0.5, 'rule_expression': 'fn_calculateDistance(houseInfo.get(\"address_district\"), buyerInfo.get(\"desired_location\")) <= 6', 'rule_desc': nan, 'rule_expression_backup': nan}\n",
      "0.5\n",
      "\tCode of group D  | Group condition: 1==1\n",
      "{'rule_group': 'D', 'rule_code': 'D1', 'score': 1.0, 'rule_expression': 'isGoodLegalStatus(houseInfo.get(\"legal_status\"))', 'rule_desc': 'Có giấy tờ', 'rule_expression_backup': 'houseInfo.get(\"legal_status\") in [\\'Sổ hồng\\', \\'Sổ đỏ\\']'}\n",
      "1.0\n",
      "{'rule_group': 'D', 'rule_code': 'D2', 'score': 0.2, 'rule_expression': 'isGoodLegalStatus(houseInfo.get(\"legal_status\")) is not True and getValue(buyerInfo.get(\"group\",  0)) in (1, 3,4)', 'rule_desc': 'K giấy tờ và người mua có nhóm thuộc (1,3,4)', 'rule_expression_backup': nan}\n",
      "0\n",
      "{'rule_group': 'D', 'rule_code': 'D3', 'score': 0.4, 'rule_expression': 'isGoodLegalStatus(houseInfo.get(\"legal_status\")) is not True and getValue(buyerInfo.get(\"group\",  0)) not in (1, 3,4)', 'rule_desc': 'Các trường hợp k giấy tờ còn lại', 'rule_expression_backup': nan}\n",
      "0\n",
      "REPORT:\n",
      "Total calculated Score:  10.5\n",
      "Max Score from Groups:  26.0\n",
      "-------------\n",
      "\n"
     ]
    }
   ],
   "source": [
    "### version 2\n",
    "def calculateSingleRuleScore(buyerInfo, houseInfo, ruleInfo, **kwargs):\n",
    "    ### get-set key-value from parent function\n",
    "    for key, value in kwargs.items():\n",
    "        locals()[key] = value\n",
    "    ruleScore = ruleInfo.get(\"score\")\n",
    "    ### execute rule\n",
    "    ruleExpression = unicodedata.normalize('NFKD', ruleInfo.get(\"rule_expression\")).strip() \n",
    "    exprValue = eval(ruleExpression)\n",
    "#     print(exprValue)\n",
    "    if exprValue > 0:\n",
    "        return ruleScore\n",
    "    else:\n",
    "        return 0\n",
    "    \n",
    "def calculateScoreOfHouse(buyerInfo, houseInfo, ruleDf, ruleGroupList, isDebugRule=0):\n",
    "    pre_defined_kwargs = {}\n",
    "    _calRuleGroup = []\n",
    "    for ruleGroup in ruleGroupList:\n",
    "        groupCondition = unicodedata.normalize('NFKD', ruleGroup.get(\"conditions\")).strip()\n",
    "        groupScore= float(ruleGroup.get(\"group_point\"))\n",
    "        groupCode= ruleGroup.get(\"rule_group\")\n",
    "        ruleGroupCode =  ruleGroup.get(\"rule_group\")\n",
    "        groupRes={'groupCode': groupCode, 'groupCondition': groupCondition, 'groupScore': groupScore}\n",
    "        if isDebugRule==1:\n",
    "            print(\"\\tCode of group\", ruleGroupCode, \" | Group condition:\", groupCondition)\n",
    "        if eval(groupCondition) is False:\n",
    "            if isDebugRule==1:\n",
    "                print(\"Break rule code: \", ruleGroupCode)\n",
    "        else:\n",
    "            curRule= {}\n",
    "            curScore= 0\n",
    "            filteredRuleList = ruleDf[ruleDf['rule_group'] == ruleGroupCode].to_dict('records')\n",
    "            ### iterate each rule in Group, if condition matches and higher score, set this rule as result for group\n",
    "            for r in filteredRuleList:\n",
    "                if isDebugRule==1:\n",
    "                    print(r)\n",
    "                _score = calculateSingleRuleScore(buyerInfo, houseInfo, r, **pre_defined_kwargs)\n",
    "                if isDebugRule==1:\n",
    "                    print(_score)\n",
    "                if _score > 0 and _score > curScore:\n",
    "                    curRule= r\n",
    "                    curScore=_score\n",
    "            groupRes.update(curRule)            \n",
    "            groupRes.update({'calRuleScore': curScore*groupScore})\n",
    "            _calRuleGroup.append(groupRes)\n",
    "    # calculate total score\n",
    "    _maxScore= 0\n",
    "    _totalScore=0\n",
    "    for c in _calRuleGroup:\n",
    "        _maxScore+= c.get(\"groupScore\", 0)\n",
    "        _totalScore+= c.get(\"calRuleScore\", 0)\n",
    "    if isDebugRule==1:\n",
    "        print('REPORT:')\n",
    "        print('Total calculated Score: ',_totalScore)\n",
    "        print('Max Score from Groups: ', _maxScore)\n",
    "    _housePerf= 0.0\n",
    "    if _maxScore != 0:\n",
    "        _housePerf=round(_totalScore*100/_maxScore, 2)\n",
    "    _res= {'executedRuleGroup': _calRuleGroup, 'houseInfo': houseInfo,\n",
    "           'maxScore': _maxScore, 'houseScore': _totalScore, 'housePerformance':_housePerf,\n",
    "           'buyerInfo': buyerInfo}\n",
    "    _res.update(buyerInfo)\n",
    "    _res.update(houseInfo)\n",
    "    return _res\n",
    "\n",
    "loadData()\n",
    "\n",
    "c= 3\n",
    "print('Customer info: ', buyers[c],'\\n-------------------')\n",
    "for i in range(0,1):\n",
    "    _houseEvaluation= calculateScoreOfHouse(buyers[c], houses[i], rulesDf, ruleGroups, isDebugRule= 1)\n",
    "    print('-------------\\n')"
   ]
  },
  {
   "cell_type": "markdown",
   "id": "87e8c90f",
   "metadata": {
    "papermill": {
     "duration": 0.006994,
     "end_time": "2024-05-21T09:19:58.144803",
     "exception": false,
     "start_time": "2024-05-21T09:19:58.137809",
     "status": "completed"
    },
    "tags": []
   },
   "source": [
    "Hàm executeCase: duyệt từng BĐS và xác định mực độ phù hợp của các BĐS"
   ]
  },
  {
   "cell_type": "code",
   "execution_count": 52,
   "id": "20493407",
   "metadata": {
    "execution": {
     "iopub.execute_input": "2024-05-21T09:19:58.161809Z",
     "iopub.status.busy": "2024-05-21T09:19:58.161809Z",
     "iopub.status.idle": "2024-05-21T09:19:58.169841Z",
     "shell.execute_reply": "2024-05-21T09:19:58.168822Z"
    },
    "papermill": {
     "duration": 0.022033,
     "end_time": "2024-05-21T09:19:58.173837",
     "exception": false,
     "start_time": "2024-05-21T09:19:58.151804",
     "status": "completed"
    },
    "tags": []
   },
   "outputs": [],
   "source": [
    "def executeCase(custNo=0, outputFileLocation=curDir + '\\\\testOutput\\\\cust_6'):\n",
    "    csv_file = outputFileLocation + '.csv'\n",
    "    xlsx_file = outputFileLocation + '.xlsx'\n",
    "    \n",
    "    if os.path.exists(csv_file):\n",
    "        os.remove(csv_file)\n",
    "    if os.path.exists(xlsx_file):\n",
    "        os.remove(xlsx_file)\n",
    "    \n",
    "    _housePerformanceList=[]\n",
    "    for i in houses:\n",
    "        _houseEvaluation= calculateScoreOfHouse(buyers[custNo], i, rulesDf, ruleGroups, isDebugRule= 0)\n",
    "        _housePerformanceList.append(_houseEvaluation)\n",
    "    _housePrfmDf= pd.DataFrame.from_dict(_housePerformanceList)\n",
    "    _housePrfmDf.to_csv(outputFileLocation +'.csv', index=False, quotechar= '\"' )\n",
    "    _housePrfmDf.to_excel(outputFileLocation+'.xlsx')\n",
    "    return _housePerformanceList\n"
   ]
  },
  {
   "cell_type": "markdown",
   "id": "af7a0895",
   "metadata": {
    "papermill": {
     "duration": 0.004997,
     "end_time": "2024-05-21T09:19:58.184832",
     "exception": false,
     "start_time": "2024-05-21T09:19:58.179835",
     "status": "completed"
    },
    "tags": []
   },
   "source": [
    "## Execute Test case"
   ]
  },
  {
   "cell_type": "markdown",
   "id": "cdc66a08",
   "metadata": {
    "papermill": {
     "duration": 0.006,
     "end_time": "2024-05-21T09:19:58.195834",
     "exception": false,
     "start_time": "2024-05-21T09:19:58.189834",
     "status": "completed"
    },
    "tags": []
   },
   "source": [
    "## Hướng dẫn\n",
    "1. Các function đã được định nghĩa  \n",
    "1. Tất cả dữ liệu, bộ rule, và dữ liệu về KH được lưu trong file --> update dựa trên file excel này  \n",
    "1. Chạy các test case KH bằng hàm executeCase với tham số là số thứ tự KH tương ứng trong excel và vị trí file output"
   ]
  },
  {
   "cell_type": "markdown",
   "id": "4d983c09",
   "metadata": {
    "papermill": {
     "duration": 0.006008,
     "end_time": "2024-05-21T09:19:58.206840",
     "exception": false,
     "start_time": "2024-05-21T09:19:58.200832",
     "status": "completed"
    },
    "tags": []
   },
   "source": [
    "### Test case for Complex rules"
   ]
  },
  {
   "cell_type": "code",
   "execution_count": 53,
   "id": "56a9c736",
   "metadata": {
    "execution": {
     "iopub.execute_input": "2024-05-21T09:19:58.219835Z",
     "iopub.status.busy": "2024-05-21T09:19:58.218833Z",
     "iopub.status.idle": "2024-05-21T09:19:58.222987Z",
     "shell.execute_reply": "2024-05-21T09:19:58.222987Z"
    },
    "papermill": {
     "duration": 0.013164,
     "end_time": "2024-05-21T09:19:58.225999",
     "exception": false,
     "start_time": "2024-05-21T09:19:58.212835",
     "status": "completed"
    },
    "tags": []
   },
   "outputs": [],
   "source": [
    "# loadData()\n",
    "# # Done case X1\n",
    "# print(buyers[15])\n",
    "# case_a1= executeCase(custNo= 15, outputFileLocation=curDir + '\\\\testOutput\\\\cust_x1')"
   ]
  },
  {
   "cell_type": "markdown",
   "id": "1bad89b8",
   "metadata": {
    "papermill": {
     "duration": 0.005997,
     "end_time": "2024-05-21T09:19:58.247000",
     "exception": false,
     "start_time": "2024-05-21T09:19:58.241003",
     "status": "completed"
    },
    "tags": []
   },
   "source": [
    "### Test case for No_Bed_Room rules"
   ]
  },
  {
   "cell_type": "code",
   "execution_count": 54,
   "id": "655f1015",
   "metadata": {
    "execution": {
     "iopub.execute_input": "2024-05-21T09:19:58.262004Z",
     "iopub.status.busy": "2024-05-21T09:19:58.261005Z",
     "iopub.status.idle": "2024-05-21T09:19:58.267806Z",
     "shell.execute_reply": "2024-05-21T09:19:58.266792Z"
    },
    "papermill": {
     "duration": 0.018809,
     "end_time": "2024-05-21T09:19:58.271811",
     "exception": false,
     "start_time": "2024-05-21T09:19:58.253002",
     "status": "completed"
    },
    "tags": []
   },
   "outputs": [],
   "source": [
    "# loadData()\n",
    "# print(buyers[4])\n",
    "# case_a1= executeCase(custNo= 4, outputFileLocation='testOutput\\\\cust_a1')\n",
    "# print(buyers[5])\n",
    "# case_a2= executeCase(custNo= 5, outputFileLocation='testOutput\\\\cust_a2')\n",
    "# print(buyers[6])\n",
    "# case_a3= executeCase(custNo= 6, outputFileLocation='testOutput\\\\cust_a3')\n"
   ]
  },
  {
   "cell_type": "markdown",
   "id": "e5a5e5dd",
   "metadata": {
    "papermill": {
     "duration": 0.008995,
     "end_time": "2024-05-21T09:19:58.290814",
     "exception": false,
     "start_time": "2024-05-21T09:19:58.281819",
     "status": "completed"
    },
    "tags": []
   },
   "source": [
    "### Test case for LOCATION rules"
   ]
  },
  {
   "cell_type": "code",
   "execution_count": 55,
   "id": "ac25f8b6",
   "metadata": {
    "execution": {
     "iopub.execute_input": "2024-05-21T09:19:58.312807Z",
     "iopub.status.busy": "2024-05-21T09:19:58.311809Z",
     "iopub.status.idle": "2024-05-21T09:19:58.317134Z",
     "shell.execute_reply": "2024-05-21T09:19:58.317134Z"
    },
    "papermill": {
     "duration": 0.02034,
     "end_time": "2024-05-21T09:19:58.320146",
     "exception": false,
     "start_time": "2024-05-21T09:19:58.299806",
     "status": "completed"
    },
    "tags": []
   },
   "outputs": [],
   "source": [
    "# loadData()\n",
    "# case_c1= executeCase(custNo= 4, outputFileLocation='testOutput\\\\cust_c1')\n",
    "# # print(buyers[5])\n",
    "# case_c2= executeCase(custNo= 5, outputFileLocation='testOutput\\\\cust_c2')\n",
    "# # print(buyers[6])\n",
    "# case_c3= executeCase(custNo= 6, outputFileLocation='testOutput\\\\cust_c3')\n"
   ]
  },
  {
   "cell_type": "markdown",
   "id": "39c163d7",
   "metadata": {
    "papermill": {
     "duration": 0.006999,
     "end_time": "2024-05-21T09:19:58.334143",
     "exception": false,
     "start_time": "2024-05-21T09:19:58.327144",
     "status": "completed"
    },
    "tags": []
   },
   "source": [
    "### Test case for PAPER rules"
   ]
  },
  {
   "cell_type": "code",
   "execution_count": 56,
   "id": "e7b7e3d0",
   "metadata": {
    "execution": {
     "iopub.execute_input": "2024-05-21T09:19:58.348151Z",
     "iopub.status.busy": "2024-05-21T09:19:58.348151Z",
     "iopub.status.idle": "2024-05-21T09:19:58.353106Z",
     "shell.execute_reply": "2024-05-21T09:19:58.352095Z"
    },
    "papermill": {
     "duration": 0.015961,
     "end_time": "2024-05-21T09:19:58.356106",
     "exception": false,
     "start_time": "2024-05-21T09:19:58.340145",
     "status": "completed"
    },
    "tags": []
   },
   "outputs": [],
   "source": [
    "# loadData()\n",
    "# print(buyers[14])\n",
    "# case_d1= executeCase(custNo= 14, outputFileLocation='testOutput\\\\cust_d1')"
   ]
  },
  {
   "cell_type": "markdown",
   "id": "e5c967aa",
   "metadata": {
    "papermill": {
     "duration": 0.006007,
     "end_time": "2024-05-21T09:19:58.368112",
     "exception": false,
     "start_time": "2024-05-21T09:19:58.362105",
     "status": "completed"
    },
    "tags": []
   },
   "source": [
    "### Test case for FIN rules"
   ]
  },
  {
   "cell_type": "code",
   "execution_count": 57,
   "id": "85281fa4",
   "metadata": {
    "execution": {
     "iopub.execute_input": "2024-05-21T09:19:58.385109Z",
     "iopub.status.busy": "2024-05-21T09:19:58.384111Z",
     "iopub.status.idle": "2024-05-21T09:19:58.390182Z",
     "shell.execute_reply": "2024-05-21T09:19:58.389170Z"
    },
    "papermill": {
     "duration": 0.016076,
     "end_time": "2024-05-21T09:19:58.392180",
     "exception": false,
     "start_time": "2024-05-21T09:19:58.376104",
     "status": "completed"
    },
    "tags": []
   },
   "outputs": [],
   "source": [
    "# loadData()\n",
    "# print(buyers[7])\n",
    "# case_b1= executeCase(custNo= 7, outputFileLocation='testOutput\\\\cust_b1')\n",
    "# print(buyers[8])\n",
    "# case_b2= executeCase(custNo= 8, outputFileLocation='testOutput\\\\cust_b2')\n",
    "# print(buyers[9])\n",
    "# case_b3= executeCase(custNo= 9, outputFileLocation='testOutput\\\\cust_b3')\n",
    "# print(buyers[10])\n",
    "# case_b4= executeCase(custNo= 10, outputFileLocation='testOutput\\\\cust_b4')\n"
   ]
  },
  {
   "cell_type": "markdown",
   "id": "e11830e7",
   "metadata": {},
   "source": [
    "Create csv and xlsx for x1"
   ]
  },
  {
   "cell_type": "code",
   "execution_count": null,
   "id": "dfb4498e",
   "metadata": {},
   "outputs": [],
   "source": [
    "# loadData()\n",
    "# print(buyers[15])\n",
    "# case_x1 = executeCase(custNo=15, outputFileLocation=curDir + '\\\\testOutput\\\\cust_x1')"
   ]
  },
  {
   "cell_type": "markdown",
   "id": "8d72fb53",
   "metadata": {},
   "source": [
    "Create csv and xlsx for x3"
   ]
  },
  {
   "cell_type": "code",
   "execution_count": null,
   "id": "e2a270f7",
   "metadata": {},
   "outputs": [],
   "source": [
    "# loadData()\n",
    "# print(buyers[17])\n",
    "# case_x3 = executeCase(custNo=17, outputFileLocation=curDir + '\\\\testOutput\\\\cust_x3')"
   ]
  },
  {
   "cell_type": "markdown",
   "id": "d8183373",
   "metadata": {},
   "source": [
    "Create csv and xlsx for x4"
   ]
  },
  {
   "cell_type": "code",
   "execution_count": null,
   "id": "d1c73f78",
   "metadata": {},
   "outputs": [],
   "source": [
    "# loadData()\n",
    "# print(buyers[18])\n",
    "# case_x4 = executeCase(custNo=18, outputFileLocation=curDir + '\\\\testOutput\\\\cust_x4')"
   ]
  },
  {
   "cell_type": "markdown",
   "id": "30c8aa6c",
   "metadata": {},
   "source": [
    "Create csv and xlsx for x4"
   ]
  },
  {
   "cell_type": "code",
   "execution_count": null,
   "id": "f791f9ad",
   "metadata": {},
   "outputs": [],
   "source": [
    "# loadData()\n",
    "# print(buyers[18])\n",
    "# case_x4 = executeCase(custNo=18, outputFileLocation=curDir + '\\\\testOutput\\\\cust_x4')"
   ]
  },
  {
   "cell_type": "markdown",
   "id": "f7b5ac03",
   "metadata": {},
   "source": [
    "Create csv and xlsx for x4"
   ]
  },
  {
   "cell_type": "code",
   "execution_count": null,
   "id": "2a2a181e",
   "metadata": {},
   "outputs": [],
   "source": [
    "# loadData()\n",
    "# print(buyers[18])\n",
    "# case_x4 = executeCase(custNo=18, outputFileLocation=curDir + '\\\\testOutput\\\\cust_x4')"
   ]
  },
  {
   "cell_type": "markdown",
   "id": "4fae7604",
   "metadata": {},
   "source": [
    "Create csv and xlsx for x1"
   ]
  },
  {
   "cell_type": "code",
   "execution_count": null,
   "id": "4e5f0d18",
   "metadata": {},
   "outputs": [],
   "source": [
    "# loadData()\n",
    "# print(buyers[15])\n",
    "# case_x1 = executeCase(custNo=15, outputFileLocation=curDir + '\\\\testOutput\\\\cust_x1')"
   ]
  },
  {
   "cell_type": "markdown",
   "id": "4bab353c",
   "metadata": {},
   "source": [
    "Create csv and xlsx for x2"
   ]
  },
  {
   "cell_type": "code",
   "execution_count": null,
   "id": "1a894067",
   "metadata": {},
   "outputs": [],
   "source": [
    "# loadData()\n",
    "# print(buyers[16])\n",
    "# case_x2 = executeCase(custNo=16, outputFileLocation=curDir + '\\\\testOutput\\\\cust_x2')"
   ]
  },
  {
   "cell_type": "markdown",
   "id": "94fd2f54",
   "metadata": {},
   "source": [
    "Create csv and xlsx for x1"
   ]
  },
  {
   "cell_type": "code",
   "execution_count": null,
   "id": "b1c287c3",
   "metadata": {},
   "outputs": [],
   "source": [
    "# loadData()\n",
    "# print(buyers[15])\n",
    "# case_x1 = executeCase(custNo=15, outputFileLocation=curDir + '\\\\testOutput\\\\cust_x1')"
   ]
  },
  {
   "cell_type": "markdown",
   "id": "7532a1b7",
   "metadata": {},
   "source": [
    "Create csv and xlsx for x1"
   ]
  },
  {
   "cell_type": "code",
   "execution_count": null,
   "id": "c0cc4ddd",
   "metadata": {},
   "outputs": [],
   "source": [
    "# loadData()\n",
    "# print(buyers[15])\n",
    "# case_x1 = executeCase(custNo=15, outputFileLocation=curDir + '\\\\testOutput\\\\cust_x1')"
   ]
  }
 ],
 "metadata": {
  "kernelspec": {
   "display_name": "Python 3 (ipykernel)",
   "language": "python",
   "name": "python3"
  },
  "language_info": {
   "codemirror_mode": {
    "name": "ipython",
    "version": 3
   },
   "file_extension": ".py",
   "mimetype": "text/x-python",
   "name": "python",
   "nbconvert_exporter": "python",
   "pygments_lexer": "ipython3",
   "version": "3.11.5"
  },
  "papermill": {
   "default_parameters": {},
   "duration": 17.924226,
   "end_time": "2024-05-21T09:20:09.845842",
   "environment_variables": {},
   "exception": null,
   "input_path": "D:\\DATN\\model\\callRule.ipynb",
   "output_path": "D:\\DATN\\model\\callRule.ipynb",
   "parameters": {},
   "start_time": "2024-05-21T09:19:51.921616",
   "version": "2.5.0"
  }
 },
 "nbformat": 4,
 "nbformat_minor": 5
}
