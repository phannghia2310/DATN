{
 "cells": [
  {
   "cell_type": "code",
   "execution_count": 22,
   "id": "2e4c25e9",
   "metadata": {
    "execution": {
     "iopub.execute_input": "2024-05-21T06:06:38.399479Z",
     "iopub.status.busy": "2024-05-21T06:06:38.398479Z",
     "iopub.status.idle": "2024-05-21T06:06:39.125069Z",
     "shell.execute_reply": "2024-05-21T06:06:39.125069Z"
    },
    "papermill": {
     "duration": 0.736592,
     "end_time": "2024-05-21T06:06:39.125069",
     "exception": false,
     "start_time": "2024-05-21T06:06:38.388477",
     "status": "completed"
    },
    "tags": []
   },
   "outputs": [],
   "source": [
    "import pandas as pd\n",
    "import unicodedata\n",
    "import os\n",
    "import numpy as np\n",
    "import math"
   ]
  },
  {
   "cell_type": "code",
   "execution_count": 23,
   "id": "b7e86f9e",
   "metadata": {
    "execution": {
     "iopub.execute_input": "2024-05-21T06:06:39.145724Z",
     "iopub.status.busy": "2024-05-21T06:06:39.145724Z",
     "iopub.status.idle": "2024-05-21T06:06:39.150529Z",
     "shell.execute_reply": "2024-05-21T06:06:39.150529Z"
    },
    "papermill": {
     "duration": 0.020444,
     "end_time": "2024-05-21T06:06:39.150529",
     "exception": false,
     "start_time": "2024-05-21T06:06:39.130085",
     "status": "completed"
    },
    "tags": []
   },
   "outputs": [],
   "source": [
    "curDir= os.path.abspath(os.getcwd())\n",
    "\n",
    "if curDir != 'D:\\\\DATN\\\\model':\n",
    "    curDir = 'D:\\\\DATN\\\\model'"
   ]
  },
  {
   "cell_type": "markdown",
   "id": "f1cee78d",
   "metadata": {
    "papermill": {
     "duration": 0.016855,
     "end_time": "2024-05-21T06:06:39.167384",
     "exception": false,
     "start_time": "2024-05-21T06:06:39.150529",
     "status": "completed"
    },
    "tags": []
   },
   "source": [
    "Function loadData để tải các dữ liệu cần thiết từ file data.xls bao gồm các sheet: \n",
    "1. ruleGroups: tập hợp các nhóm luật, bao gồm điểm nhóm, mã nhóm, điều kiện\n",
    "1. rules: các luật cụ thể của từng nhóm luật, bao gồm trọng số điểm, mã luật, điều kiện \n",
    "1. buyers: danh sách KH, và test case yêu cầu tương ứng\n",
    "1. distance: khoảng cách giữa các quận "
   ]
  },
  {
   "cell_type": "code",
   "execution_count": 24,
   "id": "b7f66def",
   "metadata": {
    "execution": {
     "iopub.execute_input": "2024-05-21T06:06:39.185925Z",
     "iopub.status.busy": "2024-05-21T06:06:39.184923Z",
     "iopub.status.idle": "2024-05-21T06:06:40.010332Z",
     "shell.execute_reply": "2024-05-21T06:06:40.010332Z"
    },
    "papermill": {
     "duration": 0.842948,
     "end_time": "2024-05-21T06:06:40.010332",
     "exception": false,
     "start_time": "2024-05-21T06:06:39.167384",
     "status": "completed"
    },
    "tags": []
   },
   "outputs": [],
   "source": [
    "### Load data\n",
    "### Sử dụng để load dữ liệu bất động sản, dữ liệu các bộ rule, và dữ liệu KH\n",
    "def loadData(isDebug=0):\n",
    "    ruleFile= curDir + '\\\\data.xlsx'\n",
    "    ### Load rules\n",
    "    global rulesDf\n",
    "    rulesDf= pd.read_excel(ruleFile, sheet_name = 'rules').apply(lambda x: x.str.strip() if x.dtype == \"object\" else x)\n",
    "    if isDebug==1:\n",
    "        print(\"Read rule list, total is: \",len(rulesDf))\n",
    "    ### Load rule group\n",
    "    global ruleGroupsDf\n",
    "    ruleGroupsDf= pd.read_excel(ruleFile, sheet_name = 'ruleGroups').apply(lambda x: x.str.strip() if x.dtype == \"object\" else x)\n",
    "    if isDebug==1:\n",
    "        print(\"\\nRead Rule groups, total is: \",len(ruleGroupsDf))\n",
    "        print(ruleGroupsDf.head(1))\n",
    "    ### Load buyer\n",
    "    global buyersDf\n",
    "    buyersDf= pd.read_excel(ruleFile, sheet_name = 'buyers').apply(lambda x: x.str.strip() if x.dtype == \"object\" else x)\n",
    "    if isDebug==1:\n",
    "        print(\"\\nBuyer: \", len(buyersDf))\n",
    "        print(buyersDf.head(1))\n",
    "    ### load houses\n",
    "    global housesDf\n",
    "    housesDf= pd.read_excel(curDir +'\\\\houseAll.xls', sheet_name = 'house').apply(lambda x: x.str.strip() if x.dtype == \"object\" else x) # full data\n",
    "    if isDebug==1:\n",
    "        print(\"\\nHouse: \",len(housesDf))\n",
    "        print(housesDf.head(1))\n",
    "    ### Load distance between district\n",
    "    global distancesDf\n",
    "    distancesDf= pd.read_excel(ruleFile, sheet_name = 'distance').apply(lambda x: x.str.strip() if x.dtype == \"object\" else x)\n",
    "    if isDebug==1:\n",
    "        print('-----------------------\\n')\n",
    "    ### change DataFrame to Dictionary\n",
    "    global rules\n",
    "    rules= rulesDf.to_dict('records')\n",
    "    if isDebug==1:\n",
    "        print(\"Rule no 0: \", rules[0])\n",
    "    global ruleGroups\n",
    "    ruleGroups= ruleGroupsDf.to_dict('records')\n",
    "    if isDebug==1:\n",
    "        print(\"Rule group no 0: \", ruleGroups[0])\n",
    "    global houses\n",
    "    houses= housesDf.to_dict('records')\n",
    "    if isDebug==1:\n",
    "        print(\"House no 0: \", houses[0])\n",
    "    global buyers\n",
    "    buyers= buyersDf.to_dict('records')\n",
    "    if isDebug==1:\n",
    "        print(\"Buyer no 0: \", buyers[0])\n",
    "\n",
    "loadData(isDebug=0)    "
   ]
  },
  {
   "cell_type": "markdown",
   "id": "3b161f1c",
   "metadata": {
    "papermill": {
     "duration": 0,
     "end_time": "2024-05-21T06:06:40.013849",
     "exception": false,
     "start_time": "2024-05-21T06:06:40.013849",
     "status": "completed"
    },
    "tags": []
   },
   "source": [
    "# 0. Common Functions"
   ]
  },
  {
   "cell_type": "code",
   "execution_count": 25,
   "id": "5138826e",
   "metadata": {
    "execution": {
     "iopub.execute_input": "2024-05-21T06:06:40.046331Z",
     "iopub.status.busy": "2024-05-21T06:06:40.045119Z",
     "iopub.status.idle": "2024-05-21T06:06:40.054212Z",
     "shell.execute_reply": "2024-05-21T06:06:40.054212Z"
    },
    "papermill": {
     "duration": 0.024718,
     "end_time": "2024-05-21T06:06:40.054212",
     "exception": false,
     "start_time": "2024-05-21T06:06:40.029494",
     "status": "completed"
    },
    "tags": []
   },
   "outputs": [],
   "source": [
    "def isValidInput(x):\n",
    "    if x is None or pd.isna(x) or str(x).strip()=='': #np.isnan(x) \n",
    "        return False\n",
    "    else:\n",
    "        return True\n",
    "\n",
    "def isNotNoneInput(x):\n",
    "    if x is None or np.isnan(x) or str(x).strip()=='':\n",
    "        return False\n",
    "    else:\n",
    "        return True\n",
    "    \n",
    "def isGoodLegalStatus(x):\n",
    "    if x is None or pd.isna(x) or str(x).strip()=='': #np.isnan(x) \n",
    "        return False\n",
    "    if x in ['Sổ hồng', 'Sổ đỏ']:\n",
    "        return True    \n",
    "    return False\n",
    "\n",
    "def getValue(x, d=0):\n",
    "    if math.isnan(x):\n",
    "        return d\n",
    "    return x\n",
    "# def isNumber(x):\n",
    "#     if isValidInput(x) and"
   ]
  },
  {
   "cell_type": "markdown",
   "id": "e599b7a3",
   "metadata": {
    "papermill": {
     "duration": 0.015638,
     "end_time": "2024-05-21T06:06:40.131803",
     "exception": false,
     "start_time": "2024-05-21T06:06:40.116165",
     "status": "completed"
    },
    "tags": []
   },
   "source": [
    "# 2. Hàm để tính toán điểm"
   ]
  },
  {
   "cell_type": "code",
   "execution_count": 28,
   "id": "a7e9d37d",
   "metadata": {
    "execution": {
     "iopub.execute_input": "2024-05-21T06:06:40.147430Z",
     "iopub.status.busy": "2024-05-21T06:06:40.147430Z",
     "iopub.status.idle": "2024-05-21T06:06:40.154933Z",
     "shell.execute_reply": "2024-05-21T06:06:40.154933Z"
    },
    "papermill": {
     "duration": 0.02313,
     "end_time": "2024-05-21T06:06:40.154933",
     "exception": false,
     "start_time": "2024-05-21T06:06:40.131803",
     "status": "completed"
    },
    "tags": []
   },
   "outputs": [],
   "source": [
    "# Hàm tính toán khoảng cách dựa trên 2 quận\n",
    "def fn_calculateDistance(srcPlace, tgtPlace):\n",
    "    res = distancesDf[ (distancesDf.district_name == srcPlace) & (distancesDf.district_name_2 == tgtPlace) ]\n",
    "#     print(res)\n",
    "    if len(res) == 0:\n",
    "        return  10000000\n",
    "    return round(res.iloc[0][\"fn_calculate_distance\"], 2)\n",
    "\n",
    "# fn_calculateDistance('bình thạnh', 'quận 2')\n",
    "# fn_calculateDistance('Bình Thạnh', 'Quận 2')"
   ]
  },
  {
   "cell_type": "markdown",
   "id": "a480a5e9",
   "metadata": {
    "papermill": {
     "duration": 0.008011,
     "end_time": "2024-05-21T06:06:40.173582",
     "exception": false,
     "start_time": "2024-05-21T06:06:40.165571",
     "status": "completed"
    },
    "tags": []
   },
   "source": [
    "1. Hàm calculateSingleRuleScore: dựa trên thông tin KH, thông tin BĐS, và 1 luật dẫn cụ thể để xác định ngôi nhà có thoả điều kiện của luật dẫn cho khách hàng hay không \n",
    "1. Hàm calculateScoreOfHouse: đối với mỗi khách hàng và BĐS\n",
    "- Duyệt từng nhóm luật và xác định nhóm luật có được thực thi không \n",
    "- Ứng với từng luật tính toán mức độ phù hợp của BĐS với KH\n",
    "- Tổng hợp kết quả mức độ phù hợp của BĐS"
   ]
  },
  {
   "cell_type": "code",
   "execution_count": 29,
   "id": "916f4c19",
   "metadata": {
    "execution": {
     "iopub.execute_input": "2024-05-21T06:06:40.183580Z",
     "iopub.status.busy": "2024-05-21T06:06:40.183580Z",
     "iopub.status.idle": "2024-05-21T06:06:40.617939Z",
     "shell.execute_reply": "2024-05-21T06:06:40.617939Z"
    },
    "papermill": {
     "duration": 0.437355,
     "end_time": "2024-05-21T06:06:40.617939",
     "exception": false,
     "start_time": "2024-05-21T06:06:40.180584",
     "status": "completed"
    },
    "tags": []
   },
   "outputs": [
    {
     "name": "stdout",
     "output_type": "stream",
     "text": [
      "Customer info:  {'id': 'C2', 'group': nan, 'age': nan, 'is_married': nan, 'no_child': nan, 'month_income': nan, 'monthly_amt': nan, 'avai_amt': nan, 'desired_location': 'Quận 3', 'desired_interiorStatus': nan} \n",
      "-------------------\n",
      "\tCode of group A  | Group condition: isValidInput(buyerInfo.get(\"group\")) and isValidInput( buyerInfo.get(\"is_married\")) and isValidInput( buyerInfo.get(\"no_child\")) and isValidInput(houseInfo.get(\"in_room_noBed\"))\n",
      "Break rule code:  A\n",
      "\tCode of group B  | Group condition: isNotNoneInput(buyerInfo.get(\"avai_amt\")) and isNotNoneInput(buyerInfo.get(\"monthly_amt\"))\n",
      "Break rule code:  B\n",
      "\tCode of group C  | Group condition: isValidInput( buyerInfo.get(\"desired_location\") ) and isValidInput( houseInfo.get(\"address_district\") )\n",
      "{'rule_group': 'C', 'rule_code': 'C1', 'score': 1.0, 'rule_expression': 'fn_calculateDistance(houseInfo.get(\"address_district\"), buyerInfo.get(\"desired_location\")) <= 2', 'rule_desc': 'Nếu trong phạm vi 2km', 'rule_expression_backup': nan}\n",
      "0\n",
      "{'rule_group': 'C', 'rule_code': 'C2', 'score': 0.8, 'rule_expression': 'fn_calculateDistance(houseInfo.get(\"address_district\"), buyerInfo.get(\"desired_location\")) <= 4', 'rule_desc': nan, 'rule_expression_backup': nan}\n",
      "0.8\n",
      "{'rule_group': 'C', 'rule_code': 'C3', 'score': 0.5, 'rule_expression': 'fn_calculateDistance(houseInfo.get(\"address_district\"), buyerInfo.get(\"desired_location\")) <= 6', 'rule_desc': nan, 'rule_expression_backup': nan}\n",
      "0.5\n",
      "\tCode of group D  | Group condition: 1==1\n",
      "{'rule_group': 'D', 'rule_code': 'D1', 'score': 1.0, 'rule_expression': 'isGoodLegalStatus(houseInfo.get(\"legal_status\"))', 'rule_desc': 'Có giấy tờ', 'rule_expression_backup': 'houseInfo.get(\"legal_status\") in [\\'Sổ hồng\\', \\'Sổ đỏ\\']'}\n",
      "1.0\n",
      "{'rule_group': 'D', 'rule_code': 'D2', 'score': 0.2, 'rule_expression': 'isGoodLegalStatus(houseInfo.get(\"legal_status\")) is not True and getValue(buyerInfo.get(\"group\",  0)) in (1, 3,4)', 'rule_desc': 'K giấy tờ và người mua có nhóm thuộc (1,3,4)', 'rule_expression_backup': nan}\n",
      "0\n",
      "{'rule_group': 'D', 'rule_code': 'D3', 'score': 0.4, 'rule_expression': 'isGoodLegalStatus(houseInfo.get(\"legal_status\")) is not True and getValue(buyerInfo.get(\"group\",  0)) not in (1, 3,4)', 'rule_desc': 'Các trường hợp k giấy tờ còn lại', 'rule_expression_backup': nan}\n",
      "0\n",
      "REPORT:\n",
      "Total calculated Score:  12.0\n",
      "Max Score from Groups:  13.0\n",
      "-------------\n",
      "\n"
     ]
    }
   ],
   "source": [
    "### version 2\n",
    "def calculateSingleRuleScore(buyerInfo, houseInfo, ruleInfo, **kwargs):\n",
    "    ### get-set key-value from parent function\n",
    "    for key, value in kwargs.items():\n",
    "        locals()[key] = value\n",
    "    ruleScore = ruleInfo.get(\"score\")\n",
    "    ### execute rule\n",
    "    ruleExpression = unicodedata.normalize('NFKD', ruleInfo.get(\"rule_expression\")).strip() \n",
    "    exprValue = eval(ruleExpression)\n",
    "#     print(exprValue)\n",
    "    if exprValue > 0:\n",
    "        return ruleScore\n",
    "    else:\n",
    "        return 0\n",
    "    \n",
    "def calculateScoreOfHouse(buyerInfo, houseInfo, ruleDf, ruleGroupList, isDebugRule=0):\n",
    "    pre_defined_kwargs = {}\n",
    "    _calRuleGroup = []\n",
    "    for ruleGroup in ruleGroupList:\n",
    "        groupCondition = unicodedata.normalize('NFKD', ruleGroup.get(\"conditions\")).strip()\n",
    "        groupScore= float(ruleGroup.get(\"group_point\"))\n",
    "        groupCode= ruleGroup.get(\"rule_group\")\n",
    "        ruleGroupCode =  ruleGroup.get(\"rule_group\")\n",
    "        groupRes={'groupCode': groupCode, 'groupCondition': groupCondition, 'groupScore': groupScore}\n",
    "        if isDebugRule==1:\n",
    "            print(\"\\tCode of group\", ruleGroupCode, \" | Group condition:\", groupCondition)\n",
    "        if eval(groupCondition) is False:\n",
    "            if isDebugRule==1:\n",
    "                print(\"Break rule code: \", ruleGroupCode)\n",
    "        else:\n",
    "            curRule= {}\n",
    "            curScore= 0\n",
    "            filteredRuleList = ruleDf[ruleDf['rule_group'] == ruleGroupCode].to_dict('records')\n",
    "            ### iterate each rule in Group, if condition matches and higher score, set this rule as result for group\n",
    "            for r in filteredRuleList:\n",
    "                if isDebugRule==1:\n",
    "                    print(r)\n",
    "                _score = calculateSingleRuleScore(buyerInfo, houseInfo, r, **pre_defined_kwargs)\n",
    "                if isDebugRule==1:\n",
    "                    print(_score)\n",
    "                if _score > 0 and _score > curScore:\n",
    "                    curRule= r\n",
    "                    curScore=_score\n",
    "            groupRes.update(curRule)            \n",
    "            groupRes.update({'calRuleScore': curScore*groupScore})\n",
    "            _calRuleGroup.append(groupRes)\n",
    "    # calculate total score\n",
    "    _maxScore= 0\n",
    "    _totalScore=0\n",
    "    for c in _calRuleGroup:\n",
    "        _maxScore+= c.get(\"groupScore\", 0)\n",
    "        _totalScore+= c.get(\"calRuleScore\", 0)\n",
    "    if isDebugRule==1:\n",
    "        print('REPORT:')\n",
    "        print('Total calculated Score: ',_totalScore)\n",
    "        print('Max Score from Groups: ', _maxScore)\n",
    "    _housePerf= 0.0\n",
    "    if _maxScore != 0:\n",
    "        _housePerf=round(_totalScore*100/_maxScore, 2)\n",
    "    _res= {'executedRuleGroup': _calRuleGroup, 'houseInfo': houseInfo,\n",
    "           'maxScore': _maxScore, 'houseScore': _totalScore, 'housePerformance':_housePerf,\n",
    "           'buyerInfo': buyerInfo}\n",
    "    _res.update(buyerInfo)\n",
    "    _res.update(houseInfo)\n",
    "    return _res\n",
    "\n",
    "loadData()\n",
    "\n",
    "c= 12\n",
    "print('Customer info: ', buyers[c],'\\n-------------------')\n",
    "for i in range(0,1):\n",
    "    _houseEvaluation= calculateScoreOfHouse(buyers[c], houses[i], rulesDf, ruleGroups, isDebugRule= 1)\n",
    "    print('-------------\\n')"
   ]
  },
  {
   "cell_type": "markdown",
   "id": "87e8c90f",
   "metadata": {
    "papermill": {
     "duration": 0.016885,
     "end_time": "2024-05-21T06:06:40.662568",
     "exception": false,
     "start_time": "2024-05-21T06:06:40.645683",
     "status": "completed"
    },
    "tags": []
   },
   "source": [
    "Hàm executeCase: duyệt từng BĐS và xác định mực độ phù hợp của các BĐS"
   ]
  },
  {
   "cell_type": "code",
   "execution_count": 31,
   "id": "20493407",
   "metadata": {
    "execution": {
     "iopub.execute_input": "2024-05-21T06:06:40.667678Z",
     "iopub.status.busy": "2024-05-21T06:06:40.667678Z",
     "iopub.status.idle": "2024-05-21T06:06:40.684788Z",
     "shell.execute_reply": "2024-05-21T06:06:40.684788Z"
    },
    "papermill": {
     "duration": 0.019131,
     "end_time": "2024-05-21T06:06:40.686809",
     "exception": false,
     "start_time": "2024-05-21T06:06:40.667678",
     "status": "completed"
    },
    "tags": []
   },
   "outputs": [],
   "source": [
    "def executeCase(custNo=0, outputFileLocation='testOutput\\\\cust_6'):\n",
    "    _housePerformanceList=[]\n",
    "    for i in houses:\n",
    "        _houseEvaluation= calculateScoreOfHouse(buyers[custNo], i, rulesDf, ruleGroups, isDebugRule= 0)\n",
    "        _housePerformanceList.append(_houseEvaluation)\n",
    "    _housePrfmDf= pd.DataFrame.from_dict(_housePerformanceList)\n",
    "    _housePrfmDf.to_csv(outputFileLocation +'.csv', index=False, quotechar= '\"' )\n",
    "    _housePrfmDf.to_excel(outputFileLocation+'.xlsx')\n",
    "    return _housePerformanceList\n"
   ]
  },
  {
   "cell_type": "markdown",
   "id": "af7a0895",
   "metadata": {
    "papermill": {
     "duration": 0.007755,
     "end_time": "2024-05-21T06:06:40.702563",
     "exception": false,
     "start_time": "2024-05-21T06:06:40.694808",
     "status": "completed"
    },
    "tags": []
   },
   "source": [
    "## Execute Test case"
   ]
  },
  {
   "cell_type": "markdown",
   "id": "cdc66a08",
   "metadata": {
    "papermill": {
     "duration": 0.007002,
     "end_time": "2024-05-21T06:06:40.716563",
     "exception": false,
     "start_time": "2024-05-21T06:06:40.709561",
     "status": "completed"
    },
    "tags": []
   },
   "source": [
    "## Hướng dẫn\n",
    "1. Các function đã được định nghĩa  \n",
    "1. Tất cả dữ liệu, bộ rule, và dữ liệu về KH được lưu trong file --> update dựa trên file excel này  \n",
    "1. Chạy các test case KH bằng hàm executeCase với tham số là số thứ tự KH tương ứng trong excel và vị trí file output"
   ]
  },
  {
   "cell_type": "markdown",
   "id": "4d983c09",
   "metadata": {
    "papermill": {
     "duration": 0,
     "end_time": "2024-05-21T06:06:40.716563",
     "exception": false,
     "start_time": "2024-05-21T06:06:40.716563",
     "status": "completed"
    },
    "tags": []
   },
   "source": [
    "### Test case for Complex rules"
   ]
  },
  {
   "cell_type": "code",
   "execution_count": 42,
   "id": "56a9c736",
   "metadata": {
    "execution": {
     "iopub.execute_input": "2024-05-21T06:06:40.747862Z",
     "iopub.status.busy": "2024-05-21T06:06:40.747862Z",
     "iopub.status.idle": "2024-05-21T06:06:40.752881Z",
     "shell.execute_reply": "2024-05-21T06:06:40.752881Z"
    },
    "papermill": {
     "duration": 0.020645,
     "end_time": "2024-05-21T06:06:40.752881",
     "exception": false,
     "start_time": "2024-05-21T06:06:40.732236",
     "status": "completed"
    },
    "tags": []
   },
   "outputs": [
    {
     "name": "stdout",
     "output_type": "stream",
     "text": [
      "{'id': 'X1', 'group': 2.0, 'age': 30.0, 'is_married': 1.0, 'no_child': 2.0, 'month_income': 40000000.0, 'monthly_amt': 30000000.0, 'avai_amt': 3000000000.0, 'desired_location': 'Quận 10', 'desired_interiorStatus': nan}\n"
     ]
    }
   ],
   "source": [
    "# loadData()\n",
    "# # Done case X1\n",
    "# print(buyers[15])\n",
    "# case_a1= executeCase(custNo= 15, outputFileLocation='testOutput\\\\cust_x1')"
   ]
  },
  {
   "cell_type": "markdown",
   "id": "1bad89b8",
   "metadata": {
    "papermill": {
     "duration": 0.017655,
     "end_time": "2024-05-21T06:06:40.770536",
     "exception": false,
     "start_time": "2024-05-21T06:06:40.752881",
     "status": "completed"
    },
    "tags": []
   },
   "source": [
    "### Test case for No_Bed_Room rules"
   ]
  },
  {
   "cell_type": "code",
   "execution_count": 43,
   "id": "655f1015",
   "metadata": {
    "execution": {
     "iopub.execute_input": "2024-05-21T06:06:40.783536Z",
     "iopub.status.busy": "2024-05-21T06:06:40.783536Z",
     "iopub.status.idle": "2024-05-21T06:06:40.790164Z",
     "shell.execute_reply": "2024-05-21T06:06:40.790164Z"
    },
    "papermill": {
     "duration": 0.012628,
     "end_time": "2024-05-21T06:06:40.790164",
     "exception": false,
     "start_time": "2024-05-21T06:06:40.777536",
     "status": "completed"
    },
    "tags": []
   },
   "outputs": [
    {
     "name": "stdout",
     "output_type": "stream",
     "text": [
      "{'id': 'A1', 'group': 1.0, 'age': 30.0, 'is_married': 0.0, 'no_child': 0.0, 'month_income': nan, 'monthly_amt': nan, 'avai_amt': nan, 'desired_location': nan, 'desired_interiorStatus': nan}\n",
      "{'id': 'A2', 'group': 2.0, 'age': 30.0, 'is_married': 0.0, 'no_child': 2.0, 'month_income': nan, 'monthly_amt': nan, 'avai_amt': nan, 'desired_location': nan, 'desired_interiorStatus': nan}\n",
      "{'id': 'A3', 'group': 4.0, 'age': 30.0, 'is_married': 0.0, 'no_child': 0.0, 'month_income': nan, 'monthly_amt': nan, 'avai_amt': nan, 'desired_location': nan, 'desired_interiorStatus': nan}\n"
     ]
    }
   ],
   "source": [
    "# loadData()\n",
    "# print(buyers[4])\n",
    "# case_a1= executeCase(custNo= 4, outputFileLocation='testOutput\\\\cust_a1')\n",
    "# print(buyers[5])\n",
    "# case_a2= executeCase(custNo= 5, outputFileLocation='testOutput\\\\cust_a2')\n",
    "# print(buyers[6])\n",
    "# case_a3= executeCase(custNo= 6, outputFileLocation='testOutput\\\\cust_a3')\n"
   ]
  },
  {
   "cell_type": "markdown",
   "id": "e5a5e5dd",
   "metadata": {
    "papermill": {
     "duration": 0,
     "end_time": "2024-05-21T06:06:40.800118",
     "exception": false,
     "start_time": "2024-05-21T06:06:40.800118",
     "status": "completed"
    },
    "tags": []
   },
   "source": [
    "### Test case for LOCATION rules"
   ]
  },
  {
   "cell_type": "code",
   "execution_count": 34,
   "id": "ac25f8b6",
   "metadata": {
    "execution": {
     "iopub.execute_input": "2024-05-21T06:06:40.826018Z",
     "iopub.status.busy": "2024-05-21T06:06:40.825025Z",
     "iopub.status.idle": "2024-05-21T06:06:40.828903Z",
     "shell.execute_reply": "2024-05-21T06:06:40.828903Z"
    },
    "papermill": {
     "duration": 0.016784,
     "end_time": "2024-05-21T06:06:40.831914",
     "exception": false,
     "start_time": "2024-05-21T06:06:40.815130",
     "status": "completed"
    },
    "tags": []
   },
   "outputs": [],
   "source": [
    "# loadData()\n",
    "# case_c1= executeCase(custNo= 4, outputFileLocation='testOutput\\\\cust_c1')\n",
    "# # print(buyers[5])\n",
    "# case_c2= executeCase(custNo= 5, outputFileLocation='testOutput\\\\cust_c2')\n",
    "# # print(buyers[6])\n",
    "# case_c3= executeCase(custNo= 6, outputFileLocation='testOutput\\\\cust_c3')\n"
   ]
  },
  {
   "cell_type": "markdown",
   "id": "39c163d7",
   "metadata": {
    "papermill": {
     "duration": 0.008,
     "end_time": "2024-05-21T06:06:40.846993",
     "exception": false,
     "start_time": "2024-05-21T06:06:40.838993",
     "status": "completed"
    },
    "tags": []
   },
   "source": [
    "### Test case for PAPER rules"
   ]
  },
  {
   "cell_type": "code",
   "execution_count": 44,
   "id": "e7b7e3d0",
   "metadata": {
    "execution": {
     "iopub.execute_input": "2024-05-21T06:06:40.865697Z",
     "iopub.status.busy": "2024-05-21T06:06:40.850070Z",
     "iopub.status.idle": "2024-05-21T06:06:40.871382Z",
     "shell.execute_reply": "2024-05-21T06:06:40.870371Z"
    },
    "papermill": {
     "duration": 0.022362,
     "end_time": "2024-05-21T06:06:40.872432",
     "exception": false,
     "start_time": "2024-05-21T06:06:40.850070",
     "status": "completed"
    },
    "tags": []
   },
   "outputs": [
    {
     "name": "stdout",
     "output_type": "stream",
     "text": [
      "{'id': 'D1', 'group': 4.0, 'age': nan, 'is_married': nan, 'no_child': nan, 'month_income': nan, 'monthly_amt': nan, 'avai_amt': nan, 'desired_location': nan, 'desired_interiorStatus': nan}\n"
     ]
    }
   ],
   "source": [
    "# loadData()\n",
    "# print(buyers[14])\n",
    "# case_d1= executeCase(custNo= 14, outputFileLocation='testOutput\\\\cust_d1')"
   ]
  },
  {
   "cell_type": "markdown",
   "id": "e5c967aa",
   "metadata": {
    "papermill": {
     "duration": 0.019026,
     "end_time": "2024-05-21T06:06:40.903285",
     "exception": false,
     "start_time": "2024-05-21T06:06:40.884259",
     "status": "completed"
    },
    "tags": []
   },
   "source": [
    "### Test case for FIN rules"
   ]
  },
  {
   "cell_type": "code",
   "execution_count": 45,
   "id": "85281fa4",
   "metadata": {
    "execution": {
     "iopub.execute_input": "2024-05-21T06:06:40.919539Z",
     "iopub.status.busy": "2024-05-21T06:06:40.919539Z",
     "iopub.status.idle": "2024-05-21T06:06:40.924639Z",
     "shell.execute_reply": "2024-05-21T06:06:40.923631Z"
    },
    "papermill": {
     "duration": 0.016356,
     "end_time": "2024-05-21T06:06:40.926637",
     "exception": false,
     "start_time": "2024-05-21T06:06:40.910281",
     "status": "completed"
    },
    "tags": []
   },
   "outputs": [
    {
     "name": "stdout",
     "output_type": "stream",
     "text": [
      "{'id': 'B1', 'group': nan, 'age': nan, 'is_married': nan, 'no_child': nan, 'month_income': 50000000.0, 'monthly_amt': 40000000.0, 'avai_amt': 2000000000.0, 'desired_location': nan, 'desired_interiorStatus': nan}\n",
      "{'id': 'B2', 'group': nan, 'age': nan, 'is_married': nan, 'no_child': nan, 'month_income': nan, 'monthly_amt': 50000000.0, 'avai_amt': 4000000000.0, 'desired_location': nan, 'desired_interiorStatus': nan}\n",
      "{'id': 'B3', 'group': nan, 'age': nan, 'is_married': nan, 'no_child': nan, 'month_income': nan, 'monthly_amt': 20000000.0, 'avai_amt': 500000000.0, 'desired_location': nan, 'desired_interiorStatus': nan}\n",
      "{'id': 'B4', 'group': 4.0, 'age': nan, 'is_married': nan, 'no_child': nan, 'month_income': nan, 'monthly_amt': 40000000.0, 'avai_amt': 5000000000.0, 'desired_location': nan, 'desired_interiorStatus': nan}\n"
     ]
    }
   ],
   "source": [
    "# loadData()\n",
    "# print(buyers[7])\n",
    "# case_b1= executeCase(custNo= 7, outputFileLocation='testOutput\\\\cust_b1')\n",
    "# print(buyers[8])\n",
    "# case_b2= executeCase(custNo= 8, outputFileLocation='testOutput\\\\cust_b2')\n",
    "# print(buyers[9])\n",
    "# case_b3= executeCase(custNo= 9, outputFileLocation='testOutput\\\\cust_b3')\n",
    "# print(buyers[10])\n",
    "# case_b4= executeCase(custNo= 10, outputFileLocation='testOutput\\\\cust_b4')\n"
   ]
  },
  {
   "cell_type": "markdown",
   "id": "c83c9d29",
   "metadata": {},
   "source": [
    "Create csv and xlsx for X2"
   ]
  },
  {
   "cell_type": "code",
   "execution_count": null,
   "id": "6dfe33bc",
   "metadata": {},
   "outputs": [],
   "source": [
    "loadData()\n",
    "print(buyers[16])\n",
    "case_X2 = executeCase(custNo=16, outputFileLocation='testOutput\\\\cust_X2')"
   ]
  },
  {
   "cell_type": "markdown",
   "id": "611d1f2a",
   "metadata": {},
   "source": [
    "Create csv and xlsx for X3"
   ]
  },
  {
   "cell_type": "code",
   "execution_count": null,
   "id": "6485b41a",
   "metadata": {},
   "outputs": [],
   "source": [
    "loadData()\n",
    "print(buyers[17])\n",
    "case_X3 = executeCase(custNo=17, outputFileLocation='testOutput\\\\cust_X3')"
   ]
  },
  {
   "cell_type": "markdown",
   "id": "dbe79b05",
   "metadata": {},
   "source": [
    "Create csv and xlsx for X4"
   ]
  },
  {
   "cell_type": "code",
   "execution_count": null,
   "id": "7be3f570",
   "metadata": {},
   "outputs": [],
   "source": [
    "loadData()\n",
    "print(buyers[18])\n",
    "case_X4 = executeCase(custNo=18, outputFileLocation='testOutput\\\\cust_X4')"
   ]
  },
  {
   "cell_type": "markdown",
   "id": "c0d1990d",
   "metadata": {},
   "source": [
    "Create csv and xlsx for X5"
   ]
  },
  {
   "cell_type": "code",
   "execution_count": null,
   "id": "4484cdaf",
   "metadata": {},
   "outputs": [],
   "source": [
    "loadData()\n",
    "print(buyers[19])\n",
    "case_X5 = executeCase(custNo=19, outputFileLocation='testOutput\\\\cust_X5')"
   ]
  }
 ],
 "metadata": {
  "kernelspec": {
   "display_name": "Python 3 (ipykernel)",
   "language": "python",
   "name": "python3"
  },
  "language_info": {
   "codemirror_mode": {
    "name": "ipython",
    "version": 3
   },
   "file_extension": ".py",
   "mimetype": "text/x-python",
   "name": "python",
   "nbconvert_exporter": "python",
   "pygments_lexer": "ipython3",
   "version": "3.11.5"
  },
  "papermill": {
   "default_parameters": {},
   "duration": 14.324513,
   "end_time": "2024-05-21T06:06:50.674931",
   "environment_variables": {},
   "exception": true,
   "input_path": "D:\\DATN\\model\\callRule.ipynb",
   "output_path": "D:\\DATN\\model\\callRule.ipynb",
   "parameters": {},
   "start_time": "2024-05-21T06:06:36.350418",
   "version": "2.5.0"
  }
 },
 "nbformat": 4,
 "nbformat_minor": 5
}
